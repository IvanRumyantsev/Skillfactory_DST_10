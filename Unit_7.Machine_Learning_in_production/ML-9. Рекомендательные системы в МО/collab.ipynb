{
 "cells": [
  {
   "cell_type": "code",
   "execution_count": 2,
   "metadata": {},
   "outputs": [],
   "source": [
    "import pandas as pd\n"
   ]
  },
  {
   "cell_type": "code",
   "execution_count": 2,
   "metadata": {},
   "outputs": [],
   "source": [
    "data_all = []\n",
    "for i in range(4):\n",
    "    data = pd.read_csv('/home/aprosvetov/netflix/combined_data_' + str(i+1)+'.txt', header = None, names = ['Cust_Id', 'Rating'], usecols = [0,1])\n",
    "    data_all.append(data)"
   ]
  },
  {
   "cell_type": "code",
   "execution_count": 3,
   "metadata": {},
   "outputs": [],
   "source": [
    "df = pd.concat(data_all)"
   ]
  },
  {
   "cell_type": "code",
   "execution_count": 4,
   "metadata": {},
   "outputs": [
    {
     "name": "stdout",
     "output_type": "stream",
     "text": [
      "Full dataset shape: (100498277, 2)\n",
      "-Dataset examples-\n",
      "           Cust_Id  Rating\n",
      "0               1:     NaN\n",
      "5000000    2560324     4.0\n",
      "10000000   2271935     2.0\n",
      "15000000   1921803     2.0\n",
      "20000000   1933327     3.0\n",
      "25000000   1465002     3.0\n",
      "30000000    961023     4.0\n",
      "35000000   1372532     5.0\n",
      "40000000    854274     5.0\n",
      "45000000    116334     3.0\n",
      "50000000    768483     3.0\n",
      "55000000   1331144     5.0\n",
      "60000000   1609324     2.0\n",
      "65000000   1699240     3.0\n",
      "70000000   1776418     4.0\n",
      "75000000   1643826     5.0\n",
      "80000000    932047     4.0\n",
      "85000000   2292868     4.0\n",
      "90000000    932191     4.0\n",
      "95000000   1815101     3.0\n",
      "100000000   872339     4.0\n"
     ]
    }
   ],
   "source": [
    "import numpy as np\n",
    "df.index = np.arange(0,len(df))\n",
    "print('Full dataset shape: {}'.format(df.shape))\n",
    "print('-Dataset examples-')\n",
    "print(df.iloc[::5000000, :])"
   ]
  },
  {
   "cell_type": "code",
   "execution_count": null,
   "metadata": {},
   "outputs": [],
   "source": [
    "import numpy as np\n",
    "df_nan = pd.DataFrame(pd.isnull(df.Rating))\n",
    "df_nan = df_nan[df_nan['Rating'] == True]\n",
    "df_nan = df_nan.reset_index()\n",
    "\n",
    "movie_np = []\n",
    "movie_id = 1\n",
    "\n",
    "for i,j in zip(df_nan['index'][1:],df_nan['index'][:-1]):\n",
    "    # numpy approach\n",
    "    temp = np.full((1,np.abs(i-j-1)), movie_id)\n",
    "    movie_np = np.append(movie_np, temp)\n",
    "    movie_id += 1\n",
    "\n",
    "# Account for last record and corresponding length\n",
    "# numpy approach\n",
    "last_record = np.full((1,len(df) - df_nan.iloc[-1, 0] - 1),movie_id)\n",
    "movie_np = np.append(movie_np, last_record)"
   ]
  },
  {
   "cell_type": "code",
   "execution_count": null,
   "metadata": {},
   "outputs": [],
   "source": []
  },
  {
   "cell_type": "code",
   "execution_count": null,
   "metadata": {},
   "outputs": [],
   "source": [
    "df = df[pd.notnull(df['Rating'])]\n",
    "\n",
    "df['Movie_Id'] = movie_np.astype(int)\n",
    "df['Cust_Id'] = df['Cust_Id'].astype(int)\n",
    "print('-Dataset examples-')\n",
    "print(df.sample(3))"
   ]
  },
  {
   "cell_type": "code",
   "execution_count": null,
   "metadata": {},
   "outputs": [],
   "source": [
    "df.to_csv('/srv/aprosvetov/netflix/data_prep.csv', sep=';', index = None)"
   ]
  },
  {
   "cell_type": "code",
   "execution_count": 3,
   "metadata": {},
   "outputs": [],
   "source": [
    "import pandas as pd\n",
    "df = pd.read_csv('/srv/aprosvetov/netflix/data_prep.csv', sep=';')"
   ]
  },
  {
   "cell_type": "code",
   "execution_count": 10,
   "metadata": {},
   "outputs": [
    {
     "data": {
      "text/plain": [
       "17770"
      ]
     },
     "execution_count": 10,
     "metadata": {},
     "output_type": "execute_result"
    }
   ],
   "source": [
    "df.Movie_Id.nunique()"
   ]
  },
  {
   "cell_type": "code",
   "execution_count": 56,
   "metadata": {},
   "outputs": [
    {
     "data": {
      "text/plain": [
       "480189"
      ]
     },
     "execution_count": 56,
     "metadata": {},
     "output_type": "execute_result"
    }
   ],
   "source": [
    "df.Cust_Id.nunique()"
   ]
  },
  {
   "cell_type": "code",
   "execution_count": 4,
   "metadata": {},
   "outputs": [],
   "source": [
    "cust_sample = df.Cust_Id.sample(10000)"
   ]
  },
  {
   "cell_type": "code",
   "execution_count": 11,
   "metadata": {},
   "outputs": [],
   "source": [
    "movie_sample = df.Movie_Id.sample(5000)"
   ]
  },
  {
   "cell_type": "code",
   "execution_count": 3,
   "metadata": {},
   "outputs": [],
   "source": [
    "import surprise"
   ]
  },
  {
   "cell_type": "code",
   "execution_count": 7,
   "metadata": {},
   "outputs": [],
   "source": [
    "from surprise import Reader, Dataset"
   ]
  },
  {
   "cell_type": "code",
   "execution_count": 12,
   "metadata": {},
   "outputs": [],
   "source": [
    "reader = Reader(rating_scale=(0.5, 5.0))\n",
    "data = Dataset.load_from_df(df[df.Cust_Id.isin(cust_sample) &\n",
    "                              df.Movie_Id.isin(movie_sample)][['Cust_Id', 'Movie_Id', 'Rating']], reader)"
   ]
  },
  {
   "cell_type": "code",
   "execution_count": 13,
   "metadata": {},
   "outputs": [],
   "source": [
    "from surprise import KNNBasic\n",
    "\n",
    "sim_options = {\n",
    "    'name': 'cosine',\n",
    "    'user_based': False\n",
    "}\n",
    " \n",
    "knn = KNNBasic(sim_options=sim_options)\n",
    "trainingSet = data.build_full_trainset()"
   ]
  },
  {
   "cell_type": "code",
   "execution_count": 14,
   "metadata": {},
   "outputs": [
    {
     "name": "stdout",
     "output_type": "stream",
     "text": [
      "Computing the cosine similarity matrix...\n",
      "Done computing similarity matrix.\n"
     ]
    },
    {
     "data": {
      "text/plain": [
       "<surprise.prediction_algorithms.knns.KNNBasic at 0x7fcf281fe160>"
      ]
     },
     "execution_count": 14,
     "metadata": {},
     "output_type": "execute_result"
    }
   ],
   "source": [
    "knn.fit(trainingSet)\n",
    "\n"
   ]
  },
  {
   "cell_type": "code",
   "execution_count": null,
   "metadata": {},
   "outputs": [],
   "source": [
    "testSet = trainingSet.build_anti_testset()\n",
    "predictions = knn.test(testSet)"
   ]
  },
  {
   "cell_type": "code",
   "execution_count": null,
   "metadata": {},
   "outputs": [],
   "source": []
  },
  {
   "cell_type": "code",
   "execution_count": 16,
   "metadata": {},
   "outputs": [],
   "source": [
    "titles = pd.read_csv('movie_titles.csv', encoding = \"ISO-8859-1\", \n",
    "                     header = None, \n",
    "                     names = ['Movie_Id', 'Year', 'Name'])"
   ]
  },
  {
   "cell_type": "code",
   "execution_count": 18,
   "metadata": {},
   "outputs": [
    {
     "data": {
      "text/plain": [
       "[Prediction(uid=2503129, iid=44, r_ui=3.5881227434677645, est=4.474997108906492, details={'actual_k': 40, 'was_impossible': False}),\n",
       " Prediction(uid=2503129, iid=47, r_ui=3.5881227434677645, est=3.9245326082785117, details={'actual_k': 40, 'was_impossible': False}),\n",
       " Prediction(uid=2503129, iid=76, r_ui=3.5881227434677645, est=4.424598056472339, details={'actual_k': 40, 'was_impossible': False}),\n",
       " Prediction(uid=2503129, iid=83, r_ui=3.5881227434677645, est=4.374795599566862, details={'actual_k': 40, 'was_impossible': False})]"
      ]
     },
     "execution_count": 18,
     "metadata": {},
     "output_type": "execute_result"
    }
   ],
   "source": [
    "predictions[0:4]"
   ]
  },
  {
   "cell_type": "code",
   "execution_count": 19,
   "metadata": {},
   "outputs": [],
   "source": [
    "from collections import defaultdict\n",
    " \n",
    "def get_top3_recommendations(predictions, topN = 3):\n",
    "     \n",
    "    top_recs = defaultdict(list)\n",
    "    for uid, iid, true_r, est, _ in predictions:\n",
    "        top_recs[uid].append((iid, est))\n",
    "     \n",
    "    for uid, user_ratings in top_recs.items():\n",
    "        user_ratings.sort(key = lambda x: x[1], reverse = True)\n",
    "        top_recs[uid] = user_ratings[:topN]\n",
    "     \n",
    "    return top_recs"
   ]
  },
  {
   "cell_type": "code",
   "execution_count": 24,
   "metadata": {},
   "outputs": [],
   "source": [
    "top3_recommendations = get_top3_recommendations(predictions)"
   ]
  },
  {
   "cell_type": "code",
   "execution_count": null,
   "metadata": {},
   "outputs": [],
   "source": []
  },
  {
   "cell_type": "code",
   "execution_count": 38,
   "metadata": {},
   "outputs": [],
   "source": [
    "import numpy as np\n",
    "def print_recs(i):\n",
    "    for (a, b) in top3_recommendations[i]:\n",
    "        print(titles[titles.Movie_Id == a]['Name'].values[0], np.round(b,2))"
   ]
  },
  {
   "cell_type": "code",
   "execution_count": 39,
   "metadata": {},
   "outputs": [
    {
     "name": "stdout",
     "output_type": "stream",
     "text": [
      "The Blair Witch Project 4.65\n",
      "Lone Wolf and Cub: Sword of Vengeance 4.63\n",
      "The Basketball Diaries 4.63\n"
     ]
    }
   ],
   "source": [
    "i = 262149\n",
    "print_recs(i)"
   ]
  },
  {
   "cell_type": "code",
   "execution_count": 54,
   "metadata": {},
   "outputs": [
    {
     "name": "stdout",
     "output_type": "stream",
     "text": [
      "Family Guy: Vol. 1: Seasons 1-2 4.32\n",
      "Family Guy: Vol. 2: Season 3 4.32\n",
      "Team America: World Police 4.3\n"
     ]
    }
   ],
   "source": [
    "i = np.random.choice(list(top3_recommendations.keys()))\n",
    "\n",
    "print_recs(i)"
   ]
  },
  {
   "cell_type": "code",
   "execution_count": 55,
   "metadata": {},
   "outputs": [
    {
     "data": {
      "text/plain": [
       "array(['The Deer Hunter', 'Dogma', 'Kill Bill: Vol. 2',\n",
       "       'The Matrix: Revolutions', 'Boyz N the Hood',\n",
       "       'Dragon: The Bruce Lee Story', 'The Sandlot', 'Man on Fire',\n",
       "       'Hook', 'Casino: 10th Anniversary Edition',\n",
       "       'Die Hard 2: Die Harder', \"Cheech & Chong's Up in Smoke\",\n",
       "       'Lord of the Rings: The Fellowship of the Ring', 'Braveheart',\n",
       "       'Elf', 'Half Baked', 'Lost: Season 1',\n",
       "       'Fear and Loathing in Las Vegas', 'The Matrix: Reloaded', 'Signs',\n",
       "       'Patch Adams', 'Army of Darkness',\n",
       "       'South Park: Passion of the Jew', 'Mission: Impossible',\n",
       "       'Tommy Boy', 'Jay and Silent Bob Strike Back',\n",
       "       'Jackass: The Movie',\n",
       "       'Star Wars: Episode V: The Empire Strikes Back',\n",
       "       'GoodFellas: Special Edition', 'Snatch', 'Fight Club',\n",
       "       'Scarface: 20th Anniversary Edition', 'Awakenings', 'Michael',\n",
       "       'The Cable Guy', 'Natural Born Killers',\n",
       "       'Lord of the Rings: The Two Towers: Extended Edition',\n",
       "       'The Lord of the Rings: The Fellowship of the Ring: Extended Edition',\n",
       "       'Blade', 'Super Troopers', 'All About the Benjamins',\n",
       "       'Murder in the First', 'The Evil Dead', 'Star Trek: Nemesis',\n",
       "       'Rounders', 'Good Will Hunting', 'Terminator 2: Extreme Edition',\n",
       "       'The Chronicles of Riddick', 'Friday',\n",
       "       'The Exorcist: Restored Version',\n",
       "       'Beavis and Butt-head Do America', 'Die Hard',\n",
       "       'Searching for Bobby Fischer', 'Akira', 'Waterworld',\n",
       "       'Pulp Fiction', 'American History X', 'Far and Away',\n",
       "       'Forrest Gump', 'Lord of the Rings: The Two Towers',\n",
       "       \"White Men Can't Jump\", 'The Boondock Saints', 'Office Space',\n",
       "       'Gladiator', \"Donnie Darko: Director's Cut\",\n",
       "       'Lord of the Rings: The Return of the King', 'The Patriot',\n",
       "       'The Shawshank Redemption: Special Edition', 'South Park: Bigger',\n",
       "       'Die Hard With a Vengeance', 'The Matrix', 'Beetlejuice',\n",
       "       'Dead Poets Society',\n",
       "       'Lord of the Rings: The Return of the King: Extended Edition',\n",
       "       'City Slickers', 'Zoolander', 'Band of Brothers',\n",
       "       'The Big Lebowski', 'The Running Man', 'Amadeus', 'Raw',\n",
       "       'The Sopranos: Season 1', 'Demolition Man',\n",
       "       'Star Wars: Episode IV: A New Hope', 'Planet of the Apes',\n",
       "       'The Green Mile', 'Blow', 'Tombstone', 'Donnie Darko',\n",
       "       'South Park: Winter Wonderland', 'Meet the Parents',\n",
       "       \"The Devil's Advocate\", 'Saving Private Ryan', 'Full Metal Jacket',\n",
       "       'Tomorrow Never Dies'], dtype=object)"
      ]
     },
     "execution_count": 55,
     "metadata": {},
     "output_type": "execute_result"
    }
   ],
   "source": [
    "films = data.df[(data.df.Cust_Id == i) & (data.df.Rating == 5)]['Movie_Id'].values\n",
    "titles[titles.Movie_Id.isin(films)]['Name'].values"
   ]
  }
 ],
 "metadata": {
  "kernelspec": {
   "display_name": "Python 3",
   "language": "python",
   "name": "python3"
  },
  "language_info": {
   "codemirror_mode": {
    "name": "ipython",
    "version": 3
   },
   "file_extension": ".py",
   "mimetype": "text/x-python",
   "name": "python",
   "nbconvert_exporter": "python",
   "pygments_lexer": "ipython3",
   "version": "3.5.2"
  }
 },
 "nbformat": 4,
 "nbformat_minor": 2
}
