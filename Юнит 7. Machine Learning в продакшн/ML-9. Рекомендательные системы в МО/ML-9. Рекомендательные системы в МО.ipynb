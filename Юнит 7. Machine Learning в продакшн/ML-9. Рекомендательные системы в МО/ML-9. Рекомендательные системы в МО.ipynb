{
 "metadata": {
  "language_info": {
   "codemirror_mode": {
    "name": "ipython",
    "version": 3
   },
   "file_extension": ".py",
   "mimetype": "text/x-python",
   "name": "python",
   "nbconvert_exporter": "python",
   "pygments_lexer": "ipython3",
   "version": "3.7.9-final"
  },
  "orig_nbformat": 2,
  "kernelspec": {
   "name": "Python 3.7.9 64-bit ('base': conda)",
   "display_name": "Python 3.7.9 64-bit ('base': conda)",
   "metadata": {
    "interpreter": {
     "hash": "a8f61be024eba58adef938c9aa1e29e02cb3dece83a5348b1a2dafd16a070453"
    }
   }
  }
 },
 "nbformat": 4,
 "nbformat_minor": 2,
 "cells": [
  {
   "source": [
    "# 9.1. О чем этот модуль\n",
    "В этом модуле мы рассмотрим классические методы рекомендательных систем:\n",
    "\n",
    "- Ассоциативные правила.\n",
    "- Коллаборативная фильтрация.\n",
    "- Алгоритмы SVD и ALS."
   ],
   "cell_type": "markdown",
   "metadata": {}
  },
  {
   "source": [
    "# 9.2. Характеристики рекомендательных систем\n",
    "## Задача рекомендательной системы\n",
    "\n",
    "Проинформировать пользователя о продукте, который ему может быть наиболее интересен в данный момент времени.\n",
    "\n",
    "## КОМУ НУЖНЫ РЕКОМЕНДАТЕЛЬНЫЕ СИСТЕМЫ?\n",
    "\n",
    "→ клиенту — получает информацию о наиболее подходящих для него товарах, интересных мультимедийных продуктах и т. д. \n",
    "\n",
    "→ сервису — зарабатывает на предоставлении услуг.\n",
    "\n",
    "## СТЕПЕНЬ ПЕРСОНАЛИЗАЦИИ\n",
    "\n",
    "→ Неперсональные рекомендации — когда вам рекомендуют то же самое, что всем остальным. \n",
    "\n",
    "→ Персональные рекомендации используют всю доступную информацию о клиенте.\n",
    "\n",
    "→ Более продвинутый вариант — рекомендации на данных из текущей сессии. Вы посмотрели несколько товаров, и внизу страницы вам предлагаются похожие."
   ],
   "cell_type": "markdown",
   "metadata": {}
  },
  {
   "source": [
    "# 9.3. Ассоциативные правила\n",
    "\n",
    "Для того чтобы сравнить ассоциативные правила по их силе (значимости) необходимо ввести несколько метрик — Support, Confidence и Lift."
   ],
   "cell_type": "markdown",
   "metadata": {}
  },
  {
   "cell_type": "code",
   "execution_count": 9,
   "metadata": {},
   "outputs": [],
   "source": [
    "import numpy as np\n",
    "import pandas as pd"
   ]
  },
  {
   "cell_type": "code",
   "execution_count": 14,
   "metadata": {},
   "outputs": [
    {
     "output_type": "execute_result",
     "data": {
      "text/plain": [
       "   tr  cola  beer  diapers\n",
       "0   1     1     1        1\n",
       "1   2     0     0        0\n",
       "2   3     1     1        0\n",
       "3   4     1     1        1\n",
       "4   5     0     1        1"
      ],
      "text/html": "<div>\n<style scoped>\n    .dataframe tbody tr th:only-of-type {\n        vertical-align: middle;\n    }\n\n    .dataframe tbody tr th {\n        vertical-align: top;\n    }\n\n    .dataframe thead th {\n        text-align: right;\n    }\n</style>\n<table border=\"1\" class=\"dataframe\">\n  <thead>\n    <tr style=\"text-align: right;\">\n      <th></th>\n      <th>tr</th>\n      <th>cola</th>\n      <th>beer</th>\n      <th>diapers</th>\n    </tr>\n  </thead>\n  <tbody>\n    <tr>\n      <th>0</th>\n      <td>1</td>\n      <td>1</td>\n      <td>1</td>\n      <td>1</td>\n    </tr>\n    <tr>\n      <th>1</th>\n      <td>2</td>\n      <td>0</td>\n      <td>0</td>\n      <td>0</td>\n    </tr>\n    <tr>\n      <th>2</th>\n      <td>3</td>\n      <td>1</td>\n      <td>1</td>\n      <td>0</td>\n    </tr>\n    <tr>\n      <th>3</th>\n      <td>4</td>\n      <td>1</td>\n      <td>1</td>\n      <td>1</td>\n    </tr>\n    <tr>\n      <th>4</th>\n      <td>5</td>\n      <td>0</td>\n      <td>1</td>\n      <td>1</td>\n    </tr>\n  </tbody>\n</table>\n</div>"
     },
     "metadata": {},
     "execution_count": 14
    }
   ],
   "source": [
    "a = np.array([[1,1,1,1],[2, 0, 0, 0],[3,1,1,0],[4,1,1,1],[5,0,1,1]])\n",
    "df = pd.DataFrame(a, columns = ['tr', 'cola', 'beer', 'diapers'])\n",
    "df"
   ]
  },
  {
   "source": [
    "## SUPPORT\n",
    "$$sup(x) = \\frac{ \\{ t \\in T; X \\in t \\} }{|T|}$$\n",
    "\n",
    "Здесь  — это X itemset, в котором находится items, T — количество транзакций.\n",
    "\n",
    "Можно охарактеризовать этот показатель как индекс частоты встречаемости конкретного продукта в имеющихся транзакциях. Это для того случая, если нам интересен один конкретный продукт (item).\n",
    "\n",
    "Чаще нам бывает важно, насколько часто какие-то два продукта встречаются вместе. Для такого случая мы будем рассчитывать следующий вариант показателя:\n",
    "\n",
    "$$sup(x_1 \\cup x_2) = \\frac{ \\sigma (x_1 \\cup x_2) }{|T|}$$"
   ],
   "cell_type": "markdown",
   "metadata": {}
  },
  {
   "source": [
    "Предположим, что  есть несколько транзакций, в которых присутствует пиво, подгузники и кола. Мы считаем количество совместных транзакций, в которых есть пиво и подгузники, и делим на общее количество транзакций.\n",
    "\n",
    "        Получается, Support такого правила равен 3/5, или 60 %. "
   ],
   "cell_type": "markdown",
   "metadata": {}
  },
  {
   "cell_type": "code",
   "execution_count": 24,
   "metadata": {},
   "outputs": [
    {
     "output_type": "execute_result",
     "data": {
      "text/plain": [
       "   beer  diapers\n",
       "0     1        1\n",
       "3     1        1\n",
       "4     1        1"
      ],
      "text/html": "<div>\n<style scoped>\n    .dataframe tbody tr th:only-of-type {\n        vertical-align: middle;\n    }\n\n    .dataframe tbody tr th {\n        vertical-align: top;\n    }\n\n    .dataframe thead th {\n        text-align: right;\n    }\n</style>\n<table border=\"1\" class=\"dataframe\">\n  <thead>\n    <tr style=\"text-align: right;\">\n      <th></th>\n      <th>beer</th>\n      <th>diapers</th>\n    </tr>\n  </thead>\n  <tbody>\n    <tr>\n      <th>0</th>\n      <td>1</td>\n      <td>1</td>\n    </tr>\n    <tr>\n      <th>3</th>\n      <td>1</td>\n      <td>1</td>\n    </tr>\n    <tr>\n      <th>4</th>\n      <td>1</td>\n      <td>1</td>\n    </tr>\n  </tbody>\n</table>\n</div>"
     },
     "metadata": {},
     "execution_count": 24
    }
   ],
   "source": [
    "df[(df.beer == 1)&(df.diapers == 1)][['beer', 'diapers']]"
   ]
  },
  {
   "cell_type": "code",
   "execution_count": 30,
   "metadata": {},
   "outputs": [
    {
     "output_type": "execute_result",
     "data": {
      "text/plain": [
       "0.6"
      ]
     },
     "metadata": {},
     "execution_count": 30
    }
   ],
   "source": [
    "supp_b_and_d = df[(df.beer == 1)&(df.diapers == 1)].shape[0]/df.shape[0]\n",
    "supp_b_and_d"
   ]
  },
  {
   "source": [
    "## CONFIDENCE\n",
    "\n",
    "Этот показатель высчитывается на основе метрики Support.\n",
    "\n",
    "$$conf(x_1 \\cup x_2) = \\frac{ supp (x_1 \\cup x_2) }{sup(T)}$$"
   ],
   "cell_type": "markdown",
   "metadata": {}
  },
  {
   "source": [
    "Он определяет, как часто правило срабатывает для всего датасета.\n",
    "\n",
    "У нас есть Support пива и подгузников, которое мы посчитали. Также мы можем посчитать Support только пива. \n",
    "        \n",
    "        Отношение этих двух Support будет равно 3/4, или 75 %."
   ],
   "cell_type": "markdown",
   "metadata": {}
  },
  {
   "cell_type": "code",
   "execution_count": 31,
   "metadata": {},
   "outputs": [
    {
     "output_type": "execute_result",
     "data": {
      "text/plain": [
       "0.8"
      ]
     },
     "metadata": {},
     "execution_count": 31
    }
   ],
   "source": [
    "supp_b = df[(df.beer == 1)].shape[0]/df.shape[0]\n",
    "supp_b"
   ]
  },
  {
   "cell_type": "code",
   "execution_count": 37,
   "metadata": {},
   "outputs": [
    {
     "output_type": "execute_result",
     "data": {
      "text/plain": [
       "0.75"
      ]
     },
     "metadata": {},
     "execution_count": 37
    }
   ],
   "source": [
    "np.around(supp_b_and_d/supp_b, 2)"
   ]
  },
  {
   "source": [
    "## LIFT \n",
    "\n",
    "Ещё одна метрика — Lift. Она вычисляется следующим образом:\n",
    "\n",
    "- вычисляется Support совместной встречаемости двух продуктов;\n",
    "- делится на произведение Support каждого из этих продуктов.\n",
    "\n",
    "$$ lift(x_1 \\cup x_2) = \\frac{ supp (x_1 \\cup x_2) }{supp(x_1)*supp(x_2)} $$\n",
    "\n",
    "\n",
    "$$ lift = \\frac{Confidence}{Expectedconfidence} = \\frac{Подгузники|Пиво}{Подгузники} $$"
   ],
   "cell_type": "markdown",
   "metadata": {}
  },
  {
   "cell_type": "code",
   "execution_count": 38,
   "metadata": {},
   "outputs": [
    {
     "output_type": "execute_result",
     "data": {
      "text/plain": [
       "0.6"
      ]
     },
     "metadata": {},
     "execution_count": 38
    }
   ],
   "source": [
    "supp_d = df[(df.diapers == 1)].shape[0]/df.shape[0]\n",
    "supp_d"
   ]
  },
  {
   "cell_type": "code",
   "execution_count": 41,
   "metadata": {},
   "outputs": [
    {
     "output_type": "execute_result",
     "data": {
      "text/plain": [
       "1.25"
      ]
     },
     "metadata": {},
     "execution_count": 41
    }
   ],
   "source": [
    "np.around(supp_b_and_d/(supp_d*supp_b), 2)"
   ]
  },
  {
   "source": [
    "## АЛГОРИТМ APRIORI\n",
    "\n",
    "Рассмотрим один из алгоритмов для построения ассоциативных правил — Apriori.\n",
    "\n",
    "Apriori использует следующее утверждение: \n",
    "\n",
    "если X⊆Y, то supp(X) ≥ supp(Y).\n",
    "\n",
    "Отсюда следуют два свойства:\n",
    "\n",
    "- если Y встречается часто, то любое подмножество X: X⊆Y также встречается часто\n",
    "- если X встречается редко, то любое супермножество Y: Y ⊇X также встречается редко\n",
    "\n",
    "Apriori по уровням проходит по префиксному дереву и рассчитывает частоту X встречаемости подмножеств  в D. \n",
    "\n",
    "Таким образом:\n",
    "\n",
    "- исключаются редкие подмножества и все их супермножества.\n",
    "- рассчитывается supp(X) для каждого подходящего кандидата X размера k на уровне k."
   ],
   "cell_type": "markdown",
   "metadata": {}
  },
  {
   "source": [
    "## Задание 9.3.1\n",
    "\n",
    "1. Какой показатель определяет частоту срабатываемости правила на нашем датасете?\n",
    "- support\n",
    "- confidence верно\n",
    "- lift\n",
    "\n",
    "2. Предположим, у нас есть данные о 300 транзакциях. Мы отметили, что в 62 из них покупают вместе форель и соевый соус. Рассчитайте показатель support, округлите до сотых (пример: 0.99).\n",
    "- 0.21  верно \n",
    "\n",
    "3. Какие данные наиболее удобны для работы с ассоциативными правилами?\n",
    "- Порядковые\n",
    "- Бинарные верно\n",
    "- Количественные\n",
    "- Номинальные"
   ],
   "cell_type": "markdown",
   "metadata": {}
  },
  {
   "source": [
    "## 9.4. Практика"
   ],
   "cell_type": "markdown",
   "metadata": {}
  },
  {
   "cell_type": "code",
   "execution_count": 42,
   "metadata": {},
   "outputs": [],
   "source": [
    "import pandas as pd\n",
    "df = pd.read_csv('data_fin.csv', sep=';')"
   ]
  },
  {
   "source": [
    "Здесь есть ID для пользователя, ID для фильма и рейтинг, который поставил данный пользователь данному фильму."
   ],
   "cell_type": "markdown",
   "metadata": {}
  },
  {
   "cell_type": "code",
   "execution_count": 45,
   "metadata": {},
   "outputs": [
    {
     "output_type": "execute_result",
     "data": {
      "text/plain": [
       "   Cust_Id  Rating  Movie_Id\n",
       "0  1488844     3.0         1\n",
       "1   822109     5.0         1\n",
       "2   885013     4.0         1\n",
       "3    30878     4.0         1\n",
       "4   823519     3.0         1"
      ],
      "text/html": "<div>\n<style scoped>\n    .dataframe tbody tr th:only-of-type {\n        vertical-align: middle;\n    }\n\n    .dataframe tbody tr th {\n        vertical-align: top;\n    }\n\n    .dataframe thead th {\n        text-align: right;\n    }\n</style>\n<table border=\"1\" class=\"dataframe\">\n  <thead>\n    <tr style=\"text-align: right;\">\n      <th></th>\n      <th>Cust_Id</th>\n      <th>Rating</th>\n      <th>Movie_Id</th>\n    </tr>\n  </thead>\n  <tbody>\n    <tr>\n      <th>0</th>\n      <td>1488844</td>\n      <td>3.0</td>\n      <td>1</td>\n    </tr>\n    <tr>\n      <th>1</th>\n      <td>822109</td>\n      <td>5.0</td>\n      <td>1</td>\n    </tr>\n    <tr>\n      <th>2</th>\n      <td>885013</td>\n      <td>4.0</td>\n      <td>1</td>\n    </tr>\n    <tr>\n      <th>3</th>\n      <td>30878</td>\n      <td>4.0</td>\n      <td>1</td>\n    </tr>\n    <tr>\n      <th>4</th>\n      <td>823519</td>\n      <td>3.0</td>\n      <td>1</td>\n    </tr>\n  </tbody>\n</table>\n</div>"
     },
     "metadata": {},
     "execution_count": 45
    }
   ],
   "source": [
    "df.head()"
   ]
  },
  {
   "source": [
    "Из полученного датасета возьмем только те записи, у которых наивысший рейтинг (5) и объединим их по \"Cust_Id\". Фильмы сгруппируем в строчку с разделителем \"пробел\" так, чтобы для каждого пользователя была строка с Id тех фильмов, которые ему понравились:"
   ],
   "cell_type": "markdown",
   "metadata": {}
  },
  {
   "cell_type": "code",
   "execution_count": 46,
   "metadata": {},
   "outputs": [],
   "source": [
    "good = df[df['Rating']==5].groupby('Cust_Id')['Movie_Id'].apply(lambda r: ' '.join([str(A) for A in r]))"
   ]
  },
  {
   "cell_type": "code",
   "execution_count": 53,
   "metadata": {},
   "outputs": [
    {
     "output_type": "execute_result",
     "data": {
      "text/plain": [
       "Cust_Id\n",
       "6     175 457 886 1467 2372 2452 2782 3290 4043 4633...\n",
       "7     8 30 83 175 257 283 285 313 357 457 458 468 50...\n",
       "8     1202 1799 1905 2186 3610 3925 4306 5054 5317 5...\n",
       "10    473 985 1542 1905 2172 3124 3371 3962 4043 430...\n",
       "25                4432 6786 7605 9326 10643 15107 15270\n",
       "Name: Movie_Id, dtype: object"
      ]
     },
     "metadata": {},
     "execution_count": 53
    }
   ],
   "source": [
    "good.head()"
   ]
  },
  {
   "source": [
    "Сначала идёт ID пользователя, дальше через пробел фильмы, которые нравятся этому пользователю."
   ],
   "cell_type": "markdown",
   "metadata": {}
  },
  {
   "cell_type": "code",
   "execution_count": 48,
   "metadata": {},
   "outputs": [],
   "source": [
    "import apyori"
   ]
  },
  {
   "source": [
    "Cделаем несколько ассоциативных правил. Мы можем регулировать их количество, меняя параметры алгоритмов. Посмотрим, какие ассоциативные правила получаются для support = 0.1."
   ],
   "cell_type": "markdown",
   "metadata": {}
  },
  {
   "cell_type": "code",
   "execution_count": 75,
   "metadata": {},
   "outputs": [],
   "source": [
    "association_rules = apyori.apriori(good.apply(lambda r: r.split(' ')), \n",
    "                                   min_support=0.04, \n",
    "                                   min_confidence=0.1, min_lift=2, \n",
    "                                   min_length=2)"
   ]
  },
  {
   "source": [
    "Строго говоря, мы получили не сами ассоциативные правила, а генератор. Это можно проверить, если, например, вызвать переменную association_rules:"
   ],
   "cell_type": "markdown",
   "metadata": {}
  },
  {
   "cell_type": "code",
   "execution_count": 76,
   "metadata": {},
   "outputs": [
    {
     "output_type": "execute_result",
     "data": {
      "text/plain": [
       "<generator object apriori at 0x0000020328196AC8>"
      ]
     },
     "metadata": {},
     "execution_count": 76
    }
   ],
   "source": [
    "association_rules"
   ]
  },
  {
   "cell_type": "code",
   "execution_count": 77,
   "metadata": {},
   "outputs": [],
   "source": [
    "asr_df = pd.DataFrame(columns = ['from', 'to', 'confidence', 'support', 'lift'])\n",
    "for item in association_rules:\n",
    "    pair = item[0] \n",
    "    items = [x for x in pair]\n",
    "    asr_df.loc[len(asr_df), :] =  ' '.join(list(item[2][0][0])), \\\n",
    "                                  ' '.join(list(item[2][0][1])),\\\n",
    "                                  item[2][0][2], item[1], item[2][0][3]"
   ]
  },
  {
   "cell_type": "code",
   "execution_count": 78,
   "metadata": {},
   "outputs": [
    {
     "output_type": "execute_result",
     "data": {
      "text/plain": [
       "       from                          to confidence    support     lift\n",
       "1447  11521             14961 7230 9628   0.231988  0.0483051  4.33509\n",
       "1631  16265              5582 7230 9628   0.398075  0.0476386  7.28915\n",
       "731   11283                  14240 7230   0.228238  0.0470303  2.12024\n",
       "1984  14240  14961 7057 16265 9628 5582   0.204267  0.0408894  4.70847\n",
       "1514  14240            14961 16265 5582   0.252971  0.0506389  4.59279\n",
       "987   14240                  14961 5582   0.310533  0.0621614  4.52132\n",
       "1822  14240        14550 2452 7057 7230    0.24239  0.0485208  4.74881\n",
       "99    11089                        3962   0.657242  0.0875919  3.83536\n",
       "1136  16265                   2452 7230   0.453102  0.0542238  4.33267\n",
       "1521  14240             2452 14961 1905   0.231647  0.0463703   4.7294"
      ],
      "text/html": "<div>\n<style scoped>\n    .dataframe tbody tr th:only-of-type {\n        vertical-align: middle;\n    }\n\n    .dataframe tbody tr th {\n        vertical-align: top;\n    }\n\n    .dataframe thead th {\n        text-align: right;\n    }\n</style>\n<table border=\"1\" class=\"dataframe\">\n  <thead>\n    <tr style=\"text-align: right;\">\n      <th></th>\n      <th>from</th>\n      <th>to</th>\n      <th>confidence</th>\n      <th>support</th>\n      <th>lift</th>\n    </tr>\n  </thead>\n  <tbody>\n    <tr>\n      <th>1447</th>\n      <td>11521</td>\n      <td>14961 7230 9628</td>\n      <td>0.231988</td>\n      <td>0.0483051</td>\n      <td>4.33509</td>\n    </tr>\n    <tr>\n      <th>1631</th>\n      <td>16265</td>\n      <td>5582 7230 9628</td>\n      <td>0.398075</td>\n      <td>0.0476386</td>\n      <td>7.28915</td>\n    </tr>\n    <tr>\n      <th>731</th>\n      <td>11283</td>\n      <td>14240 7230</td>\n      <td>0.228238</td>\n      <td>0.0470303</td>\n      <td>2.12024</td>\n    </tr>\n    <tr>\n      <th>1984</th>\n      <td>14240</td>\n      <td>14961 7057 16265 9628 5582</td>\n      <td>0.204267</td>\n      <td>0.0408894</td>\n      <td>4.70847</td>\n    </tr>\n    <tr>\n      <th>1514</th>\n      <td>14240</td>\n      <td>14961 16265 5582</td>\n      <td>0.252971</td>\n      <td>0.0506389</td>\n      <td>4.59279</td>\n    </tr>\n    <tr>\n      <th>987</th>\n      <td>14240</td>\n      <td>14961 5582</td>\n      <td>0.310533</td>\n      <td>0.0621614</td>\n      <td>4.52132</td>\n    </tr>\n    <tr>\n      <th>1822</th>\n      <td>14240</td>\n      <td>14550 2452 7057 7230</td>\n      <td>0.24239</td>\n      <td>0.0485208</td>\n      <td>4.74881</td>\n    </tr>\n    <tr>\n      <th>99</th>\n      <td>11089</td>\n      <td>3962</td>\n      <td>0.657242</td>\n      <td>0.0875919</td>\n      <td>3.83536</td>\n    </tr>\n    <tr>\n      <th>1136</th>\n      <td>16265</td>\n      <td>2452 7230</td>\n      <td>0.453102</td>\n      <td>0.0542238</td>\n      <td>4.33267</td>\n    </tr>\n    <tr>\n      <th>1521</th>\n      <td>14240</td>\n      <td>2452 14961 1905</td>\n      <td>0.231647</td>\n      <td>0.0463703</td>\n      <td>4.7294</td>\n    </tr>\n  </tbody>\n</table>\n</div>"
     },
     "metadata": {},
     "execution_count": 78
    }
   ],
   "source": [
    "asr_df.sample(10)"
   ]
  },
  {
   "cell_type": "code",
   "execution_count": 79,
   "metadata": {},
   "outputs": [
    {
     "output_type": "execute_result",
     "data": {
      "text/plain": [
       "2023"
      ]
     },
     "metadata": {},
     "execution_count": 79
    }
   ],
   "source": [
    "len(asr_df)"
   ]
  },
  {
   "source": [
    "Мы видим здесь таблицу, где 2023 ассоциативных правила, и для каждого рассчитаны известные нам показатели.\n",
    "\n",
    "Для того чтобы перейти от Id фильмов, к их названиям, нужно загрузить еще один файл, в котором содержится Id фильма, год его производства и название:"
   ],
   "cell_type": "markdown",
   "metadata": {}
  },
  {
   "cell_type": "code",
   "execution_count": 80,
   "metadata": {},
   "outputs": [],
   "source": [
    "titles = pd.read_csv('movie_titles.csv', encoding = \"ISO-8859-1\", \n",
    "                     header = None, \n",
    "                     names = ['Movie_Id', 'Year', 'Name'])"
   ]
  },
  {
   "source": [
    "Мы можем написать процедуру, которая будет выводить названия фильмов в ассоциативном правиле и фильм, которое это ассоциативное правило рекомендует:"
   ],
   "cell_type": "markdown",
   "metadata": {}
  },
  {
   "cell_type": "code",
   "execution_count": 81,
   "metadata": {},
   "outputs": [],
   "source": [
    "def get_rule_title(rule):\n",
    "    print(titles[titles.Movie_Id.isin(rule['from'].split(' '))]['Name'].values)\n",
    "    print('----------->')\n",
    "    print(titles[titles.Movie_Id == int(rule['to'])]['Name'].values)"
   ]
  },
  {
   "source": [
    "Можем посмотреть, как выглядит это правило. Например, вызовем сотое правило:"
   ],
   "cell_type": "markdown",
   "metadata": {}
  },
  {
   "cell_type": "code",
   "execution_count": 82,
   "metadata": {},
   "outputs": [
    {
     "output_type": "stream",
     "name": "stdout",
     "text": [
      "['Monsters']\n----------->\n['Finding Nemo (Widescreen)']\n"
     ]
    }
   ],
   "source": [
    "get_rule_title(asr_df.loc[99])"
   ]
  },
  {
   "source": [
    "То есть, если человеку нравится фильм «Монстры», то мы советуем ему посмотреть фильм «В поисках Немо».\n",
    "\n",
    "Перейдём к построению рекомендаций для случайного человека под id=159992. Посмотрим, какие фильмы он смотрел и как он их оценил. "
   ],
   "cell_type": "markdown",
   "metadata": {}
  },
  {
   "cell_type": "code",
   "execution_count": 83,
   "metadata": {},
   "outputs": [
    {
     "output_type": "execute_result",
     "data": {
      "text/plain": [
       "1144     The Wedding Planner\n",
       "2151         What Women Want\n",
       "5316       Miss Congeniality\n",
       "6286            Pretty Woman\n",
       "6385              Sister Act\n",
       "7233            Men of Honor\n",
       "10358          Runaway Bride\n",
       "11148      Maid in Manhattan\n",
       "13049       Two Weeks Notice\n",
       "15581     Sweet Home Alabama\n",
       "Name: Name, dtype: object"
      ]
     },
     "metadata": {},
     "execution_count": 83
    }
   ],
   "source": [
    "j = 159992\n",
    "titles[titles.Movie_Id.isin(good.iloc[j].split(' '))]['Name']"
   ]
  },
  {
   "source": [
    "Как мы можем посчитать посчитать рекомендации для этого человека? Мы можем пройтись по всем правилам в нашей таблице и проверить, если они присутствуют в просмотрах человека и у них высокий рейтинг, значит это правило ему подходит и мы можем добавить этот фильм в список рекомендаций."
   ],
   "cell_type": "markdown",
   "metadata": {}
  },
  {
   "cell_type": "code",
   "execution_count": 84,
   "metadata": {},
   "outputs": [
    {
     "output_type": "stream",
     "name": "stdout",
     "text": [
      "{'Dirty Dancing', 'Pretty Woman'}\n"
     ]
    }
   ],
   "source": [
    "def print_rule_title(rule):\n",
    "    return (titles[titles.Movie_Id == int(rule['to'])]['Name'].values)\n",
    "    \n",
    "\n",
    "result = []\n",
    "for A in asr_df.index:\n",
    "    if len(set(good.iloc[j].split(' ')) & set(asr_df['from'].loc[A].split(' '))) == len(asr_df['from'].loc[A].split(' ')):\n",
    "        result.append(print_rule_title(asr_df.loc[A])[0])\n",
    "print(set(result))"
   ]
  },
  {
   "source": [
    "Сложность такой рекомендательной системы состоит в том, что мы ограничены теми ассоциативными правилами, которые были созданы. Если фильм редкий, то он в эти ассоциативные правила, скорее всего, не попадёт.\n",
    "\n",
    "Также для разных людей будет разное количество рекомендаций, в зависимости от того, сколько фильмов посмотрел каждый из них. И, если нам захочется порекомендовать каждому пользователю минимум три фильма, то не с каждым пользователем мы сможем это сделать.\n",
    "\n",
    "Эту проблему можно решить с помощью алгоритма Коллаборативная фильтрация. "
   ],
   "cell_type": "markdown",
   "metadata": {}
  },
  {
   "source": [
    "## Задание 9.4.1\n",
    "\n",
    "1. Найдите фильмы, которые понравились пользователю с ID, равным 130. Понравившимися пользователю фильмами мы будем считать те фильмы, которым он поставил наивысшую оценку (5). Скопируйте все ID фильмов. Например: 68 943 325 1234."
   ],
   "cell_type": "markdown",
   "metadata": {}
  },
  {
   "cell_type": "code",
   "execution_count": 91,
   "metadata": {},
   "outputs": [
    {
     "output_type": "execute_result",
     "data": {
      "text/plain": [
       "array(['1865 3456 3962 5515 6029 6428 8159 8327 8782 8784 11165 11242 11701 12084 12232 14482'],\n",
       "      dtype=object)"
      ]
     },
     "metadata": {},
     "execution_count": 91
    }
   ],
   "source": [
    "good[good.index == 130].values"
   ]
  },
  {
   "cell_type": "code",
   "execution_count": 94,
   "metadata": {},
   "outputs": [
    {
     "output_type": "stream",
     "name": "stdout",
     "text": [
      "['The Patriot']\n----------->\n['The Green Mile']\n"
     ]
    }
   ],
   "source": [
    "get_rule_title(asr_df.loc[315])"
   ]
  },
  {
   "cell_type": "code",
   "execution_count": 107,
   "metadata": {},
   "outputs": [],
   "source": [
    "j = 21\n",
    "result = []\n",
    "for A in asr_df.index:\n",
    "    if len(set(good.iloc[j].split(' ')) & set(asr_df['from'].loc[A].split(' '))) == len(asr_df['from'].loc[A].split(' ')):\n",
    "        result.append(print_rule_title(asr_df.loc[A])[0])\n",
    "result_df = pd.DataFrame(result, columns = ['film'])\n",
    "result_df['len'] = result_df.film.apply(lambda x: len(x))"
   ]
  },
  {
   "cell_type": "code",
   "execution_count": 115,
   "metadata": {},
   "outputs": [
    {
     "output_type": "execute_result",
     "data": {
      "text/plain": [
       "'The Sixth Sense'"
      ]
     },
     "metadata": {},
     "execution_count": 115
    }
   ],
   "source": [
    "result_df[result_df.len == result_df.len.min()]['film'].iloc[0]"
   ]
  },
  {
   "source": [
    "# 9.5. Коллаборативная фильтрация"
   ],
   "cell_type": "markdown",
   "metadata": {}
  }
 ]
}