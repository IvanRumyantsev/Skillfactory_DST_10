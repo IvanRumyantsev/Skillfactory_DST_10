{
 "metadata": {
  "language_info": {
   "codemirror_mode": {
    "name": "ipython",
    "version": 3
   },
   "file_extension": ".py",
   "mimetype": "text/x-python",
   "name": "python",
   "nbconvert_exporter": "python",
   "pygments_lexer": "ipython3",
   "version": "3.7.9-final"
  },
  "orig_nbformat": 2,
  "kernelspec": {
   "name": "Python 3.7.9 64-bit ('base': conda)",
   "display_name": "Python 3.7.9 64-bit ('base': conda)",
   "metadata": {
    "interpreter": {
     "hash": "a8f61be024eba58adef938c9aa1e29e02cb3dece83a5348b1a2dafd16a070453"
    }
   }
  }
 },
 "nbformat": 4,
 "nbformat_minor": 2,
 "cells": [
  {
   "source": [
    "### Сентябрь 2020 г. \n",
    "### DST 10 // Юнит 7. Machine Learning в продакшн // MATH&STAT-7. Временные ряды"
   ],
   "cell_type": "markdown",
   "metadata": {}
  },
  {
   "source": [
    "# 7.1. Вступление к модулю"
   ],
   "cell_type": "markdown",
   "metadata": {}
  },
  {
   "source": [
    "### ЧТО ЭТО И ЗАЧЕМ?\n",
    "Временной ряд — это измерения одной и той же случайной величины в разные моменты времени.\n",
    "\n",
    "Дело в том, что с появлением зависимости наблюдений от времени вся математическая структура данных поменялась — наблюдения одной и той же переменной в разные моменты времени стали зависимыми между собой. Мы получили так называемый временной ряд.\n",
    "\n",
    "Примеры временных рядов:\n",
    "\n",
    "- всевозможные экономические индексы, такие как индекс RTS, DJIA и другие;\n",
    "- стоимость активов на бирже — всевозможные курсы нефти, ценных бумаг, валют и криптовалют:\n",
    "- физические показатели спортсмена во время тренировок или специальных нагрузочных тестов;\n",
    "- скорость интернета;\n",
    "- регулярные измерения роста, веса, давления;\n",
    "- температура воды в Красном море по дням в июле.\n",
    "\n",
    "Ещё пара примеров из бизнеса:\n",
    "- прогнозирование числа пользователей сайта\n",
    "- прогнозирование удовлетворенности клиента\n",
    "- прогнозирование трафика\n",
    "\n",
    "### ЧТО БУДЕМ ИЗУЧАТЬ В ЭТОМ МОДУЛЕ\n",
    "\n",
    "В этом модуле мы:\n",
    "\n",
    "Познакомимся с основными идеями и понятиями анализа временных рядов такими, как тренд, сезонность.\n",
    "Узнаем, чем страшна нестационарность, и как с ней можно бороться.\n",
    "Познакомимся с некоторыми алгоритмами прогноза.\n"
   ],
   "cell_type": "markdown",
   "metadata": {}
  },
  {
   "source": [
    "# 7.2. Линейная регрессия"
   ],
   "cell_type": "markdown",
   "metadata": {}
  },
  {
   "source": [
    "### УСЛОВИЯ ГАУССА-МАРКОВА\n",
    "#### Модель: \n",
    "\n",
    "Мы предполагаем, что Y зависит от X линейно с небольшой случайной добавкой $\\varepsilon$. Настоящие коэффициенты $β_i$ неизвестны и чтобы их оценить, мы берём выборку из n наблюдений\n",
    "\n",
    "#### Условие 1.\n",
    "\n",
    "Корректная спецификация модели.\n",
    "Это значит, что мы сделали верное предположение о характере зависимости (линейной в нашем случае) и собрали «хорошие» признаки.\n",
    "\n",
    "#### Условие 2.\n",
    "\n",
    "Признак X должен быть детерминированной величиной, отличной от константы.\n",
    "Иными словами, все X не случайны и не все равны друг другу.\n",
    "\n",
    "#### Условие 3.\n",
    "Ожидаемое (среднее) значение отклонений нулевое\n",
    "\n",
    "#### Условие 4. \n",
    "\n",
    "Гомоскедастичность: разброс отклонений в среднем одинаковый для всех наблюдений\n",
    "Иными словами, это значит, что разброс ошибок в среднем одинаков для всех наблюдений.\n",
    "\n",
    "#### Условие 5. \n",
    "\n",
    "Независимость ошибок.\n",
    "\n",
    "Все вместе условия Гаусса-Маркова гарантируют нам «хорошие» оценки для параметров модели  и высокое качество прогноза. «Хорошие» здесь означает, что они несмещённые, состоятельные и эффективные (обладают наименьшим разбросом среди всех остальных несмещённых оценок)."
   ],
   "cell_type": "markdown",
   "metadata": {}
  },
  {
   "source": [
    "## Задание 7.2.1\n",
    "Гомоскедастичность — это: Условие равенства всех дисперсий ошибок верно"
   ],
   "cell_type": "markdown",
   "metadata": {}
  },
  {
   "source": [
    "## Задание 7.2.2\n",
    "Выберите верные утверждения:\n",
    "- Гетероскедастичность нарушает условия Гаусса-Маркова\n",
    "- Сильная отрицательная корреляция между целевой переменной и признаком в парной регрессии не нарушает условия Гаусса-Маркова"
   ],
   "cell_type": "markdown",
   "metadata": {}
  },
  {
   "source": [
    "## Задание 7.2.3\n",
    "1. Да\n",
    "2. Нет\n",
    "3. Да\n",
    "4. Нет\n",
    "5. Да\n",
    "6. 4\n",
    "7. 2"
   ],
   "cell_type": "markdown",
   "metadata": {}
  },
  {
   "source": [
    "## Дополнительные материалы:\n",
    "\n",
    "[Разные способы построить линейную регрессию в Python](https://habr.com/ru/post/279117/ 'Habr')"
   ],
   "cell_type": "markdown",
   "metadata": {}
  },
  {
   "source": [
    "# 7.3. Практика. Линейная регрессия\n",
    "В этом разделе мы познакомимся с генерацией нормального белого шума и посмотрим на практике, как влияет на качество OLS оценок гетероскедастичность.\n",
    "\n",
    "[Ноутбук к этому материалу](Юнит 7. Machine Learning в продакшн\\white_noise.ipynb)"
   ],
   "cell_type": "markdown",
   "metadata": {}
  },
  {
   "source": [
    "ЗАДАНИЕ\n",
    "\n",
    "- → Загрузите датасет BostonHousing из библиотеки sklearn (с ним мы работали ранее).\n",
    "\n",
    "- → Обучите линейную регрессию стоимости дома на параметры CRIM, RM.\n",
    "\n",
    "- → Выполните задания ниже."
   ],
   "cell_type": "markdown",
   "metadata": {}
  },
  {
   "cell_type": "code",
   "execution_count": 1,
   "metadata": {},
   "outputs": [],
   "source": [
    "from sklearn.datasets import load_boston\n",
    "from sklearn.linear_model import LinearRegression\n",
    "from sklearn.model_selection import train_test_split\n",
    "import pandas as pd\n",
    "import numpy as np\n",
    "import matplotlib.pyplot as plt"
   ]
  },
  {
   "cell_type": "code",
   "execution_count": 2,
   "metadata": {},
   "outputs": [],
   "source": [
    "# Load dataset\n",
    "boston = load_boston()\n",
    "X = pd.DataFrame(boston.data)\n",
    "X.columns = boston.feature_names\n",
    "y=pd.DataFrame(boston.target)\n",
    "y.columns=['PRICE']"
   ]
  },
  {
   "cell_type": "code",
   "execution_count": 3,
   "metadata": {},
   "outputs": [
    {
     "output_type": "execute_result",
     "data": {
      "text/plain": "LinearRegression()"
     },
     "metadata": {},
     "execution_count": 3
    }
   ],
   "source": [
    "# Fit\n",
    "LR = LinearRegression()\n",
    "LR.fit(X[['CRIM', 'RM']],y)"
   ]
  },
  {
   "source": [
    "## Задание 7.3.1\n",
    "Выведите коэффициенты модели, округлив ответ до сотых:"
   ],
   "cell_type": "markdown",
   "metadata": {}
  },
  {
   "cell_type": "code",
   "execution_count": 4,
   "metadata": {
    "tags": []
   },
   "outputs": [
    {
     "output_type": "stream",
     "name": "stdout",
     "text": "CRIM -0.26 RM 8.39 INTERCEPT-29.24\n"
    }
   ],
   "source": [
    "print('CRIM {:.2f} RM {:.2f} INTERCEPT{:.2f}'.format(LR.coef_[0][0], LR.coef_[0][1], LR.intercept_[0]))"
   ]
  },
  {
   "source": [
    "## Задание 7.3.2\n",
    "Найдите долю объясненной дисперсии."
   ],
   "cell_type": "markdown",
   "metadata": {}
  },
  {
   "cell_type": "code",
   "execution_count": 5,
   "metadata": {},
   "outputs": [],
   "source": [
    "# Predict\n",
    "y_pred = LR.predict(X[['CRIM', 'RM']])"
   ]
  },
  {
   "cell_type": "code",
   "execution_count": 6,
   "metadata": {},
   "outputs": [
    {
     "output_type": "execute_result",
     "data": {
      "text/plain": "0.54"
     },
     "metadata": {},
     "execution_count": 6
    }
   ],
   "source": [
    "round(np.var(y_pred)/np.var(y)[0],2)"
   ]
  },
  {
   "cell_type": "code",
   "execution_count": 7,
   "metadata": {},
   "outputs": [
    {
     "output_type": "execute_result",
     "data": {
      "text/plain": "0.5419591738494084"
     },
     "metadata": {},
     "execution_count": 7
    }
   ],
   "source": [
    "from sklearn.metrics import r2_score\n",
    "r2_score(y, y_pred)"
   ]
  },
  {
   "source": [
    "## Задание 7.3.3\n",
    "Сгенерируйте вектор белого шума и добавьте к исходным значениям целевой переменой. Обучите модель и найдите R2 (долю объясненной дисперсии)."
   ],
   "cell_type": "markdown",
   "metadata": {}
  },
  {
   "cell_type": "code",
   "execution_count": 8,
   "metadata": {},
   "outputs": [],
   "source": [
    "def white_noise(N = 100, mu = 0, sigma = 1):\n",
    "    np.random.seed(42)\n",
    "    return np.random.normal(mu, sigma, size=N)"
   ]
  },
  {
   "cell_type": "code",
   "execution_count": 9,
   "metadata": {},
   "outputs": [],
   "source": [
    "noise = white_noise(N = y.shape[0], mu = 0, sigma = 1)"
   ]
  },
  {
   "cell_type": "code",
   "execution_count": 10,
   "metadata": {},
   "outputs": [
    {
     "output_type": "error",
     "ename": "NameError",
     "evalue": "name 'N' is not defined",
     "traceback": [
      "\u001b[1;31m---------------------------------------------------------------------------\u001b[0m",
      "\u001b[1;31mNameError\u001b[0m                                 Traceback (most recent call last)",
      "\u001b[1;32m<ipython-input-10-435191bccd1a>\u001b[0m in \u001b[0;36m<module>\u001b[1;34m\u001b[0m\n\u001b[1;32m----> 1\u001b[1;33m \u001b[0mplt\u001b[0m\u001b[1;33m.\u001b[0m\u001b[0mscatter\u001b[0m\u001b[1;33m(\u001b[0m\u001b[0mnp\u001b[0m\u001b[1;33m.\u001b[0m\u001b[0marange\u001b[0m\u001b[1;33m(\u001b[0m\u001b[0mN\u001b[0m\u001b[1;33m)\u001b[0m\u001b[1;33m,\u001b[0m\u001b[0mnoise\u001b[0m\u001b[1;33m)\u001b[0m\u001b[1;33m\u001b[0m\u001b[1;33m\u001b[0m\u001b[0m\n\u001b[0m",
      "\u001b[1;31mNameError\u001b[0m: name 'N' is not defined"
     ]
    }
   ],
   "source": [
    "plt.scatter(np.arange(N),noise)"
   ]
  },
  {
   "cell_type": "code",
   "execution_count": 112,
   "metadata": {},
   "outputs": [
    {
     "output_type": "execute_result",
     "data": {
      "text/plain": "(506,)"
     },
     "metadata": {},
     "execution_count": 112
    }
   ],
   "source": [
    "np.array(y).reshape(506).shape"
   ]
  },
  {
   "cell_type": "code",
   "execution_count": 79,
   "metadata": {},
   "outputs": [
    {
     "output_type": "execute_result",
     "data": {
      "text/plain": "(506,)"
     },
     "metadata": {},
     "execution_count": 79
    }
   ],
   "source": [
    "noise.shape"
   ]
  },
  {
   "cell_type": "code",
   "execution_count": 104,
   "metadata": {},
   "outputs": [],
   "source": [
    "y_with_noise = np.array(y).reshape(506) + noise"
   ]
  },
  {
   "cell_type": "code",
   "execution_count": 136,
   "metadata": {},
   "outputs": [
    {
     "output_type": "execute_result",
     "data": {
      "text/plain": "0.5317591780870768"
     },
     "metadata": {},
     "execution_count": 136
    }
   ],
   "source": [
    "# Fit\n",
    "LR.fit(X[['CRIM', 'RM']],y_with_noise)\n",
    "# Predict\n",
    "y_pred = LR.predict(X[['CRIM', 'RM']])\n",
    "r2_score(y_with_noise, y_pred)"
   ]
  },
  {
   "cell_type": "code",
   "execution_count": null,
   "metadata": {},
   "outputs": [],
   "source": []
  },
  {
   "cell_type": "code",
   "execution_count": 108,
   "metadata": {},
   "outputs": [
    {
     "output_type": "execute_result",
     "data": {
      "text/plain": "0.5419440594477221"
     },
     "metadata": {},
     "execution_count": 108
    }
   ],
   "source": [
    "r2_score(y, y_pred)"
   ]
  },
  {
   "source": [
    "Тут сломан валидатор и он принимает числа из диапазона (0, 1)"
   ],
   "cell_type": "markdown",
   "metadata": {}
  },
  {
   "source": [
    "## Задание 7.3.4"
   ],
   "cell_type": "markdown",
   "metadata": {}
  },
  {
   "source": [
    "Сгенерируйте вектор гетероскедастичного шума аналогично разобранному примеру с параметром alpha = 1.002 и добавьте к исходным значениям целевой переменной. Обучите модель и найдите R2 (долю объясненной дисперсии)."
   ],
   "cell_type": "markdown",
   "metadata": {}
  },
  {
   "cell_type": "code",
   "execution_count": 113,
   "metadata": {},
   "outputs": [],
   "source": [
    "def hetero_eps(alpha, eps):\n",
    "    hetero_eps = np.zeros(len(eps))\n",
    "    for i in range (0,len(eps)):\n",
    "        hetero_eps[i] = (alpha**i) * eps[i]\n",
    "    return hetero_eps"
   ]
  },
  {
   "cell_type": "code",
   "execution_count": 122,
   "metadata": {},
   "outputs": [],
   "source": [
    "noise = white_noise(N = y.shape[0], mu = 0, sigma = 1)\n",
    "hetero_noise  = hetero_eps(alpha = 1.002, eps = noise)"
   ]
  },
  {
   "cell_type": "code",
   "execution_count": 123,
   "metadata": {},
   "outputs": [
    {
     "output_type": "execute_result",
     "data": {
      "text/plain": "<matplotlib.collections.PathCollection at 0x2bccdc48c48>"
     },
     "metadata": {},
     "execution_count": 123
    },
    {
     "output_type": "display_data",
     "data": {
      "text/plain": "<Figure size 432x288 with 1 Axes>",
      "image/svg+xml": "<?xml version=\"1.0\" encoding=\"utf-8\" standalone=\"no\"?>\r\n<!DOCTYPE svg PUBLIC \"-//W3C//DTD SVG 1.1//EN\"\r\n  \"http://www.w3.org/Graphics/SVG/1.1/DTD/svg11.dtd\">\r\n<!-- Created with matplotlib (https://matplotlib.org/) -->\r\n<svg height=\"248.518125pt\" version=\"1.1\" viewBox=\"0 0 370.942187 248.518125\" width=\"370.942187pt\" xmlns=\"http://www.w3.org/2000/svg\" xmlns:xlink=\"http://www.w3.org/1999/xlink\">\r\n <metadata>\r\n  <rdf:RDF xmlns:cc=\"http://creativecommons.org/ns#\" xmlns:dc=\"http://purl.org/dc/elements/1.1/\" xmlns:rdf=\"http://www.w3.org/1999/02/22-rdf-syntax-ns#\">\r\n   <cc:Work>\r\n    <dc:type rdf:resource=\"http://purl.org/dc/dcmitype/StillImage\"/>\r\n    <dc:date>2020-09-24T10:36:33.182928</dc:date>\r\n    <dc:format>image/svg+xml</dc:format>\r\n    <dc:creator>\r\n     <cc:Agent>\r\n      <dc:title>Matplotlib v3.3.1, https://matplotlib.org/</dc:title>\r\n     </cc:Agent>\r\n    </dc:creator>\r\n   </cc:Work>\r\n  </rdf:RDF>\r\n </metadata>\r\n <defs>\r\n  <style type=\"text/css\">*{stroke-linecap:butt;stroke-linejoin:round;}</style>\r\n </defs>\r\n <g id=\"figure_1\">\r\n  <g id=\"patch_1\">\r\n   <path d=\"M 0 248.518125 \r\nL 370.942187 248.518125 \r\nL 370.942187 0 \r\nL 0 0 \r\nz\r\n\" style=\"fill:none;\"/>\r\n  </g>\r\n  <g id=\"axes_1\">\r\n   <g id=\"patch_2\">\r\n    <path d=\"M 28.942188 224.64 \r\nL 363.742188 224.64 \r\nL 363.742188 7.2 \r\nL 28.942188 7.2 \r\nz\r\n\" style=\"fill:#ffffff;\"/>\r\n   </g>\r\n   <g id=\"PathCollection_1\">\r\n    <defs>\r\n     <path d=\"M 0 3 \r\nC 0.795609 3 1.55874 2.683901 2.12132 2.12132 \r\nC 2.683901 1.55874 3 0.795609 3 0 \r\nC 3 -0.795609 2.683901 -1.55874 2.12132 -2.12132 \r\nC 1.55874 -2.683901 0.795609 -3 0 -3 \r\nC -0.795609 -3 -1.55874 -2.683901 -2.12132 -2.12132 \r\nC -2.683901 -1.55874 -3 -0.795609 -3 0 \r\nC -3 0.795609 -2.683901 1.55874 -2.12132 2.12132 \r\nC -1.55874 2.683901 -0.795609 3 0 3 \r\nz\r\n\" id=\"m1420c0126d\" style=\"stroke:#1f77b4;\"/>\r\n    </defs>\r\n    <g clip-path=\"url(#pb2aaef629c)\">\r\n     <use style=\"fill:#1f77b4;stroke:#1f77b4;\" x=\"44.160369\" xlink:href=\"#m1420c0126d\" y=\"123.803955\"/>\r\n     <use style=\"fill:#1f77b4;stroke:#1f77b4;\" x=\"44.76307\" xlink:href=\"#m1420c0126d\" y=\"132.837642\"/>\r\n     <use style=\"fill:#1f77b4;stroke:#1f77b4;\" x=\"45.36577\" xlink:href=\"#m1420c0126d\" y=\"121.620135\"/>\r\n     <use style=\"fill:#1f77b4;stroke:#1f77b4;\" x=\"45.96847\" xlink:href=\"#m1420c0126d\" y=\"109.078952\"/>\r\n     <use style=\"fill:#1f77b4;stroke:#1f77b4;\" x=\"46.57117\" xlink:href=\"#m1420c0126d\" y=\"134.224025\"/>\r\n     <use style=\"fill:#1f77b4;stroke:#1f77b4;\" x=\"47.173871\" xlink:href=\"#m1420c0126d\" y=\"134.230503\"/>\r\n     <use style=\"fill:#1f77b4;stroke:#1f77b4;\" x=\"47.776571\" xlink:href=\"#m1420c0126d\" y=\"108.13937\"/>\r\n     <use style=\"fill:#1f77b4;stroke:#1f77b4;\" x=\"48.379271\" xlink:href=\"#m1420c0126d\" y=\"119.800448\"/>\r\n     <use style=\"fill:#1f77b4;stroke:#1f77b4;\" x=\"48.981971\" xlink:href=\"#m1420c0126d\" y=\"137.651275\"/>\r\n     <use style=\"fill:#1f77b4;stroke:#1f77b4;\" x=\"49.584672\" xlink:href=\"#m1420c0126d\" y=\"123.012005\"/>\r\n     <use style=\"fill:#1f77b4;stroke:#1f77b4;\" x=\"50.187372\" xlink:href=\"#m1420c0126d\" y=\"137.59057\"/>\r\n     <use style=\"fill:#1f77b4;stroke:#1f77b4;\" x=\"50.790072\" xlink:href=\"#m1420c0126d\" y=\"137.637625\"/>\r\n     <use style=\"fill:#1f77b4;stroke:#1f77b4;\" x=\"51.392773\" xlink:href=\"#m1420c0126d\" y=\"127.343177\"/>\r\n     <use style=\"fill:#1f77b4;stroke:#1f77b4;\" x=\"51.995473\" xlink:href=\"#m1420c0126d\" y=\"158.791403\"/>\r\n     <use style=\"fill:#1f77b4;stroke:#1f77b4;\" x=\"52.598173\" xlink:href=\"#m1420c0126d\" y=\"156.092646\"/>\r\n     <use style=\"fill:#1f77b4;stroke:#1f77b4;\" x=\"53.200873\" xlink:href=\"#m1420c0126d\" y=\"139.10683\"/>\r\n     <use style=\"fill:#1f77b4;stroke:#1f77b4;\" x=\"53.803574\" xlink:href=\"#m1420c0126d\" y=\"145.738423\"/>\r\n     <use style=\"fill:#1f77b4;stroke:#1f77b4;\" x=\"54.406274\" xlink:href=\"#m1420c0126d\" y=\"126.244343\"/>\r\n     <use style=\"fill:#1f77b4;stroke:#1f77b4;\" x=\"55.008974\" xlink:href=\"#m1420c0126d\" y=\"144.252973\"/>\r\n     <use style=\"fill:#1f77b4;stroke:#1f77b4;\" x=\"55.611674\" xlink:href=\"#m1420c0126d\" y=\"151.728352\"/>\r\n     <use style=\"fill:#1f77b4;stroke:#1f77b4;\" x=\"56.214375\" xlink:href=\"#m1420c0126d\" y=\"109.175428\"/>\r\n     <use style=\"fill:#1f77b4;stroke:#1f77b4;\" x=\"56.817075\" xlink:href=\"#m1420c0126d\" y=\"134.21576\"/>\r\n     <use style=\"fill:#1f77b4;stroke:#1f77b4;\" x=\"57.419775\" xlink:href=\"#m1420c0126d\" y=\"129.864071\"/>\r\n     <use style=\"fill:#1f77b4;stroke:#1f77b4;\" x=\"58.022476\" xlink:href=\"#m1420c0126d\" y=\"152.081029\"/>\r\n     <use style=\"fill:#1f77b4;stroke:#1f77b4;\" x=\"58.625176\" xlink:href=\"#m1420c0126d\" y=\"138.989207\"/>\r\n     <use style=\"fill:#1f77b4;stroke:#1f77b4;\" x=\"59.227876\" xlink:href=\"#m1420c0126d\" y=\"129.209339\"/>\r\n     <use style=\"fill:#1f77b4;stroke:#1f77b4;\" x=\"59.830576\" xlink:href=\"#m1420c0126d\" y=\"148.108043\"/>\r\n     <use style=\"fill:#1f77b4;stroke:#1f77b4;\" x=\"60.433277\" xlink:href=\"#m1420c0126d\" y=\"125.228743\"/>\r\n     <use style=\"fill:#1f77b4;stroke:#1f77b4;\" x=\"61.035977\" xlink:href=\"#m1420c0126d\" y=\"139.900398\"/>\r\n     <use style=\"fill:#1f77b4;stroke:#1f77b4;\" x=\"61.638677\" xlink:href=\"#m1420c0126d\" y=\"135.26301\"/>\r\n     <use style=\"fill:#1f77b4;stroke:#1f77b4;\" x=\"62.241377\" xlink:href=\"#m1420c0126d\" y=\"139.95269\"/>\r\n     <use style=\"fill:#1f77b4;stroke:#1f77b4;\" x=\"62.844078\" xlink:href=\"#m1420c0126d\" y=\"102.844003\"/>\r\n     <use style=\"fill:#1f77b4;stroke:#1f77b4;\" x=\"63.446778\" xlink:href=\"#m1420c0126d\" y=\"131.072124\"/>\r\n     <use style=\"fill:#1f77b4;stroke:#1f77b4;\" x=\"64.049478\" xlink:href=\"#m1420c0126d\" y=\"146.93392\"/>\r\n     <use style=\"fill:#1f77b4;stroke:#1f77b4;\" x=\"64.652178\" xlink:href=\"#m1420c0126d\" y=\"118.34824\"/>\r\n     <use style=\"fill:#1f77b4;stroke:#1f77b4;\" x=\"65.254879\" xlink:href=\"#m1420c0126d\" y=\"149.486123\"/>\r\n     <use style=\"fill:#1f77b4;stroke:#1f77b4;\" x=\"65.857579\" xlink:href=\"#m1420c0126d\" y=\"127.675845\"/>\r\n     <use style=\"fill:#1f77b4;stroke:#1f77b4;\" x=\"66.460279\" xlink:href=\"#m1420c0126d\" y=\"160.873342\"/>\r\n     <use style=\"fill:#1f77b4;stroke:#1f77b4;\" x=\"67.06298\" xlink:href=\"#m1420c0126d\" y=\"151.244937\"/>\r\n     <use style=\"fill:#1f77b4;stroke:#1f77b4;\" x=\"67.66568\" xlink:href=\"#m1420c0126d\" y=\"127.841169\"/>\r\n     <use style=\"fill:#1f77b4;stroke:#1f77b4;\" x=\"68.26838\" xlink:href=\"#m1420c0126d\" y=\"119.492375\"/>\r\n     <use style=\"fill:#1f77b4;stroke:#1f77b4;\" x=\"68.87108\" xlink:href=\"#m1420c0126d\" y=\"128.222523\"/>\r\n     <use style=\"fill:#1f77b4;stroke:#1f77b4;\" x=\"69.473781\" xlink:href=\"#m1420c0126d\" y=\"132.65606\"/>\r\n     <use style=\"fill:#1f77b4;stroke:#1f77b4;\" x=\"70.076481\" xlink:href=\"#m1420c0126d\" y=\"135.533517\"/>\r\n     <use style=\"fill:#1f77b4;stroke:#1f77b4;\" x=\"70.679181\" xlink:href=\"#m1420c0126d\" y=\"153.825008\"/>\r\n     <use style=\"fill:#1f77b4;stroke:#1f77b4;\" x=\"71.281881\" xlink:href=\"#m1420c0126d\" y=\"142.067124\"/>\r\n     <use style=\"fill:#1f77b4;stroke:#1f77b4;\" x=\"71.884582\" xlink:href=\"#m1420c0126d\" y=\"138.04864\"/>\r\n     <use style=\"fill:#1f77b4;stroke:#1f77b4;\" x=\"72.487282\" xlink:href=\"#m1420c0126d\" y=\"114.354547\"/>\r\n     <use style=\"fill:#1f77b4;stroke:#1f77b4;\" x=\"73.089982\" xlink:href=\"#m1420c0126d\" y=\"125.489227\"/>\r\n     <use style=\"fill:#1f77b4;stroke:#1f77b4;\" x=\"73.692683\" xlink:href=\"#m1420c0126d\" y=\"158.517664\"/>\r\n     <use style=\"fill:#1f77b4;stroke:#1f77b4;\" x=\"74.295383\" xlink:href=\"#m1420c0126d\" y=\"125.774666\"/>\r\n     <use style=\"fill:#1f77b4;stroke:#1f77b4;\" x=\"74.898083\" xlink:href=\"#m1420c0126d\" y=\"136.931026\"/>\r\n     <use style=\"fill:#1f77b4;stroke:#1f77b4;\" x=\"75.500783\" xlink:href=\"#m1420c0126d\" y=\"141.547657\"/>\r\n     <use style=\"fill:#1f77b4;stroke:#1f77b4;\" x=\"76.103484\" xlink:href=\"#m1420c0126d\" y=\"121.197482\"/>\r\n     <use style=\"fill:#1f77b4;stroke:#1f77b4;\" x=\"76.706184\" xlink:href=\"#m1420c0126d\" y=\"114.535776\"/>\r\n     <use style=\"fill:#1f77b4;stroke:#1f77b4;\" x=\"77.308884\" xlink:href=\"#m1420c0126d\" y=\"116.085895\"/>\r\n     <use style=\"fill:#1f77b4;stroke:#1f77b4;\" x=\"77.911584\" xlink:href=\"#m1420c0126d\" y=\"144.21452\"/>\r\n     <use style=\"fill:#1f77b4;stroke:#1f77b4;\" x=\"78.514285\" xlink:href=\"#m1420c0126d\" y=\"135.795096\"/>\r\n     <use style=\"fill:#1f77b4;stroke:#1f77b4;\" x=\"79.116985\" xlink:href=\"#m1420c0126d\" y=\"125.577968\"/>\r\n     <use style=\"fill:#1f77b4;stroke:#1f77b4;\" x=\"79.719685\" xlink:href=\"#m1420c0126d\" y=\"115.259059\"/>\r\n     <use style=\"fill:#1f77b4;stroke:#1f77b4;\" x=\"80.322386\" xlink:href=\"#m1420c0126d\" y=\"138.549502\"/>\r\n     <use style=\"fill:#1f77b4;stroke:#1f77b4;\" x=\"80.925086\" xlink:href=\"#m1420c0126d\" y=\"133.849899\"/>\r\n     <use style=\"fill:#1f77b4;stroke:#1f77b4;\" x=\"81.527786\" xlink:href=\"#m1420c0126d\" y=\"148.674988\"/>\r\n     <use style=\"fill:#1f77b4;stroke:#1f77b4;\" x=\"82.130486\" xlink:href=\"#m1420c0126d\" y=\"150.160062\"/>\r\n     <use style=\"fill:#1f77b4;stroke:#1f77b4;\" x=\"82.733187\" xlink:href=\"#m1420c0126d\" y=\"117.7368\"/>\r\n     <use style=\"fill:#1f77b4;stroke:#1f77b4;\" x=\"83.335887\" xlink:href=\"#m1420c0126d\" y=\"108.906346\"/>\r\n     <use style=\"fill:#1f77b4;stroke:#1f77b4;\" x=\"83.938587\" xlink:href=\"#m1420c0126d\" y=\"132.035882\"/>\r\n     <use style=\"fill:#1f77b4;stroke:#1f77b4;\" x=\"84.541287\" xlink:href=\"#m1420c0126d\" y=\"114.552557\"/>\r\n     <use style=\"fill:#1f77b4;stroke:#1f77b4;\" x=\"85.143988\" xlink:href=\"#m1420c0126d\" y=\"124.976449\"/>\r\n     <use style=\"fill:#1f77b4;stroke:#1f77b4;\" x=\"85.746688\" xlink:href=\"#m1420c0126d\" y=\"141.397554\"/>\r\n     <use style=\"fill:#1f77b4;stroke:#1f77b4;\" x=\"86.349388\" xlink:href=\"#m1420c0126d\" y=\"124.956794\"/>\r\n     <use style=\"fill:#1f77b4;stroke:#1f77b4;\" x=\"86.952088\" xlink:href=\"#m1420c0126d\" y=\"105.662214\"/>\r\n     <use style=\"fill:#1f77b4;stroke:#1f77b4;\" x=\"87.554789\" xlink:href=\"#m1420c0126d\" y=\"131.455803\"/>\r\n     <use style=\"fill:#1f77b4;stroke:#1f77b4;\" x=\"88.157489\" xlink:href=\"#m1420c0126d\" y=\"105.12351\"/>\r\n     <use style=\"fill:#1f77b4;stroke:#1f77b4;\" x=\"88.760189\" xlink:href=\"#m1420c0126d\" y=\"174.057929\"/>\r\n     <use style=\"fill:#1f77b4;stroke:#1f77b4;\" x=\"89.36289\" xlink:href=\"#m1420c0126d\" y=\"117.29012\"/>\r\n     <use style=\"fill:#1f77b4;stroke:#1f77b4;\" x=\"89.96559\" xlink:href=\"#m1420c0126d\" y=\"129.426666\"/>\r\n     <use style=\"fill:#1f77b4;stroke:#1f77b4;\" x=\"90.56829\" xlink:href=\"#m1420c0126d\" y=\"135.826733\"/>\r\n     <use style=\"fill:#1f77b4;stroke:#1f77b4;\" x=\"91.17099\" xlink:href=\"#m1420c0126d\" y=\"129.34256\"/>\r\n     <use style=\"fill:#1f77b4;stroke:#1f77b4;\" x=\"91.773691\" xlink:href=\"#m1420c0126d\" y=\"163.964553\"/>\r\n     <use style=\"fill:#1f77b4;stroke:#1f77b4;\" x=\"92.376391\" xlink:href=\"#m1420c0126d\" y=\"134.53281\"/>\r\n     <use style=\"fill:#1f77b4;stroke:#1f77b4;\" x=\"92.979091\" xlink:href=\"#m1420c0126d\" y=\"124.897056\"/>\r\n     <use style=\"fill:#1f77b4;stroke:#1f77b4;\" x=\"93.581791\" xlink:href=\"#m1420c0126d\" y=\"106.109635\"/>\r\n     <use style=\"fill:#1f77b4;stroke:#1f77b4;\" x=\"94.184492\" xlink:href=\"#m1420c0126d\" y=\"139.567009\"/>\r\n     <use style=\"fill:#1f77b4;stroke:#1f77b4;\" x=\"94.787192\" xlink:href=\"#m1420c0126d\" y=\"144.465736\"/>\r\n     <use style=\"fill:#1f77b4;stroke:#1f77b4;\" x=\"95.389892\" xlink:href=\"#m1420c0126d\" y=\"139.323548\"/>\r\n     <use style=\"fill:#1f77b4;stroke:#1f77b4;\" x=\"95.992593\" xlink:href=\"#m1420c0126d\" y=\"115.409526\"/>\r\n     <use style=\"fill:#1f77b4;stroke:#1f77b4;\" x=\"96.595293\" xlink:href=\"#m1420c0126d\" y=\"125.304937\"/>\r\n     <use style=\"fill:#1f77b4;stroke:#1f77b4;\" x=\"97.197993\" xlink:href=\"#m1420c0126d\" y=\"139.849156\"/>\r\n     <use style=\"fill:#1f77b4;stroke:#1f77b4;\" x=\"97.800693\" xlink:href=\"#m1420c0126d\" y=\"122.148087\"/>\r\n     <use style=\"fill:#1f77b4;stroke:#1f77b4;\" x=\"98.403394\" xlink:href=\"#m1420c0126d\" y=\"129.215054\"/>\r\n     <use style=\"fill:#1f77b4;stroke:#1f77b4;\" x=\"99.006094\" xlink:href=\"#m1420c0126d\" y=\"114.346212\"/>\r\n     <use style=\"fill:#1f77b4;stroke:#1f77b4;\" x=\"99.608794\" xlink:href=\"#m1420c0126d\" y=\"142.865746\"/>\r\n     <use style=\"fill:#1f77b4;stroke:#1f77b4;\" x=\"100.211494\" xlink:href=\"#m1420c0126d\" y=\"136.478527\"/>\r\n     <use style=\"fill:#1f77b4;stroke:#1f77b4;\" x=\"100.814195\" xlink:href=\"#m1420c0126d\" y=\"137.595554\"/>\r\n     <use style=\"fill:#1f77b4;stroke:#1f77b4;\" x=\"101.416895\" xlink:href=\"#m1420c0126d\" y=\"156.029658\"/>\r\n     <use style=\"fill:#1f77b4;stroke:#1f77b4;\" x=\"102.019595\" xlink:href=\"#m1420c0126d\" y=\"125.766148\"/>\r\n     <use style=\"fill:#1f77b4;stroke:#1f77b4;\" x=\"102.622296\" xlink:href=\"#m1420c0126d\" y=\"126.36123\"/>\r\n     <use style=\"fill:#1f77b4;stroke:#1f77b4;\" x=\"103.224996\" xlink:href=\"#m1420c0126d\" y=\"130.779069\"/>\r\n     <use style=\"fill:#1f77b4;stroke:#1f77b4;\" x=\"103.827696\" xlink:href=\"#m1420c0126d\" y=\"134.933122\"/>\r\n     <use style=\"fill:#1f77b4;stroke:#1f77b4;\" x=\"104.430396\" xlink:href=\"#m1420c0126d\" y=\"155.446236\"/>\r\n     <use style=\"fill:#1f77b4;stroke:#1f77b4;\" x=\"105.033097\" xlink:href=\"#m1420c0126d\" y=\"138.186869\"/>\r\n     <use style=\"fill:#1f77b4;stroke:#1f77b4;\" x=\"105.635797\" xlink:href=\"#m1420c0126d\" y=\"136.842776\"/>\r\n     <use style=\"fill:#1f77b4;stroke:#1f77b4;\" x=\"106.238497\" xlink:href=\"#m1420c0126d\" y=\"144.883276\"/>\r\n     <use style=\"fill:#1f77b4;stroke:#1f77b4;\" x=\"106.841197\" xlink:href=\"#m1420c0126d\" y=\"133.690806\"/>\r\n     <use style=\"fill:#1f77b4;stroke:#1f77b4;\" x=\"107.443898\" xlink:href=\"#m1420c0126d\" y=\"123.780491\"/>\r\n     <use style=\"fill:#1f77b4;stroke:#1f77b4;\" x=\"108.046598\" xlink:href=\"#m1420c0126d\" y=\"97.717788\"/>\r\n     <use style=\"fill:#1f77b4;stroke:#1f77b4;\" x=\"108.649298\" xlink:href=\"#m1420c0126d\" y=\"127.793171\"/>\r\n     <use style=\"fill:#1f77b4;stroke:#1f77b4;\" x=\"109.251998\" xlink:href=\"#m1420c0126d\" y=\"126.32294\"/>\r\n     <use style=\"fill:#1f77b4;stroke:#1f77b4;\" x=\"109.854699\" xlink:href=\"#m1420c0126d\" y=\"132.183766\"/>\r\n     <use style=\"fill:#1f77b4;stroke:#1f77b4;\" x=\"110.457399\" xlink:href=\"#m1420c0126d\" y=\"164.860515\"/>\r\n     <use style=\"fill:#1f77b4;stroke:#1f77b4;\" x=\"111.060099\" xlink:href=\"#m1420c0126d\" y=\"131.338173\"/>\r\n     <use style=\"fill:#1f77b4;stroke:#1f77b4;\" x=\"111.6628\" xlink:href=\"#m1420c0126d\" y=\"129.7962\"/>\r\n     <use style=\"fill:#1f77b4;stroke:#1f77b4;\" x=\"112.2655\" xlink:href=\"#m1420c0126d\" y=\"86.966293\"/>\r\n     <use style=\"fill:#1f77b4;stroke:#1f77b4;\" x=\"112.8682\" xlink:href=\"#m1420c0126d\" y=\"134.30273\"/>\r\n     <use style=\"fill:#1f77b4;stroke:#1f77b4;\" x=\"113.4709\" xlink:href=\"#m1420c0126d\" y=\"125.471656\"/>\r\n     <use style=\"fill:#1f77b4;stroke:#1f77b4;\" x=\"114.073601\" xlink:href=\"#m1420c0126d\" y=\"131.489884\"/>\r\n     <use style=\"fill:#1f77b4;stroke:#1f77b4;\" x=\"114.676301\" xlink:href=\"#m1420c0126d\" y=\"151.86345\"/>\r\n     <use style=\"fill:#1f77b4;stroke:#1f77b4;\" x=\"115.279001\" xlink:href=\"#m1420c0126d\" y=\"110.295016\"/>\r\n     <use style=\"fill:#1f77b4;stroke:#1f77b4;\" x=\"115.881701\" xlink:href=\"#m1420c0126d\" y=\"117.304537\"/>\r\n     <use style=\"fill:#1f77b4;stroke:#1f77b4;\" x=\"116.484402\" xlink:href=\"#m1420c0126d\" y=\"116.570755\"/>\r\n     <use style=\"fill:#1f77b4;stroke:#1f77b4;\" x=\"117.087102\" xlink:href=\"#m1420c0126d\" y=\"147.336247\"/>\r\n     <use style=\"fill:#1f77b4;stroke:#1f77b4;\" x=\"117.689802\" xlink:href=\"#m1420c0126d\" y=\"105.41252\"/>\r\n     <use style=\"fill:#1f77b4;stroke:#1f77b4;\" x=\"118.292503\" xlink:href=\"#m1420c0126d\" y=\"156.356265\"/>\r\n     <use style=\"fill:#1f77b4;stroke:#1f77b4;\" x=\"118.895203\" xlink:href=\"#m1420c0126d\" y=\"120.175812\"/>\r\n     <use style=\"fill:#1f77b4;stroke:#1f77b4;\" x=\"119.497903\" xlink:href=\"#m1420c0126d\" y=\"90.880717\"/>\r\n     <use style=\"fill:#1f77b4;stroke:#1f77b4;\" x=\"120.100603\" xlink:href=\"#m1420c0126d\" y=\"148.985931\"/>\r\n     <use style=\"fill:#1f77b4;stroke:#1f77b4;\" x=\"120.703304\" xlink:href=\"#m1420c0126d\" y=\"141.246678\"/>\r\n     <use style=\"fill:#1f77b4;stroke:#1f77b4;\" x=\"121.306004\" xlink:href=\"#m1420c0126d\" y=\"129.037439\"/>\r\n     <use style=\"fill:#1f77b4;stroke:#1f77b4;\" x=\"121.908704\" xlink:href=\"#m1420c0126d\" y=\"140.132216\"/>\r\n     <use style=\"fill:#1f77b4;stroke:#1f77b4;\" x=\"122.511404\" xlink:href=\"#m1420c0126d\" y=\"159.459103\"/>\r\n     <use style=\"fill:#1f77b4;stroke:#1f77b4;\" x=\"123.114105\" xlink:href=\"#m1420c0126d\" y=\"129.6008\"/>\r\n     <use style=\"fill:#1f77b4;stroke:#1f77b4;\" x=\"123.716805\" xlink:href=\"#m1420c0126d\" y=\"150.533009\"/>\r\n     <use style=\"fill:#1f77b4;stroke:#1f77b4;\" x=\"124.319505\" xlink:href=\"#m1420c0126d\" y=\"122.082778\"/>\r\n     <use style=\"fill:#1f77b4;stroke:#1f77b4;\" x=\"124.922206\" xlink:href=\"#m1420c0126d\" y=\"147.956156\"/>\r\n     <use style=\"fill:#1f77b4;stroke:#1f77b4;\" x=\"125.524906\" xlink:href=\"#m1420c0126d\" y=\"102.002438\"/>\r\n     <use style=\"fill:#1f77b4;stroke:#1f77b4;\" x=\"126.127606\" xlink:href=\"#m1420c0126d\" y=\"145.483539\"/>\r\n     <use style=\"fill:#1f77b4;stroke:#1f77b4;\" x=\"126.730306\" xlink:href=\"#m1420c0126d\" y=\"136.889414\"/>\r\n     <use style=\"fill:#1f77b4;stroke:#1f77b4;\" x=\"127.333007\" xlink:href=\"#m1420c0126d\" y=\"115.625958\"/>\r\n     <use style=\"fill:#1f77b4;stroke:#1f77b4;\" x=\"127.935707\" xlink:href=\"#m1420c0126d\" y=\"153.974346\"/>\r\n     <use style=\"fill:#1f77b4;stroke:#1f77b4;\" x=\"128.538407\" xlink:href=\"#m1420c0126d\" y=\"126.588901\"/>\r\n     <use style=\"fill:#1f77b4;stroke:#1f77b4;\" x=\"129.141107\" xlink:href=\"#m1420c0126d\" y=\"106.230462\"/>\r\n     <use style=\"fill:#1f77b4;stroke:#1f77b4;\" x=\"129.743808\" xlink:href=\"#m1420c0126d\" y=\"161.225982\"/>\r\n     <use style=\"fill:#1f77b4;stroke:#1f77b4;\" x=\"130.346508\" xlink:href=\"#m1420c0126d\" y=\"127.373597\"/>\r\n     <use style=\"fill:#1f77b4;stroke:#1f77b4;\" x=\"130.949208\" xlink:href=\"#m1420c0126d\" y=\"125.939789\"/>\r\n     <use style=\"fill:#1f77b4;stroke:#1f77b4;\" x=\"131.551908\" xlink:href=\"#m1420c0126d\" y=\"116.013461\"/>\r\n     <use style=\"fill:#1f77b4;stroke:#1f77b4;\" x=\"132.154609\" xlink:href=\"#m1420c0126d\" y=\"154.415658\"/>\r\n     <use style=\"fill:#1f77b4;stroke:#1f77b4;\" x=\"132.757309\" xlink:href=\"#m1420c0126d\" y=\"156.055656\"/>\r\n     <use style=\"fill:#1f77b4;stroke:#1f77b4;\" x=\"133.360009\" xlink:href=\"#m1420c0126d\" y=\"120.891394\"/>\r\n     <use style=\"fill:#1f77b4;stroke:#1f77b4;\" x=\"133.96271\" xlink:href=\"#m1420c0126d\" y=\"125.17975\"/>\r\n     <use style=\"fill:#1f77b4;stroke:#1f77b4;\" x=\"134.56541\" xlink:href=\"#m1420c0126d\" y=\"126.060553\"/>\r\n     <use style=\"fill:#1f77b4;stroke:#1f77b4;\" x=\"135.16811\" xlink:href=\"#m1420c0126d\" y=\"124.205872\"/>\r\n     <use style=\"fill:#1f77b4;stroke:#1f77b4;\" x=\"135.77081\" xlink:href=\"#m1420c0126d\" y=\"143.969445\"/>\r\n     <use style=\"fill:#1f77b4;stroke:#1f77b4;\" x=\"136.373511\" xlink:href=\"#m1420c0126d\" y=\"126.383767\"/>\r\n     <use style=\"fill:#1f77b4;stroke:#1f77b4;\" x=\"136.976211\" xlink:href=\"#m1420c0126d\" y=\"125.198322\"/>\r\n     <use style=\"fill:#1f77b4;stroke:#1f77b4;\" x=\"137.578911\" xlink:href=\"#m1420c0126d\" y=\"144.713557\"/>\r\n     <use style=\"fill:#1f77b4;stroke:#1f77b4;\" x=\"138.181611\" xlink:href=\"#m1420c0126d\" y=\"94.631478\"/>\r\n     <use style=\"fill:#1f77b4;stroke:#1f77b4;\" x=\"138.784312\" xlink:href=\"#m1420c0126d\" y=\"121.646588\"/>\r\n     <use style=\"fill:#1f77b4;stroke:#1f77b4;\" x=\"139.387012\" xlink:href=\"#m1420c0126d\" y=\"154.096987\"/>\r\n     <use style=\"fill:#1f77b4;stroke:#1f77b4;\" x=\"139.989712\" xlink:href=\"#m1420c0126d\" y=\"118.039633\"/>\r\n     <use style=\"fill:#1f77b4;stroke:#1f77b4;\" x=\"140.592413\" xlink:href=\"#m1420c0126d\" y=\"149.949131\"/>\r\n     <use style=\"fill:#1f77b4;stroke:#1f77b4;\" x=\"141.195113\" xlink:href=\"#m1420c0126d\" y=\"115.427718\"/>\r\n     <use style=\"fill:#1f77b4;stroke:#1f77b4;\" x=\"141.797813\" xlink:href=\"#m1420c0126d\" y=\"108.094541\"/>\r\n     <use style=\"fill:#1f77b4;stroke:#1f77b4;\" x=\"142.400513\" xlink:href=\"#m1420c0126d\" y=\"147.030836\"/>\r\n     <use style=\"fill:#1f77b4;stroke:#1f77b4;\" x=\"143.003214\" xlink:href=\"#m1420c0126d\" y=\"111.855891\"/>\r\n     <use style=\"fill:#1f77b4;stroke:#1f77b4;\" x=\"143.605914\" xlink:href=\"#m1420c0126d\" y=\"122.705249\"/>\r\n     <use style=\"fill:#1f77b4;stroke:#1f77b4;\" x=\"144.208614\" xlink:href=\"#m1420c0126d\" y=\"114.579716\"/>\r\n     <use style=\"fill:#1f77b4;stroke:#1f77b4;\" x=\"144.811314\" xlink:href=\"#m1420c0126d\" y=\"93.210455\"/>\r\n     <use style=\"fill:#1f77b4;stroke:#1f77b4;\" x=\"145.414015\" xlink:href=\"#m1420c0126d\" y=\"135.74895\"/>\r\n     <use style=\"fill:#1f77b4;stroke:#1f77b4;\" x=\"146.016715\" xlink:href=\"#m1420c0126d\" y=\"145.891363\"/>\r\n     <use style=\"fill:#1f77b4;stroke:#1f77b4;\" x=\"146.619415\" xlink:href=\"#m1420c0126d\" y=\"148.633225\"/>\r\n     <use style=\"fill:#1f77b4;stroke:#1f77b4;\" x=\"147.222115\" xlink:href=\"#m1420c0126d\" y=\"147.193766\"/>\r\n     <use style=\"fill:#1f77b4;stroke:#1f77b4;\" x=\"147.824816\" xlink:href=\"#m1420c0126d\" y=\"132.413583\"/>\r\n     <use style=\"fill:#1f77b4;stroke:#1f77b4;\" x=\"148.427516\" xlink:href=\"#m1420c0126d\" y=\"124.012936\"/>\r\n     <use style=\"fill:#1f77b4;stroke:#1f77b4;\" x=\"149.030216\" xlink:href=\"#m1420c0126d\" y=\"125.297\"/>\r\n     <use style=\"fill:#1f77b4;stroke:#1f77b4;\" x=\"149.632917\" xlink:href=\"#m1420c0126d\" y=\"114.180832\"/>\r\n     <use style=\"fill:#1f77b4;stroke:#1f77b4;\" x=\"150.235617\" xlink:href=\"#m1420c0126d\" y=\"130.604703\"/>\r\n     <use style=\"fill:#1f77b4;stroke:#1f77b4;\" x=\"150.838317\" xlink:href=\"#m1420c0126d\" y=\"101.428118\"/>\r\n     <use style=\"fill:#1f77b4;stroke:#1f77b4;\" x=\"151.441017\" xlink:href=\"#m1420c0126d\" y=\"136.238505\"/>\r\n     <use style=\"fill:#1f77b4;stroke:#1f77b4;\" x=\"152.043718\" xlink:href=\"#m1420c0126d\" y=\"75.553518\"/>\r\n     <use style=\"fill:#1f77b4;stroke:#1f77b4;\" x=\"152.646418\" xlink:href=\"#m1420c0126d\" y=\"118.11927\"/>\r\n     <use style=\"fill:#1f77b4;stroke:#1f77b4;\" x=\"153.249118\" xlink:href=\"#m1420c0126d\" y=\"148.367399\"/>\r\n     <use style=\"fill:#1f77b4;stroke:#1f77b4;\" x=\"153.851818\" xlink:href=\"#m1420c0126d\" y=\"152.774777\"/>\r\n     <use style=\"fill:#1f77b4;stroke:#1f77b4;\" x=\"154.454519\" xlink:href=\"#m1420c0126d\" y=\"120.977827\"/>\r\n     <use style=\"fill:#1f77b4;stroke:#1f77b4;\" x=\"155.057219\" xlink:href=\"#m1420c0126d\" y=\"135.457198\"/>\r\n     <use style=\"fill:#1f77b4;stroke:#1f77b4;\" x=\"155.659919\" xlink:href=\"#m1420c0126d\" y=\"116.17338\"/>\r\n     <use style=\"fill:#1f77b4;stroke:#1f77b4;\" x=\"156.26262\" xlink:href=\"#m1420c0126d\" y=\"121.108803\"/>\r\n     <use style=\"fill:#1f77b4;stroke:#1f77b4;\" x=\"156.86532\" xlink:href=\"#m1420c0126d\" y=\"132.372333\"/>\r\n     <use style=\"fill:#1f77b4;stroke:#1f77b4;\" x=\"157.46802\" xlink:href=\"#m1420c0126d\" y=\"148.399302\"/>\r\n     <use style=\"fill:#1f77b4;stroke:#1f77b4;\" x=\"158.07072\" xlink:href=\"#m1420c0126d\" y=\"162.293228\"/>\r\n     <use style=\"fill:#1f77b4;stroke:#1f77b4;\" x=\"158.673421\" xlink:href=\"#m1420c0126d\" y=\"140.149053\"/>\r\n     <use style=\"fill:#1f77b4;stroke:#1f77b4;\" x=\"159.276121\" xlink:href=\"#m1420c0126d\" y=\"113.030266\"/>\r\n     <use style=\"fill:#1f77b4;stroke:#1f77b4;\" x=\"159.878821\" xlink:href=\"#m1420c0126d\" y=\"126.399407\"/>\r\n     <use style=\"fill:#1f77b4;stroke:#1f77b4;\" x=\"160.481521\" xlink:href=\"#m1420c0126d\" y=\"156.917901\"/>\r\n     <use style=\"fill:#1f77b4;stroke:#1f77b4;\" x=\"161.084222\" xlink:href=\"#m1420c0126d\" y=\"127.23878\"/>\r\n     <use style=\"fill:#1f77b4;stroke:#1f77b4;\" x=\"161.686922\" xlink:href=\"#m1420c0126d\" y=\"122.777648\"/>\r\n     <use style=\"fill:#1f77b4;stroke:#1f77b4;\" x=\"162.289622\" xlink:href=\"#m1420c0126d\" y=\"149.461503\"/>\r\n     <use style=\"fill:#1f77b4;stroke:#1f77b4;\" x=\"162.892323\" xlink:href=\"#m1420c0126d\" y=\"127.627081\"/>\r\n     <use style=\"fill:#1f77b4;stroke:#1f77b4;\" x=\"163.495023\" xlink:href=\"#m1420c0126d\" y=\"129.638054\"/>\r\n     <use style=\"fill:#1f77b4;stroke:#1f77b4;\" x=\"164.097723\" xlink:href=\"#m1420c0126d\" y=\"155.057102\"/>\r\n     <use style=\"fill:#1f77b4;stroke:#1f77b4;\" x=\"164.700423\" xlink:href=\"#m1420c0126d\" y=\"123.28023\"/>\r\n     <use style=\"fill:#1f77b4;stroke:#1f77b4;\" x=\"165.303124\" xlink:href=\"#m1420c0126d\" y=\"118.951663\"/>\r\n     <use style=\"fill:#1f77b4;stroke:#1f77b4;\" x=\"165.905824\" xlink:href=\"#m1420c0126d\" y=\"107.808235\"/>\r\n     <use style=\"fill:#1f77b4;stroke:#1f77b4;\" x=\"166.508524\" xlink:href=\"#m1420c0126d\" y=\"108.386107\"/>\r\n     <use style=\"fill:#1f77b4;stroke:#1f77b4;\" x=\"167.111224\" xlink:href=\"#m1420c0126d\" y=\"160.31696\"/>\r\n     <use style=\"fill:#1f77b4;stroke:#1f77b4;\" x=\"167.713925\" xlink:href=\"#m1420c0126d\" y=\"150.954819\"/>\r\n     <use style=\"fill:#1f77b4;stroke:#1f77b4;\" x=\"168.316625\" xlink:href=\"#m1420c0126d\" y=\"119.813892\"/>\r\n     <use style=\"fill:#1f77b4;stroke:#1f77b4;\" x=\"168.919325\" xlink:href=\"#m1420c0126d\" y=\"119.818651\"/>\r\n     <use style=\"fill:#1f77b4;stroke:#1f77b4;\" x=\"169.522025\" xlink:href=\"#m1420c0126d\" y=\"119.769366\"/>\r\n     <use style=\"fill:#1f77b4;stroke:#1f77b4;\" x=\"170.124726\" xlink:href=\"#m1420c0126d\" y=\"47.68357\"/>\r\n     <use style=\"fill:#1f77b4;stroke:#1f77b4;\" x=\"170.727426\" xlink:href=\"#m1420c0126d\" y=\"118.516821\"/>\r\n     <use style=\"fill:#1f77b4;stroke:#1f77b4;\" x=\"171.330126\" xlink:href=\"#m1420c0126d\" y=\"106.251458\"/>\r\n     <use style=\"fill:#1f77b4;stroke:#1f77b4;\" x=\"171.932827\" xlink:href=\"#m1420c0126d\" y=\"110.145922\"/>\r\n     <use style=\"fill:#1f77b4;stroke:#1f77b4;\" x=\"172.535527\" xlink:href=\"#m1420c0126d\" y=\"116.690538\"/>\r\n     <use style=\"fill:#1f77b4;stroke:#1f77b4;\" x=\"173.138227\" xlink:href=\"#m1420c0126d\" y=\"137.742802\"/>\r\n     <use style=\"fill:#1f77b4;stroke:#1f77b4;\" x=\"173.740927\" xlink:href=\"#m1420c0126d\" y=\"114.283056\"/>\r\n     <use style=\"fill:#1f77b4;stroke:#1f77b4;\" x=\"174.343628\" xlink:href=\"#m1420c0126d\" y=\"147.788515\"/>\r\n     <use style=\"fill:#1f77b4;stroke:#1f77b4;\" x=\"174.946328\" xlink:href=\"#m1420c0126d\" y=\"136.063025\"/>\r\n     <use style=\"fill:#1f77b4;stroke:#1f77b4;\" x=\"175.549028\" xlink:href=\"#m1420c0126d\" y=\"141.537095\"/>\r\n     <use style=\"fill:#1f77b4;stroke:#1f77b4;\" x=\"176.151728\" xlink:href=\"#m1420c0126d\" y=\"129.064102\"/>\r\n     <use style=\"fill:#1f77b4;stroke:#1f77b4;\" x=\"176.754429\" xlink:href=\"#m1420c0126d\" y=\"79.781427\"/>\r\n     <use style=\"fill:#1f77b4;stroke:#1f77b4;\" x=\"177.357129\" xlink:href=\"#m1420c0126d\" y=\"172.161747\"/>\r\n     <use style=\"fill:#1f77b4;stroke:#1f77b4;\" x=\"177.959829\" xlink:href=\"#m1420c0126d\" y=\"115.660639\"/>\r\n     <use style=\"fill:#1f77b4;stroke:#1f77b4;\" x=\"178.56253\" xlink:href=\"#m1420c0126d\" y=\"166.675237\"/>\r\n     <use style=\"fill:#1f77b4;stroke:#1f77b4;\" x=\"179.16523\" xlink:href=\"#m1420c0126d\" y=\"141.366947\"/>\r\n     <use style=\"fill:#1f77b4;stroke:#1f77b4;\" x=\"179.76793\" xlink:href=\"#m1420c0126d\" y=\"106.592332\"/>\r\n     <use style=\"fill:#1f77b4;stroke:#1f77b4;\" x=\"180.37063\" xlink:href=\"#m1420c0126d\" y=\"129.431699\"/>\r\n     <use style=\"fill:#1f77b4;stroke:#1f77b4;\" x=\"180.973331\" xlink:href=\"#m1420c0126d\" y=\"154.989089\"/>\r\n     <use style=\"fill:#1f77b4;stroke:#1f77b4;\" x=\"181.576031\" xlink:href=\"#m1420c0126d\" y=\"146.909123\"/>\r\n     <use style=\"fill:#1f77b4;stroke:#1f77b4;\" x=\"182.178731\" xlink:href=\"#m1420c0126d\" y=\"115.596174\"/>\r\n     <use style=\"fill:#1f77b4;stroke:#1f77b4;\" x=\"182.781431\" xlink:href=\"#m1420c0126d\" y=\"147.312511\"/>\r\n     <use style=\"fill:#1f77b4;stroke:#1f77b4;\" x=\"183.384132\" xlink:href=\"#m1420c0126d\" y=\"125.983965\"/>\r\n     <use style=\"fill:#1f77b4;stroke:#1f77b4;\" x=\"183.986832\" xlink:href=\"#m1420c0126d\" y=\"129.837305\"/>\r\n     <use style=\"fill:#1f77b4;stroke:#1f77b4;\" x=\"184.589532\" xlink:href=\"#m1420c0126d\" y=\"145.627208\"/>\r\n     <use style=\"fill:#1f77b4;stroke:#1f77b4;\" x=\"185.192233\" xlink:href=\"#m1420c0126d\" y=\"82.206936\"/>\r\n     <use style=\"fill:#1f77b4;stroke:#1f77b4;\" x=\"185.794933\" xlink:href=\"#m1420c0126d\" y=\"116.450832\"/>\r\n     <use style=\"fill:#1f77b4;stroke:#1f77b4;\" x=\"186.397633\" xlink:href=\"#m1420c0126d\" y=\"177.015721\"/>\r\n     <use style=\"fill:#1f77b4;stroke:#1f77b4;\" x=\"187.000333\" xlink:href=\"#m1420c0126d\" y=\"126.610162\"/>\r\n     <use style=\"fill:#1f77b4;stroke:#1f77b4;\" x=\"187.603034\" xlink:href=\"#m1420c0126d\" y=\"146.008443\"/>\r\n     <use style=\"fill:#1f77b4;stroke:#1f77b4;\" x=\"188.205734\" xlink:href=\"#m1420c0126d\" y=\"111.325791\"/>\r\n     <use style=\"fill:#1f77b4;stroke:#1f77b4;\" x=\"188.808434\" xlink:href=\"#m1420c0126d\" y=\"149.072097\"/>\r\n     <use style=\"fill:#1f77b4;stroke:#1f77b4;\" x=\"189.411134\" xlink:href=\"#m1420c0126d\" y=\"133.508335\"/>\r\n     <use style=\"fill:#1f77b4;stroke:#1f77b4;\" x=\"190.013835\" xlink:href=\"#m1420c0126d\" y=\"119.221266\"/>\r\n     <use style=\"fill:#1f77b4;stroke:#1f77b4;\" x=\"190.616535\" xlink:href=\"#m1420c0126d\" y=\"110.861138\"/>\r\n     <use style=\"fill:#1f77b4;stroke:#1f77b4;\" x=\"191.219235\" xlink:href=\"#m1420c0126d\" y=\"158.660135\"/>\r\n     <use style=\"fill:#1f77b4;stroke:#1f77b4;\" x=\"191.821935\" xlink:href=\"#m1420c0126d\" y=\"138.628312\"/>\r\n     <use style=\"fill:#1f77b4;stroke:#1f77b4;\" x=\"192.424636\" xlink:href=\"#m1420c0126d\" y=\"141.908809\"/>\r\n     <use style=\"fill:#1f77b4;stroke:#1f77b4;\" x=\"193.027336\" xlink:href=\"#m1420c0126d\" y=\"146.086168\"/>\r\n     <use style=\"fill:#1f77b4;stroke:#1f77b4;\" x=\"193.630036\" xlink:href=\"#m1420c0126d\" y=\"89.660763\"/>\r\n     <use style=\"fill:#1f77b4;stroke:#1f77b4;\" x=\"194.232737\" xlink:href=\"#m1420c0126d\" y=\"121.396094\"/>\r\n     <use style=\"fill:#1f77b4;stroke:#1f77b4;\" x=\"194.835437\" xlink:href=\"#m1420c0126d\" y=\"160.41513\"/>\r\n     <use style=\"fill:#1f77b4;stroke:#1f77b4;\" x=\"195.438137\" xlink:href=\"#m1420c0126d\" y=\"109.315272\"/>\r\n     <use style=\"fill:#1f77b4;stroke:#1f77b4;\" x=\"196.040837\" xlink:href=\"#m1420c0126d\" y=\"80.937678\"/>\r\n     <use style=\"fill:#1f77b4;stroke:#1f77b4;\" x=\"196.643538\" xlink:href=\"#m1420c0126d\" y=\"106.527211\"/>\r\n     <use style=\"fill:#1f77b4;stroke:#1f77b4;\" x=\"197.246238\" xlink:href=\"#m1420c0126d\" y=\"166.758199\"/>\r\n     <use style=\"fill:#1f77b4;stroke:#1f77b4;\" x=\"197.848938\" xlink:href=\"#m1420c0126d\" y=\"142.329009\"/>\r\n     <use style=\"fill:#1f77b4;stroke:#1f77b4;\" x=\"198.451638\" xlink:href=\"#m1420c0126d\" y=\"100.820602\"/>\r\n     <use style=\"fill:#1f77b4;stroke:#1f77b4;\" x=\"199.054339\" xlink:href=\"#m1420c0126d\" y=\"147.684642\"/>\r\n     <use style=\"fill:#1f77b4;stroke:#1f77b4;\" x=\"199.657039\" xlink:href=\"#m1420c0126d\" y=\"120.299449\"/>\r\n     <use style=\"fill:#1f77b4;stroke:#1f77b4;\" x=\"200.259739\" xlink:href=\"#m1420c0126d\" y=\"112.385323\"/>\r\n     <use style=\"fill:#1f77b4;stroke:#1f77b4;\" x=\"200.86244\" xlink:href=\"#m1420c0126d\" y=\"153.027613\"/>\r\n     <use style=\"fill:#1f77b4;stroke:#1f77b4;\" x=\"201.46514\" xlink:href=\"#m1420c0126d\" y=\"132.29343\"/>\r\n     <use style=\"fill:#1f77b4;stroke:#1f77b4;\" x=\"202.06784\" xlink:href=\"#m1420c0126d\" y=\"208.666663\"/>\r\n     <use style=\"fill:#1f77b4;stroke:#1f77b4;\" x=\"202.67054\" xlink:href=\"#m1420c0126d\" y=\"155.504753\"/>\r\n     <use style=\"fill:#1f77b4;stroke:#1f77b4;\" x=\"203.273241\" xlink:href=\"#m1420c0126d\" y=\"136.954103\"/>\r\n     <use style=\"fill:#1f77b4;stroke:#1f77b4;\" x=\"203.875941\" xlink:href=\"#m1420c0126d\" y=\"160.997732\"/>\r\n     <use style=\"fill:#1f77b4;stroke:#1f77b4;\" x=\"204.478641\" xlink:href=\"#m1420c0126d\" y=\"91.370843\"/>\r\n     <use style=\"fill:#1f77b4;stroke:#1f77b4;\" x=\"205.081341\" xlink:href=\"#m1420c0126d\" y=\"165.539408\"/>\r\n     <use style=\"fill:#1f77b4;stroke:#1f77b4;\" x=\"205.684042\" xlink:href=\"#m1420c0126d\" y=\"141.557149\"/>\r\n     <use style=\"fill:#1f77b4;stroke:#1f77b4;\" x=\"206.286742\" xlink:href=\"#m1420c0126d\" y=\"127.685189\"/>\r\n     <use style=\"fill:#1f77b4;stroke:#1f77b4;\" x=\"206.889442\" xlink:href=\"#m1420c0126d\" y=\"95.715669\"/>\r\n     <use style=\"fill:#1f77b4;stroke:#1f77b4;\" x=\"207.492142\" xlink:href=\"#m1420c0126d\" y=\"165.957422\"/>\r\n     <use style=\"fill:#1f77b4;stroke:#1f77b4;\" x=\"208.094843\" xlink:href=\"#m1420c0126d\" y=\"102.385015\"/>\r\n     <use style=\"fill:#1f77b4;stroke:#1f77b4;\" x=\"208.697543\" xlink:href=\"#m1420c0126d\" y=\"130.616434\"/>\r\n     <use style=\"fill:#1f77b4;stroke:#1f77b4;\" x=\"209.300243\" xlink:href=\"#m1420c0126d\" y=\"154.998039\"/>\r\n     <use style=\"fill:#1f77b4;stroke:#1f77b4;\" x=\"209.902944\" xlink:href=\"#m1420c0126d\" y=\"119.483913\"/>\r\n     <use style=\"fill:#1f77b4;stroke:#1f77b4;\" x=\"210.505644\" xlink:href=\"#m1420c0126d\" y=\"125.954008\"/>\r\n     <use style=\"fill:#1f77b4;stroke:#1f77b4;\" x=\"211.108344\" xlink:href=\"#m1420c0126d\" y=\"145.712644\"/>\r\n     <use style=\"fill:#1f77b4;stroke:#1f77b4;\" x=\"211.711044\" xlink:href=\"#m1420c0126d\" y=\"129.137649\"/>\r\n     <use style=\"fill:#1f77b4;stroke:#1f77b4;\" x=\"212.313745\" xlink:href=\"#m1420c0126d\" y=\"140.435611\"/>\r\n     <use style=\"fill:#1f77b4;stroke:#1f77b4;\" x=\"212.916445\" xlink:href=\"#m1420c0126d\" y=\"128.043015\"/>\r\n     <use style=\"fill:#1f77b4;stroke:#1f77b4;\" x=\"213.519145\" xlink:href=\"#m1420c0126d\" y=\"114.359667\"/>\r\n     <use style=\"fill:#1f77b4;stroke:#1f77b4;\" x=\"214.121845\" xlink:href=\"#m1420c0126d\" y=\"91.246806\"/>\r\n     <use style=\"fill:#1f77b4;stroke:#1f77b4;\" x=\"214.724546\" xlink:href=\"#m1420c0126d\" y=\"161.851555\"/>\r\n     <use style=\"fill:#1f77b4;stroke:#1f77b4;\" x=\"215.327246\" xlink:href=\"#m1420c0126d\" y=\"77.368284\"/>\r\n     <use style=\"fill:#1f77b4;stroke:#1f77b4;\" x=\"215.929946\" xlink:href=\"#m1420c0126d\" y=\"179.926315\"/>\r\n     <use style=\"fill:#1f77b4;stroke:#1f77b4;\" x=\"216.532647\" xlink:href=\"#m1420c0126d\" y=\"134.689722\"/>\r\n     <use style=\"fill:#1f77b4;stroke:#1f77b4;\" x=\"217.135347\" xlink:href=\"#m1420c0126d\" y=\"116.023047\"/>\r\n     <use style=\"fill:#1f77b4;stroke:#1f77b4;\" x=\"217.738047\" xlink:href=\"#m1420c0126d\" y=\"123.763324\"/>\r\n     <use style=\"fill:#1f77b4;stroke:#1f77b4;\" x=\"218.340747\" xlink:href=\"#m1420c0126d\" y=\"146.642427\"/>\r\n     <use style=\"fill:#1f77b4;stroke:#1f77b4;\" x=\"218.943448\" xlink:href=\"#m1420c0126d\" y=\"136.150441\"/>\r\n     <use style=\"fill:#1f77b4;stroke:#1f77b4;\" x=\"219.546148\" xlink:href=\"#m1420c0126d\" y=\"143.406766\"/>\r\n     <use style=\"fill:#1f77b4;stroke:#1f77b4;\" x=\"220.148848\" xlink:href=\"#m1420c0126d\" y=\"145.887716\"/>\r\n     <use style=\"fill:#1f77b4;stroke:#1f77b4;\" x=\"220.751548\" xlink:href=\"#m1420c0126d\" y=\"109.171749\"/>\r\n     <use style=\"fill:#1f77b4;stroke:#1f77b4;\" x=\"221.354249\" xlink:href=\"#m1420c0126d\" y=\"121.732395\"/>\r\n     <use style=\"fill:#1f77b4;stroke:#1f77b4;\" x=\"221.956949\" xlink:href=\"#m1420c0126d\" y=\"148.632765\"/>\r\n     <use style=\"fill:#1f77b4;stroke:#1f77b4;\" x=\"222.559649\" xlink:href=\"#m1420c0126d\" y=\"107.756876\"/>\r\n     <use style=\"fill:#1f77b4;stroke:#1f77b4;\" x=\"223.16235\" xlink:href=\"#m1420c0126d\" y=\"122.957228\"/>\r\n     <use style=\"fill:#1f77b4;stroke:#1f77b4;\" x=\"223.76505\" xlink:href=\"#m1420c0126d\" y=\"109.901548\"/>\r\n     <use style=\"fill:#1f77b4;stroke:#1f77b4;\" x=\"224.36775\" xlink:href=\"#m1420c0126d\" y=\"114.595162\"/>\r\n     <use style=\"fill:#1f77b4;stroke:#1f77b4;\" x=\"224.97045\" xlink:href=\"#m1420c0126d\" y=\"152.335204\"/>\r\n     <use style=\"fill:#1f77b4;stroke:#1f77b4;\" x=\"225.573151\" xlink:href=\"#m1420c0126d\" y=\"145.402998\"/>\r\n     <use style=\"fill:#1f77b4;stroke:#1f77b4;\" x=\"226.175851\" xlink:href=\"#m1420c0126d\" y=\"111.43808\"/>\r\n     <use style=\"fill:#1f77b4;stroke:#1f77b4;\" x=\"226.778551\" xlink:href=\"#m1420c0126d\" y=\"114.966311\"/>\r\n     <use style=\"fill:#1f77b4;stroke:#1f77b4;\" x=\"227.381251\" xlink:href=\"#m1420c0126d\" y=\"131.413125\"/>\r\n     <use style=\"fill:#1f77b4;stroke:#1f77b4;\" x=\"227.983952\" xlink:href=\"#m1420c0126d\" y=\"127.798693\"/>\r\n     <use style=\"fill:#1f77b4;stroke:#1f77b4;\" x=\"228.586652\" xlink:href=\"#m1420c0126d\" y=\"97.382019\"/>\r\n     <use style=\"fill:#1f77b4;stroke:#1f77b4;\" x=\"229.189352\" xlink:href=\"#m1420c0126d\" y=\"146.402634\"/>\r\n     <use style=\"fill:#1f77b4;stroke:#1f77b4;\" x=\"229.792052\" xlink:href=\"#m1420c0126d\" y=\"116.47158\"/>\r\n     <use style=\"fill:#1f77b4;stroke:#1f77b4;\" x=\"230.394753\" xlink:href=\"#m1420c0126d\" y=\"136.198508\"/>\r\n     <use style=\"fill:#1f77b4;stroke:#1f77b4;\" x=\"230.997453\" xlink:href=\"#m1420c0126d\" y=\"136.618357\"/>\r\n     <use style=\"fill:#1f77b4;stroke:#1f77b4;\" x=\"231.600153\" xlink:href=\"#m1420c0126d\" y=\"101.781255\"/>\r\n     <use style=\"fill:#1f77b4;stroke:#1f77b4;\" x=\"232.202854\" xlink:href=\"#m1420c0126d\" y=\"108.973814\"/>\r\n     <use style=\"fill:#1f77b4;stroke:#1f77b4;\" x=\"232.805554\" xlink:href=\"#m1420c0126d\" y=\"109.246477\"/>\r\n     <use style=\"fill:#1f77b4;stroke:#1f77b4;\" x=\"233.408254\" xlink:href=\"#m1420c0126d\" y=\"96.101784\"/>\r\n     <use style=\"fill:#1f77b4;stroke:#1f77b4;\" x=\"234.010954\" xlink:href=\"#m1420c0126d\" y=\"130.307049\"/>\r\n     <use style=\"fill:#1f77b4;stroke:#1f77b4;\" x=\"234.613655\" xlink:href=\"#m1420c0126d\" y=\"112.633956\"/>\r\n     <use style=\"fill:#1f77b4;stroke:#1f77b4;\" x=\"235.216355\" xlink:href=\"#m1420c0126d\" y=\"139.179788\"/>\r\n     <use style=\"fill:#1f77b4;stroke:#1f77b4;\" x=\"235.819055\" xlink:href=\"#m1420c0126d\" y=\"122.165488\"/>\r\n     <use style=\"fill:#1f77b4;stroke:#1f77b4;\" x=\"236.421755\" xlink:href=\"#m1420c0126d\" y=\"134.368102\"/>\r\n     <use style=\"fill:#1f77b4;stroke:#1f77b4;\" x=\"237.024456\" xlink:href=\"#m1420c0126d\" y=\"128.253297\"/>\r\n     <use style=\"fill:#1f77b4;stroke:#1f77b4;\" x=\"237.627156\" xlink:href=\"#m1420c0126d\" y=\"114.794876\"/>\r\n     <use style=\"fill:#1f77b4;stroke:#1f77b4;\" x=\"238.229856\" xlink:href=\"#m1420c0126d\" y=\"153.008335\"/>\r\n     <use style=\"fill:#1f77b4;stroke:#1f77b4;\" x=\"238.832557\" xlink:href=\"#m1420c0126d\" y=\"74.134861\"/>\r\n     <use style=\"fill:#1f77b4;stroke:#1f77b4;\" x=\"239.435257\" xlink:href=\"#m1420c0126d\" y=\"158.19906\"/>\r\n     <use style=\"fill:#1f77b4;stroke:#1f77b4;\" x=\"240.037957\" xlink:href=\"#m1420c0126d\" y=\"163.920644\"/>\r\n     <use style=\"fill:#1f77b4;stroke:#1f77b4;\" x=\"240.640657\" xlink:href=\"#m1420c0126d\" y=\"99.277899\"/>\r\n     <use style=\"fill:#1f77b4;stroke:#1f77b4;\" x=\"241.243358\" xlink:href=\"#m1420c0126d\" y=\"109.230262\"/>\r\n     <use style=\"fill:#1f77b4;stroke:#1f77b4;\" x=\"241.846058\" xlink:href=\"#m1420c0126d\" y=\"113.775328\"/>\r\n     <use style=\"fill:#1f77b4;stroke:#1f77b4;\" x=\"242.448758\" xlink:href=\"#m1420c0126d\" y=\"113.625187\"/>\r\n     <use style=\"fill:#1f77b4;stroke:#1f77b4;\" x=\"243.051458\" xlink:href=\"#m1420c0126d\" y=\"131.204247\"/>\r\n     <use style=\"fill:#1f77b4;stroke:#1f77b4;\" x=\"243.654159\" xlink:href=\"#m1420c0126d\" y=\"155.587507\"/>\r\n     <use style=\"fill:#1f77b4;stroke:#1f77b4;\" x=\"244.256859\" xlink:href=\"#m1420c0126d\" y=\"128.774867\"/>\r\n     <use style=\"fill:#1f77b4;stroke:#1f77b4;\" x=\"244.859559\" xlink:href=\"#m1420c0126d\" y=\"149.598498\"/>\r\n     <use style=\"fill:#1f77b4;stroke:#1f77b4;\" x=\"245.46226\" xlink:href=\"#m1420c0126d\" y=\"103.840759\"/>\r\n     <use style=\"fill:#1f77b4;stroke:#1f77b4;\" x=\"246.06496\" xlink:href=\"#m1420c0126d\" y=\"134.951558\"/>\r\n     <use style=\"fill:#1f77b4;stroke:#1f77b4;\" x=\"246.66766\" xlink:href=\"#m1420c0126d\" y=\"153.838888\"/>\r\n     <use style=\"fill:#1f77b4;stroke:#1f77b4;\" x=\"247.27036\" xlink:href=\"#m1420c0126d\" y=\"139.828706\"/>\r\n     <use style=\"fill:#1f77b4;stroke:#1f77b4;\" x=\"247.873061\" xlink:href=\"#m1420c0126d\" y=\"119.330728\"/>\r\n     <use style=\"fill:#1f77b4;stroke:#1f77b4;\" x=\"248.475761\" xlink:href=\"#m1420c0126d\" y=\"146.648767\"/>\r\n     <use style=\"fill:#1f77b4;stroke:#1f77b4;\" x=\"249.078461\" xlink:href=\"#m1420c0126d\" y=\"153.931295\"/>\r\n     <use style=\"fill:#1f77b4;stroke:#1f77b4;\" x=\"249.681161\" xlink:href=\"#m1420c0126d\" y=\"124.018267\"/>\r\n     <use style=\"fill:#1f77b4;stroke:#1f77b4;\" x=\"250.283862\" xlink:href=\"#m1420c0126d\" y=\"123.968538\"/>\r\n     <use style=\"fill:#1f77b4;stroke:#1f77b4;\" x=\"250.886562\" xlink:href=\"#m1420c0126d\" y=\"145.173068\"/>\r\n     <use style=\"fill:#1f77b4;stroke:#1f77b4;\" x=\"251.489262\" xlink:href=\"#m1420c0126d\" y=\"144.186445\"/>\r\n     <use style=\"fill:#1f77b4;stroke:#1f77b4;\" x=\"252.091962\" xlink:href=\"#m1420c0126d\" y=\"124.293019\"/>\r\n     <use style=\"fill:#1f77b4;stroke:#1f77b4;\" x=\"252.694663\" xlink:href=\"#m1420c0126d\" y=\"171.977038\"/>\r\n     <use style=\"fill:#1f77b4;stroke:#1f77b4;\" x=\"253.297363\" xlink:href=\"#m1420c0126d\" y=\"170.903778\"/>\r\n     <use style=\"fill:#1f77b4;stroke:#1f77b4;\" x=\"253.900063\" xlink:href=\"#m1420c0126d\" y=\"151.345021\"/>\r\n     <use style=\"fill:#1f77b4;stroke:#1f77b4;\" x=\"254.502764\" xlink:href=\"#m1420c0126d\" y=\"136.963473\"/>\r\n     <use style=\"fill:#1f77b4;stroke:#1f77b4;\" x=\"255.105464\" xlink:href=\"#m1420c0126d\" y=\"121.970366\"/>\r\n     <use style=\"fill:#1f77b4;stroke:#1f77b4;\" x=\"255.708164\" xlink:href=\"#m1420c0126d\" y=\"88.563253\"/>\r\n     <use style=\"fill:#1f77b4;stroke:#1f77b4;\" x=\"256.310864\" xlink:href=\"#m1420c0126d\" y=\"106.225856\"/>\r\n     <use style=\"fill:#1f77b4;stroke:#1f77b4;\" x=\"256.913565\" xlink:href=\"#m1420c0126d\" y=\"135.471942\"/>\r\n     <use style=\"fill:#1f77b4;stroke:#1f77b4;\" x=\"257.516265\" xlink:href=\"#m1420c0126d\" y=\"131.41606\"/>\r\n     <use style=\"fill:#1f77b4;stroke:#1f77b4;\" x=\"258.118965\" xlink:href=\"#m1420c0126d\" y=\"159.844632\"/>\r\n     <use style=\"fill:#1f77b4;stroke:#1f77b4;\" x=\"258.721665\" xlink:href=\"#m1420c0126d\" y=\"131.403687\"/>\r\n     <use style=\"fill:#1f77b4;stroke:#1f77b4;\" x=\"259.324366\" xlink:href=\"#m1420c0126d\" y=\"139.244312\"/>\r\n     <use style=\"fill:#1f77b4;stroke:#1f77b4;\" x=\"259.927066\" xlink:href=\"#m1420c0126d\" y=\"121.483573\"/>\r\n     <use style=\"fill:#1f77b4;stroke:#1f77b4;\" x=\"260.529766\" xlink:href=\"#m1420c0126d\" y=\"154.969661\"/>\r\n     <use style=\"fill:#1f77b4;stroke:#1f77b4;\" x=\"261.132467\" xlink:href=\"#m1420c0126d\" y=\"115.705602\"/>\r\n     <use style=\"fill:#1f77b4;stroke:#1f77b4;\" x=\"261.735167\" xlink:href=\"#m1420c0126d\" y=\"86.030919\"/>\r\n     <use style=\"fill:#1f77b4;stroke:#1f77b4;\" x=\"262.337867\" xlink:href=\"#m1420c0126d\" y=\"134.055393\"/>\r\n     <use style=\"fill:#1f77b4;stroke:#1f77b4;\" x=\"262.940567\" xlink:href=\"#m1420c0126d\" y=\"119.06935\"/>\r\n     <use style=\"fill:#1f77b4;stroke:#1f77b4;\" x=\"263.543268\" xlink:href=\"#m1420c0126d\" y=\"110.557635\"/>\r\n     <use style=\"fill:#1f77b4;stroke:#1f77b4;\" x=\"264.145968\" xlink:href=\"#m1420c0126d\" y=\"142.69843\"/>\r\n     <use style=\"fill:#1f77b4;stroke:#1f77b4;\" x=\"264.748668\" xlink:href=\"#m1420c0126d\" y=\"124.24641\"/>\r\n     <use style=\"fill:#1f77b4;stroke:#1f77b4;\" x=\"265.351368\" xlink:href=\"#m1420c0126d\" y=\"130.49471\"/>\r\n     <use style=\"fill:#1f77b4;stroke:#1f77b4;\" x=\"265.954069\" xlink:href=\"#m1420c0126d\" y=\"127.969991\"/>\r\n     <use style=\"fill:#1f77b4;stroke:#1f77b4;\" x=\"266.556769\" xlink:href=\"#m1420c0126d\" y=\"153.8444\"/>\r\n     <use style=\"fill:#1f77b4;stroke:#1f77b4;\" x=\"267.159469\" xlink:href=\"#m1420c0126d\" y=\"130.137517\"/>\r\n     <use style=\"fill:#1f77b4;stroke:#1f77b4;\" x=\"267.762169\" xlink:href=\"#m1420c0126d\" y=\"116.005778\"/>\r\n     <use style=\"fill:#1f77b4;stroke:#1f77b4;\" x=\"268.36487\" xlink:href=\"#m1420c0126d\" y=\"87.474505\"/>\r\n     <use style=\"fill:#1f77b4;stroke:#1f77b4;\" x=\"268.96757\" xlink:href=\"#m1420c0126d\" y=\"102.125424\"/>\r\n     <use style=\"fill:#1f77b4;stroke:#1f77b4;\" x=\"269.57027\" xlink:href=\"#m1420c0126d\" y=\"66.223897\"/>\r\n     <use style=\"fill:#1f77b4;stroke:#1f77b4;\" x=\"270.172971\" xlink:href=\"#m1420c0126d\" y=\"153.951172\"/>\r\n     <use style=\"fill:#1f77b4;stroke:#1f77b4;\" x=\"270.775671\" xlink:href=\"#m1420c0126d\" y=\"104.573529\"/>\r\n     <use style=\"fill:#1f77b4;stroke:#1f77b4;\" x=\"271.378371\" xlink:href=\"#m1420c0126d\" y=\"125.330061\"/>\r\n     <use style=\"fill:#1f77b4;stroke:#1f77b4;\" x=\"271.981071\" xlink:href=\"#m1420c0126d\" y=\"64.596939\"/>\r\n     <use style=\"fill:#1f77b4;stroke:#1f77b4;\" x=\"272.583772\" xlink:href=\"#m1420c0126d\" y=\"155.378177\"/>\r\n     <use style=\"fill:#1f77b4;stroke:#1f77b4;\" x=\"273.186472\" xlink:href=\"#m1420c0126d\" y=\"156.381985\"/>\r\n     <use style=\"fill:#1f77b4;stroke:#1f77b4;\" x=\"273.789172\" xlink:href=\"#m1420c0126d\" y=\"149.116143\"/>\r\n     <use style=\"fill:#1f77b4;stroke:#1f77b4;\" x=\"274.391872\" xlink:href=\"#m1420c0126d\" y=\"195.659272\"/>\r\n     <use style=\"fill:#1f77b4;stroke:#1f77b4;\" x=\"274.994573\" xlink:href=\"#m1420c0126d\" y=\"146.938322\"/>\r\n     <use style=\"fill:#1f77b4;stroke:#1f77b4;\" x=\"275.597273\" xlink:href=\"#m1420c0126d\" y=\"154.118409\"/>\r\n     <use style=\"fill:#1f77b4;stroke:#1f77b4;\" x=\"276.199973\" xlink:href=\"#m1420c0126d\" y=\"126.252004\"/>\r\n     <use style=\"fill:#1f77b4;stroke:#1f77b4;\" x=\"276.802674\" xlink:href=\"#m1420c0126d\" y=\"120.358218\"/>\r\n     <use style=\"fill:#1f77b4;stroke:#1f77b4;\" x=\"277.405374\" xlink:href=\"#m1420c0126d\" y=\"73.058231\"/>\r\n     <use style=\"fill:#1f77b4;stroke:#1f77b4;\" x=\"278.008074\" xlink:href=\"#m1420c0126d\" y=\"101.524127\"/>\r\n     <use style=\"fill:#1f77b4;stroke:#1f77b4;\" x=\"278.610774\" xlink:href=\"#m1420c0126d\" y=\"148.71446\"/>\r\n     <use style=\"fill:#1f77b4;stroke:#1f77b4;\" x=\"279.213475\" xlink:href=\"#m1420c0126d\" y=\"158.71623\"/>\r\n     <use style=\"fill:#1f77b4;stroke:#1f77b4;\" x=\"279.816175\" xlink:href=\"#m1420c0126d\" y=\"115.588693\"/>\r\n     <use style=\"fill:#1f77b4;stroke:#1f77b4;\" x=\"280.418875\" xlink:href=\"#m1420c0126d\" y=\"171.955461\"/>\r\n     <use style=\"fill:#1f77b4;stroke:#1f77b4;\" x=\"281.021575\" xlink:href=\"#m1420c0126d\" y=\"73.755343\"/>\r\n     <use style=\"fill:#1f77b4;stroke:#1f77b4;\" x=\"281.624276\" xlink:href=\"#m1420c0126d\" y=\"94.014319\"/>\r\n     <use style=\"fill:#1f77b4;stroke:#1f77b4;\" x=\"282.226976\" xlink:href=\"#m1420c0126d\" y=\"145.556858\"/>\r\n     <use style=\"fill:#1f77b4;stroke:#1f77b4;\" x=\"282.829676\" xlink:href=\"#m1420c0126d\" y=\"184.611038\"/>\r\n     <use style=\"fill:#1f77b4;stroke:#1f77b4;\" x=\"283.432377\" xlink:href=\"#m1420c0126d\" y=\"88.309619\"/>\r\n     <use style=\"fill:#1f77b4;stroke:#1f77b4;\" x=\"284.035077\" xlink:href=\"#m1420c0126d\" y=\"134.475182\"/>\r\n     <use style=\"fill:#1f77b4;stroke:#1f77b4;\" x=\"284.637777\" xlink:href=\"#m1420c0126d\" y=\"91.801953\"/>\r\n     <use style=\"fill:#1f77b4;stroke:#1f77b4;\" x=\"285.240477\" xlink:href=\"#m1420c0126d\" y=\"181.288389\"/>\r\n     <use style=\"fill:#1f77b4;stroke:#1f77b4;\" x=\"285.843178\" xlink:href=\"#m1420c0126d\" y=\"149.859567\"/>\r\n     <use style=\"fill:#1f77b4;stroke:#1f77b4;\" x=\"286.445878\" xlink:href=\"#m1420c0126d\" y=\"130.701026\"/>\r\n     <use style=\"fill:#1f77b4;stroke:#1f77b4;\" x=\"287.048578\" xlink:href=\"#m1420c0126d\" y=\"129.372905\"/>\r\n     <use style=\"fill:#1f77b4;stroke:#1f77b4;\" x=\"287.651278\" xlink:href=\"#m1420c0126d\" y=\"145.214217\"/>\r\n     <use style=\"fill:#1f77b4;stroke:#1f77b4;\" x=\"288.253979\" xlink:href=\"#m1420c0126d\" y=\"110.973262\"/>\r\n     <use style=\"fill:#1f77b4;stroke:#1f77b4;\" x=\"288.856679\" xlink:href=\"#m1420c0126d\" y=\"165.036238\"/>\r\n     <use style=\"fill:#1f77b4;stroke:#1f77b4;\" x=\"289.459379\" xlink:href=\"#m1420c0126d\" y=\"135.43342\"/>\r\n     <use style=\"fill:#1f77b4;stroke:#1f77b4;\" x=\"290.062079\" xlink:href=\"#m1420c0126d\" y=\"127.002088\"/>\r\n     <use style=\"fill:#1f77b4;stroke:#1f77b4;\" x=\"290.66478\" xlink:href=\"#m1420c0126d\" y=\"114.304139\"/>\r\n     <use style=\"fill:#1f77b4;stroke:#1f77b4;\" x=\"291.26748\" xlink:href=\"#m1420c0126d\" y=\"107.909843\"/>\r\n     <use style=\"fill:#1f77b4;stroke:#1f77b4;\" x=\"291.87018\" xlink:href=\"#m1420c0126d\" y=\"167.222571\"/>\r\n     <use style=\"fill:#1f77b4;stroke:#1f77b4;\" x=\"292.472881\" xlink:href=\"#m1420c0126d\" y=\"180.558304\"/>\r\n     <use style=\"fill:#1f77b4;stroke:#1f77b4;\" x=\"293.075581\" xlink:href=\"#m1420c0126d\" y=\"89.400098\"/>\r\n     <use style=\"fill:#1f77b4;stroke:#1f77b4;\" x=\"293.678281\" xlink:href=\"#m1420c0126d\" y=\"120.060583\"/>\r\n     <use style=\"fill:#1f77b4;stroke:#1f77b4;\" x=\"294.280981\" xlink:href=\"#m1420c0126d\" y=\"155.257153\"/>\r\n     <use style=\"fill:#1f77b4;stroke:#1f77b4;\" x=\"294.883682\" xlink:href=\"#m1420c0126d\" y=\"80.22171\"/>\r\n     <use style=\"fill:#1f77b4;stroke:#1f77b4;\" x=\"295.486382\" xlink:href=\"#m1420c0126d\" y=\"127.083131\"/>\r\n     <use style=\"fill:#1f77b4;stroke:#1f77b4;\" x=\"296.089082\" xlink:href=\"#m1420c0126d\" y=\"92.208762\"/>\r\n     <use style=\"fill:#1f77b4;stroke:#1f77b4;\" x=\"296.691782\" xlink:href=\"#m1420c0126d\" y=\"128.649751\"/>\r\n     <use style=\"fill:#1f77b4;stroke:#1f77b4;\" x=\"297.294483\" xlink:href=\"#m1420c0126d\" y=\"63.043283\"/>\r\n     <use style=\"fill:#1f77b4;stroke:#1f77b4;\" x=\"297.897183\" xlink:href=\"#m1420c0126d\" y=\"72.979428\"/>\r\n     <use style=\"fill:#1f77b4;stroke:#1f77b4;\" x=\"298.499883\" xlink:href=\"#m1420c0126d\" y=\"139.094338\"/>\r\n     <use style=\"fill:#1f77b4;stroke:#1f77b4;\" x=\"299.102584\" xlink:href=\"#m1420c0126d\" y=\"98.698504\"/>\r\n     <use style=\"fill:#1f77b4;stroke:#1f77b4;\" x=\"299.705284\" xlink:href=\"#m1420c0126d\" y=\"109.456182\"/>\r\n     <use style=\"fill:#1f77b4;stroke:#1f77b4;\" x=\"300.307984\" xlink:href=\"#m1420c0126d\" y=\"85.370262\"/>\r\n     <use style=\"fill:#1f77b4;stroke:#1f77b4;\" x=\"300.910684\" xlink:href=\"#m1420c0126d\" y=\"163.008499\"/>\r\n     <use style=\"fill:#1f77b4;stroke:#1f77b4;\" x=\"301.513385\" xlink:href=\"#m1420c0126d\" y=\"107.969872\"/>\r\n     <use style=\"fill:#1f77b4;stroke:#1f77b4;\" x=\"302.116085\" xlink:href=\"#m1420c0126d\" y=\"95.470904\"/>\r\n     <use style=\"fill:#1f77b4;stroke:#1f77b4;\" x=\"302.718785\" xlink:href=\"#m1420c0126d\" y=\"189.802204\"/>\r\n     <use style=\"fill:#1f77b4;stroke:#1f77b4;\" x=\"303.321485\" xlink:href=\"#m1420c0126d\" y=\"170.597356\"/>\r\n     <use style=\"fill:#1f77b4;stroke:#1f77b4;\" x=\"303.924186\" xlink:href=\"#m1420c0126d\" y=\"199.475016\"/>\r\n     <use style=\"fill:#1f77b4;stroke:#1f77b4;\" x=\"304.526886\" xlink:href=\"#m1420c0126d\" y=\"139.949508\"/>\r\n     <use style=\"fill:#1f77b4;stroke:#1f77b4;\" x=\"305.129586\" xlink:href=\"#m1420c0126d\" y=\"106.630011\"/>\r\n     <use style=\"fill:#1f77b4;stroke:#1f77b4;\" x=\"305.732287\" xlink:href=\"#m1420c0126d\" y=\"80.018648\"/>\r\n     <use style=\"fill:#1f77b4;stroke:#1f77b4;\" x=\"306.334987\" xlink:href=\"#m1420c0126d\" y=\"128.354681\"/>\r\n     <use style=\"fill:#1f77b4;stroke:#1f77b4;\" x=\"306.937687\" xlink:href=\"#m1420c0126d\" y=\"75.524586\"/>\r\n     <use style=\"fill:#1f77b4;stroke:#1f77b4;\" x=\"307.540387\" xlink:href=\"#m1420c0126d\" y=\"177.859335\"/>\r\n     <use style=\"fill:#1f77b4;stroke:#1f77b4;\" x=\"308.143088\" xlink:href=\"#m1420c0126d\" y=\"188.982903\"/>\r\n     <use style=\"fill:#1f77b4;stroke:#1f77b4;\" x=\"308.745788\" xlink:href=\"#m1420c0126d\" y=\"132.76646\"/>\r\n     <use style=\"fill:#1f77b4;stroke:#1f77b4;\" x=\"309.348488\" xlink:href=\"#m1420c0126d\" y=\"117.71164\"/>\r\n     <use style=\"fill:#1f77b4;stroke:#1f77b4;\" x=\"309.951188\" xlink:href=\"#m1420c0126d\" y=\"131.989687\"/>\r\n     <use style=\"fill:#1f77b4;stroke:#1f77b4;\" x=\"310.553889\" xlink:href=\"#m1420c0126d\" y=\"201.969744\"/>\r\n     <use style=\"fill:#1f77b4;stroke:#1f77b4;\" x=\"311.156589\" xlink:href=\"#m1420c0126d\" y=\"133.938606\"/>\r\n     <use style=\"fill:#1f77b4;stroke:#1f77b4;\" x=\"311.759289\" xlink:href=\"#m1420c0126d\" y=\"175.909677\"/>\r\n     <use style=\"fill:#1f77b4;stroke:#1f77b4;\" x=\"312.361989\" xlink:href=\"#m1420c0126d\" y=\"107.698073\"/>\r\n     <use style=\"fill:#1f77b4;stroke:#1f77b4;\" x=\"312.96469\" xlink:href=\"#m1420c0126d\" y=\"118.15852\"/>\r\n     <use style=\"fill:#1f77b4;stroke:#1f77b4;\" x=\"313.56739\" xlink:href=\"#m1420c0126d\" y=\"163.515829\"/>\r\n     <use style=\"fill:#1f77b4;stroke:#1f77b4;\" x=\"314.17009\" xlink:href=\"#m1420c0126d\" y=\"148.753251\"/>\r\n     <use style=\"fill:#1f77b4;stroke:#1f77b4;\" x=\"314.772791\" xlink:href=\"#m1420c0126d\" y=\"167.80841\"/>\r\n     <use style=\"fill:#1f77b4;stroke:#1f77b4;\" x=\"315.375491\" xlink:href=\"#m1420c0126d\" y=\"133.057867\"/>\r\n     <use style=\"fill:#1f77b4;stroke:#1f77b4;\" x=\"315.978191\" xlink:href=\"#m1420c0126d\" y=\"97.422801\"/>\r\n     <use style=\"fill:#1f77b4;stroke:#1f77b4;\" x=\"316.580891\" xlink:href=\"#m1420c0126d\" y=\"165.452158\"/>\r\n     <use style=\"fill:#1f77b4;stroke:#1f77b4;\" x=\"317.183592\" xlink:href=\"#m1420c0126d\" y=\"113.147443\"/>\r\n     <use style=\"fill:#1f77b4;stroke:#1f77b4;\" x=\"317.786292\" xlink:href=\"#m1420c0126d\" y=\"149.546333\"/>\r\n     <use style=\"fill:#1f77b4;stroke:#1f77b4;\" x=\"318.388992\" xlink:href=\"#m1420c0126d\" y=\"158.853059\"/>\r\n     <use style=\"fill:#1f77b4;stroke:#1f77b4;\" x=\"318.991692\" xlink:href=\"#m1420c0126d\" y=\"134.652854\"/>\r\n     <use style=\"fill:#1f77b4;stroke:#1f77b4;\" x=\"319.594393\" xlink:href=\"#m1420c0126d\" y=\"167.554134\"/>\r\n     <use style=\"fill:#1f77b4;stroke:#1f77b4;\" x=\"320.197093\" xlink:href=\"#m1420c0126d\" y=\"150.526819\"/>\r\n     <use style=\"fill:#1f77b4;stroke:#1f77b4;\" x=\"320.799793\" xlink:href=\"#m1420c0126d\" y=\"173.487537\"/>\r\n     <use style=\"fill:#1f77b4;stroke:#1f77b4;\" x=\"321.402494\" xlink:href=\"#m1420c0126d\" y=\"60.823558\"/>\r\n     <use style=\"fill:#1f77b4;stroke:#1f77b4;\" x=\"322.005194\" xlink:href=\"#m1420c0126d\" y=\"129.607826\"/>\r\n     <use style=\"fill:#1f77b4;stroke:#1f77b4;\" x=\"322.607894\" xlink:href=\"#m1420c0126d\" y=\"155.913146\"/>\r\n     <use style=\"fill:#1f77b4;stroke:#1f77b4;\" x=\"323.210594\" xlink:href=\"#m1420c0126d\" y=\"123.193102\"/>\r\n     <use style=\"fill:#1f77b4;stroke:#1f77b4;\" x=\"323.813295\" xlink:href=\"#m1420c0126d\" y=\"134.904227\"/>\r\n     <use style=\"fill:#1f77b4;stroke:#1f77b4;\" x=\"324.415995\" xlink:href=\"#m1420c0126d\" y=\"138.824341\"/>\r\n     <use style=\"fill:#1f77b4;stroke:#1f77b4;\" x=\"325.018695\" xlink:href=\"#m1420c0126d\" y=\"108.707936\"/>\r\n     <use style=\"fill:#1f77b4;stroke:#1f77b4;\" x=\"325.621395\" xlink:href=\"#m1420c0126d\" y=\"103.481427\"/>\r\n     <use style=\"fill:#1f77b4;stroke:#1f77b4;\" x=\"326.224096\" xlink:href=\"#m1420c0126d\" y=\"150.085016\"/>\r\n     <use style=\"fill:#1f77b4;stroke:#1f77b4;\" x=\"326.826796\" xlink:href=\"#m1420c0126d\" y=\"151.768355\"/>\r\n     <use style=\"fill:#1f77b4;stroke:#1f77b4;\" x=\"327.429496\" xlink:href=\"#m1420c0126d\" y=\"140.871207\"/>\r\n     <use style=\"fill:#1f77b4;stroke:#1f77b4;\" x=\"328.032197\" xlink:href=\"#m1420c0126d\" y=\"214.756364\"/>\r\n     <use style=\"fill:#1f77b4;stroke:#1f77b4;\" x=\"328.634897\" xlink:href=\"#m1420c0126d\" y=\"186.196016\"/>\r\n     <use style=\"fill:#1f77b4;stroke:#1f77b4;\" x=\"329.237597\" xlink:href=\"#m1420c0126d\" y=\"80.8551\"/>\r\n     <use style=\"fill:#1f77b4;stroke:#1f77b4;\" x=\"329.840297\" xlink:href=\"#m1420c0126d\" y=\"70.559594\"/>\r\n     <use style=\"fill:#1f77b4;stroke:#1f77b4;\" x=\"330.442998\" xlink:href=\"#m1420c0126d\" y=\"140.01595\"/>\r\n     <use style=\"fill:#1f77b4;stroke:#1f77b4;\" x=\"331.045698\" xlink:href=\"#m1420c0126d\" y=\"109.645106\"/>\r\n     <use style=\"fill:#1f77b4;stroke:#1f77b4;\" x=\"331.648398\" xlink:href=\"#m1420c0126d\" y=\"119.387835\"/>\r\n     <use style=\"fill:#1f77b4;stroke:#1f77b4;\" x=\"332.251098\" xlink:href=\"#m1420c0126d\" y=\"17.083636\"/>\r\n     <use style=\"fill:#1f77b4;stroke:#1f77b4;\" x=\"332.853799\" xlink:href=\"#m1420c0126d\" y=\"89.409477\"/>\r\n     <use style=\"fill:#1f77b4;stroke:#1f77b4;\" x=\"333.456499\" xlink:href=\"#m1420c0126d\" y=\"135.613795\"/>\r\n     <use style=\"fill:#1f77b4;stroke:#1f77b4;\" x=\"334.059199\" xlink:href=\"#m1420c0126d\" y=\"166.393004\"/>\r\n     <use style=\"fill:#1f77b4;stroke:#1f77b4;\" x=\"334.661899\" xlink:href=\"#m1420c0126d\" y=\"190.712111\"/>\r\n     <use style=\"fill:#1f77b4;stroke:#1f77b4;\" x=\"335.2646\" xlink:href=\"#m1420c0126d\" y=\"123.272767\"/>\r\n     <use style=\"fill:#1f77b4;stroke:#1f77b4;\" x=\"335.8673\" xlink:href=\"#m1420c0126d\" y=\"159.156501\"/>\r\n     <use style=\"fill:#1f77b4;stroke:#1f77b4;\" x=\"336.47\" xlink:href=\"#m1420c0126d\" y=\"184.168957\"/>\r\n     <use style=\"fill:#1f77b4;stroke:#1f77b4;\" x=\"337.072701\" xlink:href=\"#m1420c0126d\" y=\"155.147425\"/>\r\n     <use style=\"fill:#1f77b4;stroke:#1f77b4;\" x=\"337.675401\" xlink:href=\"#m1420c0126d\" y=\"171.562709\"/>\r\n     <use style=\"fill:#1f77b4;stroke:#1f77b4;\" x=\"338.278101\" xlink:href=\"#m1420c0126d\" y=\"67.2588\"/>\r\n     <use style=\"fill:#1f77b4;stroke:#1f77b4;\" x=\"338.880801\" xlink:href=\"#m1420c0126d\" y=\"97.5614\"/>\r\n     <use style=\"fill:#1f77b4;stroke:#1f77b4;\" x=\"339.483502\" xlink:href=\"#m1420c0126d\" y=\"131.169301\"/>\r\n     <use style=\"fill:#1f77b4;stroke:#1f77b4;\" x=\"340.086202\" xlink:href=\"#m1420c0126d\" y=\"74.735121\"/>\r\n     <use style=\"fill:#1f77b4;stroke:#1f77b4;\" x=\"340.688902\" xlink:href=\"#m1420c0126d\" y=\"127.927163\"/>\r\n     <use style=\"fill:#1f77b4;stroke:#1f77b4;\" x=\"341.291602\" xlink:href=\"#m1420c0126d\" y=\"163.665724\"/>\r\n     <use style=\"fill:#1f77b4;stroke:#1f77b4;\" x=\"341.894303\" xlink:href=\"#m1420c0126d\" y=\"72.750046\"/>\r\n     <use style=\"fill:#1f77b4;stroke:#1f77b4;\" x=\"342.497003\" xlink:href=\"#m1420c0126d\" y=\"110.26333\"/>\r\n     <use style=\"fill:#1f77b4;stroke:#1f77b4;\" x=\"343.099703\" xlink:href=\"#m1420c0126d\" y=\"170.603927\"/>\r\n     <use style=\"fill:#1f77b4;stroke:#1f77b4;\" x=\"343.702404\" xlink:href=\"#m1420c0126d\" y=\"138.173882\"/>\r\n     <use style=\"fill:#1f77b4;stroke:#1f77b4;\" x=\"344.305104\" xlink:href=\"#m1420c0126d\" y=\"164.54635\"/>\r\n     <use style=\"fill:#1f77b4;stroke:#1f77b4;\" x=\"344.907804\" xlink:href=\"#m1420c0126d\" y=\"184.160405\"/>\r\n     <use style=\"fill:#1f77b4;stroke:#1f77b4;\" x=\"345.510504\" xlink:href=\"#m1420c0126d\" y=\"95.101381\"/>\r\n     <use style=\"fill:#1f77b4;stroke:#1f77b4;\" x=\"346.113205\" xlink:href=\"#m1420c0126d\" y=\"56.984236\"/>\r\n     <use style=\"fill:#1f77b4;stroke:#1f77b4;\" x=\"346.715905\" xlink:href=\"#m1420c0126d\" y=\"185.092146\"/>\r\n     <use style=\"fill:#1f77b4;stroke:#1f77b4;\" x=\"347.318605\" xlink:href=\"#m1420c0126d\" y=\"108.996668\"/>\r\n     <use style=\"fill:#1f77b4;stroke:#1f77b4;\" x=\"347.921305\" xlink:href=\"#m1420c0126d\" y=\"156.194941\"/>\r\n     <use style=\"fill:#1f77b4;stroke:#1f77b4;\" x=\"348.524006\" xlink:href=\"#m1420c0126d\" y=\"149.867666\"/>\r\n    </g>\r\n   </g>\r\n   <g id=\"matplotlib.axis_1\">\r\n    <g id=\"xtick_1\">\r\n     <g id=\"line2d_1\">\r\n      <defs>\r\n       <path d=\"M 0 0 \r\nL 0 3.5 \r\n\" id=\"m341e48cdd4\" style=\"stroke:#000000;stroke-width:0.8;\"/>\r\n      </defs>\r\n      <g>\r\n       <use style=\"stroke:#000000;stroke-width:0.8;\" x=\"44.160369\" xlink:href=\"#m341e48cdd4\" y=\"224.64\"/>\r\n      </g>\r\n     </g>\r\n     <g id=\"text_1\">\r\n      <!-- 0 -->\r\n      <g transform=\"translate(40.979119 239.238437)scale(0.1 -0.1)\">\r\n       <defs>\r\n        <path d=\"M 31.78125 66.40625 \r\nQ 24.171875 66.40625 20.328125 58.90625 \r\nQ 16.5 51.421875 16.5 36.375 \r\nQ 16.5 21.390625 20.328125 13.890625 \r\nQ 24.171875 6.390625 31.78125 6.390625 \r\nQ 39.453125 6.390625 43.28125 13.890625 \r\nQ 47.125 21.390625 47.125 36.375 \r\nQ 47.125 51.421875 43.28125 58.90625 \r\nQ 39.453125 66.40625 31.78125 66.40625 \r\nz\r\nM 31.78125 74.21875 \r\nQ 44.046875 74.21875 50.515625 64.515625 \r\nQ 56.984375 54.828125 56.984375 36.375 \r\nQ 56.984375 17.96875 50.515625 8.265625 \r\nQ 44.046875 -1.421875 31.78125 -1.421875 \r\nQ 19.53125 -1.421875 13.0625 8.265625 \r\nQ 6.59375 17.96875 6.59375 36.375 \r\nQ 6.59375 54.828125 13.0625 64.515625 \r\nQ 19.53125 74.21875 31.78125 74.21875 \r\nz\r\n\" id=\"DejaVuSans-48\"/>\r\n       </defs>\r\n       <use xlink:href=\"#DejaVuSans-48\"/>\r\n      </g>\r\n     </g>\r\n    </g>\r\n    <g id=\"xtick_2\">\r\n     <g id=\"line2d_2\">\r\n      <g>\r\n       <use style=\"stroke:#000000;stroke-width:0.8;\" x=\"104.430396\" xlink:href=\"#m341e48cdd4\" y=\"224.64\"/>\r\n      </g>\r\n     </g>\r\n     <g id=\"text_2\">\r\n      <!-- 100 -->\r\n      <g transform=\"translate(94.886646 239.238437)scale(0.1 -0.1)\">\r\n       <defs>\r\n        <path d=\"M 12.40625 8.296875 \r\nL 28.515625 8.296875 \r\nL 28.515625 63.921875 \r\nL 10.984375 60.40625 \r\nL 10.984375 69.390625 \r\nL 28.421875 72.90625 \r\nL 38.28125 72.90625 \r\nL 38.28125 8.296875 \r\nL 54.390625 8.296875 \r\nL 54.390625 0 \r\nL 12.40625 0 \r\nz\r\n\" id=\"DejaVuSans-49\"/>\r\n       </defs>\r\n       <use xlink:href=\"#DejaVuSans-49\"/>\r\n       <use x=\"63.623047\" xlink:href=\"#DejaVuSans-48\"/>\r\n       <use x=\"127.246094\" xlink:href=\"#DejaVuSans-48\"/>\r\n      </g>\r\n     </g>\r\n    </g>\r\n    <g id=\"xtick_3\">\r\n     <g id=\"line2d_3\">\r\n      <g>\r\n       <use style=\"stroke:#000000;stroke-width:0.8;\" x=\"164.700423\" xlink:href=\"#m341e48cdd4\" y=\"224.64\"/>\r\n      </g>\r\n     </g>\r\n     <g id=\"text_3\">\r\n      <!-- 200 -->\r\n      <g transform=\"translate(155.156673 239.238437)scale(0.1 -0.1)\">\r\n       <defs>\r\n        <path d=\"M 19.1875 8.296875 \r\nL 53.609375 8.296875 \r\nL 53.609375 0 \r\nL 7.328125 0 \r\nL 7.328125 8.296875 \r\nQ 12.9375 14.109375 22.625 23.890625 \r\nQ 32.328125 33.6875 34.8125 36.53125 \r\nQ 39.546875 41.84375 41.421875 45.53125 \r\nQ 43.3125 49.21875 43.3125 52.78125 \r\nQ 43.3125 58.59375 39.234375 62.25 \r\nQ 35.15625 65.921875 28.609375 65.921875 \r\nQ 23.96875 65.921875 18.8125 64.3125 \r\nQ 13.671875 62.703125 7.8125 59.421875 \r\nL 7.8125 69.390625 \r\nQ 13.765625 71.78125 18.9375 73 \r\nQ 24.125 74.21875 28.421875 74.21875 \r\nQ 39.75 74.21875 46.484375 68.546875 \r\nQ 53.21875 62.890625 53.21875 53.421875 \r\nQ 53.21875 48.921875 51.53125 44.890625 \r\nQ 49.859375 40.875 45.40625 35.40625 \r\nQ 44.1875 33.984375 37.640625 27.21875 \r\nQ 31.109375 20.453125 19.1875 8.296875 \r\nz\r\n\" id=\"DejaVuSans-50\"/>\r\n       </defs>\r\n       <use xlink:href=\"#DejaVuSans-50\"/>\r\n       <use x=\"63.623047\" xlink:href=\"#DejaVuSans-48\"/>\r\n       <use x=\"127.246094\" xlink:href=\"#DejaVuSans-48\"/>\r\n      </g>\r\n     </g>\r\n    </g>\r\n    <g id=\"xtick_4\">\r\n     <g id=\"line2d_4\">\r\n      <g>\r\n       <use style=\"stroke:#000000;stroke-width:0.8;\" x=\"224.97045\" xlink:href=\"#m341e48cdd4\" y=\"224.64\"/>\r\n      </g>\r\n     </g>\r\n     <g id=\"text_4\">\r\n      <!-- 300 -->\r\n      <g transform=\"translate(215.4267 239.238437)scale(0.1 -0.1)\">\r\n       <defs>\r\n        <path d=\"M 40.578125 39.3125 \r\nQ 47.65625 37.796875 51.625 33 \r\nQ 55.609375 28.21875 55.609375 21.1875 \r\nQ 55.609375 10.40625 48.1875 4.484375 \r\nQ 40.765625 -1.421875 27.09375 -1.421875 \r\nQ 22.515625 -1.421875 17.65625 -0.515625 \r\nQ 12.796875 0.390625 7.625 2.203125 \r\nL 7.625 11.71875 \r\nQ 11.71875 9.328125 16.59375 8.109375 \r\nQ 21.484375 6.890625 26.8125 6.890625 \r\nQ 36.078125 6.890625 40.9375 10.546875 \r\nQ 45.796875 14.203125 45.796875 21.1875 \r\nQ 45.796875 27.640625 41.28125 31.265625 \r\nQ 36.765625 34.90625 28.71875 34.90625 \r\nL 20.21875 34.90625 \r\nL 20.21875 43.015625 \r\nL 29.109375 43.015625 \r\nQ 36.375 43.015625 40.234375 45.921875 \r\nQ 44.09375 48.828125 44.09375 54.296875 \r\nQ 44.09375 59.90625 40.109375 62.90625 \r\nQ 36.140625 65.921875 28.71875 65.921875 \r\nQ 24.65625 65.921875 20.015625 65.03125 \r\nQ 15.375 64.15625 9.8125 62.3125 \r\nL 9.8125 71.09375 \r\nQ 15.4375 72.65625 20.34375 73.4375 \r\nQ 25.25 74.21875 29.59375 74.21875 \r\nQ 40.828125 74.21875 47.359375 69.109375 \r\nQ 53.90625 64.015625 53.90625 55.328125 \r\nQ 53.90625 49.265625 50.4375 45.09375 \r\nQ 46.96875 40.921875 40.578125 39.3125 \r\nz\r\n\" id=\"DejaVuSans-51\"/>\r\n       </defs>\r\n       <use xlink:href=\"#DejaVuSans-51\"/>\r\n       <use x=\"63.623047\" xlink:href=\"#DejaVuSans-48\"/>\r\n       <use x=\"127.246094\" xlink:href=\"#DejaVuSans-48\"/>\r\n      </g>\r\n     </g>\r\n    </g>\r\n    <g id=\"xtick_5\">\r\n     <g id=\"line2d_5\">\r\n      <g>\r\n       <use style=\"stroke:#000000;stroke-width:0.8;\" x=\"285.240477\" xlink:href=\"#m341e48cdd4\" y=\"224.64\"/>\r\n      </g>\r\n     </g>\r\n     <g id=\"text_5\">\r\n      <!-- 400 -->\r\n      <g transform=\"translate(275.696727 239.238437)scale(0.1 -0.1)\">\r\n       <defs>\r\n        <path d=\"M 37.796875 64.3125 \r\nL 12.890625 25.390625 \r\nL 37.796875 25.390625 \r\nz\r\nM 35.203125 72.90625 \r\nL 47.609375 72.90625 \r\nL 47.609375 25.390625 \r\nL 58.015625 25.390625 \r\nL 58.015625 17.1875 \r\nL 47.609375 17.1875 \r\nL 47.609375 0 \r\nL 37.796875 0 \r\nL 37.796875 17.1875 \r\nL 4.890625 17.1875 \r\nL 4.890625 26.703125 \r\nz\r\n\" id=\"DejaVuSans-52\"/>\r\n       </defs>\r\n       <use xlink:href=\"#DejaVuSans-52\"/>\r\n       <use x=\"63.623047\" xlink:href=\"#DejaVuSans-48\"/>\r\n       <use x=\"127.246094\" xlink:href=\"#DejaVuSans-48\"/>\r\n      </g>\r\n     </g>\r\n    </g>\r\n    <g id=\"xtick_6\">\r\n     <g id=\"line2d_6\">\r\n      <g>\r\n       <use style=\"stroke:#000000;stroke-width:0.8;\" x=\"345.510504\" xlink:href=\"#m341e48cdd4\" y=\"224.64\"/>\r\n      </g>\r\n     </g>\r\n     <g id=\"text_6\">\r\n      <!-- 500 -->\r\n      <g transform=\"translate(335.966754 239.238437)scale(0.1 -0.1)\">\r\n       <defs>\r\n        <path d=\"M 10.796875 72.90625 \r\nL 49.515625 72.90625 \r\nL 49.515625 64.59375 \r\nL 19.828125 64.59375 \r\nL 19.828125 46.734375 \r\nQ 21.96875 47.46875 24.109375 47.828125 \r\nQ 26.265625 48.1875 28.421875 48.1875 \r\nQ 40.625 48.1875 47.75 41.5 \r\nQ 54.890625 34.8125 54.890625 23.390625 \r\nQ 54.890625 11.625 47.5625 5.09375 \r\nQ 40.234375 -1.421875 26.90625 -1.421875 \r\nQ 22.3125 -1.421875 17.546875 -0.640625 \r\nQ 12.796875 0.140625 7.71875 1.703125 \r\nL 7.71875 11.625 \r\nQ 12.109375 9.234375 16.796875 8.0625 \r\nQ 21.484375 6.890625 26.703125 6.890625 \r\nQ 35.15625 6.890625 40.078125 11.328125 \r\nQ 45.015625 15.765625 45.015625 23.390625 \r\nQ 45.015625 31 40.078125 35.4375 \r\nQ 35.15625 39.890625 26.703125 39.890625 \r\nQ 22.75 39.890625 18.8125 39.015625 \r\nQ 14.890625 38.140625 10.796875 36.28125 \r\nz\r\n\" id=\"DejaVuSans-53\"/>\r\n       </defs>\r\n       <use xlink:href=\"#DejaVuSans-53\"/>\r\n       <use x=\"63.623047\" xlink:href=\"#DejaVuSans-48\"/>\r\n       <use x=\"127.246094\" xlink:href=\"#DejaVuSans-48\"/>\r\n      </g>\r\n     </g>\r\n    </g>\r\n   </g>\r\n   <g id=\"matplotlib.axis_2\">\r\n    <g id=\"ytick_1\">\r\n     <g id=\"line2d_7\">\r\n      <defs>\r\n       <path d=\"M 0 0 \r\nL -3.5 0 \r\n\" id=\"m07c68bf9f1\" style=\"stroke:#000000;stroke-width:0.8;\"/>\r\n      </defs>\r\n      <g>\r\n       <use style=\"stroke:#000000;stroke-width:0.8;\" x=\"28.942188\" xlink:href=\"#m07c68bf9f1\" y=\"216.190924\"/>\r\n      </g>\r\n     </g>\r\n     <g id=\"text_7\">\r\n      <!-- −6 -->\r\n      <g transform=\"translate(7.2 219.990142)scale(0.1 -0.1)\">\r\n       <defs>\r\n        <path d=\"M 10.59375 35.5 \r\nL 73.1875 35.5 \r\nL 73.1875 27.203125 \r\nL 10.59375 27.203125 \r\nz\r\n\" id=\"DejaVuSans-8722\"/>\r\n        <path d=\"M 33.015625 40.375 \r\nQ 26.375 40.375 22.484375 35.828125 \r\nQ 18.609375 31.296875 18.609375 23.390625 \r\nQ 18.609375 15.53125 22.484375 10.953125 \r\nQ 26.375 6.390625 33.015625 6.390625 \r\nQ 39.65625 6.390625 43.53125 10.953125 \r\nQ 47.40625 15.53125 47.40625 23.390625 \r\nQ 47.40625 31.296875 43.53125 35.828125 \r\nQ 39.65625 40.375 33.015625 40.375 \r\nz\r\nM 52.59375 71.296875 \r\nL 52.59375 62.3125 \r\nQ 48.875 64.0625 45.09375 64.984375 \r\nQ 41.3125 65.921875 37.59375 65.921875 \r\nQ 27.828125 65.921875 22.671875 59.328125 \r\nQ 17.53125 52.734375 16.796875 39.40625 \r\nQ 19.671875 43.65625 24.015625 45.921875 \r\nQ 28.375 48.1875 33.59375 48.1875 \r\nQ 44.578125 48.1875 50.953125 41.515625 \r\nQ 57.328125 34.859375 57.328125 23.390625 \r\nQ 57.328125 12.15625 50.6875 5.359375 \r\nQ 44.046875 -1.421875 33.015625 -1.421875 \r\nQ 20.359375 -1.421875 13.671875 8.265625 \r\nQ 6.984375 17.96875 6.984375 36.375 \r\nQ 6.984375 53.65625 15.1875 63.9375 \r\nQ 23.390625 74.21875 37.203125 74.21875 \r\nQ 40.921875 74.21875 44.703125 73.484375 \r\nQ 48.484375 72.75 52.59375 71.296875 \r\nz\r\n\" id=\"DejaVuSans-54\"/>\r\n       </defs>\r\n       <use xlink:href=\"#DejaVuSans-8722\"/>\r\n       <use x=\"83.789062\" xlink:href=\"#DejaVuSans-54\"/>\r\n      </g>\r\n     </g>\r\n    </g>\r\n    <g id=\"ytick_2\">\r\n     <g id=\"line2d_8\">\r\n      <g>\r\n       <use style=\"stroke:#000000;stroke-width:0.8;\" x=\"28.942188\" xlink:href=\"#m07c68bf9f1\" y=\"187.749787\"/>\r\n      </g>\r\n     </g>\r\n     <g id=\"text_8\">\r\n      <!-- −4 -->\r\n      <g transform=\"translate(7.2 191.549005)scale(0.1 -0.1)\">\r\n       <use xlink:href=\"#DejaVuSans-8722\"/>\r\n       <use x=\"83.789062\" xlink:href=\"#DejaVuSans-52\"/>\r\n      </g>\r\n     </g>\r\n    </g>\r\n    <g id=\"ytick_3\">\r\n     <g id=\"line2d_9\">\r\n      <g>\r\n       <use style=\"stroke:#000000;stroke-width:0.8;\" x=\"28.942188\" xlink:href=\"#m07c68bf9f1\" y=\"159.30865\"/>\r\n      </g>\r\n     </g>\r\n     <g id=\"text_9\">\r\n      <!-- −2 -->\r\n      <g transform=\"translate(7.2 163.107869)scale(0.1 -0.1)\">\r\n       <use xlink:href=\"#DejaVuSans-8722\"/>\r\n       <use x=\"83.789062\" xlink:href=\"#DejaVuSans-50\"/>\r\n      </g>\r\n     </g>\r\n    </g>\r\n    <g id=\"ytick_4\">\r\n     <g id=\"line2d_10\">\r\n      <g>\r\n       <use style=\"stroke:#000000;stroke-width:0.8;\" x=\"28.942188\" xlink:href=\"#m07c68bf9f1\" y=\"130.867513\"/>\r\n      </g>\r\n     </g>\r\n     <g id=\"text_10\">\r\n      <!-- 0 -->\r\n      <g transform=\"translate(15.579688 134.666732)scale(0.1 -0.1)\">\r\n       <use xlink:href=\"#DejaVuSans-48\"/>\r\n      </g>\r\n     </g>\r\n    </g>\r\n    <g id=\"ytick_5\">\r\n     <g id=\"line2d_11\">\r\n      <g>\r\n       <use style=\"stroke:#000000;stroke-width:0.8;\" x=\"28.942188\" xlink:href=\"#m07c68bf9f1\" y=\"102.426376\"/>\r\n      </g>\r\n     </g>\r\n     <g id=\"text_11\">\r\n      <!-- 2 -->\r\n      <g transform=\"translate(15.579688 106.225595)scale(0.1 -0.1)\">\r\n       <use xlink:href=\"#DejaVuSans-50\"/>\r\n      </g>\r\n     </g>\r\n    </g>\r\n    <g id=\"ytick_6\">\r\n     <g id=\"line2d_12\">\r\n      <g>\r\n       <use style=\"stroke:#000000;stroke-width:0.8;\" x=\"28.942188\" xlink:href=\"#m07c68bf9f1\" y=\"73.985239\"/>\r\n      </g>\r\n     </g>\r\n     <g id=\"text_12\">\r\n      <!-- 4 -->\r\n      <g transform=\"translate(15.579688 77.784458)scale(0.1 -0.1)\">\r\n       <use xlink:href=\"#DejaVuSans-52\"/>\r\n      </g>\r\n     </g>\r\n    </g>\r\n    <g id=\"ytick_7\">\r\n     <g id=\"line2d_13\">\r\n      <g>\r\n       <use style=\"stroke:#000000;stroke-width:0.8;\" x=\"28.942188\" xlink:href=\"#m07c68bf9f1\" y=\"45.544102\"/>\r\n      </g>\r\n     </g>\r\n     <g id=\"text_13\">\r\n      <!-- 6 -->\r\n      <g transform=\"translate(15.579688 49.343321)scale(0.1 -0.1)\">\r\n       <use xlink:href=\"#DejaVuSans-54\"/>\r\n      </g>\r\n     </g>\r\n    </g>\r\n    <g id=\"ytick_8\">\r\n     <g id=\"line2d_14\">\r\n      <g>\r\n       <use style=\"stroke:#000000;stroke-width:0.8;\" x=\"28.942188\" xlink:href=\"#m07c68bf9f1\" y=\"17.102965\"/>\r\n      </g>\r\n     </g>\r\n     <g id=\"text_14\">\r\n      <!-- 8 -->\r\n      <g transform=\"translate(15.579688 20.902184)scale(0.1 -0.1)\">\r\n       <defs>\r\n        <path d=\"M 31.78125 34.625 \r\nQ 24.75 34.625 20.71875 30.859375 \r\nQ 16.703125 27.09375 16.703125 20.515625 \r\nQ 16.703125 13.921875 20.71875 10.15625 \r\nQ 24.75 6.390625 31.78125 6.390625 \r\nQ 38.8125 6.390625 42.859375 10.171875 \r\nQ 46.921875 13.96875 46.921875 20.515625 \r\nQ 46.921875 27.09375 42.890625 30.859375 \r\nQ 38.875 34.625 31.78125 34.625 \r\nz\r\nM 21.921875 38.8125 \r\nQ 15.578125 40.375 12.03125 44.71875 \r\nQ 8.5 49.078125 8.5 55.328125 \r\nQ 8.5 64.0625 14.71875 69.140625 \r\nQ 20.953125 74.21875 31.78125 74.21875 \r\nQ 42.671875 74.21875 48.875 69.140625 \r\nQ 55.078125 64.0625 55.078125 55.328125 \r\nQ 55.078125 49.078125 51.53125 44.71875 \r\nQ 48 40.375 41.703125 38.8125 \r\nQ 48.828125 37.15625 52.796875 32.3125 \r\nQ 56.78125 27.484375 56.78125 20.515625 \r\nQ 56.78125 9.90625 50.3125 4.234375 \r\nQ 43.84375 -1.421875 31.78125 -1.421875 \r\nQ 19.734375 -1.421875 13.25 4.234375 \r\nQ 6.78125 9.90625 6.78125 20.515625 \r\nQ 6.78125 27.484375 10.78125 32.3125 \r\nQ 14.796875 37.15625 21.921875 38.8125 \r\nz\r\nM 18.3125 54.390625 \r\nQ 18.3125 48.734375 21.84375 45.5625 \r\nQ 25.390625 42.390625 31.78125 42.390625 \r\nQ 38.140625 42.390625 41.71875 45.5625 \r\nQ 45.3125 48.734375 45.3125 54.390625 \r\nQ 45.3125 60.0625 41.71875 63.234375 \r\nQ 38.140625 66.40625 31.78125 66.40625 \r\nQ 25.390625 66.40625 21.84375 63.234375 \r\nQ 18.3125 60.0625 18.3125 54.390625 \r\nz\r\n\" id=\"DejaVuSans-56\"/>\r\n       </defs>\r\n       <use xlink:href=\"#DejaVuSans-56\"/>\r\n      </g>\r\n     </g>\r\n    </g>\r\n   </g>\r\n   <g id=\"patch_3\">\r\n    <path d=\"M 28.942188 224.64 \r\nL 28.942188 7.2 \r\n\" style=\"fill:none;stroke:#000000;stroke-linecap:square;stroke-linejoin:miter;stroke-width:0.8;\"/>\r\n   </g>\r\n   <g id=\"patch_4\">\r\n    <path d=\"M 363.742188 224.64 \r\nL 363.742188 7.2 \r\n\" style=\"fill:none;stroke:#000000;stroke-linecap:square;stroke-linejoin:miter;stroke-width:0.8;\"/>\r\n   </g>\r\n   <g id=\"patch_5\">\r\n    <path d=\"M 28.942188 224.64 \r\nL 363.742188 224.64 \r\n\" style=\"fill:none;stroke:#000000;stroke-linecap:square;stroke-linejoin:miter;stroke-width:0.8;\"/>\r\n   </g>\r\n   <g id=\"patch_6\">\r\n    <path d=\"M 28.942188 7.2 \r\nL 363.742188 7.2 \r\n\" style=\"fill:none;stroke:#000000;stroke-linecap:square;stroke-linejoin:miter;stroke-width:0.8;\"/>\r\n   </g>\r\n  </g>\r\n </g>\r\n <defs>\r\n  <clipPath id=\"pb2aaef629c\">\r\n   <rect height=\"217.44\" width=\"334.8\" x=\"28.942188\" y=\"7.2\"/>\r\n  </clipPath>\r\n </defs>\r\n</svg>\r\n",
      "image/png": "[encoded data removed]"
     },
     "metadata": {
      "needs_background": "light"
     }
    }
   ],
   "source": [
    "plt.scatter(np.arange(N),hetero_noise)"
   ]
  },
  {
   "cell_type": "code",
   "execution_count": 116,
   "metadata": {},
   "outputs": [
    {
     "output_type": "execute_result",
     "data": {
      "text/plain": "(506,)"
     },
     "metadata": {},
     "execution_count": 116
    }
   ],
   "source": [
    "hetero_noise.shape"
   ]
  },
  {
   "cell_type": "code",
   "execution_count": 124,
   "metadata": {},
   "outputs": [
    {
     "output_type": "execute_result",
     "data": {
      "text/plain": "0.514276959678893"
     },
     "metadata": {},
     "execution_count": 124
    }
   ],
   "source": [
    "y_with_noise = np.array(y).reshape(506) + hetero_noise\n",
    "# Fit\n",
    "LR.fit(X[['CRIM', 'RM']],y_with_noise)\n",
    "# Predict\n",
    "y_pred = LR.predict(X[['CRIM', 'RM']])\n",
    "r2_score(y_with_noise, y_pred)"
   ]
  },
  {
   "source": [
    "## Задание 7.3.5\n",
    "В каком случае R2 (доля объясненной дисперсии) получается лучше? Ответ: Для белого шума"
   ],
   "cell_type": "markdown",
   "metadata": {}
  },
  {
   "source": [
    "## Задание 7.3.6\n",
    "Сгенерируйте вектор гетероскедастичного шума аналогично разобранному примеру с параметром alpha = 0.998 и добавьте к исходным значениям целевой переменной. Обучите модель и найдите R2 (долю объясненной дисперсии)."
   ],
   "cell_type": "markdown",
   "metadata": {}
  },
  {
   "cell_type": "code",
   "execution_count": 132,
   "metadata": {},
   "outputs": [
    {
     "output_type": "execute_result",
     "data": {
      "text/plain": "0.5372516885216415"
     },
     "metadata": {},
     "execution_count": 132
    }
   ],
   "source": [
    "noise = white_noise(N = y.shape[0], mu = 0, sigma = 1)\n",
    "hetero_noise  = hetero_eps(alpha = 0.998, eps = noise)\n",
    "\n",
    "y_with_noise = np.array(y).reshape(506) + hetero_noise\n",
    "# Fit\n",
    "LR.fit(X[['CRIM', 'RM']],y_with_noise)\n",
    "# Predict\n",
    "y_pred = LR.predict(X[['CRIM', 'RM']])\n",
    "r2_score(y_with_noise, y_pred)"
   ]
  },
  {
   "source": [
    "## Задание 7.3.6\n",
    "В каком случае  (доля объясненной дисперсии) получается лучше?"
   ],
   "cell_type": "markdown",
   "metadata": {}
  },
  {
   "cell_type": "code",
   "execution_count": 135,
   "metadata": {},
   "outputs": [
    {
     "output_type": "execute_result",
     "data": {
      "text/plain": "0.5317591780870768"
     },
     "metadata": {},
     "execution_count": 135
    }
   ],
   "source": [
    "noise = white_noise(N = y.shape[0], mu = 0, sigma = 1)\n",
    "\n",
    "y_with_noise = np.array(y).reshape(506) + noise\n",
    "# Fit\n",
    "LR.fit(X[['CRIM', 'RM']],y_with_noise)\n",
    "# Predict\n",
    "y_pred = LR.predict(X[['CRIM', 'RM']])\n",
    "r2_score(y_with_noise, y_pred)\n"
   ]
  },
  {
   "source": [
    "## Задание 7.3.7\n",
    "В каком случае R2 (доля объясненной дисперсии) получается лучше? Ответ: Для гетероскедастичного шума с параметром alpha = 0.988"
   ],
   "cell_type": "markdown",
   "metadata": {}
  },
  {
   "source": [
    "## Дополнительные материалы\n",
    "[Оценка результатов линейной регрессии](https://habr.com/ru/post/195146/ 'Habr')"
   ],
   "cell_type": "markdown",
   "metadata": {}
  },
  {
   "source": [
    "# 7.4. Предсказание и объяснение\n",
    "Регрессионный анализ решает две основные задачи:\n",
    "\n",
    "- Задача предсказания состоит в том, чтобы по имеющимся данным предсказать целевую переменную для нового наблюдения.\n",
    "- Задача объяснения отвечает на вопрос, какие признаки для объяснения целевой переменной значимы.\n",
    "\n",
    "И решаются эти задачи по-разному!"
   ],
   "cell_type": "markdown",
   "metadata": {}
  },
  {
   "source": [
    "## Задание 7.4.1\n",
    "В каких задачах необходимо решать задачу прогнозирования?\n",
    "- Хотим понять, как будут вести себя акции Google в ближайшие 3 дня\n",
    "    - Хотим понять, что влияет на рост популярности Ольги Бузовой в Instagram\n",
    "    - Хотим понять, есть ли расовая дискриминация в карьерном росте сотрудников компании\n",
    "- Хотим понять, какой будет скорость ветра на чемпионате Европы по виндсерфингу"
   ],
   "cell_type": "markdown",
   "metadata": {}
  },
  {
   "source": [
    "## Дополнительные материалы\n",
    "[Подробнее о скользящем среднем и другим методах сглаживания ряда](https://habr.com/ru/company/ods/blog/327242/ 'Открытый курс машинного обучения. Тема 9. Анализ временных рядов с помощью Python')"
   ],
   "cell_type": "markdown",
   "metadata": {}
  },
  {
   "source": [
    "# 7.5. Скользящее среднее\n",
    "Напомним, что временной ряд — это измерения одной и той же случайной величины в разные моменты времени.\n",
    "\n",
    "При этом в идеальном случае соблюдаются условия:\n",
    "- шаг по времени для всей базовой линии одинаков;\n",
    "- наблюдения фиксируются в один и тот же момент каждого временного отрезка (например, в полдень каждого дня, первого числа каждого месяца);\n",
    "- нет пропусков в данных.\n",
    "\n",
    "Что мы хотим делать с временными рядами?\n",
    "- Во-первых, выявлять закономерности развития.\n",
    "- Во-вторых, оценивать, насколько хорошо выявлена закономерность.\n",
    "- В-третьих, делать прогнозы на будущее, то есть экстраполировать."
   ],
   "cell_type": "markdown",
   "metadata": {}
  },
  {
   "source": [
    "## CКОЛЬЗЯЩЕЕ СРЕДНЕЕ\n",
    "Интуитивно понятный способ превратить непонятную «пилу» в график, на котором можно что-то увидеть — это скользящее среднее или Moving Average (MA). Проще всего взять среднее арифметическое последних двух наблюдений. Мы получим новый временной ряд, каждый член которого — среднее арифметическое двух соседних значений исходного ряда.\n",
    "\n",
    "Чуть более продвинутый способ: усреднить сразу несколько наблюдений. Это так называемое простое скользящее среднее (SMA).\n",
    "\n",
    "Продвинутым вариантом является взвешенное скользящее среднее (WMA) k последовательных наблюдений ряда. Сумма весов при этом равна единице.\n",
    "\n",
    "## Преимущества\n",
    "Скользящее среднее может позволить нам невооруженным взглядом найти закономерности во временном ряде. Но может и не позволить, тогда нужны более продвинутые методы анализа.\n",
    "Скользящее среднее можно использовать для прогноза, однако его качество оставит желать лучшего.\n",
    "\n",
    "## Недостатки\n",
    "Недостатком скользящего среднего с фиксированным окном является то, что оно учитывает только несколько последних наблюдений. От этого можно избавиться экспоненциальным сглаживанием, о котором мы поговорим немного позже.\n"
   ],
   "cell_type": "markdown",
   "metadata": {}
  },
  {
   "cell_type": "code",
   "execution_count": 163,
   "metadata": {},
   "outputs": [],
   "source": [
    "import numpy as np"
   ]
  },
  {
   "source": [
    "## Задание 7.5.1\n",
    "Для анализа временного ряда необходимы следующие условия:\n",
    "    \n",
    "- 0  Значения ряда должны быть нескореллированы друг с другом\n",
    "- 1 Значения ряда должны быть измерены с одинаковым шагом по времени\n",
    "- 1 Значения ряда не должны иметь пропусков\n",
    "- 0 Значения ряда в среднем должны быть константой\n",
    "- 0 Значения ряда должны иметь одинаковые дисперсии"
   ],
   "cell_type": "markdown",
   "metadata": {}
  },
  {
   "source": [
    "## Задание 7.5.2\n",
    "Вы вычисляете скользящее среднее по правилу MA = 0.7*x_t +0.3 * x_(t-1)\n",
    "\n",
    "1. Найдите ширину окна: 2\n",
    "2. Это скользящее среднее является:\n",
    "- простым\n",
    "- взвешенным - верно\n",
    "3. Вычислите значения простого скользящего среднего для ряда \n",
    "- SMA_1: 1.5\n",
    "- SMA_2: 2.5\n",
    "- SMA_3: 3.5\n",
    "- SMA_4: 4.5\n",
    "- SMA_5: 5.5\n",
    "4. Какое измерение в ряде X = (1,2,3,4,5,6) является последним по времени: 6\n",
    "5. Вычислите значения скользящего среднего по правилу  для ряда \n",
    "- MA_1: 1.7\n",
    "- MA_1: 2.7\n",
    "- MA_1: 3.7\n",
    "- MA_1: 4.7\n",
    "- MA_1: 5.7\n",
    "6. В сторону какого наблюдения смещены значения скользящего среднего из п.5 по сравнению с простым скользящим средним?\n",
    "- в сторону более нового - верно\n",
    "- в сторону более старого\n",
    "7. Сколько значений будет иметь ряд скользящих средних, если у исходного ряда доступно 10 наблюдений? Ответ: 9"
   ],
   "cell_type": "markdown",
   "metadata": {}
  },
  {
   "source": [
    "## Задание 7.5.3\n",
    "Выберите верные утверждения для скользящего среднего.\n",
    "- 1 Скользящее среднее сглаживает пики и выбросы временного ряда\n",
    "- 0 Скользящее среднее в момент времени  использует только исторические данные ряда в моменты времени, предшествующие \n",
    "- 1 Скользящее среднее в момент времени  использует текущее значение ряда \n",
    "- 0 В качестве прогноза будущего значения  можно использовать \n",
    "- 1 В качестве прогноза будущего значения  нельзя использовать "
   ],
   "cell_type": "markdown",
   "metadata": {}
  },
  {
   "source": [
    "## Задание 7.5.4\n",
    "Простое и взвешенное скользящие средние используют при вычислении:\n",
    "- 0 Все доступные значения ряда\n",
    "- 1 Только несколько последних значений ряда"
   ],
   "cell_type": "markdown",
   "metadata": {}
  },
  {
   "source": [
    "## Задание 7.5.5\n",
    "1. Для ряда x = (1, 0, 1, -1, 2, 0, 1). Вычислите ряд скользящих средних с шириной окна 3 и весами: 0.5, 0.3, 0.2"
   ],
   "cell_type": "markdown",
   "metadata": {}
  },
  {
   "cell_type": "code",
   "execution_count": 189,
   "metadata": {},
   "outputs": [],
   "source": [
    "def w_m_a(x, w):\n",
    "    wma_count = len(x) - len(w) + 1\n",
    "    for i in range(wma_count):\n",
    "        print('wma_'+str(i+len(w)-1), round(np.sum(x[i:len(w)+i]*w),1))\n",
    "    #return None"
   ]
  },
  {
   "cell_type": "code",
   "execution_count": 191,
   "metadata": {
    "tags": []
   },
   "outputs": [
    {
     "output_type": "stream",
     "name": "stdout",
     "text": "wma_2 0.7\nwma_3 -0.2\nwma_4 0.9\nwma_5 0.4\nwma_6 0.9\n"
    }
   ],
   "source": [
    "x = np.array([1, 0, 1, -1, 2, 0, 1])\n",
    "w = np.array([0.2, 0.3, 0.5])\n",
    "w_m_a(x, w)"
   ]
  },
  {
   "source": [
    "2. Сколько значений будет иметь ряд скользящих средних с шириной окна , если у исходного ряда  наблюдений?"
   ],
   "cell_type": "markdown",
   "metadata": {}
  },
  {
   "cell_type": "code",
   "execution_count": 192,
   "metadata": {},
   "outputs": [
    {
     "output_type": "execute_result",
     "data": {
      "text/plain": "98"
     },
     "metadata": {},
     "execution_count": 192
    }
   ],
   "source": [
    "100 - 3 + 1"
   ]
  },
  {
   "source": [
    "3. Сколько значений будет иметь ряд скользящих средних с шириной окна , если у исходного ряда  наблюдений?"
   ],
   "cell_type": "markdown",
   "metadata": {}
  },
  {
   "cell_type": "code",
   "execution_count": 193,
   "metadata": {},
   "outputs": [
    {
     "output_type": "execute_result",
     "data": {
      "text/plain": "51"
     },
     "metadata": {},
     "execution_count": 193
    }
   ],
   "source": [
    "100 - 50 + 1"
   ]
  },
  {
   "source": [
    "4. Какое из скользящих средних сильнее сгладит исходный ряд?"
   ],
   "cell_type": "markdown",
   "metadata": {}
  },
  {
   "source": [
    "- SMA с шириной окна 3 \n",
    "- MA с шириной окна  50 верно"
   ],
   "cell_type": "markdown",
   "metadata": {}
  },
  {
   "source": [
    "5. Какие из следующих утверждений верны для скользящего среднего за более короткий период времени?\n",
    "- 1 Скользящее среднее будет меняться быстрее в зависимости от цены\n",
    "- 0 Скользящее среднее будет медленнее регаировать на изменения цены\n",
    "- 1 Скользящее среднее будт демонстрировать меньше надежных сигналов, чем более скользящее среднее за более долгий срок\n",
    "- 0 Скользящее среднее будт демонстрировать больше надежных сигналов, чем более скользящее среднее за более долгий срок"
   ],
   "cell_type": "markdown",
   "metadata": {}
  },
  {
   "source": [
    "## Дополнительные материалы\n",
    "- [Скользящие средние. Часть 1 — теория](https://av-finance.ru/texnicheskij-analiz/skolzyashhie-srednie-chast-1-teoriya.html)\n",
    "- [Использование скользящих средних в трейдинге](https://www.investopedia.com/articles/active-trading/052014/how-use-moving-average-buy-stocks.asp 'How to Use a Moving Average to Buy Stocks')"
   ],
   "cell_type": "markdown",
   "metadata": {}
  },
  {
   "source": [
    "## 7.6. Практика. Скользящее среднее\n",
    "\n",
    "- Загрузите датасет solarpower_cumuldaybyday2.csv.\n",
    "\n",
    "В нём содержится информация о производстве энергии солнечными батареями.\n",
    "\n",
    "- Агрегируйте данные по неделям.\n",
    "\n",
    "- Выполните задания ниже."
   ],
   "cell_type": "markdown",
   "metadata": {}
  },
  {
   "cell_type": "code",
   "execution_count": 40,
   "metadata": {},
   "outputs": [],
   "source": [
    "import pandas as pd\n",
    "import numpy as np"
   ]
  },
  {
   "cell_type": "code",
   "execution_count": 88,
   "metadata": {},
   "outputs": [],
   "source": [
    "# подгрузим наш учебный датасет\n",
    "df = pd.read_csv('solarpower_cumuldaybyday2.csv')[['date', 'cum_power']]"
   ]
  },
  {
   "cell_type": "code",
   "execution_count": 89,
   "metadata": {},
   "outputs": [],
   "source": [
    "# приведем формата даты к стандарту datetime. \n",
    "df['date'] = pd.to_datetime(df['date'], format = '%d/%m/%Y')\n",
    "# добавим столбе дня недели\n",
    "df['weekday'] = df['date'].apply(lambda x: x.strftime('%a'))\n",
    "# преобразуем индексы в формат Datetime (это удобно для работы с временными рядами) \n",
    "df = df.set_index(pd.DatetimeIndex(df['date']))\n",
    "# после это удалим столбец data\n",
    "df.drop(['date'], axis =1, inplace = True)"
   ]
  },
  {
   "cell_type": "code",
   "execution_count": 96,
   "metadata": {},
   "outputs": [
    {
     "output_type": "execute_result",
     "data": {
      "text/plain": "['cum_power', 'weekday']"
     },
     "metadata": {},
     "execution_count": 96
    }
   ],
   "source": [
    "list(df.columns)"
   ]
  },
  {
   "cell_type": "code",
   "execution_count": 100,
   "metadata": {},
   "outputs": [],
   "source": [
    "# Агрегируйте данные по неделям.\n",
    "df_w = df[(list(df.columns))]\n",
    "df_w = df_w.resample('w').ffill()"
   ]
  },
  {
   "cell_type": "code",
   "execution_count": 99,
   "metadata": {},
   "outputs": [
    {
     "output_type": "execute_result",
     "data": {
      "text/plain": "            cum_power weekday\ndate                         \n2011-10-30       34.2     Sun\n2011-11-06       71.8     Sun\n2011-11-13       99.9     Sun\n2011-11-20      136.5     Sun\n2011-11-27      156.1     Sun\n2011-12-04      175.3     Sun\n2011-12-11      192.6     Sun\n2011-12-18      205.4     Sun\n2011-12-25      219.7     Sun\n2012-01-01      226.7     Sun",
      "text/html": "<div>\n<style scoped>\n    .dataframe tbody tr th:only-of-type {\n        vertical-align: middle;\n    }\n\n    .dataframe tbody tr th {\n        vertical-align: top;\n    }\n\n    .dataframe thead th {\n        text-align: right;\n    }\n</style>\n<table border=\"1\" class=\"dataframe\">\n  <thead>\n    <tr style=\"text-align: right;\">\n      <th></th>\n      <th>cum_power</th>\n      <th>weekday</th>\n    </tr>\n    <tr>\n      <th>date</th>\n      <th></th>\n      <th></th>\n    </tr>\n  </thead>\n  <tbody>\n    <tr>\n      <th>2011-10-30</th>\n      <td>34.2</td>\n      <td>Sun</td>\n    </tr>\n    <tr>\n      <th>2011-11-06</th>\n      <td>71.8</td>\n      <td>Sun</td>\n    </tr>\n    <tr>\n      <th>2011-11-13</th>\n      <td>99.9</td>\n      <td>Sun</td>\n    </tr>\n    <tr>\n      <th>2011-11-20</th>\n      <td>136.5</td>\n      <td>Sun</td>\n    </tr>\n    <tr>\n      <th>2011-11-27</th>\n      <td>156.1</td>\n      <td>Sun</td>\n    </tr>\n    <tr>\n      <th>2011-12-04</th>\n      <td>175.3</td>\n      <td>Sun</td>\n    </tr>\n    <tr>\n      <th>2011-12-11</th>\n      <td>192.6</td>\n      <td>Sun</td>\n    </tr>\n    <tr>\n      <th>2011-12-18</th>\n      <td>205.4</td>\n      <td>Sun</td>\n    </tr>\n    <tr>\n      <th>2011-12-25</th>\n      <td>219.7</td>\n      <td>Sun</td>\n    </tr>\n    <tr>\n      <th>2012-01-01</th>\n      <td>226.7</td>\n      <td>Sun</td>\n    </tr>\n  </tbody>\n</table>\n</div>"
     },
     "metadata": {},
     "execution_count": 99
    }
   ],
   "source": [
    "df_w.head(10)"
   ]
  },
  {
   "cell_type": "code",
   "execution_count": 103,
   "metadata": {},
   "outputs": [
    {
     "output_type": "execute_result",
     "data": {
      "text/plain": "cum_power    34.2\nweekday       Sun\nName: 2011-10-30 00:00:00, dtype: object"
     },
     "metadata": {},
     "execution_count": 103
    }
   ],
   "source": [
    "df_w.iloc[0]"
   ]
  }
 ]
}