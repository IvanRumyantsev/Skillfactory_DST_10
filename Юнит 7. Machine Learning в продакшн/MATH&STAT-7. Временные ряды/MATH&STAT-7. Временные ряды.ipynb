{
 "metadata": {
  "language_info": {
   "codemirror_mode": {
    "name": "ipython",
    "version": 3
   },
   "file_extension": ".py",
   "mimetype": "text/x-python",
   "name": "python",
   "nbconvert_exporter": "python",
   "pygments_lexer": "ipython3",
   "version": "3.7.9-final"
  },
  "orig_nbformat": 2,
  "kernelspec": {
   "name": "Python 3.7.9 64-bit ('base': conda)",
   "display_name": "Python 3.7.9 64-bit ('base': conda)",
   "metadata": {
    "interpreter": {
     "hash": "a8f61be024eba58adef938c9aa1e29e02cb3dece83a5348b1a2dafd16a070453"
    }
   }
  }
 },
 "nbformat": 4,
 "nbformat_minor": 2,
 "cells": [
  {
   "source": [
    "### Сентябрь 2020 г. \n",
    "### DST 10 // Юнит 7. Machine Learning в продакшн // MATH&STAT-7. Временные ряды"
   ],
   "cell_type": "markdown",
   "metadata": {}
  },
  {
   "source": [
    "# 7.1. Вступление к модулю"
   ],
   "cell_type": "markdown",
   "metadata": {}
  },
  {
   "source": [
    "### ЧТО ЭТО И ЗАЧЕМ?\n",
    "Временной ряд — это измерения одной и той же случайной величины в разные моменты времени.\n",
    "\n",
    "Дело в том, что с появлением зависимости наблюдений от времени вся математическая структура данных поменялась — наблюдения одной и той же переменной в разные моменты времени стали зависимыми между собой. Мы получили так называемый временной ряд.\n",
    "\n",
    "Примеры временных рядов:\n",
    "\n",
    "- всевозможные экономические индексы, такие как индекс RTS, DJIA и другие;\n",
    "- стоимость активов на бирже — всевозможные курсы нефти, ценных бумаг, валют и криптовалют:\n",
    "- физические показатели спортсмена во время тренировок или специальных нагрузочных тестов;\n",
    "- скорость интернета;\n",
    "- регулярные измерения роста, веса, давления;\n",
    "- температура воды в Красном море по дням в июле.\n",
    "\n",
    "Ещё пара примеров из бизнеса:\n",
    "- прогнозирование числа пользователей сайта\n",
    "- прогнозирование удовлетворенности клиента\n",
    "- прогнозирование трафика\n",
    "\n",
    "### ЧТО БУДЕМ ИЗУЧАТЬ В ЭТОМ МОДУЛЕ\n",
    "\n",
    "В этом модуле мы:\n",
    "\n",
    "Познакомимся с основными идеями и понятиями анализа временных рядов такими, как тренд, сезонность.\n",
    "Узнаем, чем страшна нестационарность, и как с ней можно бороться.\n",
    "Познакомимся с некоторыми алгоритмами прогноза.\n"
   ],
   "cell_type": "markdown",
   "metadata": {}
  },
  {
   "source": [
    "# 7.2. Линейная регрессия"
   ],
   "cell_type": "markdown",
   "metadata": {}
  },
  {
   "source": [
    "### УСЛОВИЯ ГАУССА-МАРКОВА\n",
    "#### Модель: \n",
    "\n",
    "Мы предполагаем, что Y зависит от X линейно с небольшой случайной добавкой $\\varepsilon$. Настоящие коэффициенты $β_i$ неизвестны и чтобы их оценить, мы берём выборку из n наблюдений\n",
    "\n",
    "#### Условие 1.\n",
    "\n",
    "Корректная спецификация модели.\n",
    "Это значит, что мы сделали верное предположение о характере зависимости (линейной в нашем случае) и собрали «хорошие» признаки.\n",
    "\n",
    "#### Условие 2.\n",
    "\n",
    "Признак X должен быть детерминированной величиной, отличной от константы.\n",
    "Иными словами, все X не случайны и не все равны друг другу.\n",
    "\n",
    "#### Условие 3.\n",
    "Ожидаемое (среднее) значение отклонений нулевое\n",
    "\n",
    "#### Условие 4. \n",
    "\n",
    "Гомоскедастичность: разброс отклонений в среднем одинаковый для всех наблюдений\n",
    "Иными словами, это значит, что разброс ошибок в среднем одинаков для всех наблюдений.\n",
    "\n",
    "#### Условие 5. \n",
    "\n",
    "Независимость ошибок.\n",
    "\n",
    "Все вместе условия Гаусса-Маркова гарантируют нам «хорошие» оценки для параметров модели  и высокое качество прогноза. «Хорошие» здесь означает, что они несмещённые, состоятельные и эффективные (обладают наименьшим разбросом среди всех остальных несмещённых оценок)."
   ],
   "cell_type": "markdown",
   "metadata": {}
  },
  {
   "source": [
    "## Задание 7.2.1\n",
    "Гомоскедастичность — это: Условие равенства всех дисперсий ошибок верно"
   ],
   "cell_type": "markdown",
   "metadata": {}
  },
  {
   "source": [
    "## Задание 7.2.2\n",
    "Выберите верные утверждения:\n",
    "- Гетероскедастичность нарушает условия Гаусса-Маркова\n",
    "- Сильная отрицательная корреляция между целевой переменной и признаком в парной регрессии не нарушает условия Гаусса-Маркова"
   ],
   "cell_type": "markdown",
   "metadata": {}
  },
  {
   "source": [
    "## Задание 7.2.3\n",
    "1. Да\n",
    "2. Нет\n",
    "3. Да\n",
    "4. Нет\n",
    "5. Да\n",
    "6. 4\n",
    "7. 2"
   ],
   "cell_type": "markdown",
   "metadata": {}
  },
  {
   "source": [
    "## Дополнительные материалы:\n",
    "\n",
    "[Разные способы построить линейную регрессию в Python](https://habr.com/ru/post/279117/ 'Habr')"
   ],
   "cell_type": "markdown",
   "metadata": {}
  },
  {
   "source": [
    "# 7.3. Практика. Линейная регрессия\n",
    "В этом разделе мы познакомимся с генерацией нормального белого шума и посмотрим на практике, как влияет на качество OLS оценок гетероскедастичность.\n",
    "\n",
    "[Ноутбук к этому материалу](Юнит 7. Machine Learning в продакшн\\white_noise.ipynb)"
   ],
   "cell_type": "markdown",
   "metadata": {}
  },
  {
   "source": [
    "ЗАДАНИЕ\n",
    "\n",
    "- → Загрузите датасет BostonHousing из библиотеки sklearn (с ним мы работали ранее).\n",
    "\n",
    "- → Обучите линейную регрессию стоимости дома на параметры CRIM, RM.\n",
    "\n",
    "- → Выполните задания ниже."
   ],
   "cell_type": "markdown",
   "metadata": {}
  },
  {
   "cell_type": "code",
   "execution_count": 1,
   "metadata": {},
   "outputs": [],
   "source": [
    "from sklearn.datasets import load_boston\n",
    "from sklearn.linear_model import LinearRegression\n",
    "from sklearn.model_selection import train_test_split\n",
    "import pandas as pd\n",
    "import numpy as np\n",
    "import matplotlib.pyplot as plt"
   ]
  },
  {
   "cell_type": "code",
   "execution_count": 2,
   "metadata": {},
   "outputs": [],
   "source": [
    "# Load dataset\n",
    "boston = load_boston()\n",
    "X = pd.DataFrame(boston.data)\n",
    "X.columns = boston.feature_names\n",
    "y=pd.DataFrame(boston.target)\n",
    "y.columns=['PRICE']"
   ]
  },
  {
   "cell_type": "code",
   "execution_count": 3,
   "metadata": {},
   "outputs": [
    {
     "output_type": "execute_result",
     "data": {
      "text/plain": "LinearRegression()"
     },
     "metadata": {},
     "execution_count": 3
    }
   ],
   "source": [
    "# Fit\n",
    "LR = LinearRegression()\n",
    "LR.fit(X[['CRIM', 'RM']],y)"
   ]
  },
  {
   "source": [
    "## Задание 7.3.1\n",
    "Выведите коэффициенты модели, округлив ответ до сотых:"
   ],
   "cell_type": "markdown",
   "metadata": {}
  },
  {
   "cell_type": "code",
   "execution_count": 4,
   "metadata": {
    "tags": []
   },
   "outputs": [
    {
     "output_type": "stream",
     "name": "stdout",
     "text": "CRIM -0.26 RM 8.39 INTERCEPT-29.24\n"
    }
   ],
   "source": [
    "print('CRIM {:.2f} RM {:.2f} INTERCEPT{:.2f}'.format(LR.coef_[0][0], LR.coef_[0][1], LR.intercept_[0]))"
   ]
  },
  {
   "source": [
    "## Задание 7.3.2\n",
    "Найдите долю объясненной дисперсии."
   ],
   "cell_type": "markdown",
   "metadata": {}
  },
  {
   "cell_type": "code",
   "execution_count": 5,
   "metadata": {},
   "outputs": [],
   "source": [
    "# Predict\n",
    "y_pred = LR.predict(X[['CRIM', 'RM']])"
   ]
  },
  {
   "cell_type": "code",
   "execution_count": 6,
   "metadata": {},
   "outputs": [
    {
     "output_type": "execute_result",
     "data": {
      "text/plain": "0.54"
     },
     "metadata": {},
     "execution_count": 6
    }
   ],
   "source": [
    "round(np.var(y_pred)/np.var(y)[0],2)"
   ]
  },
  {
   "cell_type": "code",
   "execution_count": 7,
   "metadata": {},
   "outputs": [
    {
     "output_type": "execute_result",
     "data": {
      "text/plain": "0.5419591738494084"
     },
     "metadata": {},
     "execution_count": 7
    }
   ],
   "source": [
    "from sklearn.metrics import r2_score\n",
    "r2_score(y, y_pred)"
   ]
  },
  {
   "source": [
    "## Задание 7.3.3\n",
    "Сгенерируйте вектор белого шума и добавьте к исходным значениям целевой переменой. Обучите модель и найдите R2 (долю объясненной дисперсии)."
   ],
   "cell_type": "markdown",
   "metadata": {}
  },
  {
   "cell_type": "code",
   "execution_count": 8,
   "metadata": {},
   "outputs": [],
   "source": [
    "def white_noise(N = 100, mu = 0, sigma = 1):\n",
    "    np.random.seed(42)\n",
    "    return np.random.normal(mu, sigma, size=N)"
   ]
  },
  {
   "cell_type": "code",
   "execution_count": 9,
   "metadata": {},
   "outputs": [],
   "source": [
    "noise = white_noise(N = y.shape[0], mu = 0, sigma = 1)"
   ]
  },
  {
   "cell_type": "code",
   "execution_count": 10,
   "metadata": {},
   "outputs": [
    {
     "output_type": "error",
     "ename": "NameError",
     "evalue": "name 'N' is not defined",
     "traceback": [
      "\u001b[1;31m---------------------------------------------------------------------------\u001b[0m",
      "\u001b[1;31mNameError\u001b[0m                                 Traceback (most recent call last)",
      "\u001b[1;32m<ipython-input-10-435191bccd1a>\u001b[0m in \u001b[0;36m<module>\u001b[1;34m\u001b[0m\n\u001b[1;32m----> 1\u001b[1;33m \u001b[0mplt\u001b[0m\u001b[1;33m.\u001b[0m\u001b[0mscatter\u001b[0m\u001b[1;33m(\u001b[0m\u001b[0mnp\u001b[0m\u001b[1;33m.\u001b[0m\u001b[0marange\u001b[0m\u001b[1;33m(\u001b[0m\u001b[0mN\u001b[0m\u001b[1;33m)\u001b[0m\u001b[1;33m,\u001b[0m\u001b[0mnoise\u001b[0m\u001b[1;33m)\u001b[0m\u001b[1;33m\u001b[0m\u001b[1;33m\u001b[0m\u001b[0m\n\u001b[0m",
      "\u001b[1;31mNameError\u001b[0m: name 'N' is not defined"
     ]
    }
   ],
   "source": [
    "plt.scatter(np.arange(N),noise)"
   ]
  },
  {
   "cell_type": "code",
   "execution_count": 112,
   "metadata": {},
   "outputs": [
    {
     "output_type": "execute_result",
     "data": {
      "text/plain": "(506,)"
     },
     "metadata": {},
     "execution_count": 112
    }
   ],
   "source": [
    "np.array(y).reshape(506).shape"
   ]
  },
  {
   "cell_type": "code",
   "execution_count": 79,
   "metadata": {},
   "outputs": [
    {
     "output_type": "execute_result",
     "data": {
      "text/plain": "(506,)"
     },
     "metadata": {},
     "execution_count": 79
    }
   ],
   "source": [
    "noise.shape"
   ]
  },
  {
   "cell_type": "code",
   "execution_count": 104,
   "metadata": {},
   "outputs": [],
   "source": [
    "y_with_noise = np.array(y).reshape(506) + noise"
   ]
  },
  {
   "cell_type": "code",
   "execution_count": 136,
   "metadata": {},
   "outputs": [
    {
     "output_type": "execute_result",
     "data": {
      "text/plain": "0.5317591780870768"
     },
     "metadata": {},
     "execution_count": 136
    }
   ],
   "source": [
    "# Fit\n",
    "LR.fit(X[['CRIM', 'RM']],y_with_noise)\n",
    "# Predict\n",
    "y_pred = LR.predict(X[['CRIM', 'RM']])\n",
    "r2_score(y_with_noise, y_pred)"
   ]
  },
  {
   "cell_type": "code",
   "execution_count": null,
   "metadata": {},
   "outputs": [],
   "source": []
  },
  {
   "cell_type": "code",
   "execution_count": 108,
   "metadata": {},
   "outputs": [
    {
     "output_type": "execute_result",
     "data": {
      "text/plain": "0.5419440594477221"
     },
     "metadata": {},
     "execution_count": 108
    }
   ],
   "source": [
    "r2_score(y, y_pred)"
   ]
  },
  {
   "source": [
    "Тут сломан валидатор и он принимает числа из диапазона (0, 1)"
   ],
   "cell_type": "markdown",
   "metadata": {}
  },
  {
   "source": [
    "## Задание 7.3.4"
   ],
   "cell_type": "markdown",
   "metadata": {}
  },
  {
   "source": [
    "Сгенерируйте вектор гетероскедастичного шума аналогично разобранному примеру с параметром alpha = 1.002 и добавьте к исходным значениям целевой переменной. Обучите модель и найдите R2 (долю объясненной дисперсии)."
   ],
   "cell_type": "markdown",
   "metadata": {}
  },
  {
   "cell_type": "code",
   "execution_count": 113,
   "metadata": {},
   "outputs": [],
   "source": [
    "def hetero_eps(alpha, eps):\n",
    "    hetero_eps = np.zeros(len(eps))\n",
    "    for i in range (0,len(eps)):\n",
    "        hetero_eps[i] = (alpha**i) * eps[i]\n",
    "    return hetero_eps"
   ]
  },
  {
   "cell_type": "code",
   "execution_count": 122,
   "metadata": {},
   "outputs": [],
   "source": [
    "noise = white_noise(N = y.shape[0], mu = 0, sigma = 1)\n",
    "hetero_noise  = hetero_eps(alpha = 1.002, eps = noise)"
   ]
  },
  {
   "cell_type": "code",
   "execution_count": 123,
   "metadata": {},
   "outputs": [
    {
     "output_type": "execute_result",
     "data": {
      "text/plain": "<matplotlib.collections.PathCollection at 0x2bccdc48c48>"
     },
     "metadata": {},
     "execution_count": 123
    },
    {
     "output_type": "display_data",
     "data": {
      "text/plain": "<Figure size 432x288 with 1 Axes>",
      "image/svg+xml": "<?xml version=\"1.0\" encoding=\"utf-8\" standalone=\"no\"?>\r\n<!DOCTYPE svg PUBLIC \"-//W3C//DTD SVG 1.1//EN\"\r\n  \"http://www.w3.org/Graphics/SVG/1.1/DTD/svg11.dtd\">\r\n<!-- Created with matplotlib (https://matplotlib.org/) -->\r\n<svg height=\"248.518125pt\" version=\"1.1\" viewBox=\"0 0 370.942187 248.518125\" width=\"370.942187pt\" xmlns=\"http://www.w3.org/2000/svg\" xmlns:xlink=\"http://www.w3.org/1999/xlink\">\r\n <metadata>\r\n  <rdf:RDF xmlns:cc=\"http://creativecommons.org/ns#\" xmlns:dc=\"http://purl.org/dc/elements/1.1/\" xmlns:rdf=\"http://www.w3.org/1999/02/22-rdf-syntax-ns#\">\r\n   <cc:Work>\r\n    <dc:type rdf:resource=\"http://purl.org/dc/dcmitype/StillImage\"/>\r\n    <dc:date>2020-09-24T10:36:33.182928</dc:date>\r\n    <dc:format>image/svg+xml</dc:format>\r\n    <dc:creator>\r\n     <cc:Agent>\r\n      <dc:title>Matplotlib v3.3.1, https://matplotlib.org/</dc:title>\r\n     </cc:Agent>\r\n    </dc:creator>\r\n   </cc:Work>\r\n  </rdf:RDF>\r\n </metadata>\r\n <defs>\r\n  <style type=\"text/css\">*{stroke-linecap:butt;stroke-linejoin:round;}</style>\r\n </defs>\r\n <g id=\"figure_1\">\r\n  <g id=\"patch_1\">\r\n   <path d=\"M 0 248.518125 \r\nL 370.942187 248.518125 \r\nL 370.942187 0 \r\nL 0 0 \r\nz\r\n\" style=\"fill:none;\"/>\r\n  </g>\r\n  <g id=\"axes_1\">\r\n   <g id=\"patch_2\">\r\n    <path d=\"M 28.942188 224.64 \r\nL 363.742188 224.64 \r\nL 363.742188 7.2 \r\nL 28.942188 7.2 \r\nz\r\n\" style=\"fill:#ffffff;\"/>\r\n   </g>\r\n   <g id=\"PathCollection_1\">\r\n    <defs>\r\n     <path d=\"M 0 3 \r\nC 0.795609 3 1.55874 2.683901 2.12132 2.12132 \r\nC 2.683901 1.55874 3 0.795609 3 0 \r\nC 3 -0.795609 2.683901 -1.55874 2.12132 -2.12132 \r\nC 1.55874 -2.683901 0.795609 -3 0 -3 \r\nC -0.795609 -3 -1.55874 -2.683901 -2.12132 -2.12132 \r\nC -2.683901 -1.55874 -3 -0.795609 -3 0 \r\nC -3 0.795609 -2.683901 1.55874 -2.12132 2.12132 \r\nC -1.55874 2.683901 -0.795609 3 0 3 \r\nz\r\n\" id=\"m1420c0126d\" style=\"stroke:#1f77b4;\"/>\r\n    </defs>\r\n    <g clip-path=\"url(#pb2aaef629c)\">\r\n     <use style=\"fill:#1f77b4;stroke:#1f77b4;\" x=\"44.160369\" xlink:href=\"#m1420c0126d\" y=\"123.803955\"/>\r\n     <use style=\"fill:#1f77b4;stroke:#1f77b4;\" x=\"44.76307\" xlink:href=\"#m1420c0126d\" y=\"132.837642\"/>\r\n     <use style=\"fill:#1f77b4;stroke:#1f77b4;\" x=\"45.36577\" xlink:href=\"#m1420c0126d\" y=\"121.620135\"/>\r\n     <use style=\"fill:#1f77b4;stroke:#1f77b4;\" x=\"45.96847\" xlink:href=\"#m1420c0126d\" y=\"109.078952\"/>\r\n     <use style=\"fill:#1f77b4;stroke:#1f77b4;\" x=\"46.57117\" xlink:href=\"#m1420c0126d\" y=\"134.224025\"/>\r\n     <use style=\"fill:#1f77b4;stroke:#1f77b4;\" x=\"47.173871\" xlink:href=\"#m1420c0126d\" y=\"134.230503\"/>\r\n     <use style=\"fill:#1f77b4;stroke:#1f77b4;\" x=\"47.776571\" xlink:href=\"#m1420c0126d\" y=\"108.13937\"/>\r\n     <use style=\"fill:#1f77b4;stroke:#1f77b4;\" x=\"48.379271\" xlink:href=\"#m1420c0126d\" y=\"119.800448\"/>\r\n     <use style=\"fill:#1f77b4;stroke:#1f77b4;\" x=\"48.981971\" xlink:href=\"#m1420c0126d\" y=\"137.651275\"/>\r\n     <use style=\"fill:#1f77b4;stroke:#1f77b4;\" x=\"49.584672\" xlink:href=\"#m1420c0126d\" y=\"123.012005\"/>\r\n     <use style=\"fill:#1f77b4;stroke:#1f77b4;\" x=\"50.187372\" xlink:href=\"#m1420c0126d\" y=\"137.59057\"/>\r\n     <use style=\"fill:#1f77b4;stroke:#1f77b4;\" x=\"50.790072\" xlink:href=\"#m1420c0126d\" y=\"137.637625\"/>\r\n     <use style=\"fill:#1f77b4;stroke:#1f77b4;\" x=\"51.392773\" xlink:href=\"#m1420c0126d\" y=\"127.343177\"/>\r\n     <use style=\"fill:#1f77b4;stroke:#1f77b4;\" x=\"51.995473\" xlink:href=\"#m1420c0126d\" y=\"158.791403\"/>\r\n     <use style=\"fill:#1f77b4;stroke:#1f77b4;\" x=\"52.598173\" xlink:href=\"#m1420c0126d\" y=\"156.092646\"/>\r\n     <use style=\"fill:#1f77b4;stroke:#1f77b4;\" x=\"53.200873\" xlink:href=\"#m1420c0126d\" y=\"139.10683\"/>\r\n     <use style=\"fill:#1f77b4;stroke:#1f77b4;\" x=\"53.803574\" xlink:href=\"#m1420c0126d\" y=\"145.738423\"/>\r\n     <use style=\"fill:#1f77b4;stroke:#1f77b4;\" x=\"54.406274\" xlink:href=\"#m1420c0126d\" y=\"126.244343\"/>\r\n     <use style=\"fill:#1f77b4;stroke:#1f77b4;\" x=\"55.008974\" xlink:href=\"#m1420c0126d\" y=\"144.252973\"/>\r\n     <use style=\"fill:#1f77b4;stroke:#1f77b4;\" x=\"55.611674\" xlink:href=\"#m1420c0126d\" y=\"151.728352\"/>\r\n     <use style=\"fill:#1f77b4;stroke:#1f77b4;\" x=\"56.214375\" xlink:href=\"#m1420c0126d\" y=\"109.175428\"/>\r\n     <use style=\"fill:#1f77b4;stroke:#1f77b4;\" x=\"56.817075\" xlink:href=\"#m1420c0126d\" y=\"134.21576\"/>\r\n     <use style=\"fill:#1f77b4;stroke:#1f77b4;\" x=\"57.419775\" xlink:href=\"#m1420c0126d\" y=\"129.864071\"/>\r\n     <use style=\"fill:#1f77b4;stroke:#1f77b4;\" x=\"58.022476\" xlink:href=\"#m1420c0126d\" y=\"152.081029\"/>\r\n     <use style=\"fill:#1f77b4;stroke:#1f77b4;\" x=\"58.625176\" xlink:href=\"#m1420c0126d\" y=\"138.989207\"/>\r\n     <use style=\"fill:#1f77b4;stroke:#1f77b4;\" x=\"59.227876\" xlink:href=\"#m1420c0126d\" y=\"129.209339\"/>\r\n     <use style=\"fill:#1f77b4;stroke:#1f77b4;\" x=\"59.830576\" xlink:href=\"#m1420c0126d\" y=\"148.108043\"/>\r\n     <use style=\"fill:#1f77b4;stroke:#1f77b4;\" x=\"60.433277\" xlink:href=\"#m1420c0126d\" y=\"125.228743\"/>\r\n     <use style=\"fill:#1f77b4;stroke:#1f77b4;\" x=\"61.035977\" xlink:href=\"#m1420c0126d\" y=\"139.900398\"/>\r\n     <use style=\"fill:#1f77b4;stroke:#1f77b4;\" x=\"61.638677\" xlink:href=\"#m1420c0126d\" y=\"135.26301\"/>\r\n     <use style=\"fill:#1f77b4;stroke:#1f77b4;\" x=\"62.241377\" xlink:href=\"#m1420c0126d\" y=\"139.95269\"/>\r\n     <use style=\"fill:#1f77b4;stroke:#1f77b4;\" x=\"62.844078\" xlink:href=\"#m1420c0126d\" y=\"102.844003\"/>\r\n     <use style=\"fill:#1f77b4;stroke:#1f77b4;\" x=\"63.446778\" xlink:href=\"#m1420c0126d\" y=\"131.072124\"/>\r\n     <use style=\"fill:#1f77b4;stroke:#1f77b4;\" x=\"64.049478\" xlink:href=\"#m1420c0126d\" y=\"146.93392\"/>\r\n     <use style=\"fill:#1f77b4;stroke:#1f77b4;\" x=\"64.652178\" xlink:href=\"#m1420c0126d\" y=\"118.34824\"/>\r\n     <use style=\"fill:#1f77b4;stroke:#1f77b4;\" x=\"65.254879\" xlink:href=\"#m1420c0126d\" y=\"149.486123\"/>\r\n     <use style=\"fill:#1f77b4;stroke:#1f77b4;\" x=\"65.857579\" xlink:href=\"#m1420c0126d\" y=\"127.675845\"/>\r\n     <use style=\"fill:#1f77b4;stroke:#1f77b4;\" x=\"66.460279\" xlink:href=\"#m1420c0126d\" y=\"160.873342\"/>\r\n     <use style=\"fill:#1f77b4;stroke:#1f77b4;\" x=\"67.06298\" xlink:href=\"#m1420c0126d\" y=\"151.244937\"/>\r\n     <use style=\"fill:#1f77b4;stroke:#1f77b4;\" x=\"67.66568\" xlink:href=\"#m1420c0126d\" y=\"127.841169\"/>\r\n     <use style=\"fill:#1f77b4;stroke:#1f77b4;\" x=\"68.26838\" xlink:href=\"#m1420c0126d\" y=\"119.492375\"/>\r\n     <use style=\"fill:#1f77b4;stroke:#1f77b4;\" x=\"68.87108\" xlink:href=\"#m1420c0126d\" y=\"128.222523\"/>\r\n     <use style=\"fill:#1f77b4;stroke:#1f77b4;\" x=\"69.473781\" xlink:href=\"#m1420c0126d\" y=\"132.65606\"/>\r\n     <use style=\"fill:#1f77b4;stroke:#1f77b4;\" x=\"70.076481\" xlink:href=\"#m1420c0126d\" y=\"135.533517\"/>\r\n     <use style=\"fill:#1f77b4;stroke:#1f77b4;\" x=\"70.679181\" xlink:href=\"#m1420c0126d\" y=\"153.825008\"/>\r\n     <use style=\"fill:#1f77b4;stroke:#1f77b4;\" x=\"71.281881\" xlink:href=\"#m1420c0126d\" y=\"142.067124\"/>\r\n     <use style=\"fill:#1f77b4;stroke:#1f77b4;\" x=\"71.884582\" xlink:href=\"#m1420c0126d\" y=\"138.04864\"/>\r\n     <use style=\"fill:#1f77b4;stroke:#1f77b4;\" x=\"72.487282\" xlink:href=\"#m1420c0126d\" y=\"114.354547\"/>\r\n     <use style=\"fill:#1f77b4;stroke:#1f77b4;\" x=\"73.089982\" xlink:href=\"#m1420c0126d\" y=\"125.489227\"/>\r\n     <use style=\"fill:#1f77b4;stroke:#1f77b4;\" x=\"73.692683\" xlink:href=\"#m1420c0126d\" y=\"158.517664\"/>\r\n     <use style=\"fill:#1f77b4;stroke:#1f77b4;\" x=\"74.295383\" xlink:href=\"#m1420c0126d\" y=\"125.774666\"/>\r\n     <use style=\"fill:#1f77b4;stroke:#1f77b4;\" x=\"74.898083\" xlink:href=\"#m1420c0126d\" y=\"136.931026\"/>\r\n     <use style=\"fill:#1f77b4;stroke:#1f77b4;\" x=\"75.500783\" xlink:href=\"#m1420c0126d\" y=\"141.547657\"/>\r\n     <use style=\"fill:#1f77b4;stroke:#1f77b4;\" x=\"76.103484\" xlink:href=\"#m1420c0126d\" y=\"121.197482\"/>\r\n     <use style=\"fill:#1f77b4;stroke:#1f77b4;\" x=\"76.706184\" xlink:href=\"#m1420c0126d\" y=\"114.535776\"/>\r\n     <use style=\"fill:#1f77b4;stroke:#1f77b4;\" x=\"77.308884\" xlink:href=\"#m1420c0126d\" y=\"116.085895\"/>\r\n     <use style=\"fill:#1f77b4;stroke:#1f77b4;\" x=\"77.911584\" xlink:href=\"#m1420c0126d\" y=\"144.21452\"/>\r\n     <use style=\"fill:#1f77b4;stroke:#1f77b4;\" x=\"78.514285\" xlink:href=\"#m1420c0126d\" y=\"135.795096\"/>\r\n     <use style=\"fill:#1f77b4;stroke:#1f77b4;\" x=\"79.116985\" xlink:href=\"#m1420c0126d\" y=\"125.577968\"/>\r\n     <use style=\"fill:#1f77b4;stroke:#1f77b4;\" x=\"79.719685\" xlink:href=\"#m1420c0126d\" y=\"115.259059\"/>\r\n     <use style=\"fill:#1f77b4;stroke:#1f77b4;\" x=\"80.322386\" xlink:href=\"#m1420c0126d\" y=\"138.549502\"/>\r\n     <use style=\"fill:#1f77b4;stroke:#1f77b4;\" x=\"80.925086\" xlink:href=\"#m1420c0126d\" y=\"133.849899\"/>\r\n     <use style=\"fill:#1f77b4;stroke:#1f77b4;\" x=\"81.527786\" xlink:href=\"#m1420c0126d\" y=\"148.674988\"/>\r\n     <use style=\"fill:#1f77b4;stroke:#1f77b4;\" x=\"82.130486\" xlink:href=\"#m1420c0126d\" y=\"150.160062\"/>\r\n     <use style=\"fill:#1f77b4;stroke:#1f77b4;\" x=\"82.733187\" xlink:href=\"#m1420c0126d\" y=\"117.7368\"/>\r\n     <use style=\"fill:#1f77b4;stroke:#1f77b4;\" x=\"83.335887\" xlink:href=\"#m1420c0126d\" y=\"108.906346\"/>\r\n     <use style=\"fill:#1f77b4;stroke:#1f77b4;\" x=\"83.938587\" xlink:href=\"#m1420c0126d\" y=\"132.035882\"/>\r\n     <use style=\"fill:#1f77b4;stroke:#1f77b4;\" x=\"84.541287\" xlink:href=\"#m1420c0126d\" y=\"114.552557\"/>\r\n     <use style=\"fill:#1f77b4;stroke:#1f77b4;\" x=\"85.143988\" xlink:href=\"#m1420c0126d\" y=\"124.976449\"/>\r\n     <use style=\"fill:#1f77b4;stroke:#1f77b4;\" x=\"85.746688\" xlink:href=\"#m1420c0126d\" y=\"141.397554\"/>\r\n     <use style=\"fill:#1f77b4;stroke:#1f77b4;\" x=\"86.349388\" xlink:href=\"#m1420c0126d\" y=\"124.956794\"/>\r\n     <use style=\"fill:#1f77b4;stroke:#1f77b4;\" x=\"86.952088\" xlink:href=\"#m1420c0126d\" y=\"105.662214\"/>\r\n     <use style=\"fill:#1f77b4;stroke:#1f77b4;\" x=\"87.554789\" xlink:href=\"#m1420c0126d\" y=\"131.455803\"/>\r\n     <use style=\"fill:#1f77b4;stroke:#1f77b4;\" x=\"88.157489\" xlink:href=\"#m1420c0126d\" y=\"105.12351\"/>\r\n     <use style=\"fill:#1f77b4;stroke:#1f77b4;\" x=\"88.760189\" xlink:href=\"#m1420c0126d\" y=\"174.057929\"/>\r\n     <use style=\"fill:#1f77b4;stroke:#1f77b4;\" x=\"89.36289\" xlink:href=\"#m1420c0126d\" y=\"117.29012\"/>\r\n     <use style=\"fill:#1f77b4;stroke:#1f77b4;\" x=\"89.96559\" xlink:href=\"#m1420c0126d\" y=\"129.426666\"/>\r\n     <use style=\"fill:#1f77b4;stroke:#1f77b4;\" x=\"90.56829\" xlink:href=\"#m1420c0126d\" y=\"135.826733\"/>\r\n     <use style=\"fill:#1f77b4;stroke:#1f77b4;\" x=\"91.17099\" xlink:href=\"#m1420c0126d\" y=\"129.34256\"/>\r\n     <use style=\"fill:#1f77b4;stroke:#1f77b4;\" x=\"91.773691\" xlink:href=\"#m1420c0126d\" y=\"163.964553\"/>\r\n     <use style=\"fill:#1f77b4;stroke:#1f77b4;\" x=\"92.376391\" xlink:href=\"#m1420c0126d\" y=\"134.53281\"/>\r\n     <use style=\"fill:#1f77b4;stroke:#1f77b4;\" x=\"92.979091\" xlink:href=\"#m1420c0126d\" y=\"124.897056\"/>\r\n     <use style=\"fill:#1f77b4;stroke:#1f77b4;\" x=\"93.581791\" xlink:href=\"#m1420c0126d\" y=\"106.109635\"/>\r\n     <use style=\"fill:#1f77b4;stroke:#1f77b4;\" x=\"94.184492\" xlink:href=\"#m1420c0126d\" y=\"139.567009\"/>\r\n     <use style=\"fill:#1f77b4;stroke:#1f77b4;\" x=\"94.787192\" xlink:href=\"#m1420c0126d\" y=\"144.465736\"/>\r\n     <use style=\"fill:#1f77b4;stroke:#1f77b4;\" x=\"95.389892\" xlink:href=\"#m1420c0126d\" y=\"139.323548\"/>\r\n     <use style=\"fill:#1f77b4;stroke:#1f77b4;\" x=\"95.992593\" xlink:href=\"#m1420c0126d\" y=\"115.409526\"/>\r\n     <use style=\"fill:#1f77b4;stroke:#1f77b4;\" x=\"96.595293\" xlink:href=\"#m1420c0126d\" y=\"125.304937\"/>\r\n     <use style=\"fill:#1f77b4;stroke:#1f77b4;\" x=\"97.197993\" xlink:href=\"#m1420c0126d\" y=\"139.849156\"/>\r\n     <use style=\"fill:#1f77b4;stroke:#1f77b4;\" x=\"97.800693\" xlink:href=\"#m1420c0126d\" y=\"122.148087\"/>\r\n     <use style=\"fill:#1f77b4;stroke:#1f77b4;\" x=\"98.403394\" xlink:href=\"#m1420c0126d\" y=\"129.215054\"/>\r\n     <use style=\"fill:#1f77b4;stroke:#1f77b4;\" x=\"99.006094\" xlink:href=\"#m1420c0126d\" y=\"114.346212\"/>\r\n     <use style=\"fill:#1f77b4;stroke:#1f77b4;\" x=\"99.608794\" xlink:href=\"#m1420c0126d\" y=\"142.865746\"/>\r\n     <use style=\"fill:#1f77b4;stroke:#1f77b4;\" x=\"100.211494\" xlink:href=\"#m1420c0126d\" y=\"136.478527\"/>\r\n     <use style=\"fill:#1f77b4;stroke:#1f77b4;\" x=\"100.814195\" xlink:href=\"#m1420c0126d\" y=\"137.595554\"/>\r\n     <use style=\"fill:#1f77b4;stroke:#1f77b4;\" x=\"101.416895\" xlink:href=\"#m1420c0126d\" y=\"156.029658\"/>\r\n     <use style=\"fill:#1f77b4;stroke:#1f77b4;\" x=\"102.019595\" xlink:href=\"#m1420c0126d\" y=\"125.766148\"/>\r\n     <use style=\"fill:#1f77b4;stroke:#1f77b4;\" x=\"102.622296\" xlink:href=\"#m1420c0126d\" y=\"126.36123\"/>\r\n     <use style=\"fill:#1f77b4;stroke:#1f77b4;\" x=\"103.224996\" xlink:href=\"#m1420c0126d\" y=\"130.779069\"/>\r\n     <use style=\"fill:#1f77b4;stroke:#1f77b4;\" x=\"103.827696\" xlink:href=\"#m1420c0126d\" y=\"134.933122\"/>\r\n     <use style=\"fill:#1f77b4;stroke:#1f77b4;\" x=\"104.430396\" xlink:href=\"#m1420c0126d\" y=\"155.446236\"/>\r\n     <use style=\"fill:#1f77b4;stroke:#1f77b4;\" x=\"105.033097\" xlink:href=\"#m1420c0126d\" y=\"138.186869\"/>\r\n     <use style=\"fill:#1f77b4;stroke:#1f77b4;\" x=\"105.635797\" xlink:href=\"#m1420c0126d\" y=\"136.842776\"/>\r\n     <use style=\"fill:#1f77b4;stroke:#1f77b4;\" x=\"106.238497\" xlink:href=\"#m1420c0126d\" y=\"144.883276\"/>\r\n     <use style=\"fill:#1f77b4;stroke:#1f77b4;\" x=\"106.841197\" xlink:href=\"#m1420c0126d\" y=\"133.690806\"/>\r\n     <use style=\"fill:#1f77b4;stroke:#1f77b4;\" x=\"107.443898\" xlink:href=\"#m1420c0126d\" y=\"123.780491\"/>\r\n     <use style=\"fill:#1f77b4;stroke:#1f77b4;\" x=\"108.046598\" xlink:href=\"#m1420c0126d\" y=\"97.717788\"/>\r\n     <use style=\"fill:#1f77b4;stroke:#1f77b4;\" x=\"108.649298\" xlink:href=\"#m1420c0126d\" y=\"127.793171\"/>\r\n     <use style=\"fill:#1f77b4;stroke:#1f77b4;\" x=\"109.251998\" xlink:href=\"#m1420c0126d\" y=\"126.32294\"/>\r\n     <use style=\"fill:#1f77b4;stroke:#1f77b4;\" x=\"109.854699\" xlink:href=\"#m1420c0126d\" y=\"132.183766\"/>\r\n     <use style=\"fill:#1f77b4;stroke:#1f77b4;\" x=\"110.457399\" xlink:href=\"#m1420c0126d\" y=\"164.860515\"/>\r\n     <use style=\"fill:#1f77b4;stroke:#1f77b4;\" x=\"111.060099\" xlink:href=\"#m1420c0126d\" y=\"131.338173\"/>\r\n     <use style=\"fill:#1f77b4;stroke:#1f77b4;\" x=\"111.6628\" xlink:href=\"#m1420c0126d\" y=\"129.7962\"/>\r\n     <use style=\"fill:#1f77b4;stroke:#1f77b4;\" x=\"112.2655\" xlink:href=\"#m1420c0126d\" y=\"86.966293\"/>\r\n     <use style=\"fill:#1f77b4;stroke:#1f77b4;\" x=\"112.8682\" xlink:href=\"#m1420c0126d\" y=\"134.30273\"/>\r\n     <use style=\"fill:#1f77b4;stroke:#1f77b4;\" x=\"113.4709\" xlink:href=\"#m1420c0126d\" y=\"125.471656\"/>\r\n     <use style=\"fill:#1f77b4;stroke:#1f77b4;\" x=\"114.073601\" xlink:href=\"#m1420c0126d\" y=\"131.489884\"/>\r\n     <use style=\"fill:#1f77b4;stroke:#1f77b4;\" x=\"114.676301\" xlink:href=\"#m1420c0126d\" y=\"151.86345\"/>\r\n     <use style=\"fill:#1f77b4;stroke:#1f77b4;\" x=\"115.279001\" xlink:href=\"#m1420c0126d\" y=\"110.295016\"/>\r\n     <use style=\"fill:#1f77b4;stroke:#1f77b4;\" x=\"115.881701\" xlink:href=\"#m1420c0126d\" y=\"117.304537\"/>\r\n     <use style=\"fill:#1f77b4;stroke:#1f77b4;\" x=\"116.484402\" xlink:href=\"#m1420c0126d\" y=\"116.570755\"/>\r\n     <use style=\"fill:#1f77b4;stroke:#1f77b4;\" x=\"117.087102\" xlink:href=\"#m1420c0126d\" y=\"147.336247\"/>\r\n     <use style=\"fill:#1f77b4;stroke:#1f77b4;\" x=\"117.689802\" xlink:href=\"#m1420c0126d\" y=\"105.41252\"/>\r\n     <use style=\"fill:#1f77b4;stroke:#1f77b4;\" x=\"118.292503\" xlink:href=\"#m1420c0126d\" y=\"156.356265\"/>\r\n     <use style=\"fill:#1f77b4;stroke:#1f77b4;\" x=\"118.895203\" xlink:href=\"#m1420c0126d\" y=\"120.175812\"/>\r\n     <use style=\"fill:#1f77b4;stroke:#1f77b4;\" x=\"119.497903\" xlink:href=\"#m1420c0126d\" y=\"90.880717\"/>\r\n     <use style=\"fill:#1f77b4;stroke:#1f77b4;\" x=\"120.100603\" xlink:href=\"#m1420c0126d\" y=\"148.985931\"/>\r\n     <use style=\"fill:#1f77b4;stroke:#1f77b4;\" x=\"120.703304\" xlink:href=\"#m1420c0126d\" y=\"141.246678\"/>\r\n     <use style=\"fill:#1f77b4;stroke:#1f77b4;\" x=\"121.306004\" xlink:href=\"#m1420c0126d\" y=\"129.037439\"/>\r\n     <use style=\"fill:#1f77b4;stroke:#1f77b4;\" x=\"121.908704\" xlink:href=\"#m1420c0126d\" y=\"140.132216\"/>\r\n     <use style=\"fill:#1f77b4;stroke:#1f77b4;\" x=\"122.511404\" xlink:href=\"#m1420c0126d\" y=\"159.459103\"/>\r\n     <use style=\"fill:#1f77b4;stroke:#1f77b4;\" x=\"123.114105\" xlink:href=\"#m1420c0126d\" y=\"129.6008\"/>\r\n     <use style=\"fill:#1f77b4;stroke:#1f77b4;\" x=\"123.716805\" xlink:href=\"#m1420c0126d\" y=\"150.533009\"/>\r\n     <use style=\"fill:#1f77b4;stroke:#1f77b4;\" x=\"124.319505\" xlink:href=\"#m1420c0126d\" y=\"122.082778\"/>\r\n     <use style=\"fill:#1f77b4;stroke:#1f77b4;\" x=\"124.922206\" xlink:href=\"#m1420c0126d\" y=\"147.956156\"/>\r\n     <use style=\"fill:#1f77b4;stroke:#1f77b4;\" x=\"125.524906\" xlink:href=\"#m1420c0126d\" y=\"102.002438\"/>\r\n     <use style=\"fill:#1f77b4;stroke:#1f77b4;\" x=\"126.127606\" xlink:href=\"#m1420c0126d\" y=\"145.483539\"/>\r\n     <use style=\"fill:#1f77b4;stroke:#1f77b4;\" x=\"126.730306\" xlink:href=\"#m1420c0126d\" y=\"136.889414\"/>\r\n     <use style=\"fill:#1f77b4;stroke:#1f77b4;\" x=\"127.333007\" xlink:href=\"#m1420c0126d\" y=\"115.625958\"/>\r\n     <use style=\"fill:#1f77b4;stroke:#1f77b4;\" x=\"127.935707\" xlink:href=\"#m1420c0126d\" y=\"153.974346\"/>\r\n     <use style=\"fill:#1f77b4;stroke:#1f77b4;\" x=\"128.538407\" xlink:href=\"#m1420c0126d\" y=\"126.588901\"/>\r\n     <use style=\"fill:#1f77b4;stroke:#1f77b4;\" x=\"129.141107\" xlink:href=\"#m1420c0126d\" y=\"106.230462\"/>\r\n     <use style=\"fill:#1f77b4;stroke:#1f77b4;\" x=\"129.743808\" xlink:href=\"#m1420c0126d\" y=\"161.225982\"/>\r\n     <use style=\"fill:#1f77b4;stroke:#1f77b4;\" x=\"130.346508\" xlink:href=\"#m1420c0126d\" y=\"127.373597\"/>\r\n     <use style=\"fill:#1f77b4;stroke:#1f77b4;\" x=\"130.949208\" xlink:href=\"#m1420c0126d\" y=\"125.939789\"/>\r\n     <use style=\"fill:#1f77b4;stroke:#1f77b4;\" x=\"131.551908\" xlink:href=\"#m1420c0126d\" y=\"116.013461\"/>\r\n     <use style=\"fill:#1f77b4;stroke:#1f77b4;\" x=\"132.154609\" xlink:href=\"#m1420c0126d\" y=\"154.415658\"/>\r\n     <use style=\"fill:#1f77b4;stroke:#1f77b4;\" x=\"132.757309\" xlink:href=\"#m1420c0126d\" y=\"156.055656\"/>\r\n     <use style=\"fill:#1f77b4;stroke:#1f77b4;\" x=\"133.360009\" xlink:href=\"#m1420c0126d\" y=\"120.891394\"/>\r\n     <use style=\"fill:#1f77b4;stroke:#1f77b4;\" x=\"133.96271\" xlink:href=\"#m1420c0126d\" y=\"125.17975\"/>\r\n     <use style=\"fill:#1f77b4;stroke:#1f77b4;\" x=\"134.56541\" xlink:href=\"#m1420c0126d\" y=\"126.060553\"/>\r\n     <use style=\"fill:#1f77b4;stroke:#1f77b4;\" x=\"135.16811\" xlink:href=\"#m1420c0126d\" y=\"124.205872\"/>\r\n     <use style=\"fill:#1f77b4;stroke:#1f77b4;\" x=\"135.77081\" xlink:href=\"#m1420c0126d\" y=\"143.969445\"/>\r\n     <use style=\"fill:#1f77b4;stroke:#1f77b4;\" x=\"136.373511\" xlink:href=\"#m1420c0126d\" y=\"126.383767\"/>\r\n     <use style=\"fill:#1f77b4;stroke:#1f77b4;\" x=\"136.976211\" xlink:href=\"#m1420c0126d\" y=\"125.198322\"/>\r\n     <use style=\"fill:#1f77b4;stroke:#1f77b4;\" x=\"137.578911\" xlink:href=\"#m1420c0126d\" y=\"144.713557\"/>\r\n     <use style=\"fill:#1f77b4;stroke:#1f77b4;\" x=\"138.181611\" xlink:href=\"#m1420c0126d\" y=\"94.631478\"/>\r\n     <use style=\"fill:#1f77b4;stroke:#1f77b4;\" x=\"138.784312\" xlink:href=\"#m1420c0126d\" y=\"121.646588\"/>\r\n     <use style=\"fill:#1f77b4;stroke:#1f77b4;\" x=\"139.387012\" xlink:href=\"#m1420c0126d\" y=\"154.096987\"/>\r\n     <use style=\"fill:#1f77b4;stroke:#1f77b4;\" x=\"139.989712\" xlink:href=\"#m1420c0126d\" y=\"118.039633\"/>\r\n     <use style=\"fill:#1f77b4;stroke:#1f77b4;\" x=\"140.592413\" xlink:href=\"#m1420c0126d\" y=\"149.949131\"/>\r\n     <use style=\"fill:#1f77b4;stroke:#1f77b4;\" x=\"141.195113\" xlink:href=\"#m1420c0126d\" y=\"115.427718\"/>\r\n     <use style=\"fill:#1f77b4;stroke:#1f77b4;\" x=\"141.797813\" xlink:href=\"#m1420c0126d\" y=\"108.094541\"/>\r\n     <use style=\"fill:#1f77b4;stroke:#1f77b4;\" x=\"142.400513\" xlink:href=\"#m1420c0126d\" y=\"147.030836\"/>\r\n     <use style=\"fill:#1f77b4;stroke:#1f77b4;\" x=\"143.003214\" xlink:href=\"#m1420c0126d\" y=\"111.855891\"/>\r\n     <use style=\"fill:#1f77b4;stroke:#1f77b4;\" x=\"143.605914\" xlink:href=\"#m1420c0126d\" y=\"122.705249\"/>\r\n     <use style=\"fill:#1f77b4;stroke:#1f77b4;\" x=\"144.208614\" xlink:href=\"#m1420c0126d\" y=\"114.579716\"/>\r\n     <use style=\"fill:#1f77b4;stroke:#1f77b4;\" x=\"144.811314\" xlink:href=\"#m1420c0126d\" y=\"93.210455\"/>\r\n     <use style=\"fill:#1f77b4;stroke:#1f77b4;\" x=\"145.414015\" xlink:href=\"#m1420c0126d\" y=\"135.74895\"/>\r\n     <use style=\"fill:#1f77b4;stroke:#1f77b4;\" x=\"146.016715\" xlink:href=\"#m1420c0126d\" y=\"145.891363\"/>\r\n     <use style=\"fill:#1f77b4;stroke:#1f77b4;\" x=\"146.619415\" xlink:href=\"#m1420c0126d\" y=\"148.633225\"/>\r\n     <use style=\"fill:#1f77b4;stroke:#1f77b4;\" x=\"147.222115\" xlink:href=\"#m1420c0126d\" y=\"147.193766\"/>\r\n     <use style=\"fill:#1f77b4;stroke:#1f77b4;\" x=\"147.824816\" xlink:href=\"#m1420c0126d\" y=\"132.413583\"/>\r\n     <use style=\"fill:#1f77b4;stroke:#1f77b4;\" x=\"148.427516\" xlink:href=\"#m1420c0126d\" y=\"124.012936\"/>\r\n     <use style=\"fill:#1f77b4;stroke:#1f77b4;\" x=\"149.030216\" xlink:href=\"#m1420c0126d\" y=\"125.297\"/>\r\n     <use style=\"fill:#1f77b4;stroke:#1f77b4;\" x=\"149.632917\" xlink:href=\"#m1420c0126d\" y=\"114.180832\"/>\r\n     <use style=\"fill:#1f77b4;stroke:#1f77b4;\" x=\"150.235617\" xlink:href=\"#m1420c0126d\" y=\"130.604703\"/>\r\n     <use style=\"fill:#1f77b4;stroke:#1f77b4;\" x=\"150.838317\" xlink:href=\"#m1420c0126d\" y=\"101.428118\"/>\r\n     <use style=\"fill:#1f77b4;stroke:#1f77b4;\" x=\"151.441017\" xlink:href=\"#m1420c0126d\" y=\"136.238505\"/>\r\n     <use style=\"fill:#1f77b4;stroke:#1f77b4;\" x=\"152.043718\" xlink:href=\"#m1420c0126d\" y=\"75.553518\"/>\r\n     <use style=\"fill:#1f77b4;stroke:#1f77b4;\" x=\"152.646418\" xlink:href=\"#m1420c0126d\" y=\"118.11927\"/>\r\n     <use style=\"fill:#1f77b4;stroke:#1f77b4;\" x=\"153.249118\" xlink:href=\"#m1420c0126d\" y=\"148.367399\"/>\r\n     <use style=\"fill:#1f77b4;stroke:#1f77b4;\" x=\"153.851818\" xlink:href=\"#m1420c0126d\" y=\"152.774777\"/>\r\n     <use style=\"fill:#1f77b4;stroke:#1f77b4;\" x=\"154.454519\" xlink:href=\"#m1420c0126d\" y=\"120.977827\"/>\r\n     <use style=\"fill:#1f77b4;stroke:#1f77b4;\" x=\"155.057219\" xlink:href=\"#m1420c0126d\" y=\"135.457198\"/>\r\n     <use style=\"fill:#1f77b4;stroke:#1f77b4;\" x=\"155.659919\" xlink:href=\"#m1420c0126d\" y=\"116.17338\"/>\r\n     <use style=\"fill:#1f77b4;stroke:#1f77b4;\" x=\"156.26262\" xlink:href=\"#m1420c0126d\" y=\"121.108803\"/>\r\n     <use style=\"fill:#1f77b4;stroke:#1f77b4;\" x=\"156.86532\" xlink:href=\"#m1420c0126d\" y=\"132.372333\"/>\r\n     <use style=\"fill:#1f77b4;stroke:#1f77b4;\" x=\"157.46802\" xlink:href=\"#m1420c0126d\" y=\"148.399302\"/>\r\n     <use style=\"fill:#1f77b4;stroke:#1f77b4;\" x=\"158.07072\" xlink:href=\"#m1420c0126d\" y=\"162.293228\"/>\r\n     <use style=\"fill:#1f77b4;stroke:#1f77b4;\" x=\"158.673421\" xlink:href=\"#m1420c0126d\" y=\"140.149053\"/>\r\n     <use style=\"fill:#1f77b4;stroke:#1f77b4;\" x=\"159.276121\" xlink:href=\"#m1420c0126d\" y=\"113.030266\"/>\r\n     <use style=\"fill:#1f77b4;stroke:#1f77b4;\" x=\"159.878821\" xlink:href=\"#m1420c0126d\" y=\"126.399407\"/>\r\n     <use style=\"fill:#1f77b4;stroke:#1f77b4;\" x=\"160.481521\" xlink:href=\"#m1420c0126d\" y=\"156.917901\"/>\r\n     <use style=\"fill:#1f77b4;stroke:#1f77b4;\" x=\"161.084222\" xlink:href=\"#m1420c0126d\" y=\"127.23878\"/>\r\n     <use style=\"fill:#1f77b4;stroke:#1f77b4;\" x=\"161.686922\" xlink:href=\"#m1420c0126d\" y=\"122.777648\"/>\r\n     <use style=\"fill:#1f77b4;stroke:#1f77b4;\" x=\"162.289622\" xlink:href=\"#m1420c0126d\" y=\"149.461503\"/>\r\n     <use style=\"fill:#1f77b4;stroke:#1f77b4;\" x=\"162.892323\" xlink:href=\"#m1420c0126d\" y=\"127.627081\"/>\r\n     <use style=\"fill:#1f77b4;stroke:#1f77b4;\" x=\"163.495023\" xlink:href=\"#m1420c0126d\" y=\"129.638054\"/>\r\n     <use style=\"fill:#1f77b4;stroke:#1f77b4;\" x=\"164.097723\" xlink:href=\"#m1420c0126d\" y=\"155.057102\"/>\r\n     <use style=\"fill:#1f77b4;stroke:#1f77b4;\" x=\"164.700423\" xlink:href=\"#m1420c0126d\" y=\"123.28023\"/>\r\n     <use style=\"fill:#1f77b4;stroke:#1f77b4;\" x=\"165.303124\" xlink:href=\"#m1420c0126d\" y=\"118.951663\"/>\r\n     <use style=\"fill:#1f77b4;stroke:#1f77b4;\" x=\"165.905824\" xlink:href=\"#m1420c0126d\" y=\"107.808235\"/>\r\n     <use style=\"fill:#1f77b4;stroke:#1f77b4;\" x=\"166.508524\" xlink:href=\"#m1420c0126d\" y=\"108.386107\"/>\r\n     <use style=\"fill:#1f77b4;stroke:#1f77b4;\" x=\"167.111224\" xlink:href=\"#m1420c0126d\" y=\"160.31696\"/>\r\n     <use style=\"fill:#1f77b4;stroke:#1f77b4;\" x=\"167.713925\" xlink:href=\"#m1420c0126d\" y=\"150.954819\"/>\r\n     <use style=\"fill:#1f77b4;stroke:#1f77b4;\" x=\"168.316625\" xlink:href=\"#m1420c0126d\" y=\"119.813892\"/>\r\n     <use style=\"fill:#1f77b4;stroke:#1f77b4;\" x=\"168.919325\" xlink:href=\"#m1420c0126d\" y=\"119.818651\"/>\r\n     <use style=\"fill:#1f77b4;stroke:#1f77b4;\" x=\"169.522025\" xlink:href=\"#m1420c0126d\" y=\"119.769366\"/>\r\n     <use style=\"fill:#1f77b4;stroke:#1f77b4;\" x=\"170.124726\" xlink:href=\"#m1420c0126d\" y=\"47.68357\"/>\r\n     <use style=\"fill:#1f77b4;stroke:#1f77b4;\" x=\"170.727426\" xlink:href=\"#m1420c0126d\" y=\"118.516821\"/>\r\n     <use style=\"fill:#1f77b4;stroke:#1f77b4;\" x=\"171.330126\" xlink:href=\"#m1420c0126d\" y=\"106.251458\"/>\r\n     <use style=\"fill:#1f77b4;stroke:#1f77b4;\" x=\"171.932827\" xlink:href=\"#m1420c0126d\" y=\"110.145922\"/>\r\n     <use style=\"fill:#1f77b4;stroke:#1f77b4;\" x=\"172.535527\" xlink:href=\"#m1420c0126d\" y=\"116.690538\"/>\r\n     <use style=\"fill:#1f77b4;stroke:#1f77b4;\" x=\"173.138227\" xlink:href=\"#m1420c0126d\" y=\"137.742802\"/>\r\n     <use style=\"fill:#1f77b4;stroke:#1f77b4;\" x=\"173.740927\" xlink:href=\"#m1420c0126d\" y=\"114.283056\"/>\r\n     <use style=\"fill:#1f77b4;stroke:#1f77b4;\" x=\"174.343628\" xlink:href=\"#m1420c0126d\" y=\"147.788515\"/>\r\n     <use style=\"fill:#1f77b4;stroke:#1f77b4;\" x=\"174.946328\" xlink:href=\"#m1420c0126d\" y=\"136.063025\"/>\r\n     <use style=\"fill:#1f77b4;stroke:#1f77b4;\" x=\"175.549028\" xlink:href=\"#m1420c0126d\" y=\"141.537095\"/>\r\n     <use style=\"fill:#1f77b4;stroke:#1f77b4;\" x=\"176.151728\" xlink:href=\"#m1420c0126d\" y=\"129.064102\"/>\r\n     <use style=\"fill:#1f77b4;stroke:#1f77b4;\" x=\"176.754429\" xlink:href=\"#m1420c0126d\" y=\"79.781427\"/>\r\n     <use style=\"fill:#1f77b4;stroke:#1f77b4;\" x=\"177.357129\" xlink:href=\"#m1420c0126d\" y=\"172.161747\"/>\r\n     <use style=\"fill:#1f77b4;stroke:#1f77b4;\" x=\"177.959829\" xlink:href=\"#m1420c0126d\" y=\"115.660639\"/>\r\n     <use style=\"fill:#1f77b4;stroke:#1f77b4;\" x=\"178.56253\" xlink:href=\"#m1420c0126d\" y=\"166.675237\"/>\r\n     <use style=\"fill:#1f77b4;stroke:#1f77b4;\" x=\"179.16523\" xlink:href=\"#m1420c0126d\" y=\"141.366947\"/>\r\n     <use style=\"fill:#1f77b4;stroke:#1f77b4;\" x=\"179.76793\" xlink:href=\"#m1420c0126d\" y=\"106.592332\"/>\r\n     <use style=\"fill:#1f77b4;stroke:#1f77b4;\" x=\"180.37063\" xlink:href=\"#m1420c0126d\" y=\"129.431699\"/>\r\n     <use style=\"fill:#1f77b4;stroke:#1f77b4;\" x=\"180.973331\" xlink:href=\"#m1420c0126d\" y=\"154.989089\"/>\r\n     <use style=\"fill:#1f77b4;stroke:#1f77b4;\" x=\"181.576031\" xlink:href=\"#m1420c0126d\" y=\"146.909123\"/>\r\n     <use style=\"fill:#1f77b4;stroke:#1f77b4;\" x=\"182.178731\" xlink:href=\"#m1420c0126d\" y=\"115.596174\"/>\r\n     <use style=\"fill:#1f77b4;stroke:#1f77b4;\" x=\"182.781431\" xlink:href=\"#m1420c0126d\" y=\"147.312511\"/>\r\n     <use style=\"fill:#1f77b4;stroke:#1f77b4;\" x=\"183.384132\" xlink:href=\"#m1420c0126d\" y=\"125.983965\"/>\r\n     <use style=\"fill:#1f77b4;stroke:#1f77b4;\" x=\"183.986832\" xlink:href=\"#m1420c0126d\" y=\"129.837305\"/>\r\n     <use style=\"fill:#1f77b4;stroke:#1f77b4;\" x=\"184.589532\" xlink:href=\"#m1420c0126d\" y=\"145.627208\"/>\r\n     <use style=\"fill:#1f77b4;stroke:#1f77b4;\" x=\"185.192233\" xlink:href=\"#m1420c0126d\" y=\"82.206936\"/>\r\n     <use style=\"fill:#1f77b4;stroke:#1f77b4;\" x=\"185.794933\" xlink:href=\"#m1420c0126d\" y=\"116.450832\"/>\r\n     <use style=\"fill:#1f77b4;stroke:#1f77b4;\" x=\"186.397633\" xlink:href=\"#m1420c0126d\" y=\"177.015721\"/>\r\n     <use style=\"fill:#1f77b4;stroke:#1f77b4;\" x=\"187.000333\" xlink:href=\"#m1420c0126d\" y=\"126.610162\"/>\r\n     <use style=\"fill:#1f77b4;stroke:#1f77b4;\" x=\"187.603034\" xlink:href=\"#m1420c0126d\" y=\"146.008443\"/>\r\n     <use style=\"fill:#1f77b4;stroke:#1f77b4;\" x=\"188.205734\" xlink:href=\"#m1420c0126d\" y=\"111.325791\"/>\r\n     <use style=\"fill:#1f77b4;stroke:#1f77b4;\" x=\"188.808434\" xlink:href=\"#m1420c0126d\" y=\"149.072097\"/>\r\n     <use style=\"fill:#1f77b4;stroke:#1f77b4;\" x=\"189.411134\" xlink:href=\"#m1420c0126d\" y=\"133.508335\"/>\r\n     <use style=\"fill:#1f77b4;stroke:#1f77b4;\" x=\"190.013835\" xlink:href=\"#m1420c0126d\" y=\"119.221266\"/>\r\n     <use style=\"fill:#1f77b4;stroke:#1f77b4;\" x=\"190.616535\" xlink:href=\"#m1420c0126d\" y=\"110.861138\"/>\r\n     <use style=\"fill:#1f77b4;stroke:#1f77b4;\" x=\"191.219235\" xlink:href=\"#m1420c0126d\" y=\"158.660135\"/>\r\n     <use style=\"fill:#1f77b4;stroke:#1f77b4;\" x=\"191.821935\" xlink:href=\"#m1420c0126d\" y=\"138.628312\"/>\r\n     <use style=\"fill:#1f77b4;stroke:#1f77b4;\" x=\"192.424636\" xlink:href=\"#m1420c0126d\" y=\"141.908809\"/>\r\n     <use style=\"fill:#1f77b4;stroke:#1f77b4;\" x=\"193.027336\" xlink:href=\"#m1420c0126d\" y=\"146.086168\"/>\r\n     <use style=\"fill:#1f77b4;stroke:#1f77b4;\" x=\"193.630036\" xlink:href=\"#m1420c0126d\" y=\"89.660763\"/>\r\n     <use style=\"fill:#1f77b4;stroke:#1f77b4;\" x=\"194.232737\" xlink:href=\"#m1420c0126d\" y=\"121.396094\"/>\r\n     <use style=\"fill:#1f77b4;stroke:#1f77b4;\" x=\"194.835437\" xlink:href=\"#m1420c0126d\" y=\"160.41513\"/>\r\n     <use style=\"fill:#1f77b4;stroke:#1f77b4;\" x=\"195.438137\" xlink:href=\"#m1420c0126d\" y=\"109.315272\"/>\r\n     <use style=\"fill:#1f77b4;stroke:#1f77b4;\" x=\"196.040837\" xlink:href=\"#m1420c0126d\" y=\"80.937678\"/>\r\n     <use style=\"fill:#1f77b4;stroke:#1f77b4;\" x=\"196.643538\" xlink:href=\"#m1420c0126d\" y=\"106.527211\"/>\r\n     <use style=\"fill:#1f77b4;stroke:#1f77b4;\" x=\"197.246238\" xlink:href=\"#m1420c0126d\" y=\"166.758199\"/>\r\n     <use style=\"fill:#1f77b4;stroke:#1f77b4;\" x=\"197.848938\" xlink:href=\"#m1420c0126d\" y=\"142.329009\"/>\r\n     <use style=\"fill:#1f77b4;stroke:#1f77b4;\" x=\"198.451638\" xlink:href=\"#m1420c0126d\" y=\"100.820602\"/>\r\n     <use style=\"fill:#1f77b4;stroke:#1f77b4;\" x=\"199.054339\" xlink:href=\"#m1420c0126d\" y=\"147.684642\"/>\r\n     <use style=\"fill:#1f77b4;stroke:#1f77b4;\" x=\"199.657039\" xlink:href=\"#m1420c0126d\" y=\"120.299449\"/>\r\n     <use style=\"fill:#1f77b4;stroke:#1f77b4;\" x=\"200.259739\" xlink:href=\"#m1420c0126d\" y=\"112.385323\"/>\r\n     <use style=\"fill:#1f77b4;stroke:#1f77b4;\" x=\"200.86244\" xlink:href=\"#m1420c0126d\" y=\"153.027613\"/>\r\n     <use style=\"fill:#1f77b4;stroke:#1f77b4;\" x=\"201.46514\" xlink:href=\"#m1420c0126d\" y=\"132.29343\"/>\r\n     <use style=\"fill:#1f77b4;stroke:#1f77b4;\" x=\"202.06784\" xlink:href=\"#m1420c0126d\" y=\"208.666663\"/>\r\n     <use style=\"fill:#1f77b4;stroke:#1f77b4;\" x=\"202.67054\" xlink:href=\"#m1420c0126d\" y=\"155.504753\"/>\r\n     <use style=\"fill:#1f77b4;stroke:#1f77b4;\" x=\"203.273241\" xlink:href=\"#m1420c0126d\" y=\"136.954103\"/>\r\n     <use style=\"fill:#1f77b4;stroke:#1f77b4;\" x=\"203.875941\" xlink:href=\"#m1420c0126d\" y=\"160.997732\"/>\r\n     <use style=\"fill:#1f77b4;stroke:#1f77b4;\" x=\"204.478641\" xlink:href=\"#m1420c0126d\" y=\"91.370843\"/>\r\n     <use style=\"fill:#1f77b4;stroke:#1f77b4;\" x=\"205.081341\" xlink:href=\"#m1420c0126d\" y=\"165.539408\"/>\r\n     <use style=\"fill:#1f77b4;stroke:#1f77b4;\" x=\"205.684042\" xlink:href=\"#m1420c0126d\" y=\"141.557149\"/>\r\n     <use style=\"fill:#1f77b4;stroke:#1f77b4;\" x=\"206.286742\" xlink:href=\"#m1420c0126d\" y=\"127.685189\"/>\r\n     <use style=\"fill:#1f77b4;stroke:#1f77b4;\" x=\"206.889442\" xlink:href=\"#m1420c0126d\" y=\"95.715669\"/>\r\n     <use style=\"fill:#1f77b4;stroke:#1f77b4;\" x=\"207.492142\" xlink:href=\"#m1420c0126d\" y=\"165.957422\"/>\r\n     <use style=\"fill:#1f77b4;stroke:#1f77b4;\" x=\"208.094843\" xlink:href=\"#m1420c0126d\" y=\"102.385015\"/>\r\n     <use style=\"fill:#1f77b4;stroke:#1f77b4;\" x=\"208.697543\" xlink:href=\"#m1420c0126d\" y=\"130.616434\"/>\r\n     <use style=\"fill:#1f77b4;stroke:#1f77b4;\" x=\"209.300243\" xlink:href=\"#m1420c0126d\" y=\"154.998039\"/>\r\n     <use style=\"fill:#1f77b4;stroke:#1f77b4;\" x=\"209.902944\" xlink:href=\"#m1420c0126d\" y=\"119.483913\"/>\r\n     <use style=\"fill:#1f77b4;stroke:#1f77b4;\" x=\"210.505644\" xlink:href=\"#m1420c0126d\" y=\"125.954008\"/>\r\n     <use style=\"fill:#1f77b4;stroke:#1f77b4;\" x=\"211.108344\" xlink:href=\"#m1420c0126d\" y=\"145.712644\"/>\r\n     <use style=\"fill:#1f77b4;stroke:#1f77b4;\" x=\"211.711044\" xlink:href=\"#m1420c0126d\" y=\"129.137649\"/>\r\n     <use style=\"fill:#1f77b4;stroke:#1f77b4;\" x=\"212.313745\" xlink:href=\"#m1420c0126d\" y=\"140.435611\"/>\r\n     <use style=\"fill:#1f77b4;stroke:#1f77b4;\" x=\"212.916445\" xlink:href=\"#m1420c0126d\" y=\"128.043015\"/>\r\n     <use style=\"fill:#1f77b4;stroke:#1f77b4;\" x=\"213.519145\" xlink:href=\"#m1420c0126d\" y=\"114.359667\"/>\r\n     <use style=\"fill:#1f77b4;stroke:#1f77b4;\" x=\"214.121845\" xlink:href=\"#m1420c0126d\" y=\"91.246806\"/>\r\n     <use style=\"fill:#1f77b4;stroke:#1f77b4;\" x=\"214.724546\" xlink:href=\"#m1420c0126d\" y=\"161.851555\"/>\r\n     <use style=\"fill:#1f77b4;stroke:#1f77b4;\" x=\"215.327246\" xlink:href=\"#m1420c0126d\" y=\"77.368284\"/>\r\n     <use style=\"fill:#1f77b4;stroke:#1f77b4;\" x=\"215.929946\" xlink:href=\"#m1420c0126d\" y=\"179.926315\"/>\r\n     <use style=\"fill:#1f77b4;stroke:#1f77b4;\" x=\"216.532647\" xlink:href=\"#m1420c0126d\" y=\"134.689722\"/>\r\n     <use style=\"fill:#1f77b4;stroke:#1f77b4;\" x=\"217.135347\" xlink:href=\"#m1420c0126d\" y=\"116.023047\"/>\r\n     <use style=\"fill:#1f77b4;stroke:#1f77b4;\" x=\"217.738047\" xlink:href=\"#m1420c0126d\" y=\"123.763324\"/>\r\n     <use style=\"fill:#1f77b4;stroke:#1f77b4;\" x=\"218.340747\" xlink:href=\"#m1420c0126d\" y=\"146.642427\"/>\r\n     <use style=\"fill:#1f77b4;stroke:#1f77b4;\" x=\"218.943448\" xlink:href=\"#m1420c0126d\" y=\"136.150441\"/>\r\n     <use style=\"fill:#1f77b4;stroke:#1f77b4;\" x=\"219.546148\" xlink:href=\"#m1420c0126d\" y=\"143.406766\"/>\r\n     <use style=\"fill:#1f77b4;stroke:#1f77b4;\" x=\"220.148848\" xlink:href=\"#m1420c0126d\" y=\"145.887716\"/>\r\n     <use style=\"fill:#1f77b4;stroke:#1f77b4;\" x=\"220.751548\" xlink:href=\"#m1420c0126d\" y=\"109.171749\"/>\r\n     <use style=\"fill:#1f77b4;stroke:#1f77b4;\" x=\"221.354249\" xlink:href=\"#m1420c0126d\" y=\"121.732395\"/>\r\n     <use style=\"fill:#1f77b4;stroke:#1f77b4;\" x=\"221.956949\" xlink:href=\"#m1420c0126d\" y=\"148.632765\"/>\r\n     <use style=\"fill:#1f77b4;stroke:#1f77b4;\" x=\"222.559649\" xlink:href=\"#m1420c0126d\" y=\"107.756876\"/>\r\n     <use style=\"fill:#1f77b4;stroke:#1f77b4;\" x=\"223.16235\" xlink:href=\"#m1420c0126d\" y=\"122.957228\"/>\r\n     <use style=\"fill:#1f77b4;stroke:#1f77b4;\" x=\"223.76505\" xlink:href=\"#m1420c0126d\" y=\"109.901548\"/>\r\n     <use style=\"fill:#1f77b4;stroke:#1f77b4;\" x=\"224.36775\" xlink:href=\"#m1420c0126d\" y=\"114.595162\"/>\r\n     <use style=\"fill:#1f77b4;stroke:#1f77b4;\" x=\"224.97045\" xlink:href=\"#m1420c0126d\" y=\"152.335204\"/>\r\n     <use style=\"fill:#1f77b4;stroke:#1f77b4;\" x=\"225.573151\" xlink:href=\"#m1420c0126d\" y=\"145.402998\"/>\r\n     <use style=\"fill:#1f77b4;stroke:#1f77b4;\" x=\"226.175851\" xlink:href=\"#m1420c0126d\" y=\"111.43808\"/>\r\n     <use style=\"fill:#1f77b4;stroke:#1f77b4;\" x=\"226.778551\" xlink:href=\"#m1420c0126d\" y=\"114.966311\"/>\r\n     <use style=\"fill:#1f77b4;stroke:#1f77b4;\" x=\"227.381251\" xlink:href=\"#m1420c0126d\" y=\"131.413125\"/>\r\n     <use style=\"fill:#1f77b4;stroke:#1f77b4;\" x=\"227.983952\" xlink:href=\"#m1420c0126d\" y=\"127.798693\"/>\r\n     <use style=\"fill:#1f77b4;stroke:#1f77b4;\" x=\"228.586652\" xlink:href=\"#m1420c0126d\" y=\"97.382019\"/>\r\n     <use style=\"fill:#1f77b4;stroke:#1f77b4;\" x=\"229.189352\" xlink:href=\"#m1420c0126d\" y=\"146.402634\"/>\r\n     <use style=\"fill:#1f77b4;stroke:#1f77b4;\" x=\"229.792052\" xlink:href=\"#m1420c0126d\" y=\"116.47158\"/>\r\n     <use style=\"fill:#1f77b4;stroke:#1f77b4;\" x=\"230.394753\" xlink:href=\"#m1420c0126d\" y=\"136.198508\"/>\r\n     <use style=\"fill:#1f77b4;stroke:#1f77b4;\" x=\"230.997453\" xlink:href=\"#m1420c0126d\" y=\"136.618357\"/>\r\n     <use style=\"fill:#1f77b4;stroke:#1f77b4;\" x=\"231.600153\" xlink:href=\"#m1420c0126d\" y=\"101.781255\"/>\r\n     <use style=\"fill:#1f77b4;stroke:#1f77b4;\" x=\"232.202854\" xlink:href=\"#m1420c0126d\" y=\"108.973814\"/>\r\n     <use style=\"fill:#1f77b4;stroke:#1f77b4;\" x=\"232.805554\" xlink:href=\"#m1420c0126d\" y=\"109.246477\"/>\r\n     <use style=\"fill:#1f77b4;stroke:#1f77b4;\" x=\"233.408254\" xlink:href=\"#m1420c0126d\" y=\"96.101784\"/>\r\n     <use style=\"fill:#1f77b4;stroke:#1f77b4;\" x=\"234.010954\" xlink:href=\"#m1420c0126d\" y=\"130.307049\"/>\r\n     <use style=\"fill:#1f77b4;stroke:#1f77b4;\" x=\"234.613655\" xlink:href=\"#m1420c0126d\" y=\"112.633956\"/>\r\n     <use style=\"fill:#1f77b4;stroke:#1f77b4;\" x=\"235.216355\" xlink:href=\"#m1420c0126d\" y=\"139.179788\"/>\r\n     <use style=\"fill:#1f77b4;stroke:#1f77b4;\" x=\"235.819055\" xlink:href=\"#m1420c0126d\" y=\"122.165488\"/>\r\n     <use style=\"fill:#1f77b4;stroke:#1f77b4;\" x=\"236.421755\" xlink:href=\"#m1420c0126d\" y=\"134.368102\"/>\r\n     <use style=\"fill:#1f77b4;stroke:#1f77b4;\" x=\"237.024456\" xlink:href=\"#m1420c0126d\" y=\"128.253297\"/>\r\n     <use style=\"fill:#1f77b4;stroke:#1f77b4;\" x=\"237.627156\" xlink:href=\"#m1420c0126d\" y=\"114.794876\"/>\r\n     <use style=\"fill:#1f77b4;stroke:#1f77b4;\" x=\"238.229856\" xlink:href=\"#m1420c0126d\" y=\"153.008335\"/>\r\n     <use style=\"fill:#1f77b4;stroke:#1f77b4;\" x=\"238.832557\" xlink:href=\"#m1420c0126d\" y=\"74.134861\"/>\r\n     <use style=\"fill:#1f77b4;stroke:#1f77b4;\" x=\"239.435257\" xlink:href=\"#m1420c0126d\" y=\"158.19906\"/>\r\n     <use style=\"fill:#1f77b4;stroke:#1f77b4;\" x=\"240.037957\" xlink:href=\"#m1420c0126d\" y=\"163.920644\"/>\r\n     <use style=\"fill:#1f77b4;stroke:#1f77b4;\" x=\"240.640657\" xlink:href=\"#m1420c0126d\" y=\"99.277899\"/>\r\n     <use style=\"fill:#1f77b4;stroke:#1f77b4;\" x=\"241.243358\" xlink:href=\"#m1420c0126d\" y=\"109.230262\"/>\r\n     <use style=\"fill:#1f77b4;stroke:#1f77b4;\" x=\"241.846058\" xlink:href=\"#m1420c0126d\" y=\"113.775328\"/>\r\n     <use style=\"fill:#1f77b4;stroke:#1f77b4;\" x=\"242.448758\" xlink:href=\"#m1420c0126d\" y=\"113.625187\"/>\r\n     <use style=\"fill:#1f77b4;stroke:#1f77b4;\" x=\"243.051458\" xlink:href=\"#m1420c0126d\" y=\"131.204247\"/>\r\n     <use style=\"fill:#1f77b4;stroke:#1f77b4;\" x=\"243.654159\" xlink:href=\"#m1420c0126d\" y=\"155.587507\"/>\r\n     <use style=\"fill:#1f77b4;stroke:#1f77b4;\" x=\"244.256859\" xlink:href=\"#m1420c0126d\" y=\"128.774867\"/>\r\n     <use style=\"fill:#1f77b4;stroke:#1f77b4;\" x=\"244.859559\" xlink:href=\"#m1420c0126d\" y=\"149.598498\"/>\r\n     <use style=\"fill:#1f77b4;stroke:#1f77b4;\" x=\"245.46226\" xlink:href=\"#m1420c0126d\" y=\"103.840759\"/>\r\n     <use style=\"fill:#1f77b4;stroke:#1f77b4;\" x=\"246.06496\" xlink:href=\"#m1420c0126d\" y=\"134.951558\"/>\r\n     <use style=\"fill:#1f77b4;stroke:#1f77b4;\" x=\"246.66766\" xlink:href=\"#m1420c0126d\" y=\"153.838888\"/>\r\n     <use style=\"fill:#1f77b4;stroke:#1f77b4;\" x=\"247.27036\" xlink:href=\"#m1420c0126d\" y=\"139.828706\"/>\r\n     <use style=\"fill:#1f77b4;stroke:#1f77b4;\" x=\"247.873061\" xlink:href=\"#m1420c0126d\" y=\"119.330728\"/>\r\n     <use style=\"fill:#1f77b4;stroke:#1f77b4;\" x=\"248.475761\" xlink:href=\"#m1420c0126d\" y=\"146.648767\"/>\r\n     <use style=\"fill:#1f77b4;stroke:#1f77b4;\" x=\"249.078461\" xlink:href=\"#m1420c0126d\" y=\"153.931295\"/>\r\n     <use style=\"fill:#1f77b4;stroke:#1f77b4;\" x=\"249.681161\" xlink:href=\"#m1420c0126d\" y=\"124.018267\"/>\r\n     <use style=\"fill:#1f77b4;stroke:#1f77b4;\" x=\"250.283862\" xlink:href=\"#m1420c0126d\" y=\"123.968538\"/>\r\n     <use style=\"fill:#1f77b4;stroke:#1f77b4;\" x=\"250.886562\" xlink:href=\"#m1420c0126d\" y=\"145.173068\"/>\r\n     <use style=\"fill:#1f77b4;stroke:#1f77b4;\" x=\"251.489262\" xlink:href=\"#m1420c0126d\" y=\"144.186445\"/>\r\n     <use style=\"fill:#1f77b4;stroke:#1f77b4;\" x=\"252.091962\" xlink:href=\"#m1420c0126d\" y=\"124.293019\"/>\r\n     <use style=\"fill:#1f77b4;stroke:#1f77b4;\" x=\"252.694663\" xlink:href=\"#m1420c0126d\" y=\"171.977038\"/>\r\n     <use style=\"fill:#1f77b4;stroke:#1f77b4;\" x=\"253.297363\" xlink:href=\"#m1420c0126d\" y=\"170.903778\"/>\r\n     <use style=\"fill:#1f77b4;stroke:#1f77b4;\" x=\"253.900063\" xlink:href=\"#m1420c0126d\" y=\"151.345021\"/>\r\n     <use style=\"fill:#1f77b4;stroke:#1f77b4;\" x=\"254.502764\" xlink:href=\"#m1420c0126d\" y=\"136.963473\"/>\r\n     <use style=\"fill:#1f77b4;stroke:#1f77b4;\" x=\"255.105464\" xlink:href=\"#m1420c0126d\" y=\"121.970366\"/>\r\n     <use style=\"fill:#1f77b4;stroke:#1f77b4;\" x=\"255.708164\" xlink:href=\"#m1420c0126d\" y=\"88.563253\"/>\r\n     <use style=\"fill:#1f77b4;stroke:#1f77b4;\" x=\"256.310864\" xlink:href=\"#m1420c0126d\" y=\"106.225856\"/>\r\n     <use style=\"fill:#1f77b4;stroke:#1f77b4;\" x=\"256.913565\" xlink:href=\"#m1420c0126d\" y=\"135.471942\"/>\r\n     <use style=\"fill:#1f77b4;stroke:#1f77b4;\" x=\"257.516265\" xlink:href=\"#m1420c0126d\" y=\"131.41606\"/>\r\n     <use style=\"fill:#1f77b4;stroke:#1f77b4;\" x=\"258.118965\" xlink:href=\"#m1420c0126d\" y=\"159.844632\"/>\r\n     <use style=\"fill:#1f77b4;stroke:#1f77b4;\" x=\"258.721665\" xlink:href=\"#m1420c0126d\" y=\"131.403687\"/>\r\n     <use style=\"fill:#1f77b4;stroke:#1f77b4;\" x=\"259.324366\" xlink:href=\"#m1420c0126d\" y=\"139.244312\"/>\r\n     <use style=\"fill:#1f77b4;stroke:#1f77b4;\" x=\"259.927066\" xlink:href=\"#m1420c0126d\" y=\"121.483573\"/>\r\n     <use style=\"fill:#1f77b4;stroke:#1f77b4;\" x=\"260.529766\" xlink:href=\"#m1420c0126d\" y=\"154.969661\"/>\r\n     <use style=\"fill:#1f77b4;stroke:#1f77b4;\" x=\"261.132467\" xlink:href=\"#m1420c0126d\" y=\"115.705602\"/>\r\n     <use style=\"fill:#1f77b4;stroke:#1f77b4;\" x=\"261.735167\" xlink:href=\"#m1420c0126d\" y=\"86.030919\"/>\r\n     <use style=\"fill:#1f77b4;stroke:#1f77b4;\" x=\"262.337867\" xlink:href=\"#m1420c0126d\" y=\"134.055393\"/>\r\n     <use style=\"fill:#1f77b4;stroke:#1f77b4;\" x=\"262.940567\" xlink:href=\"#m1420c0126d\" y=\"119.06935\"/>\r\n     <use style=\"fill:#1f77b4;stroke:#1f77b4;\" x=\"263.543268\" xlink:href=\"#m1420c0126d\" y=\"110.557635\"/>\r\n     <use style=\"fill:#1f77b4;stroke:#1f77b4;\" x=\"264.145968\" xlink:href=\"#m1420c0126d\" y=\"142.69843\"/>\r\n     <use style=\"fill:#1f77b4;stroke:#1f77b4;\" x=\"264.748668\" xlink:href=\"#m1420c0126d\" y=\"124.24641\"/>\r\n     <use style=\"fill:#1f77b4;stroke:#1f77b4;\" x=\"265.351368\" xlink:href=\"#m1420c0126d\" y=\"130.49471\"/>\r\n     <use style=\"fill:#1f77b4;stroke:#1f77b4;\" x=\"265.954069\" xlink:href=\"#m1420c0126d\" y=\"127.969991\"/>\r\n     <use style=\"fill:#1f77b4;stroke:#1f77b4;\" x=\"266.556769\" xlink:href=\"#m1420c0126d\" y=\"153.8444\"/>\r\n     <use style=\"fill:#1f77b4;stroke:#1f77b4;\" x=\"267.159469\" xlink:href=\"#m1420c0126d\" y=\"130.137517\"/>\r\n     <use style=\"fill:#1f77b4;stroke:#1f77b4;\" x=\"267.762169\" xlink:href=\"#m1420c0126d\" y=\"116.005778\"/>\r\n     <use style=\"fill:#1f77b4;stroke:#1f77b4;\" x=\"268.36487\" xlink:href=\"#m1420c0126d\" y=\"87.474505\"/>\r\n     <use style=\"fill:#1f77b4;stroke:#1f77b4;\" x=\"268.96757\" xlink:href=\"#m1420c0126d\" y=\"102.125424\"/>\r\n     <use style=\"fill:#1f77b4;stroke:#1f77b4;\" x=\"269.57027\" xlink:href=\"#m1420c0126d\" y=\"66.223897\"/>\r\n     <use style=\"fill:#1f77b4;stroke:#1f77b4;\" x=\"270.172971\" xlink:href=\"#m1420c0126d\" y=\"153.951172\"/>\r\n     <use style=\"fill:#1f77b4;stroke:#1f77b4;\" x=\"270.775671\" xlink:href=\"#m1420c0126d\" y=\"104.573529\"/>\r\n     <use style=\"fill:#1f77b4;stroke:#1f77b4;\" x=\"271.378371\" xlink:href=\"#m1420c0126d\" y=\"125.330061\"/>\r\n     <use style=\"fill:#1f77b4;stroke:#1f77b4;\" x=\"271.981071\" xlink:href=\"#m1420c0126d\" y=\"64.596939\"/>\r\n     <use style=\"fill:#1f77b4;stroke:#1f77b4;\" x=\"272.583772\" xlink:href=\"#m1420c0126d\" y=\"155.378177\"/>\r\n     <use style=\"fill:#1f77b4;stroke:#1f77b4;\" x=\"273.186472\" xlink:href=\"#m1420c0126d\" y=\"156.381985\"/>\r\n     <use style=\"fill:#1f77b4;stroke:#1f77b4;\" x=\"273.789172\" xlink:href=\"#m1420c0126d\" y=\"149.116143\"/>\r\n     <use style=\"fill:#1f77b4;stroke:#1f77b4;\" x=\"274.391872\" xlink:href=\"#m1420c0126d\" y=\"195.659272\"/>\r\n     <use style=\"fill:#1f77b4;stroke:#1f77b4;\" x=\"274.994573\" xlink:href=\"#m1420c0126d\" y=\"146.938322\"/>\r\n     <use style=\"fill:#1f77b4;stroke:#1f77b4;\" x=\"275.597273\" xlink:href=\"#m1420c0126d\" y=\"154.118409\"/>\r\n     <use style=\"fill:#1f77b4;stroke:#1f77b4;\" x=\"276.199973\" xlink:href=\"#m1420c0126d\" y=\"126.252004\"/>\r\n     <use style=\"fill:#1f77b4;stroke:#1f77b4;\" x=\"276.802674\" xlink:href=\"#m1420c0126d\" y=\"120.358218\"/>\r\n     <use style=\"fill:#1f77b4;stroke:#1f77b4;\" x=\"277.405374\" xlink:href=\"#m1420c0126d\" y=\"73.058231\"/>\r\n     <use style=\"fill:#1f77b4;stroke:#1f77b4;\" x=\"278.008074\" xlink:href=\"#m1420c0126d\" y=\"101.524127\"/>\r\n     <use style=\"fill:#1f77b4;stroke:#1f77b4;\" x=\"278.610774\" xlink:href=\"#m1420c0126d\" y=\"148.71446\"/>\r\n     <use style=\"fill:#1f77b4;stroke:#1f77b4;\" x=\"279.213475\" xlink:href=\"#m1420c0126d\" y=\"158.71623\"/>\r\n     <use style=\"fill:#1f77b4;stroke:#1f77b4;\" x=\"279.816175\" xlink:href=\"#m1420c0126d\" y=\"115.588693\"/>\r\n     <use style=\"fill:#1f77b4;stroke:#1f77b4;\" x=\"280.418875\" xlink:href=\"#m1420c0126d\" y=\"171.955461\"/>\r\n     <use style=\"fill:#1f77b4;stroke:#1f77b4;\" x=\"281.021575\" xlink:href=\"#m1420c0126d\" y=\"73.755343\"/>\r\n     <use style=\"fill:#1f77b4;stroke:#1f77b4;\" x=\"281.624276\" xlink:href=\"#m1420c0126d\" y=\"94.014319\"/>\r\n     <use style=\"fill:#1f77b4;stroke:#1f77b4;\" x=\"282.226976\" xlink:href=\"#m1420c0126d\" y=\"145.556858\"/>\r\n     <use style=\"fill:#1f77b4;stroke:#1f77b4;\" x=\"282.829676\" xlink:href=\"#m1420c0126d\" y=\"184.611038\"/>\r\n     <use style=\"fill:#1f77b4;stroke:#1f77b4;\" x=\"283.432377\" xlink:href=\"#m1420c0126d\" y=\"88.309619\"/>\r\n     <use style=\"fill:#1f77b4;stroke:#1f77b4;\" x=\"284.035077\" xlink:href=\"#m1420c0126d\" y=\"134.475182\"/>\r\n     <use style=\"fill:#1f77b4;stroke:#1f77b4;\" x=\"284.637777\" xlink:href=\"#m1420c0126d\" y=\"91.801953\"/>\r\n     <use style=\"fill:#1f77b4;stroke:#1f77b4;\" x=\"285.240477\" xlink:href=\"#m1420c0126d\" y=\"181.288389\"/>\r\n     <use style=\"fill:#1f77b4;stroke:#1f77b4;\" x=\"285.843178\" xlink:href=\"#m1420c0126d\" y=\"149.859567\"/>\r\n     <use style=\"fill:#1f77b4;stroke:#1f77b4;\" x=\"286.445878\" xlink:href=\"#m1420c0126d\" y=\"130.701026\"/>\r\n     <use style=\"fill:#1f77b4;stroke:#1f77b4;\" x=\"287.048578\" xlink:href=\"#m1420c0126d\" y=\"129.372905\"/>\r\n     <use style=\"fill:#1f77b4;stroke:#1f77b4;\" x=\"287.651278\" xlink:href=\"#m1420c0126d\" y=\"145.214217\"/>\r\n     <use style=\"fill:#1f77b4;stroke:#1f77b4;\" x=\"288.253979\" xlink:href=\"#m1420c0126d\" y=\"110.973262\"/>\r\n     <use style=\"fill:#1f77b4;stroke:#1f77b4;\" x=\"288.856679\" xlink:href=\"#m1420c0126d\" y=\"165.036238\"/>\r\n     <use style=\"fill:#1f77b4;stroke:#1f77b4;\" x=\"289.459379\" xlink:href=\"#m1420c0126d\" y=\"135.43342\"/>\r\n     <use style=\"fill:#1f77b4;stroke:#1f77b4;\" x=\"290.062079\" xlink:href=\"#m1420c0126d\" y=\"127.002088\"/>\r\n     <use style=\"fill:#1f77b4;stroke:#1f77b4;\" x=\"290.66478\" xlink:href=\"#m1420c0126d\" y=\"114.304139\"/>\r\n     <use style=\"fill:#1f77b4;stroke:#1f77b4;\" x=\"291.26748\" xlink:href=\"#m1420c0126d\" y=\"107.909843\"/>\r\n     <use style=\"fill:#1f77b4;stroke:#1f77b4;\" x=\"291.87018\" xlink:href=\"#m1420c0126d\" y=\"167.222571\"/>\r\n     <use style=\"fill:#1f77b4;stroke:#1f77b4;\" x=\"292.472881\" xlink:href=\"#m1420c0126d\" y=\"180.558304\"/>\r\n     <use style=\"fill:#1f77b4;stroke:#1f77b4;\" x=\"293.075581\" xlink:href=\"#m1420c0126d\" y=\"89.400098\"/>\r\n     <use style=\"fill:#1f77b4;stroke:#1f77b4;\" x=\"293.678281\" xlink:href=\"#m1420c0126d\" y=\"120.060583\"/>\r\n     <use style=\"fill:#1f77b4;stroke:#1f77b4;\" x=\"294.280981\" xlink:href=\"#m1420c0126d\" y=\"155.257153\"/>\r\n     <use style=\"fill:#1f77b4;stroke:#1f77b4;\" x=\"294.883682\" xlink:href=\"#m1420c0126d\" y=\"80.22171\"/>\r\n     <use style=\"fill:#1f77b4;stroke:#1f77b4;\" x=\"295.486382\" xlink:href=\"#m1420c0126d\" y=\"127.083131\"/>\r\n     <use style=\"fill:#1f77b4;stroke:#1f77b4;\" x=\"296.089082\" xlink:href=\"#m1420c0126d\" y=\"92.208762\"/>\r\n     <use style=\"fill:#1f77b4;stroke:#1f77b4;\" x=\"296.691782\" xlink:href=\"#m1420c0126d\" y=\"128.649751\"/>\r\n     <use style=\"fill:#1f77b4;stroke:#1f77b4;\" x=\"297.294483\" xlink:href=\"#m1420c0126d\" y=\"63.043283\"/>\r\n     <use style=\"fill:#1f77b4;stroke:#1f77b4;\" x=\"297.897183\" xlink:href=\"#m1420c0126d\" y=\"72.979428\"/>\r\n     <use style=\"fill:#1f77b4;stroke:#1f77b4;\" x=\"298.499883\" xlink:href=\"#m1420c0126d\" y=\"139.094338\"/>\r\n     <use style=\"fill:#1f77b4;stroke:#1f77b4;\" x=\"299.102584\" xlink:href=\"#m1420c0126d\" y=\"98.698504\"/>\r\n     <use style=\"fill:#1f77b4;stroke:#1f77b4;\" x=\"299.705284\" xlink:href=\"#m1420c0126d\" y=\"109.456182\"/>\r\n     <use style=\"fill:#1f77b4;stroke:#1f77b4;\" x=\"300.307984\" xlink:href=\"#m1420c0126d\" y=\"85.370262\"/>\r\n     <use style=\"fill:#1f77b4;stroke:#1f77b4;\" x=\"300.910684\" xlink:href=\"#m1420c0126d\" y=\"163.008499\"/>\r\n     <use style=\"fill:#1f77b4;stroke:#1f77b4;\" x=\"301.513385\" xlink:href=\"#m1420c0126d\" y=\"107.969872\"/>\r\n     <use style=\"fill:#1f77b4;stroke:#1f77b4;\" x=\"302.116085\" xlink:href=\"#m1420c0126d\" y=\"95.470904\"/>\r\n     <use style=\"fill:#1f77b4;stroke:#1f77b4;\" x=\"302.718785\" xlink:href=\"#m1420c0126d\" y=\"189.802204\"/>\r\n     <use style=\"fill:#1f77b4;stroke:#1f77b4;\" x=\"303.321485\" xlink:href=\"#m1420c0126d\" y=\"170.597356\"/>\r\n     <use style=\"fill:#1f77b4;stroke:#1f77b4;\" x=\"303.924186\" xlink:href=\"#m1420c0126d\" y=\"199.475016\"/>\r\n     <use style=\"fill:#1f77b4;stroke:#1f77b4;\" x=\"304.526886\" xlink:href=\"#m1420c0126d\" y=\"139.949508\"/>\r\n     <use style=\"fill:#1f77b4;stroke:#1f77b4;\" x=\"305.129586\" xlink:href=\"#m1420c0126d\" y=\"106.630011\"/>\r\n     <use style=\"fill:#1f77b4;stroke:#1f77b4;\" x=\"305.732287\" xlink:href=\"#m1420c0126d\" y=\"80.018648\"/>\r\n     <use style=\"fill:#1f77b4;stroke:#1f77b4;\" x=\"306.334987\" xlink:href=\"#m1420c0126d\" y=\"128.354681\"/>\r\n     <use style=\"fill:#1f77b4;stroke:#1f77b4;\" x=\"306.937687\" xlink:href=\"#m1420c0126d\" y=\"75.524586\"/>\r\n     <use style=\"fill:#1f77b4;stroke:#1f77b4;\" x=\"307.540387\" xlink:href=\"#m1420c0126d\" y=\"177.859335\"/>\r\n     <use style=\"fill:#1f77b4;stroke:#1f77b4;\" x=\"308.143088\" xlink:href=\"#m1420c0126d\" y=\"188.982903\"/>\r\n     <use style=\"fill:#1f77b4;stroke:#1f77b4;\" x=\"308.745788\" xlink:href=\"#m1420c0126d\" y=\"132.76646\"/>\r\n     <use style=\"fill:#1f77b4;stroke:#1f77b4;\" x=\"309.348488\" xlink:href=\"#m1420c0126d\" y=\"117.71164\"/>\r\n     <use style=\"fill:#1f77b4;stroke:#1f77b4;\" x=\"309.951188\" xlink:href=\"#m1420c0126d\" y=\"131.989687\"/>\r\n     <use style=\"fill:#1f77b4;stroke:#1f77b4;\" x=\"310.553889\" xlink:href=\"#m1420c0126d\" y=\"201.969744\"/>\r\n     <use style=\"fill:#1f77b4;stroke:#1f77b4;\" x=\"311.156589\" xlink:href=\"#m1420c0126d\" y=\"133.938606\"/>\r\n     <use style=\"fill:#1f77b4;stroke:#1f77b4;\" x=\"311.759289\" xlink:href=\"#m1420c0126d\" y=\"175.909677\"/>\r\n     <use style=\"fill:#1f77b4;stroke:#1f77b4;\" x=\"312.361989\" xlink:href=\"#m1420c0126d\" y=\"107.698073\"/>\r\n     <use style=\"fill:#1f77b4;stroke:#1f77b4;\" x=\"312.96469\" xlink:href=\"#m1420c0126d\" y=\"118.15852\"/>\r\n     <use style=\"fill:#1f77b4;stroke:#1f77b4;\" x=\"313.56739\" xlink:href=\"#m1420c0126d\" y=\"163.515829\"/>\r\n     <use style=\"fill:#1f77b4;stroke:#1f77b4;\" x=\"314.17009\" xlink:href=\"#m1420c0126d\" y=\"148.753251\"/>\r\n     <use style=\"fill:#1f77b4;stroke:#1f77b4;\" x=\"314.772791\" xlink:href=\"#m1420c0126d\" y=\"167.80841\"/>\r\n     <use style=\"fill:#1f77b4;stroke:#1f77b4;\" x=\"315.375491\" xlink:href=\"#m1420c0126d\" y=\"133.057867\"/>\r\n     <use style=\"fill:#1f77b4;stroke:#1f77b4;\" x=\"315.978191\" xlink:href=\"#m1420c0126d\" y=\"97.422801\"/>\r\n     <use style=\"fill:#1f77b4;stroke:#1f77b4;\" x=\"316.580891\" xlink:href=\"#m1420c0126d\" y=\"165.452158\"/>\r\n     <use style=\"fill:#1f77b4;stroke:#1f77b4;\" x=\"317.183592\" xlink:href=\"#m1420c0126d\" y=\"113.147443\"/>\r\n     <use style=\"fill:#1f77b4;stroke:#1f77b4;\" x=\"317.786292\" xlink:href=\"#m1420c0126d\" y=\"149.546333\"/>\r\n     <use style=\"fill:#1f77b4;stroke:#1f77b4;\" x=\"318.388992\" xlink:href=\"#m1420c0126d\" y=\"158.853059\"/>\r\n     <use style=\"fill:#1f77b4;stroke:#1f77b4;\" x=\"318.991692\" xlink:href=\"#m1420c0126d\" y=\"134.652854\"/>\r\n     <use style=\"fill:#1f77b4;stroke:#1f77b4;\" x=\"319.594393\" xlink:href=\"#m1420c0126d\" y=\"167.554134\"/>\r\n     <use style=\"fill:#1f77b4;stroke:#1f77b4;\" x=\"320.197093\" xlink:href=\"#m1420c0126d\" y=\"150.526819\"/>\r\n     <use style=\"fill:#1f77b4;stroke:#1f77b4;\" x=\"320.799793\" xlink:href=\"#m1420c0126d\" y=\"173.487537\"/>\r\n     <use style=\"fill:#1f77b4;stroke:#1f77b4;\" x=\"321.402494\" xlink:href=\"#m1420c0126d\" y=\"60.823558\"/>\r\n     <use style=\"fill:#1f77b4;stroke:#1f77b4;\" x=\"322.005194\" xlink:href=\"#m1420c0126d\" y=\"129.607826\"/>\r\n     <use style=\"fill:#1f77b4;stroke:#1f77b4;\" x=\"322.607894\" xlink:href=\"#m1420c0126d\" y=\"155.913146\"/>\r\n     <use style=\"fill:#1f77b4;stroke:#1f77b4;\" x=\"323.210594\" xlink:href=\"#m1420c0126d\" y=\"123.193102\"/>\r\n     <use style=\"fill:#1f77b4;stroke:#1f77b4;\" x=\"323.813295\" xlink:href=\"#m1420c0126d\" y=\"134.904227\"/>\r\n     <use style=\"fill:#1f77b4;stroke:#1f77b4;\" x=\"324.415995\" xlink:href=\"#m1420c0126d\" y=\"138.824341\"/>\r\n     <use style=\"fill:#1f77b4;stroke:#1f77b4;\" x=\"325.018695\" xlink:href=\"#m1420c0126d\" y=\"108.707936\"/>\r\n     <use style=\"fill:#1f77b4;stroke:#1f77b4;\" x=\"325.621395\" xlink:href=\"#m1420c0126d\" y=\"103.481427\"/>\r\n     <use style=\"fill:#1f77b4;stroke:#1f77b4;\" x=\"326.224096\" xlink:href=\"#m1420c0126d\" y=\"150.085016\"/>\r\n     <use style=\"fill:#1f77b4;stroke:#1f77b4;\" x=\"326.826796\" xlink:href=\"#m1420c0126d\" y=\"151.768355\"/>\r\n     <use style=\"fill:#1f77b4;stroke:#1f77b4;\" x=\"327.429496\" xlink:href=\"#m1420c0126d\" y=\"140.871207\"/>\r\n     <use style=\"fill:#1f77b4;stroke:#1f77b4;\" x=\"328.032197\" xlink:href=\"#m1420c0126d\" y=\"214.756364\"/>\r\n     <use style=\"fill:#1f77b4;stroke:#1f77b4;\" x=\"328.634897\" xlink:href=\"#m1420c0126d\" y=\"186.196016\"/>\r\n     <use style=\"fill:#1f77b4;stroke:#1f77b4;\" x=\"329.237597\" xlink:href=\"#m1420c0126d\" y=\"80.8551\"/>\r\n     <use style=\"fill:#1f77b4;stroke:#1f77b4;\" x=\"329.840297\" xlink:href=\"#m1420c0126d\" y=\"70.559594\"/>\r\n     <use style=\"fill:#1f77b4;stroke:#1f77b4;\" x=\"330.442998\" xlink:href=\"#m1420c0126d\" y=\"140.01595\"/>\r\n     <use style=\"fill:#1f77b4;stroke:#1f77b4;\" x=\"331.045698\" xlink:href=\"#m1420c0126d\" y=\"109.645106\"/>\r\n     <use style=\"fill:#1f77b4;stroke:#1f77b4;\" x=\"331.648398\" xlink:href=\"#m1420c0126d\" y=\"119.387835\"/>\r\n     <use style=\"fill:#1f77b4;stroke:#1f77b4;\" x=\"332.251098\" xlink:href=\"#m1420c0126d\" y=\"17.083636\"/>\r\n     <use style=\"fill:#1f77b4;stroke:#1f77b4;\" x=\"332.853799\" xlink:href=\"#m1420c0126d\" y=\"89.409477\"/>\r\n     <use style=\"fill:#1f77b4;stroke:#1f77b4;\" x=\"333.456499\" xlink:href=\"#m1420c0126d\" y=\"135.613795\"/>\r\n     <use style=\"fill:#1f77b4;stroke:#1f77b4;\" x=\"334.059199\" xlink:href=\"#m1420c0126d\" y=\"166.393004\"/>\r\n     <use style=\"fill:#1f77b4;stroke:#1f77b4;\" x=\"334.661899\" xlink:href=\"#m1420c0126d\" y=\"190.712111\"/>\r\n     <use style=\"fill:#1f77b4;stroke:#1f77b4;\" x=\"335.2646\" xlink:href=\"#m1420c0126d\" y=\"123.272767\"/>\r\n     <use style=\"fill:#1f77b4;stroke:#1f77b4;\" x=\"335.8673\" xlink:href=\"#m1420c0126d\" y=\"159.156501\"/>\r\n     <use style=\"fill:#1f77b4;stroke:#1f77b4;\" x=\"336.47\" xlink:href=\"#m1420c0126d\" y=\"184.168957\"/>\r\n     <use style=\"fill:#1f77b4;stroke:#1f77b4;\" x=\"337.072701\" xlink:href=\"#m1420c0126d\" y=\"155.147425\"/>\r\n     <use style=\"fill:#1f77b4;stroke:#1f77b4;\" x=\"337.675401\" xlink:href=\"#m1420c0126d\" y=\"171.562709\"/>\r\n     <use style=\"fill:#1f77b4;stroke:#1f77b4;\" x=\"338.278101\" xlink:href=\"#m1420c0126d\" y=\"67.2588\"/>\r\n     <use style=\"fill:#1f77b4;stroke:#1f77b4;\" x=\"338.880801\" xlink:href=\"#m1420c0126d\" y=\"97.5614\"/>\r\n     <use style=\"fill:#1f77b4;stroke:#1f77b4;\" x=\"339.483502\" xlink:href=\"#m1420c0126d\" y=\"131.169301\"/>\r\n     <use style=\"fill:#1f77b4;stroke:#1f77b4;\" x=\"340.086202\" xlink:href=\"#m1420c0126d\" y=\"74.735121\"/>\r\n     <use style=\"fill:#1f77b4;stroke:#1f77b4;\" x=\"340.688902\" xlink:href=\"#m1420c0126d\" y=\"127.927163\"/>\r\n     <use style=\"fill:#1f77b4;stroke:#1f77b4;\" x=\"341.291602\" xlink:href=\"#m1420c0126d\" y=\"163.665724\"/>\r\n     <use style=\"fill:#1f77b4;stroke:#1f77b4;\" x=\"341.894303\" xlink:href=\"#m1420c0126d\" y=\"72.750046\"/>\r\n     <use style=\"fill:#1f77b4;stroke:#1f77b4;\" x=\"342.497003\" xlink:href=\"#m1420c0126d\" y=\"110.26333\"/>\r\n     <use style=\"fill:#1f77b4;stroke:#1f77b4;\" x=\"343.099703\" xlink:href=\"#m1420c0126d\" y=\"170.603927\"/>\r\n     <use style=\"fill:#1f77b4;stroke:#1f77b4;\" x=\"343.702404\" xlink:href=\"#m1420c0126d\" y=\"138.173882\"/>\r\n     <use style=\"fill:#1f77b4;stroke:#1f77b4;\" x=\"344.305104\" xlink:href=\"#m1420c0126d\" y=\"164.54635\"/>\r\n     <use style=\"fill:#1f77b4;stroke:#1f77b4;\" x=\"344.907804\" xlink:href=\"#m1420c0126d\" y=\"184.160405\"/>\r\n     <use style=\"fill:#1f77b4;stroke:#1f77b4;\" x=\"345.510504\" xlink:href=\"#m1420c0126d\" y=\"95.101381\"/>\r\n     <use style=\"fill:#1f77b4;stroke:#1f77b4;\" x=\"346.113205\" xlink:href=\"#m1420c0126d\" y=\"56.984236\"/>\r\n     <use style=\"fill:#1f77b4;stroke:#1f77b4;\" x=\"346.715905\" xlink:href=\"#m1420c0126d\" y=\"185.092146\"/>\r\n     <use style=\"fill:#1f77b4;stroke:#1f77b4;\" x=\"347.318605\" xlink:href=\"#m1420c0126d\" y=\"108.996668\"/>\r\n     <use style=\"fill:#1f77b4;stroke:#1f77b4;\" x=\"347.921305\" xlink:href=\"#m1420c0126d\" y=\"156.194941\"/>\r\n     <use style=\"fill:#1f77b4;stroke:#1f77b4;\" x=\"348.524006\" xlink:href=\"#m1420c0126d\" y=\"149.867666\"/>\r\n    </g>\r\n   </g>\r\n   <g id=\"matplotlib.axis_1\">\r\n    <g id=\"xtick_1\">\r\n     <g id=\"line2d_1\">\r\n      <defs>\r\n       <path d=\"M 0 0 \r\nL 0 3.5 \r\n\" id=\"m341e48cdd4\" style=\"stroke:#000000;stroke-width:0.8;\"/>\r\n      </defs>\r\n      <g>\r\n       <use style=\"stroke:#000000;stroke-width:0.8;\" x=\"44.160369\" xlink:href=\"#m341e48cdd4\" y=\"224.64\"/>\r\n      </g>\r\n     </g>\r\n     <g id=\"text_1\">\r\n      <!-- 0 -->\r\n      <g transform=\"translate(40.979119 239.238437)scale(0.1 -0.1)\">\r\n       <defs>\r\n        <path d=\"M 31.78125 66.40625 \r\nQ 24.171875 66.40625 20.328125 58.90625 \r\nQ 16.5 51.421875 16.5 36.375 \r\nQ 16.5 21.390625 20.328125 13.890625 \r\nQ 24.171875 6.390625 31.78125 6.390625 \r\nQ 39.453125 6.390625 43.28125 13.890625 \r\nQ 47.125 21.390625 47.125 36.375 \r\nQ 47.125 51.421875 43.28125 58.90625 \r\nQ 39.453125 66.40625 31.78125 66.40625 \r\nz\r\nM 31.78125 74.21875 \r\nQ 44.046875 74.21875 50.515625 64.515625 \r\nQ 56.984375 54.828125 56.984375 36.375 \r\nQ 56.984375 17.96875 50.515625 8.265625 \r\nQ 44.046875 -1.421875 31.78125 -1.421875 \r\nQ 19.53125 -1.421875 13.0625 8.265625 \r\nQ 6.59375 17.96875 6.59375 36.375 \r\nQ 6.59375 54.828125 13.0625 64.515625 \r\nQ 19.53125 74.21875 31.78125 74.21875 \r\nz\r\n\" id=\"DejaVuSans-48\"/>\r\n       </defs>\r\n       <use xlink:href=\"#DejaVuSans-48\"/>\r\n      </g>\r\n     </g>\r\n    </g>\r\n    <g id=\"xtick_2\">\r\n     <g id=\"line2d_2\">\r\n      <g>\r\n       <use style=\"stroke:#000000;stroke-width:0.8;\" x=\"104.430396\" xlink:href=\"#m341e48cdd4\" y=\"224.64\"/>\r\n      </g>\r\n     </g>\r\n     <g id=\"text_2\">\r\n      <!-- 100 -->\r\n      <g transform=\"translate(94.886646 239.238437)scale(0.1 -0.1)\">\r\n       <defs>\r\n        <path d=\"M 12.40625 8.296875 \r\nL 28.515625 8.296875 \r\nL 28.515625 63.921875 \r\nL 10.984375 60.40625 \r\nL 10.984375 69.390625 \r\nL 28.421875 72.90625 \r\nL 38.28125 72.90625 \r\nL 38.28125 8.296875 \r\nL 54.390625 8.296875 \r\nL 54.390625 0 \r\nL 12.40625 0 \r\nz\r\n\" id=\"DejaVuSans-49\"/>\r\n       </defs>\r\n       <use xlink:href=\"#DejaVuSans-49\"/>\r\n       <use x=\"63.623047\" xlink:href=\"#DejaVuSans-48\"/>\r\n       <use x=\"127.246094\" xlink:href=\"#DejaVuSans-48\"/>\r\n      </g>\r\n     </g>\r\n    </g>\r\n    <g id=\"xtick_3\">\r\n     <g id=\"line2d_3\">\r\n      <g>\r\n       <use style=\"stroke:#000000;stroke-width:0.8;\" x=\"164.700423\" xlink:href=\"#m341e48cdd4\" y=\"224.64\"/>\r\n      </g>\r\n     </g>\r\n     <g id=\"text_3\">\r\n      <!-- 200 -->\r\n      <g transform=\"translate(155.156673 239.238437)scale(0.1 -0.1)\">\r\n       <defs>\r\n        <path d=\"M 19.1875 8.296875 \r\nL 53.609375 8.296875 \r\nL 53.609375 0 \r\nL 7.328125 0 \r\nL 7.328125 8.296875 \r\nQ 12.9375 14.109375 22.625 23.890625 \r\nQ 32.328125 33.6875 34.8125 36.53125 \r\nQ 39.546875 41.84375 41.421875 45.53125 \r\nQ 43.3125 49.21875 43.3125 52.78125 \r\nQ 43.3125 58.59375 39.234375 62.25 \r\nQ 35.15625 65.921875 28.609375 65.921875 \r\nQ 23.96875 65.921875 18.8125 64.3125 \r\nQ 13.671875 62.703125 7.8125 59.421875 \r\nL 7.8125 69.390625 \r\nQ 13.765625 71.78125 18.9375 73 \r\nQ 24.125 74.21875 28.421875 74.21875 \r\nQ 39.75 74.21875 46.484375 68.546875 \r\nQ 53.21875 62.890625 53.21875 53.421875 \r\nQ 53.21875 48.921875 51.53125 44.890625 \r\nQ 49.859375 40.875 45.40625 35.40625 \r\nQ 44.1875 33.984375 37.640625 27.21875 \r\nQ 31.109375 20.453125 19.1875 8.296875 \r\nz\r\n\" id=\"DejaVuSans-50\"/>\r\n       </defs>\r\n       <use xlink:href=\"#DejaVuSans-50\"/>\r\n       <use x=\"63.623047\" xlink:href=\"#DejaVuSans-48\"/>\r\n       <use x=\"127.246094\" xlink:href=\"#DejaVuSans-48\"/>\r\n      </g>\r\n     </g>\r\n    </g>\r\n    <g id=\"xtick_4\">\r\n     <g id=\"line2d_4\">\r\n      <g>\r\n       <use style=\"stroke:#000000;stroke-width:0.8;\" x=\"224.97045\" xlink:href=\"#m341e48cdd4\" y=\"224.64\"/>\r\n      </g>\r\n     </g>\r\n     <g id=\"text_4\">\r\n      <!-- 300 -->\r\n      <g transform=\"translate(215.4267 239.238437)scale(0.1 -0.1)\">\r\n       <defs>\r\n        <path d=\"M 40.578125 39.3125 \r\nQ 47.65625 37.796875 51.625 33 \r\nQ 55.609375 28.21875 55.609375 21.1875 \r\nQ 55.609375 10.40625 48.1875 4.484375 \r\nQ 40.765625 -1.421875 27.09375 -1.421875 \r\nQ 22.515625 -1.421875 17.65625 -0.515625 \r\nQ 12.796875 0.390625 7.625 2.203125 \r\nL 7.625 11.71875 \r\nQ 11.71875 9.328125 16.59375 8.109375 \r\nQ 21.484375 6.890625 26.8125 6.890625 \r\nQ 36.078125 6.890625 40.9375 10.546875 \r\nQ 45.796875 14.203125 45.796875 21.1875 \r\nQ 45.796875 27.640625 41.28125 31.265625 \r\nQ 36.765625 34.90625 28.71875 34.90625 \r\nL 20.21875 34.90625 \r\nL 20.21875 43.015625 \r\nL 29.109375 43.015625 \r\nQ 36.375 43.015625 40.234375 45.921875 \r\nQ 44.09375 48.828125 44.09375 54.296875 \r\nQ 44.09375 59.90625 40.109375 62.90625 \r\nQ 36.140625 65.921875 28.71875 65.921875 \r\nQ 24.65625 65.921875 20.015625 65.03125 \r\nQ 15.375 64.15625 9.8125 62.3125 \r\nL 9.8125 71.09375 \r\nQ 15.4375 72.65625 20.34375 73.4375 \r\nQ 25.25 74.21875 29.59375 74.21875 \r\nQ 40.828125 74.21875 47.359375 69.109375 \r\nQ 53.90625 64.015625 53.90625 55.328125 \r\nQ 53.90625 49.265625 50.4375 45.09375 \r\nQ 46.96875 40.921875 40.578125 39.3125 \r\nz\r\n\" id=\"DejaVuSans-51\"/>\r\n       </defs>\r\n       <use xlink:href=\"#DejaVuSans-51\"/>\r\n       <use x=\"63.623047\" xlink:href=\"#DejaVuSans-48\"/>\r\n       <use x=\"127.246094\" xlink:href=\"#DejaVuSans-48\"/>\r\n      </g>\r\n     </g>\r\n    </g>\r\n    <g id=\"xtick_5\">\r\n     <g id=\"line2d_5\">\r\n      <g>\r\n       <use style=\"stroke:#000000;stroke-width:0.8;\" x=\"285.240477\" xlink:href=\"#m341e48cdd4\" y=\"224.64\"/>\r\n      </g>\r\n     </g>\r\n     <g id=\"text_5\">\r\n      <!-- 400 -->\r\n      <g transform=\"translate(275.696727 239.238437)scale(0.1 -0.1)\">\r\n       <defs>\r\n        <path d=\"M 37.796875 64.3125 \r\nL 12.890625 25.390625 \r\nL 37.796875 25.390625 \r\nz\r\nM 35.203125 72.90625 \r\nL 47.609375 72.90625 \r\nL 47.609375 25.390625 \r\nL 58.015625 25.390625 \r\nL 58.015625 17.1875 \r\nL 47.609375 17.1875 \r\nL 47.609375 0 \r\nL 37.796875 0 \r\nL 37.796875 17.1875 \r\nL 4.890625 17.1875 \r\nL 4.890625 26.703125 \r\nz\r\n\" id=\"DejaVuSans-52\"/>\r\n       </defs>\r\n       <use xlink:href=\"#DejaVuSans-52\"/>\r\n       <use x=\"63.623047\" xlink:href=\"#DejaVuSans-48\"/>\r\n       <use x=\"127.246094\" xlink:href=\"#DejaVuSans-48\"/>\r\n      </g>\r\n     </g>\r\n    </g>\r\n    <g id=\"xtick_6\">\r\n     <g id=\"line2d_6\">\r\n      <g>\r\n       <use style=\"stroke:#000000;stroke-width:0.8;\" x=\"345.510504\" xlink:href=\"#m341e48cdd4\" y=\"224.64\"/>\r\n      </g>\r\n     </g>\r\n     <g id=\"text_6\">\r\n      <!-- 500 -->\r\n      <g transform=\"translate(335.966754 239.238437)scale(0.1 -0.1)\">\r\n       <defs>\r\n        <path d=\"M 10.796875 72.90625 \r\nL 49.515625 72.90625 \r\nL 49.515625 64.59375 \r\nL 19.828125 64.59375 \r\nL 19.828125 46.734375 \r\nQ 21.96875 47.46875 24.109375 47.828125 \r\nQ 26.265625 48.1875 28.421875 48.1875 \r\nQ 40.625 48.1875 47.75 41.5 \r\nQ 54.890625 34.8125 54.890625 23.390625 \r\nQ 54.890625 11.625 47.5625 5.09375 \r\nQ 40.234375 -1.421875 26.90625 -1.421875 \r\nQ 22.3125 -1.421875 17.546875 -0.640625 \r\nQ 12.796875 0.140625 7.71875 1.703125 \r\nL 7.71875 11.625 \r\nQ 12.109375 9.234375 16.796875 8.0625 \r\nQ 21.484375 6.890625 26.703125 6.890625 \r\nQ 35.15625 6.890625 40.078125 11.328125 \r\nQ 45.015625 15.765625 45.015625 23.390625 \r\nQ 45.015625 31 40.078125 35.4375 \r\nQ 35.15625 39.890625 26.703125 39.890625 \r\nQ 22.75 39.890625 18.8125 39.015625 \r\nQ 14.890625 38.140625 10.796875 36.28125 \r\nz\r\n\" id=\"DejaVuSans-53\"/>\r\n       </defs>\r\n       <use xlink:href=\"#DejaVuSans-53\"/>\r\n       <use x=\"63.623047\" xlink:href=\"#DejaVuSans-48\"/>\r\n       <use x=\"127.246094\" xlink:href=\"#DejaVuSans-48\"/>\r\n      </g>\r\n     </g>\r\n    </g>\r\n   </g>\r\n   <g id=\"matplotlib.axis_2\">\r\n    <g id=\"ytick_1\">\r\n     <g id=\"line2d_7\">\r\n      <defs>\r\n       <path d=\"M 0 0 \r\nL -3.5 0 \r\n\" id=\"m07c68bf9f1\" style=\"stroke:#000000;stroke-width:0.8;\"/>\r\n      </defs>\r\n      <g>\r\n       <use style=\"stroke:#000000;stroke-width:0.8;\" x=\"28.942188\" xlink:href=\"#m07c68bf9f1\" y=\"216.190924\"/>\r\n      </g>\r\n     </g>\r\n     <g id=\"text_7\">\r\n      <!-- −6 -->\r\n      <g transform=\"translate(7.2 219.990142)scale(0.1 -0.1)\">\r\n       <defs>\r\n        <path d=\"M 10.59375 35.5 \r\nL 73.1875 35.5 \r\nL 73.1875 27.203125 \r\nL 10.59375 27.203125 \r\nz\r\n\" id=\"DejaVuSans-8722\"/>\r\n        <path d=\"M 33.015625 40.375 \r\nQ 26.375 40.375 22.484375 35.828125 \r\nQ 18.609375 31.296875 18.609375 23.390625 \r\nQ 18.609375 15.53125 22.484375 10.953125 \r\nQ 26.375 6.390625 33.015625 6.390625 \r\nQ 39.65625 6.390625 43.53125 10.953125 \r\nQ 47.40625 15.53125 47.40625 23.390625 \r\nQ 47.40625 31.296875 43.53125 35.828125 \r\nQ 39.65625 40.375 33.015625 40.375 \r\nz\r\nM 52.59375 71.296875 \r\nL 52.59375 62.3125 \r\nQ 48.875 64.0625 45.09375 64.984375 \r\nQ 41.3125 65.921875 37.59375 65.921875 \r\nQ 27.828125 65.921875 22.671875 59.328125 \r\nQ 17.53125 52.734375 16.796875 39.40625 \r\nQ 19.671875 43.65625 24.015625 45.921875 \r\nQ 28.375 48.1875 33.59375 48.1875 \r\nQ 44.578125 48.1875 50.953125 41.515625 \r\nQ 57.328125 34.859375 57.328125 23.390625 \r\nQ 57.328125 12.15625 50.6875 5.359375 \r\nQ 44.046875 -1.421875 33.015625 -1.421875 \r\nQ 20.359375 -1.421875 13.671875 8.265625 \r\nQ 6.984375 17.96875 6.984375 36.375 \r\nQ 6.984375 53.65625 15.1875 63.9375 \r\nQ 23.390625 74.21875 37.203125 74.21875 \r\nQ 40.921875 74.21875 44.703125 73.484375 \r\nQ 48.484375 72.75 52.59375 71.296875 \r\nz\r\n\" id=\"DejaVuSans-54\"/>\r\n       </defs>\r\n       <use xlink:href=\"#DejaVuSans-8722\"/>\r\n       <use x=\"83.789062\" xlink:href=\"#DejaVuSans-54\"/>\r\n      </g>\r\n     </g>\r\n    </g>\r\n    <g id=\"ytick_2\">\r\n     <g id=\"line2d_8\">\r\n      <g>\r\n       <use style=\"stroke:#000000;stroke-width:0.8;\" x=\"28.942188\" xlink:href=\"#m07c68bf9f1\" y=\"187.749787\"/>\r\n      </g>\r\n     </g>\r\n     <g id=\"text_8\">\r\n      <!-- −4 -->\r\n      <g transform=\"translate(7.2 191.549005)scale(0.1 -0.1)\">\r\n       <use xlink:href=\"#DejaVuSans-8722\"/>\r\n       <use x=\"83.789062\" xlink:href=\"#DejaVuSans-52\"/>\r\n      </g>\r\n     </g>\r\n    </g>\r\n    <g id=\"ytick_3\">\r\n     <g id=\"line2d_9\">\r\n      <g>\r\n       <use style=\"stroke:#000000;stroke-width:0.8;\" x=\"28.942188\" xlink:href=\"#m07c68bf9f1\" y=\"159.30865\"/>\r\n      </g>\r\n     </g>\r\n     <g id=\"text_9\">\r\n      <!-- −2 -->\r\n      <g transform=\"translate(7.2 163.107869)scale(0.1 -0.1)\">\r\n       <use xlink:href=\"#DejaVuSans-8722\"/>\r\n       <use x=\"83.789062\" xlink:href=\"#DejaVuSans-50\"/>\r\n      </g>\r\n     </g>\r\n    </g>\r\n    <g id=\"ytick_4\">\r\n     <g id=\"line2d_10\">\r\n      <g>\r\n       <use style=\"stroke:#000000;stroke-width:0.8;\" x=\"28.942188\" xlink:href=\"#m07c68bf9f1\" y=\"130.867513\"/>\r\n      </g>\r\n     </g>\r\n     <g id=\"text_10\">\r\n      <!-- 0 -->\r\n      <g transform=\"translate(15.579688 134.666732)scale(0.1 -0.1)\">\r\n       <use xlink:href=\"#DejaVuSans-48\"/>\r\n      </g>\r\n     </g>\r\n    </g>\r\n    <g id=\"ytick_5\">\r\n     <g id=\"line2d_11\">\r\n      <g>\r\n       <use style=\"stroke:#000000;stroke-width:0.8;\" x=\"28.942188\" xlink:href=\"#m07c68bf9f1\" y=\"102.426376\"/>\r\n      </g>\r\n     </g>\r\n     <g id=\"text_11\">\r\n      <!-- 2 -->\r\n      <g transform=\"translate(15.579688 106.225595)scale(0.1 -0.1)\">\r\n       <use xlink:href=\"#DejaVuSans-50\"/>\r\n      </g>\r\n     </g>\r\n    </g>\r\n    <g id=\"ytick_6\">\r\n     <g id=\"line2d_12\">\r\n      <g>\r\n       <use style=\"stroke:#000000;stroke-width:0.8;\" x=\"28.942188\" xlink:href=\"#m07c68bf9f1\" y=\"73.985239\"/>\r\n      </g>\r\n     </g>\r\n     <g id=\"text_12\">\r\n      <!-- 4 -->\r\n      <g transform=\"translate(15.579688 77.784458)scale(0.1 -0.1)\">\r\n       <use xlink:href=\"#DejaVuSans-52\"/>\r\n      </g>\r\n     </g>\r\n    </g>\r\n    <g id=\"ytick_7\">\r\n     <g id=\"line2d_13\">\r\n      <g>\r\n       <use style=\"stroke:#000000;stroke-width:0.8;\" x=\"28.942188\" xlink:href=\"#m07c68bf9f1\" y=\"45.544102\"/>\r\n      </g>\r\n     </g>\r\n     <g id=\"text_13\">\r\n      <!-- 6 -->\r\n      <g transform=\"translate(15.579688 49.343321)scale(0.1 -0.1)\">\r\n       <use xlink:href=\"#DejaVuSans-54\"/>\r\n      </g>\r\n     </g>\r\n    </g>\r\n    <g id=\"ytick_8\">\r\n     <g id=\"line2d_14\">\r\n      <g>\r\n       <use style=\"stroke:#000000;stroke-width:0.8;\" x=\"28.942188\" xlink:href=\"#m07c68bf9f1\" y=\"17.102965\"/>\r\n      </g>\r\n     </g>\r\n     <g id=\"text_14\">\r\n      <!-- 8 -->\r\n      <g transform=\"translate(15.579688 20.902184)scale(0.1 -0.1)\">\r\n       <defs>\r\n        <path d=\"M 31.78125 34.625 \r\nQ 24.75 34.625 20.71875 30.859375 \r\nQ 16.703125 27.09375 16.703125 20.515625 \r\nQ 16.703125 13.921875 20.71875 10.15625 \r\nQ 24.75 6.390625 31.78125 6.390625 \r\nQ 38.8125 6.390625 42.859375 10.171875 \r\nQ 46.921875 13.96875 46.921875 20.515625 \r\nQ 46.921875 27.09375 42.890625 30.859375 \r\nQ 38.875 34.625 31.78125 34.625 \r\nz\r\nM 21.921875 38.8125 \r\nQ 15.578125 40.375 12.03125 44.71875 \r\nQ 8.5 49.078125 8.5 55.328125 \r\nQ 8.5 64.0625 14.71875 69.140625 \r\nQ 20.953125 74.21875 31.78125 74.21875 \r\nQ 42.671875 74.21875 48.875 69.140625 \r\nQ 55.078125 64.0625 55.078125 55.328125 \r\nQ 55.078125 49.078125 51.53125 44.71875 \r\nQ 48 40.375 41.703125 38.8125 \r\nQ 48.828125 37.15625 52.796875 32.3125 \r\nQ 56.78125 27.484375 56.78125 20.515625 \r\nQ 56.78125 9.90625 50.3125 4.234375 \r\nQ 43.84375 -1.421875 31.78125 -1.421875 \r\nQ 19.734375 -1.421875 13.25 4.234375 \r\nQ 6.78125 9.90625 6.78125 20.515625 \r\nQ 6.78125 27.484375 10.78125 32.3125 \r\nQ 14.796875 37.15625 21.921875 38.8125 \r\nz\r\nM 18.3125 54.390625 \r\nQ 18.3125 48.734375 21.84375 45.5625 \r\nQ 25.390625 42.390625 31.78125 42.390625 \r\nQ 38.140625 42.390625 41.71875 45.5625 \r\nQ 45.3125 48.734375 45.3125 54.390625 \r\nQ 45.3125 60.0625 41.71875 63.234375 \r\nQ 38.140625 66.40625 31.78125 66.40625 \r\nQ 25.390625 66.40625 21.84375 63.234375 \r\nQ 18.3125 60.0625 18.3125 54.390625 \r\nz\r\n\" id=\"DejaVuSans-56\"/>\r\n       </defs>\r\n       <use xlink:href=\"#DejaVuSans-56\"/>\r\n      </g>\r\n     </g>\r\n    </g>\r\n   </g>\r\n   <g id=\"patch_3\">\r\n    <path d=\"M 28.942188 224.64 \r\nL 28.942188 7.2 \r\n\" style=\"fill:none;stroke:#000000;stroke-linecap:square;stroke-linejoin:miter;stroke-width:0.8;\"/>\r\n   </g>\r\n   <g id=\"patch_4\">\r\n    <path d=\"M 363.742188 224.64 \r\nL 363.742188 7.2 \r\n\" style=\"fill:none;stroke:#000000;stroke-linecap:square;stroke-linejoin:miter;stroke-width:0.8;\"/>\r\n   </g>\r\n   <g id=\"patch_5\">\r\n    <path d=\"M 28.942188 224.64 \r\nL 363.742188 224.64 \r\n\" style=\"fill:none;stroke:#000000;stroke-linecap:square;stroke-linejoin:miter;stroke-width:0.8;\"/>\r\n   </g>\r\n   <g id=\"patch_6\">\r\n    <path d=\"M 28.942188 7.2 \r\nL 363.742188 7.2 \r\n\" style=\"fill:none;stroke:#000000;stroke-linecap:square;stroke-linejoin:miter;stroke-width:0.8;\"/>\r\n   </g>\r\n  </g>\r\n </g>\r\n <defs>\r\n  <clipPath id=\"pb2aaef629c\">\r\n   <rect height=\"217.44\" width=\"334.8\" x=\"28.942188\" y=\"7.2\"/>\r\n  </clipPath>\r\n </defs>\r\n</svg>\r\n",
      "image/png": "[encoded data removed]"
     },
     "metadata": {
      "needs_background": "light"
     }
    }
   ],
   "source": [
    "plt.scatter(np.arange(N),hetero_noise)"
   ]
  },
  {
   "cell_type": "code",
   "execution_count": 116,
   "metadata": {},
   "outputs": [
    {
     "output_type": "execute_result",
     "data": {
      "text/plain": "(506,)"
     },
     "metadata": {},
     "execution_count": 116
    }
   ],
   "source": [
    "hetero_noise.shape"
   ]
  },
  {
   "cell_type": "code",
   "execution_count": 124,
   "metadata": {},
   "outputs": [
    {
     "output_type": "execute_result",
     "data": {
      "text/plain": "0.514276959678893"
     },
     "metadata": {},
     "execution_count": 124
    }
   ],
   "source": [
    "y_with_noise = np.array(y).reshape(506) + hetero_noise\n",
    "# Fit\n",
    "LR.fit(X[['CRIM', 'RM']],y_with_noise)\n",
    "# Predict\n",
    "y_pred = LR.predict(X[['CRIM', 'RM']])\n",
    "r2_score(y_with_noise, y_pred)"
   ]
  },
  {
   "source": [
    "## Задание 7.3.5\n",
    "В каком случае R2 (доля объясненной дисперсии) получается лучше? Ответ: Для белого шума"
   ],
   "cell_type": "markdown",
   "metadata": {}
  },
  {
   "source": [
    "## Задание 7.3.6\n",
    "Сгенерируйте вектор гетероскедастичного шума аналогично разобранному примеру с параметром alpha = 0.998 и добавьте к исходным значениям целевой переменной. Обучите модель и найдите R2 (долю объясненной дисперсии)."
   ],
   "cell_type": "markdown",
   "metadata": {}
  },
  {
   "cell_type": "code",
   "execution_count": 132,
   "metadata": {},
   "outputs": [
    {
     "output_type": "execute_result",
     "data": {
      "text/plain": "0.5372516885216415"
     },
     "metadata": {},
     "execution_count": 132
    }
   ],
   "source": [
    "noise = white_noise(N = y.shape[0], mu = 0, sigma = 1)\n",
    "hetero_noise  = hetero_eps(alpha = 0.998, eps = noise)\n",
    "\n",
    "y_with_noise = np.array(y).reshape(506) + hetero_noise\n",
    "# Fit\n",
    "LR.fit(X[['CRIM', 'RM']],y_with_noise)\n",
    "# Predict\n",
    "y_pred = LR.predict(X[['CRIM', 'RM']])\n",
    "r2_score(y_with_noise, y_pred)"
   ]
  },
  {
   "source": [
    "## Задание 7.3.6\n",
    "В каком случае  (доля объясненной дисперсии) получается лучше?"
   ],
   "cell_type": "markdown",
   "metadata": {}
  },
  {
   "cell_type": "code",
   "execution_count": 135,
   "metadata": {},
   "outputs": [
    {
     "output_type": "execute_result",
     "data": {
      "text/plain": "0.5317591780870768"
     },
     "metadata": {},
     "execution_count": 135
    }
   ],
   "source": [
    "noise = white_noise(N = y.shape[0], mu = 0, sigma = 1)\n",
    "\n",
    "y_with_noise = np.array(y).reshape(506) + noise\n",
    "# Fit\n",
    "LR.fit(X[['CRIM', 'RM']],y_with_noise)\n",
    "# Predict\n",
    "y_pred = LR.predict(X[['CRIM', 'RM']])\n",
    "r2_score(y_with_noise, y_pred)\n"
   ]
  },
  {
   "source": [
    "## Задание 7.3.7\n",
    "В каком случае R2 (доля объясненной дисперсии) получается лучше? Ответ: Для гетероскедастичного шума с параметром alpha = 0.988"
   ],
   "cell_type": "markdown",
   "metadata": {}
  },
  {
   "source": [
    "## Дополнительные материалы\n",
    "[Оценка результатов линейной регрессии](https://habr.com/ru/post/195146/ 'Habr')"
   ],
   "cell_type": "markdown",
   "metadata": {}
  },
  {
   "source": [
    "# 7.4. Предсказание и объяснение\n",
    "Регрессионный анализ решает две основные задачи:\n",
    "\n",
    "- Задача предсказания состоит в том, чтобы по имеющимся данным предсказать целевую переменную для нового наблюдения.\n",
    "- Задача объяснения отвечает на вопрос, какие признаки для объяснения целевой переменной значимы.\n",
    "\n",
    "И решаются эти задачи по-разному!"
   ],
   "cell_type": "markdown",
   "metadata": {}
  },
  {
   "source": [
    "## Задание 7.4.1\n",
    "В каких задачах необходимо решать задачу прогнозирования?\n",
    "- Хотим понять, как будут вести себя акции Google в ближайшие 3 дня\n",
    "    - Хотим понять, что влияет на рост популярности Ольги Бузовой в Instagram\n",
    "    - Хотим понять, есть ли расовая дискриминация в карьерном росте сотрудников компании\n",
    "- Хотим понять, какой будет скорость ветра на чемпионате Европы по виндсерфингу"
   ],
   "cell_type": "markdown",
   "metadata": {}
  },
  {
   "source": [
    "## Дополнительные материалы\n",
    "[Подробнее о скользящем среднем и другим методах сглаживания ряда](https://habr.com/ru/company/ods/blog/327242/ 'Открытый курс машинного обучения. Тема 9. Анализ временных рядов с помощью Python')"
   ],
   "cell_type": "markdown",
   "metadata": {}
  },
  {
   "source": [
    "# 7.5. Скользящее среднее\n",
    "Напомним, что временной ряд — это измерения одной и той же случайной величины в разные моменты времени.\n",
    "\n",
    "При этом в идеальном случае соблюдаются условия:\n",
    "- шаг по времени для всей базовой линии одинаков;\n",
    "- наблюдения фиксируются в один и тот же момент каждого временного отрезка (например, в полдень каждого дня, первого числа каждого месяца);\n",
    "- нет пропусков в данных.\n",
    "\n",
    "Что мы хотим делать с временными рядами?\n",
    "- Во-первых, выявлять закономерности развития.\n",
    "- Во-вторых, оценивать, насколько хорошо выявлена закономерность.\n",
    "- В-третьих, делать прогнозы на будущее, то есть экстраполировать."
   ],
   "cell_type": "markdown",
   "metadata": {}
  },
  {
   "source": [
    "## CКОЛЬЗЯЩЕЕ СРЕДНЕЕ\n",
    "Интуитивно понятный способ превратить непонятную «пилу» в график, на котором можно что-то увидеть — это скользящее среднее или Moving Average (MA). Проще всего взять среднее арифметическое последних двух наблюдений. Мы получим новый временной ряд, каждый член которого — среднее арифметическое двух соседних значений исходного ряда.\n",
    "\n",
    "Чуть более продвинутый способ: усреднить сразу несколько наблюдений. Это так называемое простое скользящее среднее (SMA).\n",
    "\n",
    "Продвинутым вариантом является взвешенное скользящее среднее (WMA) k последовательных наблюдений ряда. Сумма весов при этом равна единице.\n",
    "\n",
    "## Преимущества\n",
    "Скользящее среднее может позволить нам невооруженным взглядом найти закономерности во временном ряде. Но может и не позволить, тогда нужны более продвинутые методы анализа.\n",
    "Скользящее среднее можно использовать для прогноза, однако его качество оставит желать лучшего.\n",
    "\n",
    "## Недостатки\n",
    "Недостатком скользящего среднего с фиксированным окном является то, что оно учитывает только несколько последних наблюдений. От этого можно избавиться экспоненциальным сглаживанием, о котором мы поговорим немного позже.\n"
   ],
   "cell_type": "markdown",
   "metadata": {}
  },
  {
   "cell_type": "code",
   "execution_count": 3,
   "metadata": {},
   "outputs": [],
   "source": [
    "import numpy as np"
   ]
  },
  {
   "source": [
    "## Задание 7.5.1\n",
    "Для анализа временного ряда необходимы следующие условия:\n",
    "    \n",
    "- 0  Значения ряда должны быть нескореллированы друг с другом\n",
    "- 1 Значения ряда должны быть измерены с одинаковым шагом по времени\n",
    "- 1 Значения ряда не должны иметь пропусков\n",
    "- 0 Значения ряда в среднем должны быть константой\n",
    "- 0 Значения ряда должны иметь одинаковые дисперсии"
   ],
   "cell_type": "markdown",
   "metadata": {}
  },
  {
   "source": [
    "## Задание 7.5.2\n",
    "Вы вычисляете скользящее среднее по правилу MA = 0.7*x_t +0.3 * x_(t-1)\n",
    "\n",
    "1. Найдите ширину окна: 2\n",
    "2. Это скользящее среднее является:\n",
    "- простым\n",
    "- взвешенным - верно\n",
    "3. Вычислите значения простого скользящего среднего для ряда \n",
    "- SMA_1: 1.5\n",
    "- SMA_2: 2.5\n",
    "- SMA_3: 3.5\n",
    "- SMA_4: 4.5\n",
    "- SMA_5: 5.5\n",
    "4. Какое измерение в ряде X = (1,2,3,4,5,6) является последним по времени: 6\n",
    "5. Вычислите значения скользящего среднего по правилу  для ряда \n",
    "- MA_1: 1.7\n",
    "- MA_1: 2.7\n",
    "- MA_1: 3.7\n",
    "- MA_1: 4.7\n",
    "- MA_1: 5.7\n",
    "6. В сторону какого наблюдения смещены значения скользящего среднего из п.5 по сравнению с простым скользящим средним?\n",
    "- в сторону более нового - верно\n",
    "- в сторону более старого\n",
    "7. Сколько значений будет иметь ряд скользящих средних, если у исходного ряда доступно 10 наблюдений? Ответ: 9"
   ],
   "cell_type": "markdown",
   "metadata": {}
  },
  {
   "source": [
    "## Задание 7.5.3\n",
    "Выберите верные утверждения для скользящего среднего.\n",
    "- 1 Скользящее среднее сглаживает пики и выбросы временного ряда\n",
    "- 0 Скользящее среднее в момент времени  использует только исторические данные ряда в моменты времени, предшествующие \n",
    "- 1 Скользящее среднее в момент времени  использует текущее значение ряда \n",
    "- 0 В качестве прогноза будущего значения  можно использовать \n",
    "- 1 В качестве прогноза будущего значения  нельзя использовать "
   ],
   "cell_type": "markdown",
   "metadata": {}
  },
  {
   "source": [
    "## Задание 7.5.4\n",
    "Простое и взвешенное скользящие средние используют при вычислении:\n",
    "- 0 Все доступные значения ряда\n",
    "- 1 Только несколько последних значений ряда"
   ],
   "cell_type": "markdown",
   "metadata": {}
  },
  {
   "source": [
    "## Задание 7.5.5\n",
    "1. Для ряда x = (1, 0, 1, -1, 2, 0, 1). Вычислите ряд скользящих средних с шириной окна 3 и весами: 0.5, 0.3, 0.2"
   ],
   "cell_type": "markdown",
   "metadata": {}
  },
  {
   "cell_type": "code",
   "execution_count": 4,
   "metadata": {},
   "outputs": [],
   "source": [
    "def w_m_a(x, w):\n",
    "    wma_count = len(x) - len(w) + 1\n",
    "    for i in range(wma_count):\n",
    "        print('wma_'+str(i+len(w)-1), round(np.sum(x[i:len(w)+i]*w),1))\n",
    "    #return None"
   ]
  },
  {
   "cell_type": "code",
   "execution_count": 5,
   "metadata": {
    "tags": []
   },
   "outputs": [
    {
     "output_type": "stream",
     "name": "stdout",
     "text": "wma_2 0.7\nwma_3 -0.2\nwma_4 0.9\nwma_5 0.4\nwma_6 0.9\n"
    }
   ],
   "source": [
    "x = np.array([1, 0, 1, -1, 2, 0, 1])\n",
    "w = np.array([0.2, 0.3, 0.5])\n",
    "w_m_a(x, w)"
   ]
  },
  {
   "source": [
    "2. Сколько значений будет иметь ряд скользящих средних с шириной окна , если у исходного ряда  наблюдений?"
   ],
   "cell_type": "markdown",
   "metadata": {}
  },
  {
   "cell_type": "code",
   "execution_count": 6,
   "metadata": {},
   "outputs": [
    {
     "output_type": "execute_result",
     "data": {
      "text/plain": "98"
     },
     "metadata": {},
     "execution_count": 6
    }
   ],
   "source": [
    "100 - 3 + 1"
   ]
  },
  {
   "source": [
    "3. Сколько значений будет иметь ряд скользящих средних с шириной окна , если у исходного ряда  наблюдений?"
   ],
   "cell_type": "markdown",
   "metadata": {}
  },
  {
   "cell_type": "code",
   "execution_count": 7,
   "metadata": {},
   "outputs": [
    {
     "output_type": "execute_result",
     "data": {
      "text/plain": "51"
     },
     "metadata": {},
     "execution_count": 7
    }
   ],
   "source": [
    "100 - 50 + 1"
   ]
  },
  {
   "source": [
    "4. Какое из скользящих средних сильнее сгладит исходный ряд?"
   ],
   "cell_type": "markdown",
   "metadata": {}
  },
  {
   "source": [
    "- SMA с шириной окна 3 \n",
    "- MA с шириной окна  50 верно"
   ],
   "cell_type": "markdown",
   "metadata": {}
  },
  {
   "source": [
    "5. Какие из следующих утверждений верны для скользящего среднего за более короткий период времени?\n",
    "- 1 Скользящее среднее будет меняться быстрее в зависимости от цены\n",
    "- 0 Скользящее среднее будет медленнее регаировать на изменения цены\n",
    "- 1 Скользящее среднее будт демонстрировать меньше надежных сигналов, чем более скользящее среднее за более долгий срок\n",
    "- 0 Скользящее среднее будт демонстрировать больше надежных сигналов, чем более скользящее среднее за более долгий срок"
   ],
   "cell_type": "markdown",
   "metadata": {}
  },
  {
   "source": [
    "## Дополнительные материалы\n",
    "- [Скользящие средние. Часть 1 — теория](https://av-finance.ru/texnicheskij-analiz/skolzyashhie-srednie-chast-1-teoriya.html)\n",
    "- [Использование скользящих средних в трейдинге](https://www.investopedia.com/articles/active-trading/052014/how-use-moving-average-buy-stocks.asp 'How to Use a Moving Average to Buy Stocks')"
   ],
   "cell_type": "markdown",
   "metadata": {}
  },
  {
   "source": [
    "## 7.6. Практика. Скользящее среднее\n",
    "\n",
    "- Загрузите датасет solarpower_cumuldaybyday2.csv.\n",
    "\n",
    "В нём содержится информация о производстве энергии солнечными батареями.\n",
    "\n",
    "- Агрегируйте данные по неделям.\n",
    "\n",
    "- Выполните задания ниже."
   ],
   "cell_type": "markdown",
   "metadata": {}
  },
  {
   "cell_type": "code",
   "execution_count": 66,
   "metadata": {},
   "outputs": [],
   "source": [
    "import pandas as pd\n",
    "import numpy as np\n",
    "from datetime import timedelta, datetime\n",
    "import matplotlib.pyplot as plt"
   ]
  },
  {
   "cell_type": "code",
   "execution_count": 67,
   "metadata": {},
   "outputs": [],
   "source": [
    "# подгрузим наш учебный датасет\n",
    "df = pd.read_csv('solarpower_cumuldaybyday2.csv')[['date', 'cum_power']]"
   ]
  },
  {
   "cell_type": "code",
   "execution_count": 68,
   "metadata": {
    "tags": []
   },
   "outputs": [
    {
     "output_type": "stream",
     "name": "stdout",
     "text": "<class 'pandas.core.frame.DataFrame'>\nRangeIndex: 2558 entries, 0 to 2557\nData columns (total 2 columns):\n #   Column     Non-Null Count  Dtype  \n---  ------     --------------  -----  \n 0   date       2558 non-null   object \n 1   cum_power  2558 non-null   float64\ndtypes: float64(1), object(1)\nmemory usage: 40.1+ KB\n"
    }
   ],
   "source": [
    "df.info()"
   ]
  },
  {
   "cell_type": "code",
   "execution_count": 69,
   "metadata": {},
   "outputs": [],
   "source": [
    "# приведем формата даты к стандарту datetime. \n",
    "df['date'] = pd.to_datetime(df['date'], format = '%d/%m/%Y')\n",
    "# добавим столбе дня недели\n",
    "df['weekday'] = df['date'].apply(lambda x: x.strftime('%a'))\n",
    "# преобразуем индексы в формат Datetime (это удобно для работы с временными рядами) \n",
    "df = df.set_index(pd.DatetimeIndex(df['date']))\n",
    "# после это удалим столбец data\n",
    "df.drop(['date'], axis =1, inplace = True)"
   ]
  },
  {
   "cell_type": "code",
   "execution_count": 70,
   "metadata": {},
   "outputs": [
    {
     "output_type": "execute_result",
     "data": {
      "text/plain": "['cum_power', 'weekday']"
     },
     "metadata": {},
     "execution_count": 70
    }
   ],
   "source": [
    "list(df.columns)"
   ]
  },
  {
   "cell_type": "code",
   "execution_count": 71,
   "metadata": {},
   "outputs": [],
   "source": [
    "# Агрегируйте данные по неделям.\n",
    "df_w = df[(list(df.columns))]\n",
    "df_w = df_w.resample('w').ffill()"
   ]
  },
  {
   "cell_type": "code",
   "execution_count": 72,
   "metadata": {
    "tags": []
   },
   "outputs": [
    {
     "output_type": "stream",
     "name": "stdout",
     "text": "<class 'pandas.core.frame.DataFrame'>\nDatetimeIndex: 366 entries, 2011-10-30 to 2018-10-28\nFreq: W-SUN\nData columns (total 2 columns):\n #   Column     Non-Null Count  Dtype  \n---  ------     --------------  -----  \n 0   cum_power  366 non-null    float64\n 1   weekday    366 non-null    object \ndtypes: float64(1), object(1)\nmemory usage: 8.6+ KB\n"
    }
   ],
   "source": [
    "df_w.info()"
   ]
  },
  {
   "source": [
    "## Задание 7.6.1\n",
    "\n",
    "- Постройте ряд еженедельного производства энергии, вычислив приращения полученного недельного ряда. В поле для ответа введите значение произведенной энергии за неделю с 6 по 12 октября 2014, округлив до целых."
   ],
   "cell_type": "markdown",
   "metadata": {}
  },
  {
   "cell_type": "code",
   "execution_count": 73,
   "metadata": {},
   "outputs": [],
   "source": [
    "df_w.drop('weekday', axis = 1, inplace = True)"
   ]
  },
  {
   "cell_type": "code",
   "execution_count": 92,
   "metadata": {},
   "outputs": [],
   "source": [
    "# 1 вариант деаккумуляции\n",
    "df_w['power'] = df_w['cum_power'] - np.hstack([0, df_w['cum_power'].values])[:366]\n",
    "\n",
    "# 2 вариант деаккумуляции\n",
    "df_w['power_2'] = np.diff((np.hstack([0, df_w['cum_power'].values])))"
   ]
  },
  {
   "cell_type": "code",
   "execution_count": 107,
   "metadata": {},
   "outputs": [
    {
     "output_type": "execute_result",
     "data": {
      "text/plain": "            cum_power  power  power_2\ndate                                 \n2011-10-30       34.2   34.2     34.2\n2013-03-24     4479.4   52.6     52.6\n2014-08-17    11071.0  125.0    125.0\n2016-01-10    16148.0   15.0     15.0\n2017-06-04    21808.0  141.0    141.0\n2018-10-28    28120.0   25.0     25.0",
      "text/html": "<div>\n<style scoped>\n    .dataframe tbody tr th:only-of-type {\n        vertical-align: middle;\n    }\n\n    .dataframe tbody tr th {\n        vertical-align: top;\n    }\n\n    .dataframe thead th {\n        text-align: right;\n    }\n</style>\n<table border=\"1\" class=\"dataframe\">\n  <thead>\n    <tr style=\"text-align: right;\">\n      <th></th>\n      <th>cum_power</th>\n      <th>power</th>\n      <th>power_2</th>\n    </tr>\n    <tr>\n      <th>date</th>\n      <th></th>\n      <th></th>\n      <th></th>\n    </tr>\n  </thead>\n  <tbody>\n    <tr>\n      <th>2011-10-30</th>\n      <td>34.2</td>\n      <td>34.2</td>\n      <td>34.2</td>\n    </tr>\n    <tr>\n      <th>2013-03-24</th>\n      <td>4479.4</td>\n      <td>52.6</td>\n      <td>52.6</td>\n    </tr>\n    <tr>\n      <th>2014-08-17</th>\n      <td>11071.0</td>\n      <td>125.0</td>\n      <td>125.0</td>\n    </tr>\n    <tr>\n      <th>2016-01-10</th>\n      <td>16148.0</td>\n      <td>15.0</td>\n      <td>15.0</td>\n    </tr>\n    <tr>\n      <th>2017-06-04</th>\n      <td>21808.0</td>\n      <td>141.0</td>\n      <td>141.0</td>\n    </tr>\n    <tr>\n      <th>2018-10-28</th>\n      <td>28120.0</td>\n      <td>25.0</td>\n      <td>25.0</td>\n    </tr>\n  </tbody>\n</table>\n</div>"
     },
     "metadata": {},
     "execution_count": 107
    }
   ],
   "source": [
    "df_w.iloc[0:366:73]"
   ]
  },
  {
   "cell_type": "code",
   "execution_count": 93,
   "metadata": {},
   "outputs": [
    {
     "output_type": "execute_result",
     "data": {
      "text/plain": "power      28120.0\npower_2    28120.0\ndtype: float64"
     },
     "metadata": {},
     "execution_count": 93
    }
   ],
   "source": [
    "df_w[['power', 'power_2']].sum()"
   ]
  },
  {
   "cell_type": "code",
   "execution_count": 109,
   "metadata": {},
   "outputs": [
    {
     "output_type": "execute_result",
     "data": {
      "text/plain": "            cum_power  power  power_2\ndate                                 \n2014-10-12    11721.0   44.0     44.0",
      "text/html": "<div>\n<style scoped>\n    .dataframe tbody tr th:only-of-type {\n        vertical-align: middle;\n    }\n\n    .dataframe tbody tr th {\n        vertical-align: top;\n    }\n\n    .dataframe thead th {\n        text-align: right;\n    }\n</style>\n<table border=\"1\" class=\"dataframe\">\n  <thead>\n    <tr style=\"text-align: right;\">\n      <th></th>\n      <th>cum_power</th>\n      <th>power</th>\n      <th>power_2</th>\n    </tr>\n    <tr>\n      <th>date</th>\n      <th></th>\n      <th></th>\n      <th></th>\n    </tr>\n  </thead>\n  <tbody>\n    <tr>\n      <th>2014-10-12</th>\n      <td>11721.0</td>\n      <td>44.0</td>\n      <td>44.0</td>\n    </tr>\n  </tbody>\n</table>\n</div>"
     },
     "metadata": {},
     "execution_count": 109
    }
   ],
   "source": [
    "# 1 вариант поиска значения произведенной энергии за неделю с 6 по 12 октября 2014\n",
    "df_w[df_w.index == datetime(2014, 10, 12)]"
   ]
  },
  {
   "cell_type": "code",
   "execution_count": 110,
   "metadata": {},
   "outputs": [
    {
     "output_type": "execute_result",
     "data": {
      "text/plain": "44.0"
     },
     "metadata": {},
     "execution_count": 110
    }
   ],
   "source": [
    "# 2 вариант поиска значения произведенной энергии за неделю с 6 по 12 октября 2014\n",
    "df_w.loc[datetime(2014, 10, 12)][0] - df_w.loc[datetime(2014, 10, 5)][0]"
   ]
  },
  {
   "cell_type": "code",
   "execution_count": 115,
   "metadata": {},
   "outputs": [],
   "source": [
    "# Ответ 1: 44"
   ]
  },
  {
   "source": [
    "- Постройте ряд скользящего среднего для размера окна 4. Сколько элементов в ряде скользящего среднего?"
   ],
   "cell_type": "markdown",
   "metadata": {}
  },
  {
   "cell_type": "code",
   "execution_count": 111,
   "metadata": {},
   "outputs": [
    {
     "output_type": "execute_result",
     "data": {
      "text/plain": "date\n2011-10-30    34.2\n2011-11-06    37.6\n2011-11-13    28.1\n2011-11-20    36.6\n2011-11-27    19.6\nFreq: W-SUN, Name: power, dtype: float64"
     },
     "metadata": {},
     "execution_count": 111
    }
   ],
   "source": [
    "# создадим отдельный Series для цен power\n",
    "power_w = df_w.power\n",
    "power_w.head()"
   ]
  },
  {
   "cell_type": "code",
   "execution_count": 112,
   "metadata": {},
   "outputs": [
    {
     "output_type": "display_data",
     "data": {
      "text/plain": "<Figure size 432x288 with 1 Axes>",
      "image/svg+xml": "<?xml version=\"1.0\" encoding=\"utf-8\" standalone=\"no\"?>\r\n<!DOCTYPE svg PUBLIC \"-//W3C//DTD SVG 1.1//EN\"\r\n  \"http://www.w3.org/Graphics/SVG/1.1/DTD/svg11.dtd\">\r\n<!-- Created with matplotlib (https://matplotlib.org/) -->\r\n<svg height=\"248.518125pt\" version=\"1.1\" viewBox=\"0 0 380.537424 248.518125\" width=\"380.537424pt\" xmlns=\"http://www.w3.org/2000/svg\" xmlns:xlink=\"http://www.w3.org/1999/xlink\">\r\n <metadata>\r\n  <rdf:RDF xmlns:cc=\"http://creativecommons.org/ns#\" xmlns:dc=\"http://purl.org/dc/elements/1.1/\" xmlns:rdf=\"http://www.w3.org/1999/02/22-rdf-syntax-ns#\">\r\n   <cc:Work>\r\n    <dc:type rdf:resource=\"http://purl.org/dc/dcmitype/StillImage\"/>\r\n    <dc:date>2020-09-28T10:35:39.420782</dc:date>\r\n    <dc:format>image/svg+xml</dc:format>\r\n    <dc:creator>\r\n     <cc:Agent>\r\n      <dc:title>Matplotlib v3.3.1, https://matplotlib.org/</dc:title>\r\n     </cc:Agent>\r\n    </dc:creator>\r\n   </cc:Work>\r\n  </rdf:RDF>\r\n </metadata>\r\n <defs>\r\n  <style type=\"text/css\">*{stroke-linecap:butt;stroke-linejoin:round;}</style>\r\n </defs>\r\n <g id=\"figure_1\">\r\n  <g id=\"patch_1\">\r\n   <path d=\"M 0 248.518125 \r\nL 380.537424 248.518125 \r\nL 380.537424 0 \r\nL 0 0 \r\nz\r\n\" style=\"fill:none;\"/>\r\n  </g>\r\n  <g id=\"axes_1\">\r\n   <g id=\"patch_2\">\r\n    <path d=\"M 33.2875 224.64 \r\nL 368.0875 224.64 \r\nL 368.0875 7.2 \r\nL 33.2875 7.2 \r\nz\r\n\" style=\"fill:#ffffff;\"/>\r\n   </g>\r\n   <g id=\"matplotlib.axis_1\">\r\n    <g id=\"xtick_1\">\r\n     <g id=\"line2d_1\">\r\n      <defs>\r\n       <path d=\"M 0 0 \r\nL 0 3.5 \r\n\" id=\"me7a0b2b70f\" style=\"stroke:#000000;stroke-width:0.8;\"/>\r\n      </defs>\r\n      <g>\r\n       <use style=\"stroke:#000000;stroke-width:0.8;\" x=\"56.010539\" xlink:href=\"#me7a0b2b70f\" y=\"224.64\"/>\r\n      </g>\r\n     </g>\r\n     <g id=\"text_1\">\r\n      <!-- 2012 -->\r\n      <g transform=\"translate(43.285539 239.238437)scale(0.1 -0.1)\">\r\n       <defs>\r\n        <path d=\"M 19.1875 8.296875 \r\nL 53.609375 8.296875 \r\nL 53.609375 0 \r\nL 7.328125 0 \r\nL 7.328125 8.296875 \r\nQ 12.9375 14.109375 22.625 23.890625 \r\nQ 32.328125 33.6875 34.8125 36.53125 \r\nQ 39.546875 41.84375 41.421875 45.53125 \r\nQ 43.3125 49.21875 43.3125 52.78125 \r\nQ 43.3125 58.59375 39.234375 62.25 \r\nQ 35.15625 65.921875 28.609375 65.921875 \r\nQ 23.96875 65.921875 18.8125 64.3125 \r\nQ 13.671875 62.703125 7.8125 59.421875 \r\nL 7.8125 69.390625 \r\nQ 13.765625 71.78125 18.9375 73 \r\nQ 24.125 74.21875 28.421875 74.21875 \r\nQ 39.75 74.21875 46.484375 68.546875 \r\nQ 53.21875 62.890625 53.21875 53.421875 \r\nQ 53.21875 48.921875 51.53125 44.890625 \r\nQ 49.859375 40.875 45.40625 35.40625 \r\nQ 44.1875 33.984375 37.640625 27.21875 \r\nQ 31.109375 20.453125 19.1875 8.296875 \r\nz\r\n\" id=\"DejaVuSans-50\"/>\r\n        <path d=\"M 31.78125 66.40625 \r\nQ 24.171875 66.40625 20.328125 58.90625 \r\nQ 16.5 51.421875 16.5 36.375 \r\nQ 16.5 21.390625 20.328125 13.890625 \r\nQ 24.171875 6.390625 31.78125 6.390625 \r\nQ 39.453125 6.390625 43.28125 13.890625 \r\nQ 47.125 21.390625 47.125 36.375 \r\nQ 47.125 51.421875 43.28125 58.90625 \r\nQ 39.453125 66.40625 31.78125 66.40625 \r\nz\r\nM 31.78125 74.21875 \r\nQ 44.046875 74.21875 50.515625 64.515625 \r\nQ 56.984375 54.828125 56.984375 36.375 \r\nQ 56.984375 17.96875 50.515625 8.265625 \r\nQ 44.046875 -1.421875 31.78125 -1.421875 \r\nQ 19.53125 -1.421875 13.0625 8.265625 \r\nQ 6.59375 17.96875 6.59375 36.375 \r\nQ 6.59375 54.828125 13.0625 64.515625 \r\nQ 19.53125 74.21875 31.78125 74.21875 \r\nz\r\n\" id=\"DejaVuSans-48\"/>\r\n        <path d=\"M 12.40625 8.296875 \r\nL 28.515625 8.296875 \r\nL 28.515625 63.921875 \r\nL 10.984375 60.40625 \r\nL 10.984375 69.390625 \r\nL 28.421875 72.90625 \r\nL 38.28125 72.90625 \r\nL 38.28125 8.296875 \r\nL 54.390625 8.296875 \r\nL 54.390625 0 \r\nL 12.40625 0 \r\nz\r\n\" id=\"DejaVuSans-49\"/>\r\n       </defs>\r\n       <use xlink:href=\"#DejaVuSans-50\"/>\r\n       <use x=\"63.623047\" xlink:href=\"#DejaVuSans-48\"/>\r\n       <use x=\"127.246094\" xlink:href=\"#DejaVuSans-49\"/>\r\n       <use x=\"190.869141\" xlink:href=\"#DejaVuSans-50\"/>\r\n      </g>\r\n     </g>\r\n    </g>\r\n    <g id=\"xtick_2\">\r\n     <g id=\"line2d_2\">\r\n      <g>\r\n       <use style=\"stroke:#000000;stroke-width:0.8;\" x=\"99.610183\" xlink:href=\"#me7a0b2b70f\" y=\"224.64\"/>\r\n      </g>\r\n     </g>\r\n     <g id=\"text_2\">\r\n      <!-- 2013 -->\r\n      <g transform=\"translate(86.885183 239.238437)scale(0.1 -0.1)\">\r\n       <defs>\r\n        <path d=\"M 40.578125 39.3125 \r\nQ 47.65625 37.796875 51.625 33 \r\nQ 55.609375 28.21875 55.609375 21.1875 \r\nQ 55.609375 10.40625 48.1875 4.484375 \r\nQ 40.765625 -1.421875 27.09375 -1.421875 \r\nQ 22.515625 -1.421875 17.65625 -0.515625 \r\nQ 12.796875 0.390625 7.625 2.203125 \r\nL 7.625 11.71875 \r\nQ 11.71875 9.328125 16.59375 8.109375 \r\nQ 21.484375 6.890625 26.8125 6.890625 \r\nQ 36.078125 6.890625 40.9375 10.546875 \r\nQ 45.796875 14.203125 45.796875 21.1875 \r\nQ 45.796875 27.640625 41.28125 31.265625 \r\nQ 36.765625 34.90625 28.71875 34.90625 \r\nL 20.21875 34.90625 \r\nL 20.21875 43.015625 \r\nL 29.109375 43.015625 \r\nQ 36.375 43.015625 40.234375 45.921875 \r\nQ 44.09375 48.828125 44.09375 54.296875 \r\nQ 44.09375 59.90625 40.109375 62.90625 \r\nQ 36.140625 65.921875 28.71875 65.921875 \r\nQ 24.65625 65.921875 20.015625 65.03125 \r\nQ 15.375 64.15625 9.8125 62.3125 \r\nL 9.8125 71.09375 \r\nQ 15.4375 72.65625 20.34375 73.4375 \r\nQ 25.25 74.21875 29.59375 74.21875 \r\nQ 40.828125 74.21875 47.359375 69.109375 \r\nQ 53.90625 64.015625 53.90625 55.328125 \r\nQ 53.90625 49.265625 50.4375 45.09375 \r\nQ 46.96875 40.921875 40.578125 39.3125 \r\nz\r\n\" id=\"DejaVuSans-51\"/>\r\n       </defs>\r\n       <use xlink:href=\"#DejaVuSans-50\"/>\r\n       <use x=\"63.623047\" xlink:href=\"#DejaVuSans-48\"/>\r\n       <use x=\"127.246094\" xlink:href=\"#DejaVuSans-49\"/>\r\n       <use x=\"190.869141\" xlink:href=\"#DejaVuSans-51\"/>\r\n      </g>\r\n     </g>\r\n    </g>\r\n    <g id=\"xtick_3\">\r\n     <g id=\"line2d_3\">\r\n      <g>\r\n       <use style=\"stroke:#000000;stroke-width:0.8;\" x=\"143.090702\" xlink:href=\"#me7a0b2b70f\" y=\"224.64\"/>\r\n      </g>\r\n     </g>\r\n     <g id=\"text_3\">\r\n      <!-- 2014 -->\r\n      <g transform=\"translate(130.365702 239.238437)scale(0.1 -0.1)\">\r\n       <defs>\r\n        <path d=\"M 37.796875 64.3125 \r\nL 12.890625 25.390625 \r\nL 37.796875 25.390625 \r\nz\r\nM 35.203125 72.90625 \r\nL 47.609375 72.90625 \r\nL 47.609375 25.390625 \r\nL 58.015625 25.390625 \r\nL 58.015625 17.1875 \r\nL 47.609375 17.1875 \r\nL 47.609375 0 \r\nL 37.796875 0 \r\nL 37.796875 17.1875 \r\nL 4.890625 17.1875 \r\nL 4.890625 26.703125 \r\nz\r\n\" id=\"DejaVuSans-52\"/>\r\n       </defs>\r\n       <use xlink:href=\"#DejaVuSans-50\"/>\r\n       <use x=\"63.623047\" xlink:href=\"#DejaVuSans-48\"/>\r\n       <use x=\"127.246094\" xlink:href=\"#DejaVuSans-49\"/>\r\n       <use x=\"190.869141\" xlink:href=\"#DejaVuSans-52\"/>\r\n      </g>\r\n     </g>\r\n    </g>\r\n    <g id=\"xtick_4\">\r\n     <g id=\"line2d_4\">\r\n      <g>\r\n       <use style=\"stroke:#000000;stroke-width:0.8;\" x=\"186.571222\" xlink:href=\"#me7a0b2b70f\" y=\"224.64\"/>\r\n      </g>\r\n     </g>\r\n     <g id=\"text_4\">\r\n      <!-- 2015 -->\r\n      <g transform=\"translate(173.846222 239.238437)scale(0.1 -0.1)\">\r\n       <defs>\r\n        <path d=\"M 10.796875 72.90625 \r\nL 49.515625 72.90625 \r\nL 49.515625 64.59375 \r\nL 19.828125 64.59375 \r\nL 19.828125 46.734375 \r\nQ 21.96875 47.46875 24.109375 47.828125 \r\nQ 26.265625 48.1875 28.421875 48.1875 \r\nQ 40.625 48.1875 47.75 41.5 \r\nQ 54.890625 34.8125 54.890625 23.390625 \r\nQ 54.890625 11.625 47.5625 5.09375 \r\nQ 40.234375 -1.421875 26.90625 -1.421875 \r\nQ 22.3125 -1.421875 17.546875 -0.640625 \r\nQ 12.796875 0.140625 7.71875 1.703125 \r\nL 7.71875 11.625 \r\nQ 12.109375 9.234375 16.796875 8.0625 \r\nQ 21.484375 6.890625 26.703125 6.890625 \r\nQ 35.15625 6.890625 40.078125 11.328125 \r\nQ 45.015625 15.765625 45.015625 23.390625 \r\nQ 45.015625 31 40.078125 35.4375 \r\nQ 35.15625 39.890625 26.703125 39.890625 \r\nQ 22.75 39.890625 18.8125 39.015625 \r\nQ 14.890625 38.140625 10.796875 36.28125 \r\nz\r\n\" id=\"DejaVuSans-53\"/>\r\n       </defs>\r\n       <use xlink:href=\"#DejaVuSans-50\"/>\r\n       <use x=\"63.623047\" xlink:href=\"#DejaVuSans-48\"/>\r\n       <use x=\"127.246094\" xlink:href=\"#DejaVuSans-49\"/>\r\n       <use x=\"190.869141\" xlink:href=\"#DejaVuSans-53\"/>\r\n      </g>\r\n     </g>\r\n    </g>\r\n    <g id=\"xtick_5\">\r\n     <g id=\"line2d_5\">\r\n      <g>\r\n       <use style=\"stroke:#000000;stroke-width:0.8;\" x=\"230.051741\" xlink:href=\"#me7a0b2b70f\" y=\"224.64\"/>\r\n      </g>\r\n     </g>\r\n     <g id=\"text_5\">\r\n      <!-- 2016 -->\r\n      <g transform=\"translate(217.326741 239.238437)scale(0.1 -0.1)\">\r\n       <defs>\r\n        <path d=\"M 33.015625 40.375 \r\nQ 26.375 40.375 22.484375 35.828125 \r\nQ 18.609375 31.296875 18.609375 23.390625 \r\nQ 18.609375 15.53125 22.484375 10.953125 \r\nQ 26.375 6.390625 33.015625 6.390625 \r\nQ 39.65625 6.390625 43.53125 10.953125 \r\nQ 47.40625 15.53125 47.40625 23.390625 \r\nQ 47.40625 31.296875 43.53125 35.828125 \r\nQ 39.65625 40.375 33.015625 40.375 \r\nz\r\nM 52.59375 71.296875 \r\nL 52.59375 62.3125 \r\nQ 48.875 64.0625 45.09375 64.984375 \r\nQ 41.3125 65.921875 37.59375 65.921875 \r\nQ 27.828125 65.921875 22.671875 59.328125 \r\nQ 17.53125 52.734375 16.796875 39.40625 \r\nQ 19.671875 43.65625 24.015625 45.921875 \r\nQ 28.375 48.1875 33.59375 48.1875 \r\nQ 44.578125 48.1875 50.953125 41.515625 \r\nQ 57.328125 34.859375 57.328125 23.390625 \r\nQ 57.328125 12.15625 50.6875 5.359375 \r\nQ 44.046875 -1.421875 33.015625 -1.421875 \r\nQ 20.359375 -1.421875 13.671875 8.265625 \r\nQ 6.984375 17.96875 6.984375 36.375 \r\nQ 6.984375 53.65625 15.1875 63.9375 \r\nQ 23.390625 74.21875 37.203125 74.21875 \r\nQ 40.921875 74.21875 44.703125 73.484375 \r\nQ 48.484375 72.75 52.59375 71.296875 \r\nz\r\n\" id=\"DejaVuSans-54\"/>\r\n       </defs>\r\n       <use xlink:href=\"#DejaVuSans-50\"/>\r\n       <use x=\"63.623047\" xlink:href=\"#DejaVuSans-48\"/>\r\n       <use x=\"127.246094\" xlink:href=\"#DejaVuSans-49\"/>\r\n       <use x=\"190.869141\" xlink:href=\"#DejaVuSans-54\"/>\r\n      </g>\r\n     </g>\r\n    </g>\r\n    <g id=\"xtick_6\">\r\n     <g id=\"line2d_6\">\r\n      <g>\r\n       <use style=\"stroke:#000000;stroke-width:0.8;\" x=\"273.651385\" xlink:href=\"#me7a0b2b70f\" y=\"224.64\"/>\r\n      </g>\r\n     </g>\r\n     <g id=\"text_6\">\r\n      <!-- 2017 -->\r\n      <g transform=\"translate(260.926385 239.238437)scale(0.1 -0.1)\">\r\n       <defs>\r\n        <path d=\"M 8.203125 72.90625 \r\nL 55.078125 72.90625 \r\nL 55.078125 68.703125 \r\nL 28.609375 0 \r\nL 18.3125 0 \r\nL 43.21875 64.59375 \r\nL 8.203125 64.59375 \r\nz\r\n\" id=\"DejaVuSans-55\"/>\r\n       </defs>\r\n       <use xlink:href=\"#DejaVuSans-50\"/>\r\n       <use x=\"63.623047\" xlink:href=\"#DejaVuSans-48\"/>\r\n       <use x=\"127.246094\" xlink:href=\"#DejaVuSans-49\"/>\r\n       <use x=\"190.869141\" xlink:href=\"#DejaVuSans-55\"/>\r\n      </g>\r\n     </g>\r\n    </g>\r\n    <g id=\"xtick_7\">\r\n     <g id=\"line2d_7\">\r\n      <g>\r\n       <use style=\"stroke:#000000;stroke-width:0.8;\" x=\"317.131905\" xlink:href=\"#me7a0b2b70f\" y=\"224.64\"/>\r\n      </g>\r\n     </g>\r\n     <g id=\"text_7\">\r\n      <!-- 2018 -->\r\n      <g transform=\"translate(304.406905 239.238437)scale(0.1 -0.1)\">\r\n       <defs>\r\n        <path d=\"M 31.78125 34.625 \r\nQ 24.75 34.625 20.71875 30.859375 \r\nQ 16.703125 27.09375 16.703125 20.515625 \r\nQ 16.703125 13.921875 20.71875 10.15625 \r\nQ 24.75 6.390625 31.78125 6.390625 \r\nQ 38.8125 6.390625 42.859375 10.171875 \r\nQ 46.921875 13.96875 46.921875 20.515625 \r\nQ 46.921875 27.09375 42.890625 30.859375 \r\nQ 38.875 34.625 31.78125 34.625 \r\nz\r\nM 21.921875 38.8125 \r\nQ 15.578125 40.375 12.03125 44.71875 \r\nQ 8.5 49.078125 8.5 55.328125 \r\nQ 8.5 64.0625 14.71875 69.140625 \r\nQ 20.953125 74.21875 31.78125 74.21875 \r\nQ 42.671875 74.21875 48.875 69.140625 \r\nQ 55.078125 64.0625 55.078125 55.328125 \r\nQ 55.078125 49.078125 51.53125 44.71875 \r\nQ 48 40.375 41.703125 38.8125 \r\nQ 48.828125 37.15625 52.796875 32.3125 \r\nQ 56.78125 27.484375 56.78125 20.515625 \r\nQ 56.78125 9.90625 50.3125 4.234375 \r\nQ 43.84375 -1.421875 31.78125 -1.421875 \r\nQ 19.734375 -1.421875 13.25 4.234375 \r\nQ 6.78125 9.90625 6.78125 20.515625 \r\nQ 6.78125 27.484375 10.78125 32.3125 \r\nQ 14.796875 37.15625 21.921875 38.8125 \r\nz\r\nM 18.3125 54.390625 \r\nQ 18.3125 48.734375 21.84375 45.5625 \r\nQ 25.390625 42.390625 31.78125 42.390625 \r\nQ 38.140625 42.390625 41.71875 45.5625 \r\nQ 45.3125 48.734375 45.3125 54.390625 \r\nQ 45.3125 60.0625 41.71875 63.234375 \r\nQ 38.140625 66.40625 31.78125 66.40625 \r\nQ 25.390625 66.40625 21.84375 63.234375 \r\nQ 18.3125 60.0625 18.3125 54.390625 \r\nz\r\n\" id=\"DejaVuSans-56\"/>\r\n       </defs>\r\n       <use xlink:href=\"#DejaVuSans-50\"/>\r\n       <use x=\"63.623047\" xlink:href=\"#DejaVuSans-48\"/>\r\n       <use x=\"127.246094\" xlink:href=\"#DejaVuSans-49\"/>\r\n       <use x=\"190.869141\" xlink:href=\"#DejaVuSans-56\"/>\r\n      </g>\r\n     </g>\r\n    </g>\r\n    <g id=\"xtick_8\">\r\n     <g id=\"line2d_8\">\r\n      <g>\r\n       <use style=\"stroke:#000000;stroke-width:0.8;\" x=\"360.612424\" xlink:href=\"#me7a0b2b70f\" y=\"224.64\"/>\r\n      </g>\r\n     </g>\r\n     <g id=\"text_8\">\r\n      <!-- 2019 -->\r\n      <g transform=\"translate(347.887424 239.238437)scale(0.1 -0.1)\">\r\n       <defs>\r\n        <path d=\"M 10.984375 1.515625 \r\nL 10.984375 10.5 \r\nQ 14.703125 8.734375 18.5 7.8125 \r\nQ 22.3125 6.890625 25.984375 6.890625 \r\nQ 35.75 6.890625 40.890625 13.453125 \r\nQ 46.046875 20.015625 46.78125 33.40625 \r\nQ 43.953125 29.203125 39.59375 26.953125 \r\nQ 35.25 24.703125 29.984375 24.703125 \r\nQ 19.046875 24.703125 12.671875 31.3125 \r\nQ 6.296875 37.9375 6.296875 49.421875 \r\nQ 6.296875 60.640625 12.9375 67.421875 \r\nQ 19.578125 74.21875 30.609375 74.21875 \r\nQ 43.265625 74.21875 49.921875 64.515625 \r\nQ 56.59375 54.828125 56.59375 36.375 \r\nQ 56.59375 19.140625 48.40625 8.859375 \r\nQ 40.234375 -1.421875 26.421875 -1.421875 \r\nQ 22.703125 -1.421875 18.890625 -0.6875 \r\nQ 15.09375 0.046875 10.984375 1.515625 \r\nz\r\nM 30.609375 32.421875 \r\nQ 37.25 32.421875 41.125 36.953125 \r\nQ 45.015625 41.5 45.015625 49.421875 \r\nQ 45.015625 57.28125 41.125 61.84375 \r\nQ 37.25 66.40625 30.609375 66.40625 \r\nQ 23.96875 66.40625 20.09375 61.84375 \r\nQ 16.21875 57.28125 16.21875 49.421875 \r\nQ 16.21875 41.5 20.09375 36.953125 \r\nQ 23.96875 32.421875 30.609375 32.421875 \r\nz\r\n\" id=\"DejaVuSans-57\"/>\r\n       </defs>\r\n       <use xlink:href=\"#DejaVuSans-50\"/>\r\n       <use x=\"63.623047\" xlink:href=\"#DejaVuSans-48\"/>\r\n       <use x=\"127.246094\" xlink:href=\"#DejaVuSans-49\"/>\r\n       <use x=\"190.869141\" xlink:href=\"#DejaVuSans-57\"/>\r\n      </g>\r\n     </g>\r\n    </g>\r\n   </g>\r\n   <g id=\"matplotlib.axis_2\">\r\n    <g id=\"ytick_1\">\r\n     <g id=\"line2d_9\">\r\n      <defs>\r\n       <path d=\"M 0 0 \r\nL -3.5 0 \r\n\" id=\"mfd552192ab\" style=\"stroke:#000000;stroke-width:0.8;\"/>\r\n      </defs>\r\n      <g>\r\n       <use style=\"stroke:#000000;stroke-width:0.8;\" x=\"33.2875\" xlink:href=\"#mfd552192ab\" y=\"222.116518\"/>\r\n      </g>\r\n     </g>\r\n     <g id=\"text_9\">\r\n      <!-- 0 -->\r\n      <g transform=\"translate(19.925 225.915737)scale(0.1 -0.1)\">\r\n       <use xlink:href=\"#DejaVuSans-48\"/>\r\n      </g>\r\n     </g>\r\n    </g>\r\n    <g id=\"ytick_2\">\r\n     <g id=\"line2d_10\">\r\n      <g>\r\n       <use style=\"stroke:#000000;stroke-width:0.8;\" x=\"33.2875\" xlink:href=\"#mfd552192ab\" y=\"195.830251\"/>\r\n      </g>\r\n     </g>\r\n     <g id=\"text_10\">\r\n      <!-- 25 -->\r\n      <g transform=\"translate(13.5625 199.62947)scale(0.1 -0.1)\">\r\n       <use xlink:href=\"#DejaVuSans-50\"/>\r\n       <use x=\"63.623047\" xlink:href=\"#DejaVuSans-53\"/>\r\n      </g>\r\n     </g>\r\n    </g>\r\n    <g id=\"ytick_3\">\r\n     <g id=\"line2d_11\">\r\n      <g>\r\n       <use style=\"stroke:#000000;stroke-width:0.8;\" x=\"33.2875\" xlink:href=\"#mfd552192ab\" y=\"169.543985\"/>\r\n      </g>\r\n     </g>\r\n     <g id=\"text_11\">\r\n      <!-- 50 -->\r\n      <g transform=\"translate(13.5625 173.343203)scale(0.1 -0.1)\">\r\n       <use xlink:href=\"#DejaVuSans-53\"/>\r\n       <use x=\"63.623047\" xlink:href=\"#DejaVuSans-48\"/>\r\n      </g>\r\n     </g>\r\n    </g>\r\n    <g id=\"ytick_4\">\r\n     <g id=\"line2d_12\">\r\n      <g>\r\n       <use style=\"stroke:#000000;stroke-width:0.8;\" x=\"33.2875\" xlink:href=\"#mfd552192ab\" y=\"143.257718\"/>\r\n      </g>\r\n     </g>\r\n     <g id=\"text_12\">\r\n      <!-- 75 -->\r\n      <g transform=\"translate(13.5625 147.056936)scale(0.1 -0.1)\">\r\n       <use xlink:href=\"#DejaVuSans-55\"/>\r\n       <use x=\"63.623047\" xlink:href=\"#DejaVuSans-53\"/>\r\n      </g>\r\n     </g>\r\n    </g>\r\n    <g id=\"ytick_5\">\r\n     <g id=\"line2d_13\">\r\n      <g>\r\n       <use style=\"stroke:#000000;stroke-width:0.8;\" x=\"33.2875\" xlink:href=\"#mfd552192ab\" y=\"116.971451\"/>\r\n      </g>\r\n     </g>\r\n     <g id=\"text_13\">\r\n      <!-- 100 -->\r\n      <g transform=\"translate(7.2 120.770669)scale(0.1 -0.1)\">\r\n       <use xlink:href=\"#DejaVuSans-49\"/>\r\n       <use x=\"63.623047\" xlink:href=\"#DejaVuSans-48\"/>\r\n       <use x=\"127.246094\" xlink:href=\"#DejaVuSans-48\"/>\r\n      </g>\r\n     </g>\r\n    </g>\r\n    <g id=\"ytick_6\">\r\n     <g id=\"line2d_14\">\r\n      <g>\r\n       <use style=\"stroke:#000000;stroke-width:0.8;\" x=\"33.2875\" xlink:href=\"#mfd552192ab\" y=\"90.685184\"/>\r\n      </g>\r\n     </g>\r\n     <g id=\"text_14\">\r\n      <!-- 125 -->\r\n      <g transform=\"translate(7.2 94.484403)scale(0.1 -0.1)\">\r\n       <use xlink:href=\"#DejaVuSans-49\"/>\r\n       <use x=\"63.623047\" xlink:href=\"#DejaVuSans-50\"/>\r\n       <use x=\"127.246094\" xlink:href=\"#DejaVuSans-53\"/>\r\n      </g>\r\n     </g>\r\n    </g>\r\n    <g id=\"ytick_7\">\r\n     <g id=\"line2d_15\">\r\n      <g>\r\n       <use style=\"stroke:#000000;stroke-width:0.8;\" x=\"33.2875\" xlink:href=\"#mfd552192ab\" y=\"64.398917\"/>\r\n      </g>\r\n     </g>\r\n     <g id=\"text_15\">\r\n      <!-- 150 -->\r\n      <g transform=\"translate(7.2 68.198136)scale(0.1 -0.1)\">\r\n       <use xlink:href=\"#DejaVuSans-49\"/>\r\n       <use x=\"63.623047\" xlink:href=\"#DejaVuSans-53\"/>\r\n       <use x=\"127.246094\" xlink:href=\"#DejaVuSans-48\"/>\r\n      </g>\r\n     </g>\r\n    </g>\r\n    <g id=\"ytick_8\">\r\n     <g id=\"line2d_16\">\r\n      <g>\r\n       <use style=\"stroke:#000000;stroke-width:0.8;\" x=\"33.2875\" xlink:href=\"#mfd552192ab\" y=\"38.11265\"/>\r\n      </g>\r\n     </g>\r\n     <g id=\"text_16\">\r\n      <!-- 175 -->\r\n      <g transform=\"translate(7.2 41.911869)scale(0.1 -0.1)\">\r\n       <use xlink:href=\"#DejaVuSans-49\"/>\r\n       <use x=\"63.623047\" xlink:href=\"#DejaVuSans-55\"/>\r\n       <use x=\"127.246094\" xlink:href=\"#DejaVuSans-53\"/>\r\n      </g>\r\n     </g>\r\n    </g>\r\n    <g id=\"ytick_9\">\r\n     <g id=\"line2d_17\">\r\n      <g>\r\n       <use style=\"stroke:#000000;stroke-width:0.8;\" x=\"33.2875\" xlink:href=\"#mfd552192ab\" y=\"11.826383\"/>\r\n      </g>\r\n     </g>\r\n     <g id=\"text_17\">\r\n      <!-- 200 -->\r\n      <g transform=\"translate(7.2 15.625602)scale(0.1 -0.1)\">\r\n       <use xlink:href=\"#DejaVuSans-50\"/>\r\n       <use x=\"63.623047\" xlink:href=\"#DejaVuSans-48\"/>\r\n       <use x=\"127.246094\" xlink:href=\"#DejaVuSans-48\"/>\r\n      </g>\r\n     </g>\r\n    </g>\r\n   </g>\r\n   <g id=\"line2d_18\">\r\n    <path clip-path=\"url(#p1227f6cdb6)\" d=\"M 48.505682 186.156905 \r\nL 49.339555 182.581973 \r\nL 50.173428 192.570754 \r\nL 51.007301 183.633424 \r\nL 51.841174 201.508085 \r\nL 52.675047 201.928665 \r\nL 53.50892 203.926422 \r\nL 54.342793 208.65795 \r\nL 55.176666 207.080774 \r\nL 56.010539 214.756364 \r\nL 56.844412 207.501354 \r\nL 58.512158 200.246344 \r\nL 59.346031 199.615474 \r\nL 60.179903 186.47234 \r\nL 61.013776 170.49029 \r\nL 61.847649 197.933153 \r\nL 62.681522 175.432108 \r\nL 63.515395 200.351489 \r\nL 64.349268 183.423133 \r\nL 65.183141 133.479226 \r\nL 66.017014 105.615783 \r\nL 66.850887 116.025145 \r\nL 67.68476 109.926731 \r\nL 68.518633 136.423288 \r\nL 69.352506 123.59559 \r\nL 70.186379 137.054159 \r\nL 71.020252 125.488201 \r\nL 71.854125 116.866306 \r\nL 72.687998 74.913424 \r\nL 73.521871 47.575706 \r\nL 74.355744 52.938104 \r\nL 75.189617 105.510638 \r\nL 76.02349 119.705222 \r\nL 76.857363 87.320542 \r\nL 78.525109 79.014081 \r\nL 79.358982 116.025145 \r\nL 80.192855 121.177253 \r\nL 81.026728 57.774778 \r\nL 81.860601 111.503907 \r\nL 82.694474 90.054313 \r\nL 83.528347 82.589014 \r\nL 84.36222 107.192959 \r\nL 85.196093 98.571064 \r\nL 86.029966 81.747853 \r\nL 86.863839 127.380812 \r\nL 87.697712 125.383056 \r\nL 88.531585 152.615629 \r\nL 89.365458 160.396364 \r\nL 90.199331 161.237524 \r\nL 91.033204 182.371683 \r\nL 91.867077 175.116673 \r\nL 92.70095 181.109942 \r\nL 93.534823 198.879458 \r\nL 94.368696 199.300039 \r\nL 95.202568 203.821277 \r\nL 96.036441 201.508085 \r\nL 96.870314 207.291064 \r\nL 97.704187 204.452147 \r\nL 98.53806 213.915203 \r\nL 99.371933 210.340271 \r\nL 100.205806 211.812302 \r\nL 101.039679 209.919691 \r\nL 101.873552 208.552805 \r\nL 102.707425 204.872727 \r\nL 103.541298 198.248588 \r\nL 104.375171 187.103211 \r\nL 105.209044 190.152418 \r\nL 106.042917 181.951103 \r\nL 106.87679 199.405184 \r\nL 107.710663 162.078685 \r\nL 108.544536 171.331451 \r\nL 109.378409 166.810213 \r\nL 110.212282 140.839381 \r\nL 111.046155 119.074352 \r\nL 111.880028 132.743211 \r\nL 112.713901 84.061044 \r\nL 113.547774 90.264603 \r\nL 114.381647 60.92913 \r\nL 115.21552 103.197447 \r\nL 116.049393 139.36735 \r\nL 116.883266 116.761161 \r\nL 117.717139 98.255629 \r\nL 118.551012 24.654081 \r\nL 119.384885 75.334004 \r\nL 120.218758 116.025145 \r\nL 121.052631 104.984913 \r\nL 121.886504 103.618027 \r\nL 122.720377 44.000774 \r\nL 123.55425 49.363172 \r\nL 124.388123 65.765803 \r\nL 125.221996 74.072263 \r\nL 126.055869 107.61354 \r\nL 126.889742 106.562089 \r\nL 127.723615 103.197447 \r\nL 128.557488 96.993888 \r\nL 129.391361 103.302592 \r\nL 130.225233 160.080928 \r\nL 131.059106 149.566422 \r\nL 131.892979 134.846112 \r\nL 132.726852 135.897563 \r\nL 133.560725 165.338182 \r\nL 134.394598 188.470097 \r\nL 135.228471 179.007041 \r\nL 136.062344 189.521547 \r\nL 136.896217 202.138956 \r\nL 137.73009 196.881702 \r\nL 138.563963 208.44766 \r\nL 139.397836 205.293308 \r\nL 141.065582 190.572998 \r\nL 142.733328 208.44766 \r\nL 143.567201 204.241857 \r\nL 144.401074 202.138956 \r\nL 145.234947 203.190406 \r\nL 146.06882 201.087505 \r\nL 146.902693 201.087505 \r\nL 147.736566 192.675899 \r\nL 148.570439 195.830251 \r\nL 149.404312 176.904139 \r\nL 150.238185 174.801238 \r\nL 151.072058 147.46352 \r\nL 151.905931 127.485957 \r\nL 152.739804 131.69176 \r\nL 153.573677 121.177253 \r\nL 154.40755 120.125803 \r\nL 155.241423 114.868549 \r\nL 156.075296 65.450368 \r\nL 156.909169 102.251141 \r\nL 157.743042 114.868549 \r\nL 158.576915 110.662747 \r\nL 159.410788 57.038762 \r\nL 160.244661 70.707621 \r\nL 161.078534 122.228704 \r\nL 161.912407 59.141663 \r\nL 162.74628 57.038762 \r\nL 163.580153 107.508395 \r\nL 164.414026 64.398917 \r\nL 165.247899 53.88441 \r\nL 166.081771 168.492534 \r\nL 166.915644 67.553269 \r\nL 167.749517 91.736634 \r\nL 168.58339 81.222128 \r\nL 169.417263 111.714197 \r\nL 170.251136 90.685184 \r\nL 171.085009 118.022901 \r\nL 171.918882 149.566422 \r\nL 172.752755 123.280155 \r\nL 173.586628 102.251141 \r\nL 174.420501 121.177253 \r\nL 175.254374 145.360619 \r\nL 176.088247 157.978027 \r\nL 176.92212 175.852689 \r\nL 177.755993 170.595435 \r\nL 178.589866 187.418646 \r\nL 179.423739 177.95559 \r\nL 180.257612 194.778801 \r\nL 181.091485 192.675899 \r\nL 181.925358 200.036054 \r\nL 182.759231 202.138956 \r\nL 183.593104 214.756364 \r\nL 184.426977 208.44766 \r\nL 185.26085 210.550561 \r\nL 186.094723 214.756364 \r\nL 186.928596 200.036054 \r\nL 187.762469 211.602012 \r\nL 188.596342 203.190406 \r\nL 189.430215 206.344758 \r\nL 190.264088 202.138956 \r\nL 191.097961 186.367195 \r\nL 191.931834 188.470097 \r\nL 192.765707 181.109942 \r\nL 193.59958 168.492534 \r\nL 194.433453 162.18383 \r\nL 195.267326 124.331605 \r\nL 196.101199 163.23528 \r\nL 196.935072 154.823675 \r\nL 197.768945 136.949014 \r\nL 199.436691 61.244565 \r\nL 200.270564 55.987311 \r\nL 201.104436 90.685184 \r\nL 201.938309 87.530832 \r\nL 202.772182 57.038762 \r\nL 203.606055 72.810522 \r\nL 204.439928 65.450368 \r\nL 205.273801 82.273578 \r\nL 206.107674 17.083636 \r\nL 206.941547 78.067776 \r\nL 207.77542 74.913424 \r\nL 208.609293 42.318453 \r\nL 209.443166 60.193114 \r\nL 210.277039 110.662747 \r\nL 211.110912 110.662747 \r\nL 211.944785 96.993888 \r\nL 212.778658 72.810522 \r\nL 213.612531 105.405493 \r\nL 214.446404 110.662747 \r\nL 215.280277 132.743211 \r\nL 216.11415 140.103366 \r\nL 216.948023 120.125803 \r\nL 217.781896 155.875126 \r\nL 218.615769 151.669323 \r\nL 219.449642 114.868549 \r\nL 220.283515 170.595435 \r\nL 221.117388 176.904139 \r\nL 221.951261 187.418646 \r\nL 222.785134 192.675899 \r\nL 223.619007 184.264294 \r\nL 225.286753 208.44766 \r\nL 226.120626 201.087505 \r\nL 226.954499 205.293308 \r\nL 227.788372 204.241857 \r\nL 228.622245 211.602012 \r\nL 229.456118 207.396209 \r\nL 230.289991 201.087505 \r\nL 231.123864 206.344758 \r\nL 231.957737 207.396209 \r\nL 232.79161 194.778801 \r\nL 234.459356 207.396209 \r\nL 235.293229 186.367195 \r\nL 236.127101 175.852689 \r\nL 236.960974 180.058491 \r\nL 237.794847 159.029478 \r\nL 238.62872 149.566422 \r\nL 239.462593 136.949014 \r\nL 240.296466 151.669323 \r\nL 241.130339 128.537408 \r\nL 241.964212 134.846112 \r\nL 242.798085 114.868549 \r\nL 243.631958 81.222128 \r\nL 244.465831 119.074352 \r\nL 245.299704 42.318453 \r\nL 246.96745 101.199691 \r\nL 247.801323 102.251141 \r\nL 248.635196 162.18383 \r\nL 249.469069 55.987311 \r\nL 250.302942 122.228704 \r\nL 251.136815 102.251141 \r\nL 251.970688 107.508395 \r\nL 252.804561 69.65617 \r\nL 253.638434 70.707621 \r\nL 254.472307 74.913424 \r\nL 255.30618 99.096789 \r\nL 256.140053 109.611296 \r\nL 256.973926 85.42793 \r\nL 257.807799 73.861973 \r\nL 258.641672 80.170677 \r\nL 259.475545 91.736634 \r\nL 260.309418 110.662747 \r\nL 261.143291 116.971451 \r\nL 261.977164 130.640309 \r\nL 262.811037 160.080928 \r\nL 263.64491 166.389632 \r\nL 264.478783 167.441083 \r\nL 265.312656 171.646886 \r\nL 266.146529 192.675899 \r\nL 266.980402 186.367195 \r\nL 267.814275 201.087505 \r\nL 268.648148 208.44766 \r\nL 269.482021 197.933153 \r\nL 270.315894 191.624449 \r\nL 271.149767 194.778801 \r\nL 271.983639 205.293308 \r\nL 272.817512 205.293308 \r\nL 273.651385 203.190406 \r\nL 274.485258 202.138956 \r\nL 275.319131 210.550561 \r\nL 276.153004 186.367195 \r\nL 276.986877 194.778801 \r\nL 277.82075 198.984603 \r\nL 278.654623 209.49911 \r\nL 279.488496 173.749787 \r\nL 280.322369 194.778801 \r\nL 281.156242 192.675899 \r\nL 281.990115 171.646886 \r\nL 282.823988 136.949014 \r\nL 283.657861 123.280155 \r\nL 284.491734 112.765648 \r\nL 285.325607 105.405493 \r\nL 286.15948 106.456944 \r\nL 286.993353 88.582282 \r\nL 287.827226 90.685184 \r\nL 288.661099 119.074352 \r\nL 289.494972 93.839536 \r\nL 290.328845 87.530832 \r\nL 291.162718 28.649594 \r\nL 291.996591 73.861973 \r\nL 292.830464 49.678607 \r\nL 293.664337 59.141663 \r\nL 294.49821 50.730058 \r\nL 295.332083 118.022901 \r\nL 296.165956 52.832959 \r\nL 296.999829 100.14824 \r\nL 297.833702 80.170677 \r\nL 298.667575 107.508395 \r\nL 299.501448 90.685184 \r\nL 300.335321 118.022901 \r\nL 301.169194 120.125803 \r\nL 302.003067 112.765648 \r\nL 302.83694 113.817099 \r\nL 303.670813 155.875126 \r\nL 304.504686 133.794662 \r\nL 305.338559 128.537408 \r\nL 306.172432 141.154816 \r\nL 307.006304 160.080928 \r\nL 307.840177 173.749787 \r\nL 308.67405 169.543985 \r\nL 309.507923 195.830251 \r\nL 310.341796 187.418646 \r\nL 311.175669 192.675899 \r\nL 312.009542 203.190406 \r\nL 312.843415 202.138956 \r\nL 313.677288 207.396209 \r\nL 314.511161 211.602012 \r\nL 315.345034 214.756364 \r\nL 316.178907 214.756364 \r\nL 317.01278 212.653462 \r\nL 317.846653 213.704913 \r\nL 319.514399 205.293308 \r\nL 321.182145 201.087505 \r\nL 322.016018 170.595435 \r\nL 322.849891 171.646886 \r\nL 323.683764 160.080928 \r\nL 324.517637 154.823675 \r\nL 325.35151 177.95559 \r\nL 326.185383 181.109942 \r\nL 327.019256 124.331605 \r\nL 327.853129 148.514971 \r\nL 328.687002 129.588859 \r\nL 329.520875 142.206267 \r\nL 330.354748 64.398917 \r\nL 331.188621 104.354043 \r\nL 332.022494 75.964874 \r\nL 332.856367 58.090213 \r\nL 333.69024 75.964874 \r\nL 334.524113 79.119226 \r\nL 335.357986 94.890986 \r\nL 336.191859 80.170677 \r\nL 337.025732 98.045338 \r\nL 337.859605 104.354043 \r\nL 338.693478 23.39234 \r\nL 339.527351 33.906847 \r\nL 340.361224 70.707621 \r\nL 341.195097 69.65617 \r\nL 342.028969 61.244565 \r\nL 342.862842 60.193114 \r\nL 343.696715 81.222128 \r\nL 344.530588 109.611296 \r\nL 345.364461 105.405493 \r\nL 346.198334 124.331605 \r\nL 347.032207 121.177253 \r\nL 347.86608 127.485957 \r\nL 348.699953 110.662747 \r\nL 349.533826 128.537408 \r\nL 350.367699 141.154816 \r\nL 351.201572 141.154816 \r\nL 352.035445 164.286731 \r\nL 352.869318 195.830251 \r\nL 352.869318 195.830251 \r\n\" style=\"fill:none;stroke:#1f77b4;stroke-linecap:square;stroke-width:1.5;\"/>\r\n   </g>\r\n   <g id=\"line2d_19\">\r\n    <path clip-path=\"url(#p1227f6cdb6)\" d=\"M 51.007301 186.235764 \r\nL 51.841174 190.073559 \r\nL 52.675047 194.910232 \r\nL 53.50892 197.749149 \r\nL 54.342793 204.00528 \r\nL 55.176666 205.398453 \r\nL 56.010539 208.605377 \r\nL 56.844412 209.49911 \r\nL 57.678285 208.263656 \r\nL 58.512158 206.555048 \r\nL 59.346031 202.769826 \r\nL 60.179903 197.512573 \r\nL 61.013776 189.206112 \r\nL 61.847649 188.627814 \r\nL 62.681522 182.581973 \r\nL 64.349268 189.284971 \r\nL 66.017014 155.717408 \r\nL 67.68476 116.261721 \r\nL 68.518633 116.997737 \r\nL 69.352506 121.492689 \r\nL 70.186379 126.749942 \r\nL 71.020252 130.640309 \r\nL 71.854125 125.751064 \r\nL 72.687998 113.580522 \r\nL 73.521871 91.210909 \r\nL 74.355744 73.073385 \r\nL 75.189617 70.234468 \r\nL 76.857363 91.368627 \r\nL 77.691236 98.965358 \r\nL 78.525109 92.341219 \r\nL 79.358982 91.421199 \r\nL 80.192855 99.885377 \r\nL 81.026728 93.497814 \r\nL 81.860601 101.620271 \r\nL 82.694474 95.127563 \r\nL 83.528347 85.480503 \r\nL 84.36222 97.835048 \r\nL 85.196093 94.601838 \r\nL 86.029966 92.525222 \r\nL 86.863839 103.723172 \r\nL 87.697712 108.270696 \r\nL 88.531585 121.781838 \r\nL 89.365458 141.443965 \r\nL 90.199331 149.908143 \r\nL 91.033204 164.1553 \r\nL 92.70095 174.958956 \r\nL 93.534823 184.369439 \r\nL 94.368696 188.601528 \r\nL 95.202568 195.777679 \r\nL 96.036441 200.877215 \r\nL 96.870314 202.980116 \r\nL 97.704187 204.268143 \r\nL 99.371933 208.999671 \r\nL 100.205806 210.129981 \r\nL 101.039679 211.496867 \r\nL 102.707425 208.789381 \r\nL 103.541298 205.398453 \r\nL 104.375171 199.694333 \r\nL 105.209044 195.094236 \r\nL 106.042917 189.36383 \r\nL 106.87679 189.652979 \r\nL 107.710663 183.396847 \r\nL 108.544536 178.691605 \r\nL 109.378409 174.906383 \r\nL 110.212282 160.264932 \r\nL 111.880028 139.866789 \r\nL 112.713901 119.179497 \r\nL 113.547774 106.535803 \r\nL 114.381647 91.999497 \r\nL 115.21552 84.613056 \r\nL 116.049393 98.439632 \r\nL 116.883266 105.063772 \r\nL 117.717139 114.395397 \r\nL 118.551012 94.759555 \r\nL 119.384885 78.751219 \r\nL 120.218758 78.567215 \r\nL 121.052631 80.249536 \r\nL 121.886504 99.990522 \r\nL 122.720377 92.157215 \r\nL 123.55425 75.491721 \r\nL 124.388123 65.686944 \r\nL 125.221996 58.300503 \r\nL 126.889742 88.503424 \r\nL 127.723615 97.861335 \r\nL 128.557488 103.591741 \r\nL 129.391361 102.514004 \r\nL 130.225233 115.893714 \r\nL 131.059106 127.485957 \r\nL 131.892979 136.949014 \r\nL 132.726852 145.097756 \r\nL 133.560725 146.41207 \r\nL 134.394598 156.137988 \r\nL 135.228471 167.178221 \r\nL 136.062344 180.584217 \r\nL 136.896217 189.78441 \r\nL 137.73009 191.887311 \r\nL 138.563963 199.247466 \r\nL 139.397836 203.190406 \r\nL 140.231709 202.138956 \r\nL 141.065582 200.561779 \r\nL 141.899455 198.196015 \r\nL 142.733328 198.984603 \r\nL 143.567201 200.561779 \r\nL 144.401074 203.453269 \r\nL 145.234947 204.50472 \r\nL 146.06882 202.664681 \r\nL 146.902693 201.876093 \r\nL 147.736566 199.510329 \r\nL 148.570439 197.67029 \r\nL 150.238185 185.052882 \r\nL 151.072058 173.749787 \r\nL 151.905931 156.663714 \r\nL 152.739804 145.360619 \r\nL 153.573677 131.954623 \r\nL 154.40755 125.120193 \r\nL 155.241423 121.965841 \r\nL 156.075296 105.405493 \r\nL 156.909169 100.673965 \r\nL 157.743042 99.359652 \r\nL 158.576915 98.308201 \r\nL 159.410788 96.2053 \r\nL 160.244661 88.31942 \r\nL 161.078534 90.159458 \r\nL 161.912407 77.279188 \r\nL 162.74628 77.279188 \r\nL 163.580153 86.479381 \r\nL 164.414026 72.021934 \r\nL 165.247899 70.707621 \r\nL 166.081771 98.571064 \r\nL 166.915644 88.582282 \r\nL 168.58339 102.251141 \r\nL 169.417263 88.056557 \r\nL 170.251136 93.839536 \r\nL 171.085009 100.411103 \r\nL 171.918882 117.497176 \r\nL 173.586628 123.280155 \r\nL 174.420501 124.068743 \r\nL 175.254374 123.017292 \r\nL 176.088247 131.69176 \r\nL 176.92212 150.092147 \r\nL 177.755993 162.446692 \r\nL 178.589866 172.961199 \r\nL 181.091485 188.207234 \r\nL 181.925358 191.361586 \r\nL 182.759231 197.407427 \r\nL 183.593104 202.401818 \r\nL 184.426977 206.344758 \r\nL 185.26085 208.973385 \r\nL 186.094723 212.127737 \r\nL 186.928596 208.44766 \r\nL 187.762469 209.236248 \r\nL 189.430215 205.293308 \r\nL 190.264088 205.819033 \r\nL 191.097961 199.510329 \r\nL 191.931834 195.830251 \r\nL 192.765707 189.521547 \r\nL 193.59958 181.109942 \r\nL 194.433453 175.064101 \r\nL 195.267326 159.029478 \r\nL 196.101199 154.560812 \r\nL 196.935072 151.143598 \r\nL 198.602818 138.263327 \r\nL 200.270564 88.056557 \r\nL 201.104436 76.4906 \r\nL 201.938309 73.861973 \r\nL 202.772182 72.810522 \r\nL 203.606055 77.016325 \r\nL 204.439928 70.707621 \r\nL 205.273801 69.393308 \r\nL 206.107674 59.404526 \r\nL 206.941547 60.718839 \r\nL 207.77542 63.084603 \r\nL 208.609293 53.095822 \r\nL 209.443166 63.873191 \r\nL 211.110912 80.959265 \r\nL 211.944785 94.628124 \r\nL 212.778658 97.782476 \r\nL 213.612531 96.468162 \r\nL 214.446404 96.468162 \r\nL 215.280277 105.405493 \r\nL 216.11415 122.228704 \r\nL 216.948023 125.908781 \r\nL 217.781896 137.211876 \r\nL 218.615769 141.943404 \r\nL 219.449642 135.6347 \r\nL 220.283515 148.252108 \r\nL 221.117388 153.509362 \r\nL 221.951261 162.446692 \r\nL 222.785134 181.89853 \r\nL 223.619007 185.315745 \r\nL 225.286753 195.304526 \r\nL 226.120626 197.407427 \r\nL 226.954499 202.664681 \r\nL 227.788372 204.767582 \r\nL 228.622245 205.55617 \r\nL 229.456118 207.133346 \r\nL 230.289991 206.081896 \r\nL 231.123864 206.607621 \r\nL 231.957737 205.55617 \r\nL 232.79161 202.401818 \r\nL 233.625483 202.401818 \r\nL 234.459356 202.664681 \r\nL 236.960974 187.418646 \r\nL 237.794847 175.326963 \r\nL 239.462593 156.400851 \r\nL 241.130339 141.680542 \r\nL 241.964212 138.000464 \r\nL 242.798085 132.480348 \r\nL 243.631958 114.868549 \r\nL 244.465831 112.502785 \r\nL 245.299704 89.37087 \r\nL 246.133577 78.330638 \r\nL 246.96745 83.325029 \r\nL 247.801323 79.119226 \r\nL 248.635196 109.085571 \r\nL 249.469069 105.405493 \r\nL 250.302942 110.662747 \r\nL 251.136815 110.662747 \r\nL 251.970688 96.993888 \r\nL 252.804561 100.411103 \r\nL 253.638434 87.530832 \r\nL 254.472307 80.696402 \r\nL 255.30618 78.593501 \r\nL 256.140053 88.582282 \r\nL 256.973926 92.26236 \r\nL 257.807799 91.999497 \r\nL 259.475545 82.799304 \r\nL 260.309418 89.108008 \r\nL 261.143291 99.885377 \r\nL 261.977164 112.502785 \r\nL 262.811037 129.588859 \r\nL 264.478783 156.137988 \r\nL 265.312656 166.389632 \r\nL 266.146529 174.538375 \r\nL 266.980402 179.532766 \r\nL 268.648148 197.144565 \r\nL 270.315894 199.773191 \r\nL 271.149767 198.196015 \r\nL 271.983639 197.407427 \r\nL 272.817512 199.247466 \r\nL 273.651385 202.138956 \r\nL 274.485258 203.978994 \r\nL 275.319131 205.293308 \r\nL 276.153004 200.561779 \r\nL 276.986877 198.458878 \r\nL 277.82075 197.67029 \r\nL 278.654623 197.407427 \r\nL 279.488496 194.253075 \r\nL 280.322369 194.253075 \r\nL 281.156242 192.675899 \r\nL 282.823988 174.01265 \r\nL 285.325607 119.600077 \r\nL 286.15948 111.97706 \r\nL 286.993353 103.302592 \r\nL 287.827226 97.782476 \r\nL 288.661099 101.199691 \r\nL 289.494972 98.045338 \r\nL 290.328845 97.782476 \r\nL 291.162718 82.273578 \r\nL 292.830464 59.930251 \r\nL 293.664337 52.832959 \r\nL 294.49821 58.353075 \r\nL 295.332083 69.393308 \r\nL 296.165956 70.181896 \r\nL 296.999829 80.43354 \r\nL 297.833702 87.793694 \r\nL 298.667575 85.165068 \r\nL 299.501448 94.628124 \r\nL 300.335321 99.096789 \r\nL 301.169194 109.085571 \r\nL 302.003067 110.399884 \r\nL 302.83694 116.182863 \r\nL 303.670813 125.645919 \r\nL 304.504686 129.063133 \r\nL 305.338559 133.006074 \r\nL 306.172432 139.840503 \r\nL 307.006304 140.891954 \r\nL 308.67405 161.132379 \r\nL 309.507923 174.801238 \r\nL 310.341796 181.635667 \r\nL 311.175669 186.367195 \r\nL 312.009542 194.778801 \r\nL 312.843415 196.355977 \r\nL 314.511161 206.081896 \r\nL 316.178907 212.127737 \r\nL 317.01278 213.44205 \r\nL 317.846653 213.967776 \r\nL 318.680526 212.653462 \r\nL 320.348272 207.921934 \r\nL 321.182145 204.767582 \r\nL 322.016018 195.041663 \r\nL 322.849891 186.630058 \r\nL 324.517637 164.286731 \r\nL 325.35151 166.12677 \r\nL 326.185383 168.492534 \r\nL 327.019256 159.555203 \r\nL 327.853129 157.978027 \r\nL 328.687002 145.886344 \r\nL 329.520875 136.160426 \r\nL 330.354748 121.177253 \r\nL 331.188621 110.137021 \r\nL 332.022494 96.731025 \r\nL 332.856367 75.702012 \r\nL 333.69024 78.593501 \r\nL 334.524113 72.284797 \r\nL 335.357986 77.016325 \r\nL 337.025732 88.056557 \r\nL 337.859605 94.365261 \r\nL 338.693478 76.4906 \r\nL 339.527351 64.924642 \r\nL 340.361224 58.090213 \r\nL 341.195097 49.415745 \r\nL 342.028969 58.878801 \r\nL 342.862842 65.450368 \r\nL 343.696715 68.078994 \r\nL 345.364461 89.108008 \r\nL 346.198334 105.142631 \r\nL 347.032207 115.131412 \r\nL 347.86608 119.600077 \r\nL 348.699953 120.914391 \r\nL 349.533826 121.965841 \r\nL 350.367699 126.960232 \r\nL 351.201572 130.377447 \r\nL 352.035445 143.783443 \r\nL 352.869318 160.606654 \r\nL 352.869318 160.606654 \r\n\" style=\"fill:none;stroke:#ff7f0e;stroke-linecap:square;stroke-width:1.5;\"/>\r\n   </g>\r\n   <g id=\"patch_3\">\r\n    <path d=\"M 33.2875 224.64 \r\nL 33.2875 7.2 \r\n\" style=\"fill:none;stroke:#000000;stroke-linecap:square;stroke-linejoin:miter;stroke-width:0.8;\"/>\r\n   </g>\r\n   <g id=\"patch_4\">\r\n    <path d=\"M 368.0875 224.64 \r\nL 368.0875 7.2 \r\n\" style=\"fill:none;stroke:#000000;stroke-linecap:square;stroke-linejoin:miter;stroke-width:0.8;\"/>\r\n   </g>\r\n   <g id=\"patch_5\">\r\n    <path d=\"M 33.2875 224.64 \r\nL 368.0875 224.64 \r\n\" style=\"fill:none;stroke:#000000;stroke-linecap:square;stroke-linejoin:miter;stroke-width:0.8;\"/>\r\n   </g>\r\n   <g id=\"patch_6\">\r\n    <path d=\"M 33.2875 7.2 \r\nL 368.0875 7.2 \r\n\" style=\"fill:none;stroke:#000000;stroke-linecap:square;stroke-linejoin:miter;stroke-width:0.8;\"/>\r\n   </g>\r\n   <g id=\"legend_1\">\r\n    <g id=\"patch_7\">\r\n     <path d=\"M 40.2875 44.55625 \r\nL 174.35625 44.55625 \r\nQ 176.35625 44.55625 176.35625 42.55625 \r\nL 176.35625 14.2 \r\nQ 176.35625 12.2 174.35625 12.2 \r\nL 40.2875 12.2 \r\nQ 38.2875 12.2 38.2875 14.2 \r\nL 38.2875 42.55625 \r\nQ 38.2875 44.55625 40.2875 44.55625 \r\nz\r\n\" style=\"fill:#ffffff;opacity:0.8;stroke:#cccccc;stroke-linejoin:miter;\"/>\r\n    </g>\r\n    <g id=\"line2d_20\">\r\n     <path d=\"M 42.2875 20.298437 \r\nL 62.2875 20.298437 \r\n\" style=\"fill:none;stroke:#1f77b4;stroke-linecap:square;stroke-width:1.5;\"/>\r\n    </g>\r\n    <g id=\"line2d_21\"/>\r\n    <g id=\"text_18\">\r\n     <!-- Actual values -->\r\n     <g transform=\"translate(70.2875 23.798437)scale(0.1 -0.1)\">\r\n      <defs>\r\n       <path d=\"M 34.1875 63.1875 \r\nL 20.796875 26.90625 \r\nL 47.609375 26.90625 \r\nz\r\nM 28.609375 72.90625 \r\nL 39.796875 72.90625 \r\nL 67.578125 0 \r\nL 57.328125 0 \r\nL 50.6875 18.703125 \r\nL 17.828125 18.703125 \r\nL 11.1875 0 \r\nL 0.78125 0 \r\nz\r\n\" id=\"DejaVuSans-65\"/>\r\n       <path d=\"M 48.78125 52.59375 \r\nL 48.78125 44.1875 \r\nQ 44.96875 46.296875 41.140625 47.34375 \r\nQ 37.3125 48.390625 33.40625 48.390625 \r\nQ 24.65625 48.390625 19.8125 42.84375 \r\nQ 14.984375 37.3125 14.984375 27.296875 \r\nQ 14.984375 17.28125 19.8125 11.734375 \r\nQ 24.65625 6.203125 33.40625 6.203125 \r\nQ 37.3125 6.203125 41.140625 7.25 \r\nQ 44.96875 8.296875 48.78125 10.40625 \r\nL 48.78125 2.09375 \r\nQ 45.015625 0.34375 40.984375 -0.53125 \r\nQ 36.96875 -1.421875 32.421875 -1.421875 \r\nQ 20.0625 -1.421875 12.78125 6.34375 \r\nQ 5.515625 14.109375 5.515625 27.296875 \r\nQ 5.515625 40.671875 12.859375 48.328125 \r\nQ 20.21875 56 33.015625 56 \r\nQ 37.15625 56 41.109375 55.140625 \r\nQ 45.0625 54.296875 48.78125 52.59375 \r\nz\r\n\" id=\"DejaVuSans-99\"/>\r\n       <path d=\"M 18.3125 70.21875 \r\nL 18.3125 54.6875 \r\nL 36.8125 54.6875 \r\nL 36.8125 47.703125 \r\nL 18.3125 47.703125 \r\nL 18.3125 18.015625 \r\nQ 18.3125 11.328125 20.140625 9.421875 \r\nQ 21.96875 7.515625 27.59375 7.515625 \r\nL 36.8125 7.515625 \r\nL 36.8125 0 \r\nL 27.59375 0 \r\nQ 17.1875 0 13.234375 3.875 \r\nQ 9.28125 7.765625 9.28125 18.015625 \r\nL 9.28125 47.703125 \r\nL 2.6875 47.703125 \r\nL 2.6875 54.6875 \r\nL 9.28125 54.6875 \r\nL 9.28125 70.21875 \r\nz\r\n\" id=\"DejaVuSans-116\"/>\r\n       <path d=\"M 8.5 21.578125 \r\nL 8.5 54.6875 \r\nL 17.484375 54.6875 \r\nL 17.484375 21.921875 \r\nQ 17.484375 14.15625 20.5 10.265625 \r\nQ 23.53125 6.390625 29.59375 6.390625 \r\nQ 36.859375 6.390625 41.078125 11.03125 \r\nQ 45.3125 15.671875 45.3125 23.6875 \r\nL 45.3125 54.6875 \r\nL 54.296875 54.6875 \r\nL 54.296875 0 \r\nL 45.3125 0 \r\nL 45.3125 8.40625 \r\nQ 42.046875 3.421875 37.71875 1 \r\nQ 33.40625 -1.421875 27.6875 -1.421875 \r\nQ 18.265625 -1.421875 13.375 4.4375 \r\nQ 8.5 10.296875 8.5 21.578125 \r\nz\r\nM 31.109375 56 \r\nz\r\n\" id=\"DejaVuSans-117\"/>\r\n       <path d=\"M 34.28125 27.484375 \r\nQ 23.390625 27.484375 19.1875 25 \r\nQ 14.984375 22.515625 14.984375 16.5 \r\nQ 14.984375 11.71875 18.140625 8.90625 \r\nQ 21.296875 6.109375 26.703125 6.109375 \r\nQ 34.1875 6.109375 38.703125 11.40625 \r\nQ 43.21875 16.703125 43.21875 25.484375 \r\nL 43.21875 27.484375 \r\nz\r\nM 52.203125 31.203125 \r\nL 52.203125 0 \r\nL 43.21875 0 \r\nL 43.21875 8.296875 \r\nQ 40.140625 3.328125 35.546875 0.953125 \r\nQ 30.953125 -1.421875 24.3125 -1.421875 \r\nQ 15.921875 -1.421875 10.953125 3.296875 \r\nQ 6 8.015625 6 15.921875 \r\nQ 6 25.140625 12.171875 29.828125 \r\nQ 18.359375 34.515625 30.609375 34.515625 \r\nL 43.21875 34.515625 \r\nL 43.21875 35.40625 \r\nQ 43.21875 41.609375 39.140625 45 \r\nQ 35.0625 48.390625 27.6875 48.390625 \r\nQ 23 48.390625 18.546875 47.265625 \r\nQ 14.109375 46.140625 10.015625 43.890625 \r\nL 10.015625 52.203125 \r\nQ 14.9375 54.109375 19.578125 55.046875 \r\nQ 24.21875 56 28.609375 56 \r\nQ 40.484375 56 46.34375 49.84375 \r\nQ 52.203125 43.703125 52.203125 31.203125 \r\nz\r\n\" id=\"DejaVuSans-97\"/>\r\n       <path d=\"M 9.421875 75.984375 \r\nL 18.40625 75.984375 \r\nL 18.40625 0 \r\nL 9.421875 0 \r\nz\r\n\" id=\"DejaVuSans-108\"/>\r\n       <path id=\"DejaVuSans-32\"/>\r\n       <path d=\"M 2.984375 54.6875 \r\nL 12.5 54.6875 \r\nL 29.59375 8.796875 \r\nL 46.6875 54.6875 \r\nL 56.203125 54.6875 \r\nL 35.6875 0 \r\nL 23.484375 0 \r\nz\r\n\" id=\"DejaVuSans-118\"/>\r\n       <path d=\"M 56.203125 29.59375 \r\nL 56.203125 25.203125 \r\nL 14.890625 25.203125 \r\nQ 15.484375 15.921875 20.484375 11.0625 \r\nQ 25.484375 6.203125 34.421875 6.203125 \r\nQ 39.59375 6.203125 44.453125 7.46875 \r\nQ 49.3125 8.734375 54.109375 11.28125 \r\nL 54.109375 2.78125 \r\nQ 49.265625 0.734375 44.1875 -0.34375 \r\nQ 39.109375 -1.421875 33.890625 -1.421875 \r\nQ 20.796875 -1.421875 13.15625 6.1875 \r\nQ 5.515625 13.8125 5.515625 26.8125 \r\nQ 5.515625 40.234375 12.765625 48.109375 \r\nQ 20.015625 56 32.328125 56 \r\nQ 43.359375 56 49.78125 48.890625 \r\nQ 56.203125 41.796875 56.203125 29.59375 \r\nz\r\nM 47.21875 32.234375 \r\nQ 47.125 39.59375 43.09375 43.984375 \r\nQ 39.0625 48.390625 32.421875 48.390625 \r\nQ 24.90625 48.390625 20.390625 44.140625 \r\nQ 15.875 39.890625 15.1875 32.171875 \r\nz\r\n\" id=\"DejaVuSans-101\"/>\r\n       <path d=\"M 44.28125 53.078125 \r\nL 44.28125 44.578125 \r\nQ 40.484375 46.53125 36.375 47.5 \r\nQ 32.28125 48.484375 27.875 48.484375 \r\nQ 21.1875 48.484375 17.84375 46.4375 \r\nQ 14.5 44.390625 14.5 40.28125 \r\nQ 14.5 37.15625 16.890625 35.375 \r\nQ 19.28125 33.59375 26.515625 31.984375 \r\nL 29.59375 31.296875 \r\nQ 39.15625 29.25 43.1875 25.515625 \r\nQ 47.21875 21.78125 47.21875 15.09375 \r\nQ 47.21875 7.46875 41.1875 3.015625 \r\nQ 35.15625 -1.421875 24.609375 -1.421875 \r\nQ 20.21875 -1.421875 15.453125 -0.5625 \r\nQ 10.6875 0.296875 5.421875 2 \r\nL 5.421875 11.28125 \r\nQ 10.40625 8.6875 15.234375 7.390625 \r\nQ 20.0625 6.109375 24.8125 6.109375 \r\nQ 31.15625 6.109375 34.5625 8.28125 \r\nQ 37.984375 10.453125 37.984375 14.40625 \r\nQ 37.984375 18.0625 35.515625 20.015625 \r\nQ 33.0625 21.96875 24.703125 23.78125 \r\nL 21.578125 24.515625 \r\nQ 13.234375 26.265625 9.515625 29.90625 \r\nQ 5.8125 33.546875 5.8125 39.890625 \r\nQ 5.8125 47.609375 11.28125 51.796875 \r\nQ 16.75 56 26.8125 56 \r\nQ 31.78125 56 36.171875 55.265625 \r\nQ 40.578125 54.546875 44.28125 53.078125 \r\nz\r\n\" id=\"DejaVuSans-115\"/>\r\n      </defs>\r\n      <use xlink:href=\"#DejaVuSans-65\"/>\r\n      <use x=\"66.658203\" xlink:href=\"#DejaVuSans-99\"/>\r\n      <use x=\"121.638672\" xlink:href=\"#DejaVuSans-116\"/>\r\n      <use x=\"160.847656\" xlink:href=\"#DejaVuSans-117\"/>\r\n      <use x=\"224.226562\" xlink:href=\"#DejaVuSans-97\"/>\r\n      <use x=\"285.505859\" xlink:href=\"#DejaVuSans-108\"/>\r\n      <use x=\"313.289062\" xlink:href=\"#DejaVuSans-32\"/>\r\n      <use x=\"345.076172\" xlink:href=\"#DejaVuSans-118\"/>\r\n      <use x=\"404.255859\" xlink:href=\"#DejaVuSans-97\"/>\r\n      <use x=\"465.535156\" xlink:href=\"#DejaVuSans-108\"/>\r\n      <use x=\"493.318359\" xlink:href=\"#DejaVuSans-117\"/>\r\n      <use x=\"556.697266\" xlink:href=\"#DejaVuSans-101\"/>\r\n      <use x=\"618.220703\" xlink:href=\"#DejaVuSans-115\"/>\r\n     </g>\r\n    </g>\r\n    <g id=\"line2d_22\">\r\n     <path d=\"M 42.2875 34.976562 \r\nL 62.2875 34.976562 \r\n\" style=\"fill:none;stroke:#ff7f0e;stroke-linecap:square;stroke-width:1.5;\"/>\r\n    </g>\r\n    <g id=\"line2d_23\"/>\r\n    <g id=\"text_19\">\r\n     <!-- SMA with window=4 -->\r\n     <g transform=\"translate(70.2875 38.476562)scale(0.1 -0.1)\">\r\n      <defs>\r\n       <path d=\"M 53.515625 70.515625 \r\nL 53.515625 60.890625 \r\nQ 47.90625 63.578125 42.921875 64.890625 \r\nQ 37.9375 66.21875 33.296875 66.21875 \r\nQ 25.25 66.21875 20.875 63.09375 \r\nQ 16.5 59.96875 16.5 54.203125 \r\nQ 16.5 49.359375 19.40625 46.890625 \r\nQ 22.3125 44.4375 30.421875 42.921875 \r\nL 36.375 41.703125 \r\nQ 47.40625 39.59375 52.65625 34.296875 \r\nQ 57.90625 29 57.90625 20.125 \r\nQ 57.90625 9.515625 50.796875 4.046875 \r\nQ 43.703125 -1.421875 29.984375 -1.421875 \r\nQ 24.8125 -1.421875 18.96875 -0.25 \r\nQ 13.140625 0.921875 6.890625 3.21875 \r\nL 6.890625 13.375 \r\nQ 12.890625 10.015625 18.65625 8.296875 \r\nQ 24.421875 6.59375 29.984375 6.59375 \r\nQ 38.421875 6.59375 43.015625 9.90625 \r\nQ 47.609375 13.234375 47.609375 19.390625 \r\nQ 47.609375 24.75 44.3125 27.78125 \r\nQ 41.015625 30.8125 33.5 32.328125 \r\nL 27.484375 33.5 \r\nQ 16.453125 35.6875 11.515625 40.375 \r\nQ 6.59375 45.0625 6.59375 53.421875 \r\nQ 6.59375 63.09375 13.40625 68.65625 \r\nQ 20.21875 74.21875 32.171875 74.21875 \r\nQ 37.3125 74.21875 42.625 73.28125 \r\nQ 47.953125 72.359375 53.515625 70.515625 \r\nz\r\n\" id=\"DejaVuSans-83\"/>\r\n       <path d=\"M 9.8125 72.90625 \r\nL 24.515625 72.90625 \r\nL 43.109375 23.296875 \r\nL 61.8125 72.90625 \r\nL 76.515625 72.90625 \r\nL 76.515625 0 \r\nL 66.890625 0 \r\nL 66.890625 64.015625 \r\nL 48.09375 14.015625 \r\nL 38.1875 14.015625 \r\nL 19.390625 64.015625 \r\nL 19.390625 0 \r\nL 9.8125 0 \r\nz\r\n\" id=\"DejaVuSans-77\"/>\r\n       <path d=\"M 4.203125 54.6875 \r\nL 13.1875 54.6875 \r\nL 24.421875 12.015625 \r\nL 35.59375 54.6875 \r\nL 46.1875 54.6875 \r\nL 57.421875 12.015625 \r\nL 68.609375 54.6875 \r\nL 77.59375 54.6875 \r\nL 63.28125 0 \r\nL 52.6875 0 \r\nL 40.921875 44.828125 \r\nL 29.109375 0 \r\nL 18.5 0 \r\nz\r\n\" id=\"DejaVuSans-119\"/>\r\n       <path d=\"M 9.421875 54.6875 \r\nL 18.40625 54.6875 \r\nL 18.40625 0 \r\nL 9.421875 0 \r\nz\r\nM 9.421875 75.984375 \r\nL 18.40625 75.984375 \r\nL 18.40625 64.59375 \r\nL 9.421875 64.59375 \r\nz\r\n\" id=\"DejaVuSans-105\"/>\r\n       <path d=\"M 54.890625 33.015625 \r\nL 54.890625 0 \r\nL 45.90625 0 \r\nL 45.90625 32.71875 \r\nQ 45.90625 40.484375 42.875 44.328125 \r\nQ 39.84375 48.1875 33.796875 48.1875 \r\nQ 26.515625 48.1875 22.3125 43.546875 \r\nQ 18.109375 38.921875 18.109375 30.90625 \r\nL 18.109375 0 \r\nL 9.078125 0 \r\nL 9.078125 75.984375 \r\nL 18.109375 75.984375 \r\nL 18.109375 46.1875 \r\nQ 21.34375 51.125 25.703125 53.5625 \r\nQ 30.078125 56 35.796875 56 \r\nQ 45.21875 56 50.046875 50.171875 \r\nQ 54.890625 44.34375 54.890625 33.015625 \r\nz\r\n\" id=\"DejaVuSans-104\"/>\r\n       <path d=\"M 54.890625 33.015625 \r\nL 54.890625 0 \r\nL 45.90625 0 \r\nL 45.90625 32.71875 \r\nQ 45.90625 40.484375 42.875 44.328125 \r\nQ 39.84375 48.1875 33.796875 48.1875 \r\nQ 26.515625 48.1875 22.3125 43.546875 \r\nQ 18.109375 38.921875 18.109375 30.90625 \r\nL 18.109375 0 \r\nL 9.078125 0 \r\nL 9.078125 54.6875 \r\nL 18.109375 54.6875 \r\nL 18.109375 46.1875 \r\nQ 21.34375 51.125 25.703125 53.5625 \r\nQ 30.078125 56 35.796875 56 \r\nQ 45.21875 56 50.046875 50.171875 \r\nQ 54.890625 44.34375 54.890625 33.015625 \r\nz\r\n\" id=\"DejaVuSans-110\"/>\r\n       <path d=\"M 45.40625 46.390625 \r\nL 45.40625 75.984375 \r\nL 54.390625 75.984375 \r\nL 54.390625 0 \r\nL 45.40625 0 \r\nL 45.40625 8.203125 \r\nQ 42.578125 3.328125 38.25 0.953125 \r\nQ 33.9375 -1.421875 27.875 -1.421875 \r\nQ 17.96875 -1.421875 11.734375 6.484375 \r\nQ 5.515625 14.40625 5.515625 27.296875 \r\nQ 5.515625 40.1875 11.734375 48.09375 \r\nQ 17.96875 56 27.875 56 \r\nQ 33.9375 56 38.25 53.625 \r\nQ 42.578125 51.265625 45.40625 46.390625 \r\nz\r\nM 14.796875 27.296875 \r\nQ 14.796875 17.390625 18.875 11.75 \r\nQ 22.953125 6.109375 30.078125 6.109375 \r\nQ 37.203125 6.109375 41.296875 11.75 \r\nQ 45.40625 17.390625 45.40625 27.296875 \r\nQ 45.40625 37.203125 41.296875 42.84375 \r\nQ 37.203125 48.484375 30.078125 48.484375 \r\nQ 22.953125 48.484375 18.875 42.84375 \r\nQ 14.796875 37.203125 14.796875 27.296875 \r\nz\r\n\" id=\"DejaVuSans-100\"/>\r\n       <path d=\"M 30.609375 48.390625 \r\nQ 23.390625 48.390625 19.1875 42.75 \r\nQ 14.984375 37.109375 14.984375 27.296875 \r\nQ 14.984375 17.484375 19.15625 11.84375 \r\nQ 23.34375 6.203125 30.609375 6.203125 \r\nQ 37.796875 6.203125 41.984375 11.859375 \r\nQ 46.1875 17.53125 46.1875 27.296875 \r\nQ 46.1875 37.015625 41.984375 42.703125 \r\nQ 37.796875 48.390625 30.609375 48.390625 \r\nz\r\nM 30.609375 56 \r\nQ 42.328125 56 49.015625 48.375 \r\nQ 55.71875 40.765625 55.71875 27.296875 \r\nQ 55.71875 13.875 49.015625 6.21875 \r\nQ 42.328125 -1.421875 30.609375 -1.421875 \r\nQ 18.84375 -1.421875 12.171875 6.21875 \r\nQ 5.515625 13.875 5.515625 27.296875 \r\nQ 5.515625 40.765625 12.171875 48.375 \r\nQ 18.84375 56 30.609375 56 \r\nz\r\n\" id=\"DejaVuSans-111\"/>\r\n       <path d=\"M 10.59375 45.40625 \r\nL 73.1875 45.40625 \r\nL 73.1875 37.203125 \r\nL 10.59375 37.203125 \r\nz\r\nM 10.59375 25.484375 \r\nL 73.1875 25.484375 \r\nL 73.1875 17.1875 \r\nL 10.59375 17.1875 \r\nz\r\n\" id=\"DejaVuSans-61\"/>\r\n      </defs>\r\n      <use xlink:href=\"#DejaVuSans-83\"/>\r\n      <use x=\"63.476562\" xlink:href=\"#DejaVuSans-77\"/>\r\n      <use x=\"149.755859\" xlink:href=\"#DejaVuSans-65\"/>\r\n      <use x=\"218.164062\" xlink:href=\"#DejaVuSans-32\"/>\r\n      <use x=\"249.951172\" xlink:href=\"#DejaVuSans-119\"/>\r\n      <use x=\"331.738281\" xlink:href=\"#DejaVuSans-105\"/>\r\n      <use x=\"359.521484\" xlink:href=\"#DejaVuSans-116\"/>\r\n      <use x=\"398.730469\" xlink:href=\"#DejaVuSans-104\"/>\r\n      <use x=\"462.109375\" xlink:href=\"#DejaVuSans-32\"/>\r\n      <use x=\"493.896484\" xlink:href=\"#DejaVuSans-119\"/>\r\n      <use x=\"575.683594\" xlink:href=\"#DejaVuSans-105\"/>\r\n      <use x=\"603.466797\" xlink:href=\"#DejaVuSans-110\"/>\r\n      <use x=\"666.845703\" xlink:href=\"#DejaVuSans-100\"/>\r\n      <use x=\"730.322266\" xlink:href=\"#DejaVuSans-111\"/>\r\n      <use x=\"791.503906\" xlink:href=\"#DejaVuSans-119\"/>\r\n      <use x=\"873.291016\" xlink:href=\"#DejaVuSans-61\"/>\r\n      <use x=\"957.080078\" xlink:href=\"#DejaVuSans-52\"/>\r\n     </g>\r\n    </g>\r\n   </g>\r\n  </g>\r\n </g>\r\n <defs>\r\n  <clipPath id=\"p1227f6cdb6\">\r\n   <rect height=\"217.44\" width=\"334.8\" x=\"33.2875\" y=\"7.2\"/>\r\n  </clipPath>\r\n </defs>\r\n</svg>\r\n",
      "image/png": "[encoded data removed]"
     },
     "metadata": {
      "needs_background": "light"
     }
    }
   ],
   "source": [
    "SMA_4 = power_w.rolling(window = 4).mean()\n",
    "# Нарисуем красивый график\n",
    "plt.plot(power_w,label=\"Actual values\")\n",
    "plt.plot(SMA_4,label=\"SMA with window=4\")\n",
    "plt.legend(loc=\"upper left\")\n",
    "plt.show()"
   ]
  },
  {
   "cell_type": "code",
   "execution_count": 113,
   "metadata": {},
   "outputs": [
    {
     "output_type": "execute_result",
     "data": {
      "text/plain": "date\n2011-10-30       NaN\n2011-11-06       NaN\n2011-11-13       NaN\n2011-11-20    34.125\n2011-11-27    30.475\n               ...  \n2018-09-30    95.250\n2018-10-07    90.500\n2018-10-14    87.250\n2018-10-21    74.500\n2018-10-28    58.500\nFreq: W-SUN, Name: power, Length: 366, dtype: float64"
     },
     "metadata": {},
     "execution_count": 113
    }
   ],
   "source": [
    "SMA_4"
   ]
  },
  {
   "source": [
    "#### Постройте ряд скользящего среднего для размера окна 4. Сколько элементов в ряде скользящего среднего?\n",
    "\n",
    "- Столько же, сколько в исходном - **верно**\n",
    "- Меньше, чем в исходном"
   ],
   "cell_type": "markdown",
   "metadata": {}
  },
  {
   "cell_type": "code",
   "execution_count": 118,
   "metadata": {},
   "outputs": [
    {
     "output_type": "execute_result",
     "data": {
      "text/plain": "date\n2011-11-20    34.125\n2011-11-27    30.475\n2011-12-04    25.875\n2011-12-11    23.175\n2011-12-18    17.225\n               ...  \n2018-09-30    95.250\n2018-10-07    90.500\n2018-10-14    87.250\n2018-10-21    74.500\n2018-10-28    58.500\nFreq: W-SUN, Name: power, Length: 363, dtype: float64"
     },
     "metadata": {},
     "execution_count": 118
    }
   ],
   "source": [
    "SMA_4[SMA_4 >= 0]"
   ]
  },
  {
   "source": [
    "### Сколько числовых элементов в ряде скользящего среднего?\n",
    "\n",
    "Ответ: 363"
   ],
   "cell_type": "markdown",
   "metadata": {}
  },
  {
   "source": [
    "### Найдите значение ряда скользящего среднего с шириной окна  для .\n",
    "\n",
    "Ответ: 21.5"
   ],
   "cell_type": "markdown",
   "metadata": {}
  },
  {
   "cell_type": "code",
   "execution_count": 114,
   "metadata": {},
   "outputs": [
    {
     "output_type": "execute_result",
     "data": {
      "text/plain": "21.5"
     },
     "metadata": {},
     "execution_count": 114
    }
   ],
   "source": [
    "SMA_4.iloc[119]"
   ]
  },
  {
   "source": [
    "### Какое скользящее среднее даст большее сглаживание данных?\n",
    "\n",
    "- С окном 4 \n",
    "- С окном 12 - **верно**"
   ],
   "cell_type": "markdown",
   "metadata": {}
  },
  {
   "source": [
    "# 7.7. Тренд и сезонность"
   ],
   "cell_type": "markdown",
   "metadata": {}
  },
  {
   "source": [
    "Весь анализ временных рядов напоминает большую капусту.\n",
    "\n",
    "- Первый лист — это тренд.\n",
    "\n",
    "Тренд — основная тенденция изменения величины со временем.\n",
    "\n",
    "Большой бонус тренда — его можно прогнозировать как функцию времени, не учитывая предыдущие значения временного ряда.\n",
    "\n",
    "Описывает чистое влияние долговременных факторов, изменяется плавно. Например, рост численности населения.\n",
    "\n",
    "- Второй лист — сезонная компонента.\n",
    "\n",
    "(СЕЗОННОСТЬ) Представляет собой последовательность почти повторяющихся циклов. Например, объемы продаж цветов накануне 8 марта или авиабилетов в сезон отпусков летом.\n",
    "\n",
    "(ЦИКЛИЧНОСТЬ) Состоит из циклов, меняющихся по длительности и амплитуде, описывает периоды подъема и спада. Например, это может быть связано с изменением спроса и предложения в экономике или изменениями в финансовой и налоговой политике.\n",
    "\n",
    "- Третий лист(?)...кочерыжка...Идея анализа закономерностей временных рядов очень проста: «снимаем» листы по очереди, пока не доберёмся до «кочерыжки». В роли кочерыжки выступает белый шум.\n",
    "\n",
    "(ШУМ) Останется после того, как мы вычтем все вышеперечисленные компоненты. Никакого глубокого смысла этот показатель не несет.\n",
    "\n",
    "\n"
   ],
   "cell_type": "markdown",
   "metadata": {}
  },
  {
   "source": [
    "## Самый простой вариант:\n",
    "- линейный тренд\n",
    "- остаток - белый шум.\n",
    "## Чуть более сложный:\n",
    "- убрали тренд, но осталась закономерность;\n",
    "- убрали сезонность;\n",
    "- остаток - белый шум.\n",
    "## Совсем сложно:\n",
    "- убрали тренд и сезонность;\n",
    "- остаток всё ещё не белый шум."
   ],
   "cell_type": "markdown",
   "metadata": {}
  },
  {
   "source": [
    "## Задание 7.7.1\n",
    "1. Сезонность означает:\n",
    "- что среднее значение ряда идет то вниз, то вверх\n",
    "- что среднее значение ряда идет то вниз, то вверх с постоянным периодом - верно\n",
    "Ответ\n",
    "Верно:Ряды, в которых среднее значение колеблется с неравным периодом, называют циклическими\n",
    "\n",
    "2. Сезонность возникает:\n",
    "- Если значения ряда чувствительны к каким-либо временным периодам (суточным, недельным, годовым и т. п.) и измерены в течение нескольких таких периодов - верно\n",
    "- Если значения ряда измерены в течение хотя бы одного года\n",
    "3. Наличие тренда означает:\n",
    "- Что значения ряда циклически меняются\n",
    "- Что значения ряда в среднем имеют тенденцию развития в зависимости от времени (например, убывают или возрастают) - верно"
   ],
   "cell_type": "markdown",
   "metadata": {}
  },
  {
   "source": [
    "## Задание 7.7.2\n",
    "\n",
    "Представим, что вы откликаетесь на вакансию, где в одной из рабочих обязанностей указан анализ временных рядов. Один из самых простых вопросов, который вам могут задать на собеседовании, будет связан с выявлением возможных трендов и сезонности. Возможно, вас также попросят описать свои дальнейшие действия после обнаружения закономерностей.\n",
    "\n",
    "Что вы можете сказать о таком временном ряде?\n",
    "\n",
    "- Наблюдается цикличность: каждый год число участников увеличивается на определенное число\n",
    "- Наблюдается тренд: число участников увеличивается линейно - верно\n",
    "- Наблюдается сезонность: к концу каждого года число участников возрастает"
   ],
   "cell_type": "markdown",
   "metadata": {}
  },
  {
   "source": [
    "## Задание 7.7.3\n",
    "Что присутствует в ряду на картинке ниже?\n",
    "- 1 тренд\n",
    "- 0 сезонность\n",
    "- 1 цикличность"
   ],
   "cell_type": "markdown",
   "metadata": {}
  },
  {
   "source": [
    "# 7.8. Практика. Тренд и сезонность"
   ],
   "cell_type": "markdown",
   "metadata": {}
  }
 ]
}