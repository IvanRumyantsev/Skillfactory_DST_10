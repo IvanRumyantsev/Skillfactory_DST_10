{
 "metadata": {
  "language_info": {
   "codemirror_mode": {
    "name": "ipython",
    "version": 3
   },
   "file_extension": ".py",
   "mimetype": "text/x-python",
   "name": "python",
   "nbconvert_exporter": "python",
   "pygments_lexer": "ipython3",
   "version": "3.7.9-final"
  },
  "orig_nbformat": 2,
  "kernelspec": {
   "name": "python_defaultSpec_1600920402008",
   "display_name": "Python 3.7.9 64-bit ('base': conda)"
  }
 },
 "nbformat": 4,
 "nbformat_minor": 2,
 "cells": [
  {
   "source": [
    "### Сентябрь 2020 г. \n",
    "### DST 10 // Юнит 6. Основные алгоритмы машинного обучения. Часть II // ML-6. Бустинг. Стекинг"
   ],
   "cell_type": "markdown",
   "metadata": {}
  },
  {
   "source": [
    "# 6.4. Бустинг. Практика"
   ],
   "cell_type": "markdown",
   "metadata": {}
  },
  {
   "cell_type": "code",
   "execution_count": 1,
   "metadata": {},
   "outputs": [],
   "source": [
    "import pandas as pd\n",
    "import numpy as np\n",
    "import math as m"
   ]
  },
  {
   "source": [
    "## Задание 6.4.1\n",
    "Для решения первого задания урока сначала подготовим данные. Выкачаем набор данных, в котором будет прогнозировать, является ли письмо спамом."
   ],
   "cell_type": "markdown",
   "metadata": {}
  },
  {
   "cell_type": "code",
   "execution_count": 2,
   "metadata": {},
   "outputs": [],
   "source": [
    "from sklearn.preprocessing import PolynomialFeatures"
   ]
  },
  {
   "cell_type": "code",
   "execution_count": 3,
   "metadata": {},
   "outputs": [],
   "source": [
    "df = pd.read_csv('https://raw.githubusercontent.com/vincentarelbundock/Rdatasets/master/csv/DAAG/spam7.csv')"
   ]
  },
  {
   "cell_type": "code",
   "execution_count": 4,
   "metadata": {},
   "outputs": [
    {
     "output_type": "execute_result",
     "data": {
      "text/plain": "Index(['Unnamed: 0', 'crl.tot', 'dollar', 'bang', 'money', 'n000', 'make',\n       'yesno'],\n      dtype='object')"
     },
     "metadata": {},
     "execution_count": 4
    }
   ],
   "source": [
    "df.columns"
   ]
  },
  {
   "cell_type": "code",
   "execution_count": 5,
   "metadata": {},
   "outputs": [],
   "source": [
    "def create_spam(x):\n",
    "    spam_index = {\n",
    "        'y': 1,\n",
    "        'n': 0\n",
    "    }\n",
    "    return spam_index.get(x)"
   ]
  },
  {
   "cell_type": "code",
   "execution_count": 6,
   "metadata": {},
   "outputs": [],
   "source": [
    "df['spam'] = df['yesno'].apply(create_spam)"
   ]
  },
  {
   "cell_type": "code",
   "execution_count": 7,
   "metadata": {},
   "outputs": [],
   "source": [
    "df.drop(['Unnamed: 0', 'yesno'], axis = 1, inplace = True)"
   ]
  },
  {
   "cell_type": "code",
   "execution_count": 8,
   "metadata": {},
   "outputs": [],
   "source": [
    "features_names = list(df.columns)\n",
    "features_names.remove('spam')"
   ]
  },
  {
   "cell_type": "code",
   "execution_count": 9,
   "metadata": {},
   "outputs": [],
   "source": [
    "# X = df.drop('spam', axis = 1)\n",
    "# y = df['spam']"
   ]
  },
  {
   "source": [
    "Теперь мы хотим создать новые признаки путем попарного перемножения уже имеющихся друг на друга. Сколько получится признаков после преобразования (включая те шесть, которые были в исходных данных)?"
   ],
   "cell_type": "markdown",
   "metadata": {}
  },
  {
   "cell_type": "code",
   "execution_count": 10,
   "metadata": {
    "tags": []
   },
   "outputs": [
    {
     "output_type": "execute_result",
     "data": {
      "text/plain": "21.0"
     },
     "metadata": {},
     "execution_count": 10
    }
   ],
   "source": [
    "#для решения подойдёт формула из комбинаторики - число сочитаний безповторений\n",
    "m.factorial(6)/(m.factorial(4)*m.factorial(2))+6"
   ]
  },
  {
   "cell_type": "code",
   "execution_count": 11,
   "metadata": {},
   "outputs": [],
   "source": [
    "poly = PolynomialFeatures(2, interaction_only = True, include_bias=False)\n",
    "poly_features = poly.fit_transform(df[features_names])"
   ]
  },
  {
   "cell_type": "code",
   "execution_count": 12,
   "metadata": {
    "tags": []
   },
   "outputs": [
    {
     "output_type": "stream",
     "name": "stdout",
     "text": "21\n['crl.tot', 'dollar', 'bang', 'money', 'n000', 'make', 'crl.tot dollar', 'crl.tot bang', 'crl.tot money', 'crl.tot n000', 'crl.tot make', 'dollar bang', 'dollar money', 'dollar n000', 'dollar make', 'bang money', 'bang n000', 'bang make', 'money n000', 'money make', 'n000 make']\n"
    }
   ],
   "source": [
    "poly_features_names = poly.get_feature_names(features_names)\n",
    "print(len(poly_features_names))\n",
    "print(poly_features_names)"
   ]
  },
  {
   "cell_type": "code",
   "execution_count": 13,
   "metadata": {},
   "outputs": [],
   "source": [
    "df_poly = pd.DataFrame(poly_features, columns = poly_features_names)\n",
    "df_poly['spam'] = df['spam']"
   ]
  },
  {
   "cell_type": "code",
   "execution_count": 14,
   "metadata": {},
   "outputs": [],
   "source": [
    "X = df_poly.drop('spam', axis = 1)\n",
    "y = df_poly['spam']"
   ]
  },
  {
   "cell_type": "code",
   "execution_count": 15,
   "metadata": {},
   "outputs": [
    {
     "output_type": "execute_result",
     "data": {
      "text/plain": "(4601, 21)"
     },
     "metadata": {},
     "execution_count": 15
    }
   ],
   "source": [
    "X.shape"
   ]
  },
  {
   "source": [
    "## Задание 6.4.2"
   ],
   "cell_type": "markdown",
   "metadata": {}
  },
  {
   "cell_type": "code",
   "execution_count": 16,
   "metadata": {},
   "outputs": [],
   "source": [
    "from sklearn.ensemble import GradientBoostingClassifier\n",
    "from sklearn.model_selection import train_test_split\n",
    "from sklearn.metrics import accuracy_score, precision_score, recall_score, f1_score"
   ]
  },
  {
   "cell_type": "code",
   "execution_count": 17,
   "metadata": {},
   "outputs": [],
   "source": [
    "random_seed = 42"
   ]
  },
  {
   "source": [
    "Разделим получившися данные на обучающую и тестовую выборки в соотношение 80:20. Обучите модель GradientBoostingClassifier (из библиотеки sklearn) с параметрами по умолчанию (на момент создания урока это learning_rate=0.1, n_estimators=100,max_depth=3, min_samples_split=2,min_samples_leaf=1, subsample=1,max_features=None).\n",
    "\n",
    "Во всех методах, где присутствует случайность, укажите random_state=42.\n",
    "\n",
    "Это будет наш baseline. Укажите точность на тестовой выборке (параметр score), округлив до третьего знака после точки-разделителя."
   ],
   "cell_type": "markdown",
   "metadata": {}
  },
  {
   "cell_type": "code",
   "execution_count": 18,
   "metadata": {},
   "outputs": [
    {
     "output_type": "execute_result",
     "data": {
      "text/plain": "(3680, 21)"
     },
     "metadata": {},
     "execution_count": 18
    }
   ],
   "source": [
    "# split\n",
    "X_train, X_test, y_train, y_test = train_test_split(X, y, test_size=0.2, random_state=42)\n",
    "X_train.shape"
   ]
  },
  {
   "cell_type": "code",
   "execution_count": 19,
   "metadata": {},
   "outputs": [
    {
     "output_type": "execute_result",
     "data": {
      "text/plain": "GradientBoostingClassifier(random_state=42, subsample=1)"
     },
     "metadata": {},
     "execution_count": 19
    }
   ],
   "source": [
    "# fit\n",
    "clf = GradientBoostingClassifier(\n",
    "    random_state=42,\n",
    "    learning_rate=0.1,\n",
    "    n_estimators=100,\n",
    "    max_depth=3,\n",
    "    min_samples_split=2,\n",
    "    min_samples_leaf=1,\n",
    "    subsample=1,\n",
    "    max_features=None)\n",
    "clf.fit(X_train, y_train)\n"
   ]
  },
  {
   "cell_type": "code",
   "execution_count": 20,
   "metadata": {},
   "outputs": [],
   "source": [
    "# predict\n",
    "y_pred = clf.predict(X_test)"
   ]
  },
  {
   "cell_type": "code",
   "execution_count": 21,
   "metadata": {
    "tags": []
   },
   "outputs": [
    {
     "output_type": "stream",
     "name": "stdout",
     "text": "Accuracy: 0.865\nПолнота: 0.769\nF-мера:  0.829\nТочность: 0.898\n"
    }
   ],
   "source": [
    "print('Accuracy:', round(accuracy_score(y_test,y_pred),3))\n",
    "print('Полнота:', round(recall_score(y_test,y_pred),3))\n",
    "print('F-мера: ', round(f1_score(y_test,y_pred),3))\n",
    "print('Точность:', round(precision_score(y_test,y_pred),3))"
   ]
  },
  {
   "source": [
    "На платформе косяк и требуется ввести значение метрики Accuracy: 0.865"
   ],
   "cell_type": "markdown",
   "metadata": {}
  },
  {
   "source": [
    "## Задание 6.4.3\n",
    "Воспользуйтесь методом feature_importances_. С его помощью вы можете оценить вклад каждого признака в обучение модели. Постройте столбчатую диаграмму, где по горизонтали указаны названия признаков, а по вертикали их важность. В ответе укажите третий по важности признак (без кавычек и пробелов)."
   ],
   "cell_type": "markdown",
   "metadata": {}
  },
  {
   "cell_type": "code",
   "execution_count": 22,
   "metadata": {},
   "outputs": [],
   "source": [
    "import matplotlib.pyplot as plt"
   ]
  },
  {
   "cell_type": "code",
   "execution_count": 23,
   "metadata": {
    "tags": []
   },
   "outputs": [
    {
     "output_type": "display_data",
     "data": {
      "text/plain": "<Figure size 864x576 with 1 Axes>",
      "image/svg+xml": "<?xml version=\"1.0\" encoding=\"utf-8\" standalone=\"no\"?>\r\n<!DOCTYPE svg PUBLIC \"-//W3C//DTD SVG 1.1//EN\"\r\n  \"http://www.w3.org/Graphics/SVG/1.1/DTD/svg11.dtd\">\r\n<!-- Created with matplotlib (https://matplotlib.org/) -->\r\n<svg height=\"481.07625pt\" version=\"1.1\" viewBox=\"0 0 757.971875 481.07625\" width=\"757.971875pt\" xmlns=\"http://www.w3.org/2000/svg\" xmlns:xlink=\"http://www.w3.org/1999/xlink\">\r\n <metadata>\r\n  <rdf:RDF xmlns:cc=\"http://creativecommons.org/ns#\" xmlns:dc=\"http://purl.org/dc/elements/1.1/\" xmlns:rdf=\"http://www.w3.org/1999/02/22-rdf-syntax-ns#\">\r\n   <cc:Work>\r\n    <dc:type rdf:resource=\"http://purl.org/dc/dcmitype/StillImage\"/>\r\n    <dc:date>2020-09-24T07:08:02.884716</dc:date>\r\n    <dc:format>image/svg+xml</dc:format>\r\n    <dc:creator>\r\n     <cc:Agent>\r\n      <dc:title>Matplotlib v3.3.1, https://matplotlib.org/</dc:title>\r\n     </cc:Agent>\r\n    </dc:creator>\r\n   </cc:Work>\r\n  </rdf:RDF>\r\n </metadata>\r\n <defs>\r\n  <style type=\"text/css\">*{stroke-linecap:butt;stroke-linejoin:round;}</style>\r\n </defs>\r\n <g id=\"figure_1\">\r\n  <g id=\"patch_1\">\r\n   <path d=\"M 0 481.07625 \r\nL 757.971875 481.07625 \r\nL 757.971875 0 \r\nL 0 0 \r\nz\r\n\" style=\"fill:none;\"/>\r\n  </g>\r\n  <g id=\"axes_1\">\r\n   <g id=\"patch_2\">\r\n    <path d=\"M 81.171875 457.198125 \r\nL 750.771875 457.198125 \r\nL 750.771875 22.318125 \r\nL 81.171875 22.318125 \r\nz\r\n\" style=\"fill:#ffffff;\"/>\r\n   </g>\r\n   <g id=\"patch_3\">\r\n    <path clip-path=\"url(#p915136c7d1)\" d=\"M 81.171875 437.430852 \r\nL 81.171875 437.430852 \r\nL 81.171875 422.225258 \r\nL 81.171875 422.225258 \r\nz\r\n\" style=\"fill:#1f77b4;\"/>\r\n   </g>\r\n   <g id=\"patch_4\">\r\n    <path clip-path=\"url(#p915136c7d1)\" d=\"M 81.171875 418.423859 \r\nL 81.199412 418.423859 \r\nL 81.199412 403.218265 \r\nL 81.171875 403.218265 \r\nz\r\n\" style=\"fill:#1f77b4;\"/>\r\n   </g>\r\n   <g id=\"patch_5\">\r\n    <path clip-path=\"url(#p915136c7d1)\" d=\"M 81.171875 399.416866 \r\nL 81.857733 399.416866 \r\nL 81.857733 384.211272 \r\nL 81.171875 384.211272 \r\nz\r\n\" style=\"fill:#1f77b4;\"/>\r\n   </g>\r\n   <g id=\"patch_6\">\r\n    <path clip-path=\"url(#p915136c7d1)\" d=\"M 81.171875 380.409873 \r\nL 82.381624 380.409873 \r\nL 82.381624 365.204279 \r\nL 81.171875 365.204279 \r\nz\r\n\" style=\"fill:#1f77b4;\"/>\r\n   </g>\r\n   <g id=\"patch_7\">\r\n    <path clip-path=\"url(#p915136c7d1)\" d=\"M 81.171875 361.40288 \r\nL 82.391318 361.40288 \r\nL 82.391318 346.197286 \r\nL 81.171875 346.197286 \r\nz\r\n\" style=\"fill:#1f77b4;\"/>\r\n   </g>\r\n   <g id=\"patch_8\">\r\n    <path clip-path=\"url(#p915136c7d1)\" d=\"M 81.171875 342.395887 \r\nL 82.588418 342.395887 \r\nL 82.588418 327.190293 \r\nL 81.171875 327.190293 \r\nz\r\n\" style=\"fill:#1f77b4;\"/>\r\n   </g>\r\n   <g id=\"patch_9\">\r\n    <path clip-path=\"url(#p915136c7d1)\" d=\"M 81.171875 323.388894 \r\nL 82.928906 323.388894 \r\nL 82.928906 308.1833 \r\nL 81.171875 308.1833 \r\nz\r\n\" style=\"fill:#1f77b4;\"/>\r\n   </g>\r\n   <g id=\"patch_10\">\r\n    <path clip-path=\"url(#p915136c7d1)\" d=\"M 81.171875 304.381901 \r\nL 83.210132 304.381901 \r\nL 83.210132 289.176307 \r\nL 81.171875 289.176307 \r\nz\r\n\" style=\"fill:#1f77b4;\"/>\r\n   </g>\r\n   <g id=\"patch_11\">\r\n    <path clip-path=\"url(#p915136c7d1)\" d=\"M 81.171875 285.374908 \r\nL 84.720969 285.374908 \r\nL 84.720969 270.169314 \r\nL 81.171875 270.169314 \r\nz\r\n\" style=\"fill:#1f77b4;\"/>\r\n   </g>\r\n   <g id=\"patch_12\">\r\n    <path clip-path=\"url(#p915136c7d1)\" d=\"M 81.171875 266.367915 \r\nL 87.48827 266.367915 \r\nL 87.48827 251.162321 \r\nL 81.171875 251.162321 \r\nz\r\n\" style=\"fill:#1f77b4;\"/>\r\n   </g>\r\n   <g id=\"patch_13\">\r\n    <path clip-path=\"url(#p915136c7d1)\" d=\"M 81.171875 247.360922 \r\nL 87.881159 247.360922 \r\nL 87.881159 232.155328 \r\nL 81.171875 232.155328 \r\nz\r\n\" style=\"fill:#1f77b4;\"/>\r\n   </g>\r\n   <g id=\"patch_14\">\r\n    <path clip-path=\"url(#p915136c7d1)\" d=\"M 81.171875 228.353929 \r\nL 87.953548 228.353929 \r\nL 87.953548 213.148335 \r\nL 81.171875 213.148335 \r\nz\r\n\" style=\"fill:#1f77b4;\"/>\r\n   </g>\r\n   <g id=\"patch_15\">\r\n    <path clip-path=\"url(#p915136c7d1)\" d=\"M 81.171875 209.346936 \r\nL 88.661626 209.346936 \r\nL 88.661626 194.141342 \r\nL 81.171875 194.141342 \r\nz\r\n\" style=\"fill:#1f77b4;\"/>\r\n   </g>\r\n   <g id=\"patch_16\">\r\n    <path clip-path=\"url(#p915136c7d1)\" d=\"M 81.171875 190.339943 \r\nL 90.173442 190.339943 \r\nL 90.173442 175.134349 \r\nL 81.171875 175.134349 \r\nz\r\n\" style=\"fill:#1f77b4;\"/>\r\n   </g>\r\n   <g id=\"patch_17\">\r\n    <path clip-path=\"url(#p915136c7d1)\" d=\"M 81.171875 171.33295 \r\nL 106.869454 171.33295 \r\nL 106.869454 156.127356 \r\nL 81.171875 156.127356 \r\nz\r\n\" style=\"fill:#1f77b4;\"/>\r\n   </g>\r\n   <g id=\"patch_18\">\r\n    <path clip-path=\"url(#p915136c7d1)\" d=\"M 81.171875 152.325957 \r\nL 111.991483 152.325957 \r\nL 111.991483 137.120363 \r\nL 81.171875 137.120363 \r\nz\r\n\" style=\"fill:#1f77b4;\"/>\r\n   </g>\r\n   <g id=\"patch_19\">\r\n    <path clip-path=\"url(#p915136c7d1)\" d=\"M 81.171875 133.318964 \r\nL 122.911346 133.318964 \r\nL 122.911346 118.11337 \r\nL 81.171875 118.11337 \r\nz\r\n\" style=\"fill:#1f77b4;\"/>\r\n   </g>\r\n   <g id=\"patch_20\">\r\n    <path clip-path=\"url(#p915136c7d1)\" d=\"M 81.171875 114.311971 \r\nL 125.325091 114.311971 \r\nL 125.325091 99.106377 \r\nL 81.171875 99.106377 \r\nz\r\n\" style=\"fill:#1f77b4;\"/>\r\n   </g>\r\n   <g id=\"patch_21\">\r\n    <path clip-path=\"url(#p915136c7d1)\" d=\"M 81.171875 95.304978 \r\nL 143.987934 95.304978 \r\nL 143.987934 80.099384 \r\nL 81.171875 80.099384 \r\nz\r\n\" style=\"fill:#1f77b4;\"/>\r\n   </g>\r\n   <g id=\"patch_22\">\r\n    <path clip-path=\"url(#p915136c7d1)\" d=\"M 81.171875 76.297985 \r\nL 227.170045 76.297985 \r\nL 227.170045 61.092391 \r\nL 81.171875 61.092391 \r\nz\r\n\" style=\"fill:#1f77b4;\"/>\r\n   </g>\r\n   <g id=\"patch_23\">\r\n    <path clip-path=\"url(#p915136c7d1)\" d=\"M 81.171875 57.290992 \r\nL 718.886161 57.290992 \r\nL 718.886161 42.085398 \r\nL 81.171875 42.085398 \r\nz\r\n\" style=\"fill:#1f77b4;\"/>\r\n   </g>\r\n   <g id=\"matplotlib.axis_1\">\r\n    <g id=\"xtick_1\">\r\n     <g id=\"line2d_1\">\r\n      <defs>\r\n       <path d=\"M 0 0 \r\nL 0 3.5 \r\n\" id=\"mf1bfdd9827\" style=\"stroke:#000000;stroke-width:0.8;\"/>\r\n      </defs>\r\n      <g>\r\n       <use style=\"stroke:#000000;stroke-width:0.8;\" x=\"81.171875\" xlink:href=\"#mf1bfdd9827\" y=\"457.198125\"/>\r\n      </g>\r\n     </g>\r\n     <g id=\"text_1\">\r\n      <!-- 0.0 -->\r\n      <g transform=\"translate(73.220313 471.796562)scale(0.1 -0.1)\">\r\n       <defs>\r\n        <path d=\"M 31.78125 66.40625 \r\nQ 24.171875 66.40625 20.328125 58.90625 \r\nQ 16.5 51.421875 16.5 36.375 \r\nQ 16.5 21.390625 20.328125 13.890625 \r\nQ 24.171875 6.390625 31.78125 6.390625 \r\nQ 39.453125 6.390625 43.28125 13.890625 \r\nQ 47.125 21.390625 47.125 36.375 \r\nQ 47.125 51.421875 43.28125 58.90625 \r\nQ 39.453125 66.40625 31.78125 66.40625 \r\nz\r\nM 31.78125 74.21875 \r\nQ 44.046875 74.21875 50.515625 64.515625 \r\nQ 56.984375 54.828125 56.984375 36.375 \r\nQ 56.984375 17.96875 50.515625 8.265625 \r\nQ 44.046875 -1.421875 31.78125 -1.421875 \r\nQ 19.53125 -1.421875 13.0625 8.265625 \r\nQ 6.59375 17.96875 6.59375 36.375 \r\nQ 6.59375 54.828125 13.0625 64.515625 \r\nQ 19.53125 74.21875 31.78125 74.21875 \r\nz\r\n\" id=\"DejaVuSans-48\"/>\r\n        <path d=\"M 10.6875 12.40625 \r\nL 21 12.40625 \r\nL 21 0 \r\nL 10.6875 0 \r\nz\r\n\" id=\"DejaVuSans-46\"/>\r\n       </defs>\r\n       <use xlink:href=\"#DejaVuSans-48\"/>\r\n       <use x=\"63.623047\" xlink:href=\"#DejaVuSans-46\"/>\r\n       <use x=\"95.410156\" xlink:href=\"#DejaVuSans-48\"/>\r\n      </g>\r\n     </g>\r\n    </g>\r\n    <g id=\"xtick_2\">\r\n     <g id=\"line2d_2\">\r\n      <g>\r\n       <use style=\"stroke:#000000;stroke-width:0.8;\" x=\"184.885932\" xlink:href=\"#mf1bfdd9827\" y=\"457.198125\"/>\r\n      </g>\r\n     </g>\r\n     <g id=\"text_2\">\r\n      <!-- 0.1 -->\r\n      <g transform=\"translate(176.934369 471.796562)scale(0.1 -0.1)\">\r\n       <defs>\r\n        <path d=\"M 12.40625 8.296875 \r\nL 28.515625 8.296875 \r\nL 28.515625 63.921875 \r\nL 10.984375 60.40625 \r\nL 10.984375 69.390625 \r\nL 28.421875 72.90625 \r\nL 38.28125 72.90625 \r\nL 38.28125 8.296875 \r\nL 54.390625 8.296875 \r\nL 54.390625 0 \r\nL 12.40625 0 \r\nz\r\n\" id=\"DejaVuSans-49\"/>\r\n       </defs>\r\n       <use xlink:href=\"#DejaVuSans-48\"/>\r\n       <use x=\"63.623047\" xlink:href=\"#DejaVuSans-46\"/>\r\n       <use x=\"95.410156\" xlink:href=\"#DejaVuSans-49\"/>\r\n      </g>\r\n     </g>\r\n    </g>\r\n    <g id=\"xtick_3\">\r\n     <g id=\"line2d_3\">\r\n      <g>\r\n       <use style=\"stroke:#000000;stroke-width:0.8;\" x=\"288.599989\" xlink:href=\"#mf1bfdd9827\" y=\"457.198125\"/>\r\n      </g>\r\n     </g>\r\n     <g id=\"text_3\">\r\n      <!-- 0.2 -->\r\n      <g transform=\"translate(280.648426 471.796562)scale(0.1 -0.1)\">\r\n       <defs>\r\n        <path d=\"M 19.1875 8.296875 \r\nL 53.609375 8.296875 \r\nL 53.609375 0 \r\nL 7.328125 0 \r\nL 7.328125 8.296875 \r\nQ 12.9375 14.109375 22.625 23.890625 \r\nQ 32.328125 33.6875 34.8125 36.53125 \r\nQ 39.546875 41.84375 41.421875 45.53125 \r\nQ 43.3125 49.21875 43.3125 52.78125 \r\nQ 43.3125 58.59375 39.234375 62.25 \r\nQ 35.15625 65.921875 28.609375 65.921875 \r\nQ 23.96875 65.921875 18.8125 64.3125 \r\nQ 13.671875 62.703125 7.8125 59.421875 \r\nL 7.8125 69.390625 \r\nQ 13.765625 71.78125 18.9375 73 \r\nQ 24.125 74.21875 28.421875 74.21875 \r\nQ 39.75 74.21875 46.484375 68.546875 \r\nQ 53.21875 62.890625 53.21875 53.421875 \r\nQ 53.21875 48.921875 51.53125 44.890625 \r\nQ 49.859375 40.875 45.40625 35.40625 \r\nQ 44.1875 33.984375 37.640625 27.21875 \r\nQ 31.109375 20.453125 19.1875 8.296875 \r\nz\r\n\" id=\"DejaVuSans-50\"/>\r\n       </defs>\r\n       <use xlink:href=\"#DejaVuSans-48\"/>\r\n       <use x=\"63.623047\" xlink:href=\"#DejaVuSans-46\"/>\r\n       <use x=\"95.410156\" xlink:href=\"#DejaVuSans-50\"/>\r\n      </g>\r\n     </g>\r\n    </g>\r\n    <g id=\"xtick_4\">\r\n     <g id=\"line2d_4\">\r\n      <g>\r\n       <use style=\"stroke:#000000;stroke-width:0.8;\" x=\"392.314046\" xlink:href=\"#mf1bfdd9827\" y=\"457.198125\"/>\r\n      </g>\r\n     </g>\r\n     <g id=\"text_4\">\r\n      <!-- 0.3 -->\r\n      <g transform=\"translate(384.362483 471.796562)scale(0.1 -0.1)\">\r\n       <defs>\r\n        <path d=\"M 40.578125 39.3125 \r\nQ 47.65625 37.796875 51.625 33 \r\nQ 55.609375 28.21875 55.609375 21.1875 \r\nQ 55.609375 10.40625 48.1875 4.484375 \r\nQ 40.765625 -1.421875 27.09375 -1.421875 \r\nQ 22.515625 -1.421875 17.65625 -0.515625 \r\nQ 12.796875 0.390625 7.625 2.203125 \r\nL 7.625 11.71875 \r\nQ 11.71875 9.328125 16.59375 8.109375 \r\nQ 21.484375 6.890625 26.8125 6.890625 \r\nQ 36.078125 6.890625 40.9375 10.546875 \r\nQ 45.796875 14.203125 45.796875 21.1875 \r\nQ 45.796875 27.640625 41.28125 31.265625 \r\nQ 36.765625 34.90625 28.71875 34.90625 \r\nL 20.21875 34.90625 \r\nL 20.21875 43.015625 \r\nL 29.109375 43.015625 \r\nQ 36.375 43.015625 40.234375 45.921875 \r\nQ 44.09375 48.828125 44.09375 54.296875 \r\nQ 44.09375 59.90625 40.109375 62.90625 \r\nQ 36.140625 65.921875 28.71875 65.921875 \r\nQ 24.65625 65.921875 20.015625 65.03125 \r\nQ 15.375 64.15625 9.8125 62.3125 \r\nL 9.8125 71.09375 \r\nQ 15.4375 72.65625 20.34375 73.4375 \r\nQ 25.25 74.21875 29.59375 74.21875 \r\nQ 40.828125 74.21875 47.359375 69.109375 \r\nQ 53.90625 64.015625 53.90625 55.328125 \r\nQ 53.90625 49.265625 50.4375 45.09375 \r\nQ 46.96875 40.921875 40.578125 39.3125 \r\nz\r\n\" id=\"DejaVuSans-51\"/>\r\n       </defs>\r\n       <use xlink:href=\"#DejaVuSans-48\"/>\r\n       <use x=\"63.623047\" xlink:href=\"#DejaVuSans-46\"/>\r\n       <use x=\"95.410156\" xlink:href=\"#DejaVuSans-51\"/>\r\n      </g>\r\n     </g>\r\n    </g>\r\n    <g id=\"xtick_5\">\r\n     <g id=\"line2d_5\">\r\n      <g>\r\n       <use style=\"stroke:#000000;stroke-width:0.8;\" x=\"496.028103\" xlink:href=\"#mf1bfdd9827\" y=\"457.198125\"/>\r\n      </g>\r\n     </g>\r\n     <g id=\"text_5\">\r\n      <!-- 0.4 -->\r\n      <g transform=\"translate(488.07654 471.796562)scale(0.1 -0.1)\">\r\n       <defs>\r\n        <path d=\"M 37.796875 64.3125 \r\nL 12.890625 25.390625 \r\nL 37.796875 25.390625 \r\nz\r\nM 35.203125 72.90625 \r\nL 47.609375 72.90625 \r\nL 47.609375 25.390625 \r\nL 58.015625 25.390625 \r\nL 58.015625 17.1875 \r\nL 47.609375 17.1875 \r\nL 47.609375 0 \r\nL 37.796875 0 \r\nL 37.796875 17.1875 \r\nL 4.890625 17.1875 \r\nL 4.890625 26.703125 \r\nz\r\n\" id=\"DejaVuSans-52\"/>\r\n       </defs>\r\n       <use xlink:href=\"#DejaVuSans-48\"/>\r\n       <use x=\"63.623047\" xlink:href=\"#DejaVuSans-46\"/>\r\n       <use x=\"95.410156\" xlink:href=\"#DejaVuSans-52\"/>\r\n      </g>\r\n     </g>\r\n    </g>\r\n    <g id=\"xtick_6\">\r\n     <g id=\"line2d_6\">\r\n      <g>\r\n       <use style=\"stroke:#000000;stroke-width:0.8;\" x=\"599.74216\" xlink:href=\"#mf1bfdd9827\" y=\"457.198125\"/>\r\n      </g>\r\n     </g>\r\n     <g id=\"text_6\">\r\n      <!-- 0.5 -->\r\n      <g transform=\"translate(591.790597 471.796562)scale(0.1 -0.1)\">\r\n       <defs>\r\n        <path d=\"M 10.796875 72.90625 \r\nL 49.515625 72.90625 \r\nL 49.515625 64.59375 \r\nL 19.828125 64.59375 \r\nL 19.828125 46.734375 \r\nQ 21.96875 47.46875 24.109375 47.828125 \r\nQ 26.265625 48.1875 28.421875 48.1875 \r\nQ 40.625 48.1875 47.75 41.5 \r\nQ 54.890625 34.8125 54.890625 23.390625 \r\nQ 54.890625 11.625 47.5625 5.09375 \r\nQ 40.234375 -1.421875 26.90625 -1.421875 \r\nQ 22.3125 -1.421875 17.546875 -0.640625 \r\nQ 12.796875 0.140625 7.71875 1.703125 \r\nL 7.71875 11.625 \r\nQ 12.109375 9.234375 16.796875 8.0625 \r\nQ 21.484375 6.890625 26.703125 6.890625 \r\nQ 35.15625 6.890625 40.078125 11.328125 \r\nQ 45.015625 15.765625 45.015625 23.390625 \r\nQ 45.015625 31 40.078125 35.4375 \r\nQ 35.15625 39.890625 26.703125 39.890625 \r\nQ 22.75 39.890625 18.8125 39.015625 \r\nQ 14.890625 38.140625 10.796875 36.28125 \r\nz\r\n\" id=\"DejaVuSans-53\"/>\r\n       </defs>\r\n       <use xlink:href=\"#DejaVuSans-48\"/>\r\n       <use x=\"63.623047\" xlink:href=\"#DejaVuSans-46\"/>\r\n       <use x=\"95.410156\" xlink:href=\"#DejaVuSans-53\"/>\r\n      </g>\r\n     </g>\r\n    </g>\r\n    <g id=\"xtick_7\">\r\n     <g id=\"line2d_7\">\r\n      <g>\r\n       <use style=\"stroke:#000000;stroke-width:0.8;\" x=\"703.456217\" xlink:href=\"#mf1bfdd9827\" y=\"457.198125\"/>\r\n      </g>\r\n     </g>\r\n     <g id=\"text_7\">\r\n      <!-- 0.6 -->\r\n      <g transform=\"translate(695.504654 471.796562)scale(0.1 -0.1)\">\r\n       <defs>\r\n        <path d=\"M 33.015625 40.375 \r\nQ 26.375 40.375 22.484375 35.828125 \r\nQ 18.609375 31.296875 18.609375 23.390625 \r\nQ 18.609375 15.53125 22.484375 10.953125 \r\nQ 26.375 6.390625 33.015625 6.390625 \r\nQ 39.65625 6.390625 43.53125 10.953125 \r\nQ 47.40625 15.53125 47.40625 23.390625 \r\nQ 47.40625 31.296875 43.53125 35.828125 \r\nQ 39.65625 40.375 33.015625 40.375 \r\nz\r\nM 52.59375 71.296875 \r\nL 52.59375 62.3125 \r\nQ 48.875 64.0625 45.09375 64.984375 \r\nQ 41.3125 65.921875 37.59375 65.921875 \r\nQ 27.828125 65.921875 22.671875 59.328125 \r\nQ 17.53125 52.734375 16.796875 39.40625 \r\nQ 19.671875 43.65625 24.015625 45.921875 \r\nQ 28.375 48.1875 33.59375 48.1875 \r\nQ 44.578125 48.1875 50.953125 41.515625 \r\nQ 57.328125 34.859375 57.328125 23.390625 \r\nQ 57.328125 12.15625 50.6875 5.359375 \r\nQ 44.046875 -1.421875 33.015625 -1.421875 \r\nQ 20.359375 -1.421875 13.671875 8.265625 \r\nQ 6.984375 17.96875 6.984375 36.375 \r\nQ 6.984375 53.65625 15.1875 63.9375 \r\nQ 23.390625 74.21875 37.203125 74.21875 \r\nQ 40.921875 74.21875 44.703125 73.484375 \r\nQ 48.484375 72.75 52.59375 71.296875 \r\nz\r\n\" id=\"DejaVuSans-54\"/>\r\n       </defs>\r\n       <use xlink:href=\"#DejaVuSans-48\"/>\r\n       <use x=\"63.623047\" xlink:href=\"#DejaVuSans-46\"/>\r\n       <use x=\"95.410156\" xlink:href=\"#DejaVuSans-54\"/>\r\n      </g>\r\n     </g>\r\n    </g>\r\n   </g>\r\n   <g id=\"matplotlib.axis_2\">\r\n    <g id=\"ytick_1\">\r\n     <g id=\"line2d_8\">\r\n      <defs>\r\n       <path d=\"M 0 0 \r\nL -3.5 0 \r\n\" id=\"m2637c7a076\" style=\"stroke:#000000;stroke-width:0.8;\"/>\r\n      </defs>\r\n      <g>\r\n       <use style=\"stroke:#000000;stroke-width:0.8;\" x=\"81.171875\" xlink:href=\"#m2637c7a076\" y=\"429.828055\"/>\r\n      </g>\r\n     </g>\r\n     <g id=\"text_8\">\r\n      <!-- money make -->\r\n      <g transform=\"translate(9.275 433.627274)scale(0.1 -0.1)\">\r\n       <defs>\r\n        <path d=\"M 52 44.1875 \r\nQ 55.375 50.25 60.0625 53.125 \r\nQ 64.75 56 71.09375 56 \r\nQ 79.640625 56 84.28125 50.015625 \r\nQ 88.921875 44.046875 88.921875 33.015625 \r\nL 88.921875 0 \r\nL 79.890625 0 \r\nL 79.890625 32.71875 \r\nQ 79.890625 40.578125 77.09375 44.375 \r\nQ 74.3125 48.1875 68.609375 48.1875 \r\nQ 61.625 48.1875 57.5625 43.546875 \r\nQ 53.515625 38.921875 53.515625 30.90625 \r\nL 53.515625 0 \r\nL 44.484375 0 \r\nL 44.484375 32.71875 \r\nQ 44.484375 40.625 41.703125 44.40625 \r\nQ 38.921875 48.1875 33.109375 48.1875 \r\nQ 26.21875 48.1875 22.15625 43.53125 \r\nQ 18.109375 38.875 18.109375 30.90625 \r\nL 18.109375 0 \r\nL 9.078125 0 \r\nL 9.078125 54.6875 \r\nL 18.109375 54.6875 \r\nL 18.109375 46.1875 \r\nQ 21.1875 51.21875 25.484375 53.609375 \r\nQ 29.78125 56 35.6875 56 \r\nQ 41.65625 56 45.828125 52.96875 \r\nQ 50 49.953125 52 44.1875 \r\nz\r\n\" id=\"DejaVuSans-109\"/>\r\n        <path d=\"M 30.609375 48.390625 \r\nQ 23.390625 48.390625 19.1875 42.75 \r\nQ 14.984375 37.109375 14.984375 27.296875 \r\nQ 14.984375 17.484375 19.15625 11.84375 \r\nQ 23.34375 6.203125 30.609375 6.203125 \r\nQ 37.796875 6.203125 41.984375 11.859375 \r\nQ 46.1875 17.53125 46.1875 27.296875 \r\nQ 46.1875 37.015625 41.984375 42.703125 \r\nQ 37.796875 48.390625 30.609375 48.390625 \r\nz\r\nM 30.609375 56 \r\nQ 42.328125 56 49.015625 48.375 \r\nQ 55.71875 40.765625 55.71875 27.296875 \r\nQ 55.71875 13.875 49.015625 6.21875 \r\nQ 42.328125 -1.421875 30.609375 -1.421875 \r\nQ 18.84375 -1.421875 12.171875 6.21875 \r\nQ 5.515625 13.875 5.515625 27.296875 \r\nQ 5.515625 40.765625 12.171875 48.375 \r\nQ 18.84375 56 30.609375 56 \r\nz\r\n\" id=\"DejaVuSans-111\"/>\r\n        <path d=\"M 54.890625 33.015625 \r\nL 54.890625 0 \r\nL 45.90625 0 \r\nL 45.90625 32.71875 \r\nQ 45.90625 40.484375 42.875 44.328125 \r\nQ 39.84375 48.1875 33.796875 48.1875 \r\nQ 26.515625 48.1875 22.3125 43.546875 \r\nQ 18.109375 38.921875 18.109375 30.90625 \r\nL 18.109375 0 \r\nL 9.078125 0 \r\nL 9.078125 54.6875 \r\nL 18.109375 54.6875 \r\nL 18.109375 46.1875 \r\nQ 21.34375 51.125 25.703125 53.5625 \r\nQ 30.078125 56 35.796875 56 \r\nQ 45.21875 56 50.046875 50.171875 \r\nQ 54.890625 44.34375 54.890625 33.015625 \r\nz\r\n\" id=\"DejaVuSans-110\"/>\r\n        <path d=\"M 56.203125 29.59375 \r\nL 56.203125 25.203125 \r\nL 14.890625 25.203125 \r\nQ 15.484375 15.921875 20.484375 11.0625 \r\nQ 25.484375 6.203125 34.421875 6.203125 \r\nQ 39.59375 6.203125 44.453125 7.46875 \r\nQ 49.3125 8.734375 54.109375 11.28125 \r\nL 54.109375 2.78125 \r\nQ 49.265625 0.734375 44.1875 -0.34375 \r\nQ 39.109375 -1.421875 33.890625 -1.421875 \r\nQ 20.796875 -1.421875 13.15625 6.1875 \r\nQ 5.515625 13.8125 5.515625 26.8125 \r\nQ 5.515625 40.234375 12.765625 48.109375 \r\nQ 20.015625 56 32.328125 56 \r\nQ 43.359375 56 49.78125 48.890625 \r\nQ 56.203125 41.796875 56.203125 29.59375 \r\nz\r\nM 47.21875 32.234375 \r\nQ 47.125 39.59375 43.09375 43.984375 \r\nQ 39.0625 48.390625 32.421875 48.390625 \r\nQ 24.90625 48.390625 20.390625 44.140625 \r\nQ 15.875 39.890625 15.1875 32.171875 \r\nz\r\n\" id=\"DejaVuSans-101\"/>\r\n        <path d=\"M 32.171875 -5.078125 \r\nQ 28.375 -14.84375 24.75 -17.8125 \r\nQ 21.140625 -20.796875 15.09375 -20.796875 \r\nL 7.90625 -20.796875 \r\nL 7.90625 -13.28125 \r\nL 13.1875 -13.28125 \r\nQ 16.890625 -13.28125 18.9375 -11.515625 \r\nQ 21 -9.765625 23.484375 -3.21875 \r\nL 25.09375 0.875 \r\nL 2.984375 54.6875 \r\nL 12.5 54.6875 \r\nL 29.59375 11.921875 \r\nL 46.6875 54.6875 \r\nL 56.203125 54.6875 \r\nz\r\n\" id=\"DejaVuSans-121\"/>\r\n        <path id=\"DejaVuSans-32\"/>\r\n        <path d=\"M 34.28125 27.484375 \r\nQ 23.390625 27.484375 19.1875 25 \r\nQ 14.984375 22.515625 14.984375 16.5 \r\nQ 14.984375 11.71875 18.140625 8.90625 \r\nQ 21.296875 6.109375 26.703125 6.109375 \r\nQ 34.1875 6.109375 38.703125 11.40625 \r\nQ 43.21875 16.703125 43.21875 25.484375 \r\nL 43.21875 27.484375 \r\nz\r\nM 52.203125 31.203125 \r\nL 52.203125 0 \r\nL 43.21875 0 \r\nL 43.21875 8.296875 \r\nQ 40.140625 3.328125 35.546875 0.953125 \r\nQ 30.953125 -1.421875 24.3125 -1.421875 \r\nQ 15.921875 -1.421875 10.953125 3.296875 \r\nQ 6 8.015625 6 15.921875 \r\nQ 6 25.140625 12.171875 29.828125 \r\nQ 18.359375 34.515625 30.609375 34.515625 \r\nL 43.21875 34.515625 \r\nL 43.21875 35.40625 \r\nQ 43.21875 41.609375 39.140625 45 \r\nQ 35.0625 48.390625 27.6875 48.390625 \r\nQ 23 48.390625 18.546875 47.265625 \r\nQ 14.109375 46.140625 10.015625 43.890625 \r\nL 10.015625 52.203125 \r\nQ 14.9375 54.109375 19.578125 55.046875 \r\nQ 24.21875 56 28.609375 56 \r\nQ 40.484375 56 46.34375 49.84375 \r\nQ 52.203125 43.703125 52.203125 31.203125 \r\nz\r\n\" id=\"DejaVuSans-97\"/>\r\n        <path d=\"M 9.078125 75.984375 \r\nL 18.109375 75.984375 \r\nL 18.109375 31.109375 \r\nL 44.921875 54.6875 \r\nL 56.390625 54.6875 \r\nL 27.390625 29.109375 \r\nL 57.625 0 \r\nL 45.90625 0 \r\nL 18.109375 26.703125 \r\nL 18.109375 0 \r\nL 9.078125 0 \r\nz\r\n\" id=\"DejaVuSans-107\"/>\r\n       </defs>\r\n       <use xlink:href=\"#DejaVuSans-109\"/>\r\n       <use x=\"97.412109\" xlink:href=\"#DejaVuSans-111\"/>\r\n       <use x=\"158.59375\" xlink:href=\"#DejaVuSans-110\"/>\r\n       <use x=\"221.972656\" xlink:href=\"#DejaVuSans-101\"/>\r\n       <use x=\"283.496094\" xlink:href=\"#DejaVuSans-121\"/>\r\n       <use x=\"342.675781\" xlink:href=\"#DejaVuSans-32\"/>\r\n       <use x=\"374.462891\" xlink:href=\"#DejaVuSans-109\"/>\r\n       <use x=\"471.875\" xlink:href=\"#DejaVuSans-97\"/>\r\n       <use x=\"533.154297\" xlink:href=\"#DejaVuSans-107\"/>\r\n       <use x=\"587.439453\" xlink:href=\"#DejaVuSans-101\"/>\r\n      </g>\r\n     </g>\r\n    </g>\r\n    <g id=\"ytick_2\">\r\n     <g id=\"line2d_9\">\r\n      <g>\r\n       <use style=\"stroke:#000000;stroke-width:0.8;\" x=\"81.171875\" xlink:href=\"#m2637c7a076\" y=\"410.821062\"/>\r\n      </g>\r\n     </g>\r\n     <g id=\"text_9\">\r\n      <!-- money n000 -->\r\n      <g transform=\"translate(11.3 414.620281)scale(0.1 -0.1)\">\r\n       <use xlink:href=\"#DejaVuSans-109\"/>\r\n       <use x=\"97.412109\" xlink:href=\"#DejaVuSans-111\"/>\r\n       <use x=\"158.59375\" xlink:href=\"#DejaVuSans-110\"/>\r\n       <use x=\"221.972656\" xlink:href=\"#DejaVuSans-101\"/>\r\n       <use x=\"283.496094\" xlink:href=\"#DejaVuSans-121\"/>\r\n       <use x=\"342.675781\" xlink:href=\"#DejaVuSans-32\"/>\r\n       <use x=\"374.462891\" xlink:href=\"#DejaVuSans-110\"/>\r\n       <use x=\"437.841797\" xlink:href=\"#DejaVuSans-48\"/>\r\n       <use x=\"501.464844\" xlink:href=\"#DejaVuSans-48\"/>\r\n       <use x=\"565.087891\" xlink:href=\"#DejaVuSans-48\"/>\r\n      </g>\r\n     </g>\r\n    </g>\r\n    <g id=\"ytick_3\">\r\n     <g id=\"line2d_10\">\r\n      <g>\r\n       <use style=\"stroke:#000000;stroke-width:0.8;\" x=\"81.171875\" xlink:href=\"#m2637c7a076\" y=\"391.814069\"/>\r\n      </g>\r\n     </g>\r\n     <g id=\"text_10\">\r\n      <!-- n000 make -->\r\n      <g transform=\"translate(18.11875 395.613288)scale(0.1 -0.1)\">\r\n       <use xlink:href=\"#DejaVuSans-110\"/>\r\n       <use x=\"63.378906\" xlink:href=\"#DejaVuSans-48\"/>\r\n       <use x=\"127.001953\" xlink:href=\"#DejaVuSans-48\"/>\r\n       <use x=\"190.625\" xlink:href=\"#DejaVuSans-48\"/>\r\n       <use x=\"254.248047\" xlink:href=\"#DejaVuSans-32\"/>\r\n       <use x=\"286.035156\" xlink:href=\"#DejaVuSans-109\"/>\r\n       <use x=\"383.447266\" xlink:href=\"#DejaVuSans-97\"/>\r\n       <use x=\"444.726562\" xlink:href=\"#DejaVuSans-107\"/>\r\n       <use x=\"499.011719\" xlink:href=\"#DejaVuSans-101\"/>\r\n      </g>\r\n     </g>\r\n    </g>\r\n    <g id=\"ytick_4\">\r\n     <g id=\"line2d_11\">\r\n      <g>\r\n       <use style=\"stroke:#000000;stroke-width:0.8;\" x=\"81.171875\" xlink:href=\"#m2637c7a076\" y=\"372.807076\"/>\r\n      </g>\r\n     </g>\r\n     <g id=\"text_11\">\r\n      <!-- make -->\r\n      <g transform=\"translate(46.721875 376.606295)scale(0.1 -0.1)\">\r\n       <use xlink:href=\"#DejaVuSans-109\"/>\r\n       <use x=\"97.412109\" xlink:href=\"#DejaVuSans-97\"/>\r\n       <use x=\"158.691406\" xlink:href=\"#DejaVuSans-107\"/>\r\n       <use x=\"212.976562\" xlink:href=\"#DejaVuSans-101\"/>\r\n      </g>\r\n     </g>\r\n    </g>\r\n    <g id=\"ytick_5\">\r\n     <g id=\"line2d_12\">\r\n      <g>\r\n       <use style=\"stroke:#000000;stroke-width:0.8;\" x=\"81.171875\" xlink:href=\"#m2637c7a076\" y=\"353.800083\"/>\r\n      </g>\r\n     </g>\r\n     <g id=\"text_12\">\r\n      <!-- bang n000 -->\r\n      <g transform=\"translate(20.40625 357.599302)scale(0.1 -0.1)\">\r\n       <defs>\r\n        <path d=\"M 48.6875 27.296875 \r\nQ 48.6875 37.203125 44.609375 42.84375 \r\nQ 40.53125 48.484375 33.40625 48.484375 \r\nQ 26.265625 48.484375 22.1875 42.84375 \r\nQ 18.109375 37.203125 18.109375 27.296875 \r\nQ 18.109375 17.390625 22.1875 11.75 \r\nQ 26.265625 6.109375 33.40625 6.109375 \r\nQ 40.53125 6.109375 44.609375 11.75 \r\nQ 48.6875 17.390625 48.6875 27.296875 \r\nz\r\nM 18.109375 46.390625 \r\nQ 20.953125 51.265625 25.265625 53.625 \r\nQ 29.59375 56 35.59375 56 \r\nQ 45.5625 56 51.78125 48.09375 \r\nQ 58.015625 40.1875 58.015625 27.296875 \r\nQ 58.015625 14.40625 51.78125 6.484375 \r\nQ 45.5625 -1.421875 35.59375 -1.421875 \r\nQ 29.59375 -1.421875 25.265625 0.953125 \r\nQ 20.953125 3.328125 18.109375 8.203125 \r\nL 18.109375 0 \r\nL 9.078125 0 \r\nL 9.078125 75.984375 \r\nL 18.109375 75.984375 \r\nz\r\n\" id=\"DejaVuSans-98\"/>\r\n        <path d=\"M 45.40625 27.984375 \r\nQ 45.40625 37.75 41.375 43.109375 \r\nQ 37.359375 48.484375 30.078125 48.484375 \r\nQ 22.859375 48.484375 18.828125 43.109375 \r\nQ 14.796875 37.75 14.796875 27.984375 \r\nQ 14.796875 18.265625 18.828125 12.890625 \r\nQ 22.859375 7.515625 30.078125 7.515625 \r\nQ 37.359375 7.515625 41.375 12.890625 \r\nQ 45.40625 18.265625 45.40625 27.984375 \r\nz\r\nM 54.390625 6.78125 \r\nQ 54.390625 -7.171875 48.1875 -13.984375 \r\nQ 42 -20.796875 29.203125 -20.796875 \r\nQ 24.46875 -20.796875 20.265625 -20.09375 \r\nQ 16.0625 -19.390625 12.109375 -17.921875 \r\nL 12.109375 -9.1875 \r\nQ 16.0625 -11.328125 19.921875 -12.34375 \r\nQ 23.78125 -13.375 27.78125 -13.375 \r\nQ 36.625 -13.375 41.015625 -8.765625 \r\nQ 45.40625 -4.15625 45.40625 5.171875 \r\nL 45.40625 9.625 \r\nQ 42.625 4.78125 38.28125 2.390625 \r\nQ 33.9375 0 27.875 0 \r\nQ 17.828125 0 11.671875 7.65625 \r\nQ 5.515625 15.328125 5.515625 27.984375 \r\nQ 5.515625 40.671875 11.671875 48.328125 \r\nQ 17.828125 56 27.875 56 \r\nQ 33.9375 56 38.28125 53.609375 \r\nQ 42.625 51.21875 45.40625 46.390625 \r\nL 45.40625 54.6875 \r\nL 54.390625 54.6875 \r\nz\r\n\" id=\"DejaVuSans-103\"/>\r\n       </defs>\r\n       <use xlink:href=\"#DejaVuSans-98\"/>\r\n       <use x=\"63.476562\" xlink:href=\"#DejaVuSans-97\"/>\r\n       <use x=\"124.755859\" xlink:href=\"#DejaVuSans-110\"/>\r\n       <use x=\"188.134766\" xlink:href=\"#DejaVuSans-103\"/>\r\n       <use x=\"251.611328\" xlink:href=\"#DejaVuSans-32\"/>\r\n       <use x=\"283.398438\" xlink:href=\"#DejaVuSans-110\"/>\r\n       <use x=\"346.777344\" xlink:href=\"#DejaVuSans-48\"/>\r\n       <use x=\"410.400391\" xlink:href=\"#DejaVuSans-48\"/>\r\n       <use x=\"474.023438\" xlink:href=\"#DejaVuSans-48\"/>\r\n      </g>\r\n     </g>\r\n    </g>\r\n    <g id=\"ytick_6\">\r\n     <g id=\"line2d_13\">\r\n      <g>\r\n       <use style=\"stroke:#000000;stroke-width:0.8;\" x=\"81.171875\" xlink:href=\"#m2637c7a076\" y=\"334.79309\"/>\r\n      </g>\r\n     </g>\r\n     <g id=\"text_13\">\r\n      <!-- crl.tot n000 -->\r\n      <g transform=\"translate(16.04375 338.592309)scale(0.1 -0.1)\">\r\n       <defs>\r\n        <path d=\"M 48.78125 52.59375 \r\nL 48.78125 44.1875 \r\nQ 44.96875 46.296875 41.140625 47.34375 \r\nQ 37.3125 48.390625 33.40625 48.390625 \r\nQ 24.65625 48.390625 19.8125 42.84375 \r\nQ 14.984375 37.3125 14.984375 27.296875 \r\nQ 14.984375 17.28125 19.8125 11.734375 \r\nQ 24.65625 6.203125 33.40625 6.203125 \r\nQ 37.3125 6.203125 41.140625 7.25 \r\nQ 44.96875 8.296875 48.78125 10.40625 \r\nL 48.78125 2.09375 \r\nQ 45.015625 0.34375 40.984375 -0.53125 \r\nQ 36.96875 -1.421875 32.421875 -1.421875 \r\nQ 20.0625 -1.421875 12.78125 6.34375 \r\nQ 5.515625 14.109375 5.515625 27.296875 \r\nQ 5.515625 40.671875 12.859375 48.328125 \r\nQ 20.21875 56 33.015625 56 \r\nQ 37.15625 56 41.109375 55.140625 \r\nQ 45.0625 54.296875 48.78125 52.59375 \r\nz\r\n\" id=\"DejaVuSans-99\"/>\r\n        <path d=\"M 41.109375 46.296875 \r\nQ 39.59375 47.171875 37.8125 47.578125 \r\nQ 36.03125 48 33.890625 48 \r\nQ 26.265625 48 22.1875 43.046875 \r\nQ 18.109375 38.09375 18.109375 28.8125 \r\nL 18.109375 0 \r\nL 9.078125 0 \r\nL 9.078125 54.6875 \r\nL 18.109375 54.6875 \r\nL 18.109375 46.1875 \r\nQ 20.953125 51.171875 25.484375 53.578125 \r\nQ 30.03125 56 36.53125 56 \r\nQ 37.453125 56 38.578125 55.875 \r\nQ 39.703125 55.765625 41.0625 55.515625 \r\nz\r\n\" id=\"DejaVuSans-114\"/>\r\n        <path d=\"M 9.421875 75.984375 \r\nL 18.40625 75.984375 \r\nL 18.40625 0 \r\nL 9.421875 0 \r\nz\r\n\" id=\"DejaVuSans-108\"/>\r\n        <path d=\"M 18.3125 70.21875 \r\nL 18.3125 54.6875 \r\nL 36.8125 54.6875 \r\nL 36.8125 47.703125 \r\nL 18.3125 47.703125 \r\nL 18.3125 18.015625 \r\nQ 18.3125 11.328125 20.140625 9.421875 \r\nQ 21.96875 7.515625 27.59375 7.515625 \r\nL 36.8125 7.515625 \r\nL 36.8125 0 \r\nL 27.59375 0 \r\nQ 17.1875 0 13.234375 3.875 \r\nQ 9.28125 7.765625 9.28125 18.015625 \r\nL 9.28125 47.703125 \r\nL 2.6875 47.703125 \r\nL 2.6875 54.6875 \r\nL 9.28125 54.6875 \r\nL 9.28125 70.21875 \r\nz\r\n\" id=\"DejaVuSans-116\"/>\r\n       </defs>\r\n       <use xlink:href=\"#DejaVuSans-99\"/>\r\n       <use x=\"54.980469\" xlink:href=\"#DejaVuSans-114\"/>\r\n       <use x=\"96.09375\" xlink:href=\"#DejaVuSans-108\"/>\r\n       <use x=\"123.876953\" xlink:href=\"#DejaVuSans-46\"/>\r\n       <use x=\"155.664062\" xlink:href=\"#DejaVuSans-116\"/>\r\n       <use x=\"194.873047\" xlink:href=\"#DejaVuSans-111\"/>\r\n       <use x=\"256.054688\" xlink:href=\"#DejaVuSans-116\"/>\r\n       <use x=\"295.263672\" xlink:href=\"#DejaVuSans-32\"/>\r\n       <use x=\"327.050781\" xlink:href=\"#DejaVuSans-110\"/>\r\n       <use x=\"390.429688\" xlink:href=\"#DejaVuSans-48\"/>\r\n       <use x=\"454.052734\" xlink:href=\"#DejaVuSans-48\"/>\r\n       <use x=\"517.675781\" xlink:href=\"#DejaVuSans-48\"/>\r\n      </g>\r\n     </g>\r\n    </g>\r\n    <g id=\"ytick_7\">\r\n     <g id=\"line2d_14\">\r\n      <g>\r\n       <use style=\"stroke:#000000;stroke-width:0.8;\" x=\"81.171875\" xlink:href=\"#m2637c7a076\" y=\"315.786097\"/>\r\n      </g>\r\n     </g>\r\n     <g id=\"text_14\">\r\n      <!-- dollar make -->\r\n      <g transform=\"translate(15.28125 319.585316)scale(0.1 -0.1)\">\r\n       <defs>\r\n        <path d=\"M 45.40625 46.390625 \r\nL 45.40625 75.984375 \r\nL 54.390625 75.984375 \r\nL 54.390625 0 \r\nL 45.40625 0 \r\nL 45.40625 8.203125 \r\nQ 42.578125 3.328125 38.25 0.953125 \r\nQ 33.9375 -1.421875 27.875 -1.421875 \r\nQ 17.96875 -1.421875 11.734375 6.484375 \r\nQ 5.515625 14.40625 5.515625 27.296875 \r\nQ 5.515625 40.1875 11.734375 48.09375 \r\nQ 17.96875 56 27.875 56 \r\nQ 33.9375 56 38.25 53.625 \r\nQ 42.578125 51.265625 45.40625 46.390625 \r\nz\r\nM 14.796875 27.296875 \r\nQ 14.796875 17.390625 18.875 11.75 \r\nQ 22.953125 6.109375 30.078125 6.109375 \r\nQ 37.203125 6.109375 41.296875 11.75 \r\nQ 45.40625 17.390625 45.40625 27.296875 \r\nQ 45.40625 37.203125 41.296875 42.84375 \r\nQ 37.203125 48.484375 30.078125 48.484375 \r\nQ 22.953125 48.484375 18.875 42.84375 \r\nQ 14.796875 37.203125 14.796875 27.296875 \r\nz\r\n\" id=\"DejaVuSans-100\"/>\r\n       </defs>\r\n       <use xlink:href=\"#DejaVuSans-100\"/>\r\n       <use x=\"63.476562\" xlink:href=\"#DejaVuSans-111\"/>\r\n       <use x=\"124.658203\" xlink:href=\"#DejaVuSans-108\"/>\r\n       <use x=\"152.441406\" xlink:href=\"#DejaVuSans-108\"/>\r\n       <use x=\"180.224609\" xlink:href=\"#DejaVuSans-97\"/>\r\n       <use x=\"241.503906\" xlink:href=\"#DejaVuSans-114\"/>\r\n       <use x=\"282.617188\" xlink:href=\"#DejaVuSans-32\"/>\r\n       <use x=\"314.404297\" xlink:href=\"#DejaVuSans-109\"/>\r\n       <use x=\"411.816406\" xlink:href=\"#DejaVuSans-97\"/>\r\n       <use x=\"473.095703\" xlink:href=\"#DejaVuSans-107\"/>\r\n       <use x=\"527.380859\" xlink:href=\"#DejaVuSans-101\"/>\r\n      </g>\r\n     </g>\r\n    </g>\r\n    <g id=\"ytick_8\">\r\n     <g id=\"line2d_15\">\r\n      <g>\r\n       <use style=\"stroke:#000000;stroke-width:0.8;\" x=\"81.171875\" xlink:href=\"#m2637c7a076\" y=\"296.779104\"/>\r\n      </g>\r\n     </g>\r\n     <g id=\"text_15\">\r\n      <!-- bang make -->\r\n      <g transform=\"translate(18.38125 300.578323)scale(0.1 -0.1)\">\r\n       <use xlink:href=\"#DejaVuSans-98\"/>\r\n       <use x=\"63.476562\" xlink:href=\"#DejaVuSans-97\"/>\r\n       <use x=\"124.755859\" xlink:href=\"#DejaVuSans-110\"/>\r\n       <use x=\"188.134766\" xlink:href=\"#DejaVuSans-103\"/>\r\n       <use x=\"251.611328\" xlink:href=\"#DejaVuSans-32\"/>\r\n       <use x=\"283.398438\" xlink:href=\"#DejaVuSans-109\"/>\r\n       <use x=\"380.810547\" xlink:href=\"#DejaVuSans-97\"/>\r\n       <use x=\"442.089844\" xlink:href=\"#DejaVuSans-107\"/>\r\n       <use x=\"496.375\" xlink:href=\"#DejaVuSans-101\"/>\r\n      </g>\r\n     </g>\r\n    </g>\r\n    <g id=\"ytick_9\">\r\n     <g id=\"line2d_16\">\r\n      <g>\r\n       <use style=\"stroke:#000000;stroke-width:0.8;\" x=\"81.171875\" xlink:href=\"#m2637c7a076\" y=\"277.772111\"/>\r\n      </g>\r\n     </g>\r\n     <g id=\"text_16\">\r\n      <!-- dollar n000 -->\r\n      <g transform=\"translate(17.30625 281.57133)scale(0.1 -0.1)\">\r\n       <use xlink:href=\"#DejaVuSans-100\"/>\r\n       <use x=\"63.476562\" xlink:href=\"#DejaVuSans-111\"/>\r\n       <use x=\"124.658203\" xlink:href=\"#DejaVuSans-108\"/>\r\n       <use x=\"152.441406\" xlink:href=\"#DejaVuSans-108\"/>\r\n       <use x=\"180.224609\" xlink:href=\"#DejaVuSans-97\"/>\r\n       <use x=\"241.503906\" xlink:href=\"#DejaVuSans-114\"/>\r\n       <use x=\"282.617188\" xlink:href=\"#DejaVuSans-32\"/>\r\n       <use x=\"314.404297\" xlink:href=\"#DejaVuSans-110\"/>\r\n       <use x=\"377.783203\" xlink:href=\"#DejaVuSans-48\"/>\r\n       <use x=\"441.40625\" xlink:href=\"#DejaVuSans-48\"/>\r\n       <use x=\"505.029297\" xlink:href=\"#DejaVuSans-48\"/>\r\n      </g>\r\n     </g>\r\n    </g>\r\n    <g id=\"ytick_10\">\r\n     <g id=\"line2d_17\">\r\n      <g>\r\n       <use style=\"stroke:#000000;stroke-width:0.8;\" x=\"81.171875\" xlink:href=\"#m2637c7a076\" y=\"258.765118\"/>\r\n      </g>\r\n     </g>\r\n     <g id=\"text_17\">\r\n      <!-- money -->\r\n      <g transform=\"translate(39.903125 262.564337)scale(0.1 -0.1)\">\r\n       <use xlink:href=\"#DejaVuSans-109\"/>\r\n       <use x=\"97.412109\" xlink:href=\"#DejaVuSans-111\"/>\r\n       <use x=\"158.59375\" xlink:href=\"#DejaVuSans-110\"/>\r\n       <use x=\"221.972656\" xlink:href=\"#DejaVuSans-101\"/>\r\n       <use x=\"283.496094\" xlink:href=\"#DejaVuSans-121\"/>\r\n      </g>\r\n     </g>\r\n    </g>\r\n    <g id=\"ytick_11\">\r\n     <g id=\"line2d_18\">\r\n      <g>\r\n       <use style=\"stroke:#000000;stroke-width:0.8;\" x=\"81.171875\" xlink:href=\"#m2637c7a076\" y=\"239.758125\"/>\r\n      </g>\r\n     </g>\r\n     <g id=\"text_18\">\r\n      <!-- bang money -->\r\n      <g transform=\"translate(11.5625 243.557344)scale(0.1 -0.1)\">\r\n       <use xlink:href=\"#DejaVuSans-98\"/>\r\n       <use x=\"63.476562\" xlink:href=\"#DejaVuSans-97\"/>\r\n       <use x=\"124.755859\" xlink:href=\"#DejaVuSans-110\"/>\r\n       <use x=\"188.134766\" xlink:href=\"#DejaVuSans-103\"/>\r\n       <use x=\"251.611328\" xlink:href=\"#DejaVuSans-32\"/>\r\n       <use x=\"283.398438\" xlink:href=\"#DejaVuSans-109\"/>\r\n       <use x=\"380.810547\" xlink:href=\"#DejaVuSans-111\"/>\r\n       <use x=\"441.992188\" xlink:href=\"#DejaVuSans-110\"/>\r\n       <use x=\"505.371094\" xlink:href=\"#DejaVuSans-101\"/>\r\n       <use x=\"566.894531\" xlink:href=\"#DejaVuSans-121\"/>\r\n      </g>\r\n     </g>\r\n    </g>\r\n    <g id=\"ytick_12\">\r\n     <g id=\"line2d_19\">\r\n      <g>\r\n       <use style=\"stroke:#000000;stroke-width:0.8;\" x=\"81.171875\" xlink:href=\"#m2637c7a076\" y=\"220.751132\"/>\r\n      </g>\r\n     </g>\r\n     <g id=\"text_19\">\r\n      <!-- crl.tot make -->\r\n      <g transform=\"translate(14.01875 224.550351)scale(0.1 -0.1)\">\r\n       <use xlink:href=\"#DejaVuSans-99\"/>\r\n       <use x=\"54.980469\" xlink:href=\"#DejaVuSans-114\"/>\r\n       <use x=\"96.09375\" xlink:href=\"#DejaVuSans-108\"/>\r\n       <use x=\"123.876953\" xlink:href=\"#DejaVuSans-46\"/>\r\n       <use x=\"155.664062\" xlink:href=\"#DejaVuSans-116\"/>\r\n       <use x=\"194.873047\" xlink:href=\"#DejaVuSans-111\"/>\r\n       <use x=\"256.054688\" xlink:href=\"#DejaVuSans-116\"/>\r\n       <use x=\"295.263672\" xlink:href=\"#DejaVuSans-32\"/>\r\n       <use x=\"327.050781\" xlink:href=\"#DejaVuSans-109\"/>\r\n       <use x=\"424.462891\" xlink:href=\"#DejaVuSans-97\"/>\r\n       <use x=\"485.742188\" xlink:href=\"#DejaVuSans-107\"/>\r\n       <use x=\"540.027344\" xlink:href=\"#DejaVuSans-101\"/>\r\n      </g>\r\n     </g>\r\n    </g>\r\n    <g id=\"ytick_13\">\r\n     <g id=\"line2d_20\">\r\n      <g>\r\n       <use style=\"stroke:#000000;stroke-width:0.8;\" x=\"81.171875\" xlink:href=\"#m2637c7a076\" y=\"201.744139\"/>\r\n      </g>\r\n     </g>\r\n     <g id=\"text_20\">\r\n      <!-- dollar money -->\r\n      <g transform=\"translate(8.4625 205.543358)scale(0.1 -0.1)\">\r\n       <use xlink:href=\"#DejaVuSans-100\"/>\r\n       <use x=\"63.476562\" xlink:href=\"#DejaVuSans-111\"/>\r\n       <use x=\"124.658203\" xlink:href=\"#DejaVuSans-108\"/>\r\n       <use x=\"152.441406\" xlink:href=\"#DejaVuSans-108\"/>\r\n       <use x=\"180.224609\" xlink:href=\"#DejaVuSans-97\"/>\r\n       <use x=\"241.503906\" xlink:href=\"#DejaVuSans-114\"/>\r\n       <use x=\"282.617188\" xlink:href=\"#DejaVuSans-32\"/>\r\n       <use x=\"314.404297\" xlink:href=\"#DejaVuSans-109\"/>\r\n       <use x=\"411.816406\" xlink:href=\"#DejaVuSans-111\"/>\r\n       <use x=\"472.998047\" xlink:href=\"#DejaVuSans-110\"/>\r\n       <use x=\"536.376953\" xlink:href=\"#DejaVuSans-101\"/>\r\n       <use x=\"597.900391\" xlink:href=\"#DejaVuSans-121\"/>\r\n      </g>\r\n     </g>\r\n    </g>\r\n    <g id=\"ytick_14\">\r\n     <g id=\"line2d_21\">\r\n      <g>\r\n       <use style=\"stroke:#000000;stroke-width:0.8;\" x=\"81.171875\" xlink:href=\"#m2637c7a076\" y=\"182.737146\"/>\r\n      </g>\r\n     </g>\r\n     <g id=\"text_21\">\r\n      <!-- crl.tot dollar -->\r\n      <g transform=\"translate(13.20625 186.536365)scale(0.1 -0.1)\">\r\n       <use xlink:href=\"#DejaVuSans-99\"/>\r\n       <use x=\"54.980469\" xlink:href=\"#DejaVuSans-114\"/>\r\n       <use x=\"96.09375\" xlink:href=\"#DejaVuSans-108\"/>\r\n       <use x=\"123.876953\" xlink:href=\"#DejaVuSans-46\"/>\r\n       <use x=\"155.664062\" xlink:href=\"#DejaVuSans-116\"/>\r\n       <use x=\"194.873047\" xlink:href=\"#DejaVuSans-111\"/>\r\n       <use x=\"256.054688\" xlink:href=\"#DejaVuSans-116\"/>\r\n       <use x=\"295.263672\" xlink:href=\"#DejaVuSans-32\"/>\r\n       <use x=\"327.050781\" xlink:href=\"#DejaVuSans-100\"/>\r\n       <use x=\"390.527344\" xlink:href=\"#DejaVuSans-111\"/>\r\n       <use x=\"451.708984\" xlink:href=\"#DejaVuSans-108\"/>\r\n       <use x=\"479.492188\" xlink:href=\"#DejaVuSans-108\"/>\r\n       <use x=\"507.275391\" xlink:href=\"#DejaVuSans-97\"/>\r\n       <use x=\"568.554688\" xlink:href=\"#DejaVuSans-114\"/>\r\n      </g>\r\n     </g>\r\n    </g>\r\n    <g id=\"ytick_15\">\r\n     <g id=\"line2d_22\">\r\n      <g>\r\n       <use style=\"stroke:#000000;stroke-width:0.8;\" x=\"81.171875\" xlink:href=\"#m2637c7a076\" y=\"163.730153\"/>\r\n      </g>\r\n     </g>\r\n     <g id=\"text_22\">\r\n      <!-- n000 -->\r\n      <g transform=\"translate(48.746875 167.529372)scale(0.1 -0.1)\">\r\n       <use xlink:href=\"#DejaVuSans-110\"/>\r\n       <use x=\"63.378906\" xlink:href=\"#DejaVuSans-48\"/>\r\n       <use x=\"127.001953\" xlink:href=\"#DejaVuSans-48\"/>\r\n       <use x=\"190.625\" xlink:href=\"#DejaVuSans-48\"/>\r\n      </g>\r\n     </g>\r\n    </g>\r\n    <g id=\"ytick_16\">\r\n     <g id=\"line2d_23\">\r\n      <g>\r\n       <use style=\"stroke:#000000;stroke-width:0.8;\" x=\"81.171875\" xlink:href=\"#m2637c7a076\" y=\"144.72316\"/>\r\n      </g>\r\n     </g>\r\n     <g id=\"text_23\">\r\n      <!-- crl.tot -->\r\n      <g transform=\"translate(44.646875 148.522379)scale(0.1 -0.1)\">\r\n       <use xlink:href=\"#DejaVuSans-99\"/>\r\n       <use x=\"54.980469\" xlink:href=\"#DejaVuSans-114\"/>\r\n       <use x=\"96.09375\" xlink:href=\"#DejaVuSans-108\"/>\r\n       <use x=\"123.876953\" xlink:href=\"#DejaVuSans-46\"/>\r\n       <use x=\"155.664062\" xlink:href=\"#DejaVuSans-116\"/>\r\n       <use x=\"194.873047\" xlink:href=\"#DejaVuSans-111\"/>\r\n       <use x=\"256.054688\" xlink:href=\"#DejaVuSans-116\"/>\r\n      </g>\r\n     </g>\r\n    </g>\r\n    <g id=\"ytick_17\">\r\n     <g id=\"line2d_24\">\r\n      <g>\r\n       <use style=\"stroke:#000000;stroke-width:0.8;\" x=\"81.171875\" xlink:href=\"#m2637c7a076\" y=\"125.716167\"/>\r\n      </g>\r\n     </g>\r\n     <g id=\"text_24\">\r\n      <!-- crl.tot money -->\r\n      <g transform=\"translate(7.2 129.515386)scale(0.1 -0.1)\">\r\n       <use xlink:href=\"#DejaVuSans-99\"/>\r\n       <use x=\"54.980469\" xlink:href=\"#DejaVuSans-114\"/>\r\n       <use x=\"96.09375\" xlink:href=\"#DejaVuSans-108\"/>\r\n       <use x=\"123.876953\" xlink:href=\"#DejaVuSans-46\"/>\r\n       <use x=\"155.664062\" xlink:href=\"#DejaVuSans-116\"/>\r\n       <use x=\"194.873047\" xlink:href=\"#DejaVuSans-111\"/>\r\n       <use x=\"256.054688\" xlink:href=\"#DejaVuSans-116\"/>\r\n       <use x=\"295.263672\" xlink:href=\"#DejaVuSans-32\"/>\r\n       <use x=\"327.050781\" xlink:href=\"#DejaVuSans-109\"/>\r\n       <use x=\"424.462891\" xlink:href=\"#DejaVuSans-111\"/>\r\n       <use x=\"485.644531\" xlink:href=\"#DejaVuSans-110\"/>\r\n       <use x=\"549.023438\" xlink:href=\"#DejaVuSans-101\"/>\r\n       <use x=\"610.546875\" xlink:href=\"#DejaVuSans-121\"/>\r\n      </g>\r\n     </g>\r\n    </g>\r\n    <g id=\"ytick_18\">\r\n     <g id=\"line2d_25\">\r\n      <g>\r\n       <use style=\"stroke:#000000;stroke-width:0.8;\" x=\"81.171875\" xlink:href=\"#m2637c7a076\" y=\"106.709174\"/>\r\n      </g>\r\n     </g>\r\n     <g id=\"text_25\">\r\n      <!-- bang -->\r\n      <g transform=\"translate(49.009375 110.508393)scale(0.1 -0.1)\">\r\n       <use xlink:href=\"#DejaVuSans-98\"/>\r\n       <use x=\"63.476562\" xlink:href=\"#DejaVuSans-97\"/>\r\n       <use x=\"124.755859\" xlink:href=\"#DejaVuSans-110\"/>\r\n       <use x=\"188.134766\" xlink:href=\"#DejaVuSans-103\"/>\r\n      </g>\r\n     </g>\r\n    </g>\r\n    <g id=\"ytick_19\">\r\n     <g id=\"line2d_26\">\r\n      <g>\r\n       <use style=\"stroke:#000000;stroke-width:0.8;\" x=\"81.171875\" xlink:href=\"#m2637c7a076\" y=\"87.702181\"/>\r\n      </g>\r\n     </g>\r\n     <g id=\"text_26\">\r\n      <!-- dollar bang -->\r\n      <g transform=\"translate(17.56875 91.5014)scale(0.1 -0.1)\">\r\n       <use xlink:href=\"#DejaVuSans-100\"/>\r\n       <use x=\"63.476562\" xlink:href=\"#DejaVuSans-111\"/>\r\n       <use x=\"124.658203\" xlink:href=\"#DejaVuSans-108\"/>\r\n       <use x=\"152.441406\" xlink:href=\"#DejaVuSans-108\"/>\r\n       <use x=\"180.224609\" xlink:href=\"#DejaVuSans-97\"/>\r\n       <use x=\"241.503906\" xlink:href=\"#DejaVuSans-114\"/>\r\n       <use x=\"282.617188\" xlink:href=\"#DejaVuSans-32\"/>\r\n       <use x=\"314.404297\" xlink:href=\"#DejaVuSans-98\"/>\r\n       <use x=\"377.880859\" xlink:href=\"#DejaVuSans-97\"/>\r\n       <use x=\"439.160156\" xlink:href=\"#DejaVuSans-110\"/>\r\n       <use x=\"502.539062\" xlink:href=\"#DejaVuSans-103\"/>\r\n      </g>\r\n     </g>\r\n    </g>\r\n    <g id=\"ytick_20\">\r\n     <g id=\"line2d_27\">\r\n      <g>\r\n       <use style=\"stroke:#000000;stroke-width:0.8;\" x=\"81.171875\" xlink:href=\"#m2637c7a076\" y=\"68.695188\"/>\r\n      </g>\r\n     </g>\r\n     <g id=\"text_27\">\r\n      <!-- dollar -->\r\n      <g transform=\"translate(45.909375 72.494407)scale(0.1 -0.1)\">\r\n       <use xlink:href=\"#DejaVuSans-100\"/>\r\n       <use x=\"63.476562\" xlink:href=\"#DejaVuSans-111\"/>\r\n       <use x=\"124.658203\" xlink:href=\"#DejaVuSans-108\"/>\r\n       <use x=\"152.441406\" xlink:href=\"#DejaVuSans-108\"/>\r\n       <use x=\"180.224609\" xlink:href=\"#DejaVuSans-97\"/>\r\n       <use x=\"241.503906\" xlink:href=\"#DejaVuSans-114\"/>\r\n      </g>\r\n     </g>\r\n    </g>\r\n    <g id=\"ytick_21\">\r\n     <g id=\"line2d_28\">\r\n      <g>\r\n       <use style=\"stroke:#000000;stroke-width:0.8;\" x=\"81.171875\" xlink:href=\"#m2637c7a076\" y=\"49.688195\"/>\r\n      </g>\r\n     </g>\r\n     <g id=\"text_28\">\r\n      <!-- crl.tot bang -->\r\n      <g transform=\"translate(16.30625 53.487414)scale(0.1 -0.1)\">\r\n       <use xlink:href=\"#DejaVuSans-99\"/>\r\n       <use x=\"54.980469\" xlink:href=\"#DejaVuSans-114\"/>\r\n       <use x=\"96.09375\" xlink:href=\"#DejaVuSans-108\"/>\r\n       <use x=\"123.876953\" xlink:href=\"#DejaVuSans-46\"/>\r\n       <use x=\"155.664062\" xlink:href=\"#DejaVuSans-116\"/>\r\n       <use x=\"194.873047\" xlink:href=\"#DejaVuSans-111\"/>\r\n       <use x=\"256.054688\" xlink:href=\"#DejaVuSans-116\"/>\r\n       <use x=\"295.263672\" xlink:href=\"#DejaVuSans-32\"/>\r\n       <use x=\"327.050781\" xlink:href=\"#DejaVuSans-98\"/>\r\n       <use x=\"390.527344\" xlink:href=\"#DejaVuSans-97\"/>\r\n       <use x=\"451.806641\" xlink:href=\"#DejaVuSans-110\"/>\r\n       <use x=\"515.185547\" xlink:href=\"#DejaVuSans-103\"/>\r\n      </g>\r\n     </g>\r\n    </g>\r\n   </g>\r\n   <g id=\"patch_24\">\r\n    <path d=\"M 81.171875 457.198125 \r\nL 81.171875 22.318125 \r\n\" style=\"fill:none;stroke:#000000;stroke-linecap:square;stroke-linejoin:miter;stroke-width:0.8;\"/>\r\n   </g>\r\n   <g id=\"patch_25\">\r\n    <path d=\"M 750.771875 457.198125 \r\nL 750.771875 22.318125 \r\n\" style=\"fill:none;stroke:#000000;stroke-linecap:square;stroke-linejoin:miter;stroke-width:0.8;\"/>\r\n   </g>\r\n   <g id=\"patch_26\">\r\n    <path d=\"M 81.171875 457.198125 \r\nL 750.771875 457.198125 \r\n\" style=\"fill:none;stroke:#000000;stroke-linecap:square;stroke-linejoin:miter;stroke-width:0.8;\"/>\r\n   </g>\r\n   <g id=\"patch_27\">\r\n    <path d=\"M 81.171875 22.318125 \r\nL 750.771875 22.318125 \r\n\" style=\"fill:none;stroke:#000000;stroke-linecap:square;stroke-linejoin:miter;stroke-width:0.8;\"/>\r\n   </g>\r\n   <g id=\"text_29\">\r\n    <!-- Feature Importance -->\r\n    <g transform=\"translate(357.013438 16.318125)scale(0.12 -0.12)\">\r\n     <defs>\r\n      <path d=\"M 9.8125 72.90625 \r\nL 51.703125 72.90625 \r\nL 51.703125 64.59375 \r\nL 19.671875 64.59375 \r\nL 19.671875 43.109375 \r\nL 48.578125 43.109375 \r\nL 48.578125 34.8125 \r\nL 19.671875 34.8125 \r\nL 19.671875 0 \r\nL 9.8125 0 \r\nz\r\n\" id=\"DejaVuSans-70\"/>\r\n      <path d=\"M 8.5 21.578125 \r\nL 8.5 54.6875 \r\nL 17.484375 54.6875 \r\nL 17.484375 21.921875 \r\nQ 17.484375 14.15625 20.5 10.265625 \r\nQ 23.53125 6.390625 29.59375 6.390625 \r\nQ 36.859375 6.390625 41.078125 11.03125 \r\nQ 45.3125 15.671875 45.3125 23.6875 \r\nL 45.3125 54.6875 \r\nL 54.296875 54.6875 \r\nL 54.296875 0 \r\nL 45.3125 0 \r\nL 45.3125 8.40625 \r\nQ 42.046875 3.421875 37.71875 1 \r\nQ 33.40625 -1.421875 27.6875 -1.421875 \r\nQ 18.265625 -1.421875 13.375 4.4375 \r\nQ 8.5 10.296875 8.5 21.578125 \r\nz\r\nM 31.109375 56 \r\nz\r\n\" id=\"DejaVuSans-117\"/>\r\n      <path d=\"M 9.8125 72.90625 \r\nL 19.671875 72.90625 \r\nL 19.671875 0 \r\nL 9.8125 0 \r\nz\r\n\" id=\"DejaVuSans-73\"/>\r\n      <path d=\"M 18.109375 8.203125 \r\nL 18.109375 -20.796875 \r\nL 9.078125 -20.796875 \r\nL 9.078125 54.6875 \r\nL 18.109375 54.6875 \r\nL 18.109375 46.390625 \r\nQ 20.953125 51.265625 25.265625 53.625 \r\nQ 29.59375 56 35.59375 56 \r\nQ 45.5625 56 51.78125 48.09375 \r\nQ 58.015625 40.1875 58.015625 27.296875 \r\nQ 58.015625 14.40625 51.78125 6.484375 \r\nQ 45.5625 -1.421875 35.59375 -1.421875 \r\nQ 29.59375 -1.421875 25.265625 0.953125 \r\nQ 20.953125 3.328125 18.109375 8.203125 \r\nz\r\nM 48.6875 27.296875 \r\nQ 48.6875 37.203125 44.609375 42.84375 \r\nQ 40.53125 48.484375 33.40625 48.484375 \r\nQ 26.265625 48.484375 22.1875 42.84375 \r\nQ 18.109375 37.203125 18.109375 27.296875 \r\nQ 18.109375 17.390625 22.1875 11.75 \r\nQ 26.265625 6.109375 33.40625 6.109375 \r\nQ 40.53125 6.109375 44.609375 11.75 \r\nQ 48.6875 17.390625 48.6875 27.296875 \r\nz\r\n\" id=\"DejaVuSans-112\"/>\r\n     </defs>\r\n     <use xlink:href=\"#DejaVuSans-70\"/>\r\n     <use x=\"52.019531\" xlink:href=\"#DejaVuSans-101\"/>\r\n     <use x=\"113.542969\" xlink:href=\"#DejaVuSans-97\"/>\r\n     <use x=\"174.822266\" xlink:href=\"#DejaVuSans-116\"/>\r\n     <use x=\"214.03125\" xlink:href=\"#DejaVuSans-117\"/>\r\n     <use x=\"277.410156\" xlink:href=\"#DejaVuSans-114\"/>\r\n     <use x=\"316.273438\" xlink:href=\"#DejaVuSans-101\"/>\r\n     <use x=\"377.796875\" xlink:href=\"#DejaVuSans-32\"/>\r\n     <use x=\"409.583984\" xlink:href=\"#DejaVuSans-73\"/>\r\n     <use x=\"439.076172\" xlink:href=\"#DejaVuSans-109\"/>\r\n     <use x=\"536.488281\" xlink:href=\"#DejaVuSans-112\"/>\r\n     <use x=\"599.964844\" xlink:href=\"#DejaVuSans-111\"/>\r\n     <use x=\"661.146484\" xlink:href=\"#DejaVuSans-114\"/>\r\n     <use x=\"702.259766\" xlink:href=\"#DejaVuSans-116\"/>\r\n     <use x=\"741.46875\" xlink:href=\"#DejaVuSans-97\"/>\r\n     <use x=\"802.748047\" xlink:href=\"#DejaVuSans-110\"/>\r\n     <use x=\"866.126953\" xlink:href=\"#DejaVuSans-99\"/>\r\n     <use x=\"921.107422\" xlink:href=\"#DejaVuSans-101\"/>\r\n    </g>\r\n   </g>\r\n  </g>\r\n </g>\r\n <defs>\r\n  <clipPath id=\"p915136c7d1\">\r\n   <rect height=\"434.88\" width=\"669.6\" x=\"81.171875\" y=\"22.318125\"/>\r\n  </clipPath>\r\n </defs>\r\n</svg>\r\n",
      "image/png": "[encoded data removed]"
     },
     "metadata": {
      "needs_background": "light"
     }
    }
   ],
   "source": [
    "feature_importance = clf.feature_importances_\n",
    "sorted_idx = np.argsort(feature_importance)\n",
    "pos = np.arange(sorted_idx.shape[0]) + .5\n",
    "fig = plt.figure(figsize=(12, 8))\n",
    "plt.subplot(1, 1, 1)\n",
    "plt.barh(pos, feature_importance[sorted_idx], align='center')\n",
    "\n",
    "plt.yticks(pos, np.array(list(X.columns))[sorted_idx])\n",
    "plt.title('Feature Importance')\n",
    "\n",
    "plt.show()"
   ]
  },
  {
   "source": [
    "Ответ: dollar bang (Наплатформе очередной косяк и имя переменной принимается только в виде **\"dollar_bang\"**)"
   ],
   "cell_type": "markdown",
   "metadata": {}
  },
  {
   "cell_type": "code",
   "execution_count": 24,
   "metadata": {},
   "outputs": [],
   "source": [
    "feature_importances_df = pd.DataFrame(np.reshape(feature_importance, (21,1)), index = list(X.columns), columns = ['importance']).sort_values(by = 'importance', ascending=False)"
   ]
  },
  {
   "cell_type": "code",
   "execution_count": 25,
   "metadata": {},
   "outputs": [
    {
     "output_type": "execute_result",
     "data": {
      "text/plain": "               importance\ncrl.tot bang     0.614877\ndollar           0.140770\ndollar bang      0.060567\nbang             0.042572\ncrl.tot money    0.040245",
      "text/html": "<div>\n<style scoped>\n    .dataframe tbody tr th:only-of-type {\n        vertical-align: middle;\n    }\n\n    .dataframe tbody tr th {\n        vertical-align: top;\n    }\n\n    .dataframe thead th {\n        text-align: right;\n    }\n</style>\n<table border=\"1\" class=\"dataframe\">\n  <thead>\n    <tr style=\"text-align: right;\">\n      <th></th>\n      <th>importance</th>\n    </tr>\n  </thead>\n  <tbody>\n    <tr>\n      <th>crl.tot bang</th>\n      <td>0.614877</td>\n    </tr>\n    <tr>\n      <th>dollar</th>\n      <td>0.140770</td>\n    </tr>\n    <tr>\n      <th>dollar bang</th>\n      <td>0.060567</td>\n    </tr>\n    <tr>\n      <th>bang</th>\n      <td>0.042572</td>\n    </tr>\n    <tr>\n      <th>crl.tot money</th>\n      <td>0.040245</td>\n    </tr>\n  </tbody>\n</table>\n</div>"
     },
     "metadata": {},
     "execution_count": 25
    }
   ],
   "source": [
    "feature_importances_df.head()"
   ]
  },
  {
   "cell_type": "code",
   "execution_count": 26,
   "metadata": {},
   "outputs": [
    {
     "output_type": "execute_result",
     "data": {
      "text/plain": "'dollar bang'"
     },
     "metadata": {},
     "execution_count": 26
    }
   ],
   "source": [
    "feature_importance = clf.feature_importances_\n",
    "sorted_idx = np.argsort(feature_importance)\n",
    "X.columns[sorted_idx][-3]"
   ]
  },
  {
   "source": [
    "## Задание 6.4.4"
   ],
   "cell_type": "markdown",
   "metadata": {}
  },
  {
   "cell_type": "code",
   "execution_count": 27,
   "metadata": {},
   "outputs": [],
   "source": [
    "from sklearn.model_selection import GridSearchCV"
   ]
  },
  {
   "source": [
    "Теперь перейдем к подбору параметров в модели. Для этого в библиотеке scikit-learn есть метод GridSearchCV. Ему на вход подается модель, список параметров и способ оценивания. При запуске метода fit модель обучается со всеми возможными комбинациями параметров, лучшей комбинацией параметров становятся та, при которой значение метрики максимально.\n",
    "\n",
    "Укажите в качестве estimator градиетный бустинг с параметрами по дефолту и random_state=42. В параметре scoring укажите 'accuracy', n_jobs=-1, cv=5.\n",
    "\n",
    "Сетку параметров задайте такой:"
   ],
   "cell_type": "markdown",
   "metadata": {}
  },
  {
   "cell_type": "code",
   "execution_count": 28,
   "metadata": {},
   "outputs": [],
   "source": [
    "param_grid = {'learning_rate':[0.00001, 0.0001, 0.001, 0.01, 0.1, 1], \n",
    "              'n_estimators':[100, 250, 500, 750, 1000, 1250, 1500, 1750]}"
   ]
  },
  {
   "cell_type": "code",
   "execution_count": 29,
   "metadata": {},
   "outputs": [],
   "source": [
    "clf = GradientBoostingClassifier(\n",
    "    random_state=42,\n",
    "    #learning_rate=0.1,\n",
    "    #n_estimators=100,\n",
    "    #max_depth=3,\n",
    "    #min_samples_split=2,\n",
    "    #min_samples_leaf=1,\n",
    "    #subsample=1,\n",
    "    #max_features=None\n",
    "    )"
   ]
  },
  {
   "cell_type": "code",
   "execution_count": 30,
   "metadata": {},
   "outputs": [
    {
     "output_type": "execute_result",
     "data": {
      "text/plain": "GridSearchCV(cv=5, estimator=GradientBoostingClassifier(random_state=42),\n             n_jobs=-1,\n             param_grid={'learning_rate': [1e-05, 0.0001, 0.001, 0.01, 0.1, 1],\n                         'n_estimators': [100, 250, 500, 750, 1000, 1250, 1500,\n                                          1750]},\n             scoring='accuracy')"
     },
     "metadata": {},
     "execution_count": 30
    }
   ],
   "source": [
    "clf_GS = GridSearchCV(\n",
    "    estimator = clf,\n",
    "    param_grid = param_grid,\n",
    "    scoring = 'accuracy',\n",
    "    n_jobs=-1,\n",
    "    cv=5)\n",
    "clf_GS.fit(X_train, y_train)"
   ]
  },
  {
   "cell_type": "code",
   "execution_count": 31,
   "metadata": {},
   "outputs": [
    {
     "output_type": "execute_result",
     "data": {
      "text/plain": "dict"
     },
     "metadata": {},
     "execution_count": 31
    }
   ],
   "source": [
    "type(clf_GS.cv_results_) # Это словарик, в котором все результаты тестирования"
   ]
  },
  {
   "cell_type": "code",
   "execution_count": 32,
   "metadata": {},
   "outputs": [
    {
     "output_type": "execute_result",
     "data": {
      "text/plain": "    mean_fit_time  mean_score_time param_learning_rate param_n_estimators  \\\n29       8.726275         0.017816                0.01               1250   \n30      10.508548         0.021019                0.01               1500   \n31      12.491523         0.024623                0.01               1750   \n\n    mean_test_score  std_test_score  rank_test_score  \n29         0.883696        0.012850                1  \n30         0.883696        0.011224                1  \n31         0.883696        0.009820                1  ",
      "text/html": "<div>\n<style scoped>\n    .dataframe tbody tr th:only-of-type {\n        vertical-align: middle;\n    }\n\n    .dataframe tbody tr th {\n        vertical-align: top;\n    }\n\n    .dataframe thead th {\n        text-align: right;\n    }\n</style>\n<table border=\"1\" class=\"dataframe\">\n  <thead>\n    <tr style=\"text-align: right;\">\n      <th></th>\n      <th>mean_fit_time</th>\n      <th>mean_score_time</th>\n      <th>param_learning_rate</th>\n      <th>param_n_estimators</th>\n      <th>mean_test_score</th>\n      <th>std_test_score</th>\n      <th>rank_test_score</th>\n    </tr>\n  </thead>\n  <tbody>\n    <tr>\n      <th>29</th>\n      <td>8.726275</td>\n      <td>0.017816</td>\n      <td>0.01</td>\n      <td>1250</td>\n      <td>0.883696</td>\n      <td>0.012850</td>\n      <td>1</td>\n    </tr>\n    <tr>\n      <th>30</th>\n      <td>10.508548</td>\n      <td>0.021019</td>\n      <td>0.01</td>\n      <td>1500</td>\n      <td>0.883696</td>\n      <td>0.011224</td>\n      <td>1</td>\n    </tr>\n    <tr>\n      <th>31</th>\n      <td>12.491523</td>\n      <td>0.024623</td>\n      <td>0.01</td>\n      <td>1750</td>\n      <td>0.883696</td>\n      <td>0.009820</td>\n      <td>1</td>\n    </tr>\n  </tbody>\n</table>\n</div>"
     },
     "metadata": {},
     "execution_count": 32
    }
   ],
   "source": [
    "metrics_shown = ['mean_fit_time','mean_score_time','param_learning_rate', 'param_n_estimators', 'mean_test_score', 'std_test_score', 'rank_test_score']\n",
    "\n",
    "result_df = pd.DataFrame((clf_GS.cv_results_))\n",
    "result_df[result_df['mean_test_score'] == result_df['mean_test_score'].max()][metrics_shown]"
   ]
  },
  {
   "cell_type": "code",
   "execution_count": 33,
   "metadata": {},
   "outputs": [
    {
     "output_type": "execute_result",
     "data": {
      "text/plain": "{'learning_rate': 0.01, 'n_estimators': 1250}"
     },
     "metadata": {},
     "execution_count": 33
    }
   ],
   "source": [
    "clf_GS.best_params_"
   ]
  },
  {
   "cell_type": "code",
   "execution_count": 34,
   "metadata": {},
   "outputs": [
    {
     "output_type": "execute_result",
     "data": {
      "text/plain": "7.886665105819702"
     },
     "metadata": {},
     "execution_count": 34
    }
   ],
   "source": [
    "clf_GS.refit_time_"
   ]
  },
  {
   "source": [
    "Лучший резултат показали 3 набора параметров. При этом модели имеют явно различное время обучения"
   ],
   "cell_type": "markdown",
   "metadata": {}
  },
  {
   "cell_type": "code",
   "execution_count": 35,
   "metadata": {},
   "outputs": [
    {
     "output_type": "execute_result",
     "data": {
      "text/plain": "{'learning_rate': 0.01, 'n_estimators': 1250}"
     },
     "metadata": {},
     "execution_count": 35
    }
   ],
   "source": [
    "clf_GS.best_params_ \n",
    "# как и следовало ожидать GridSearch CV сначала выбрал наборы параметров с лучшим (наименьшим) rank_test_score,\n",
    "# а затем с наилучшим (наименьшим) mean_score_time"
   ]
  },
  {
   "cell_type": "code",
   "execution_count": 106,
   "metadata": {},
   "outputs": [
    {
     "output_type": "execute_result",
     "data": {
      "text/plain": "8.014584064483643"
     },
     "metadata": {},
     "execution_count": 106
    }
   ],
   "source": []
  },
  {
   "cell_type": "code",
   "execution_count": 36,
   "metadata": {},
   "outputs": [
    {
     "output_type": "execute_result",
     "data": {
      "text/plain": "0.884"
     },
     "metadata": {},
     "execution_count": 36
    }
   ],
   "source": [
    "# Ответ к заданию\n",
    "round(result_df['mean_test_score'].max(),3)"
   ]
  },
  {
   "cell_type": "code",
   "execution_count": 37,
   "metadata": {},
   "outputs": [
    {
     "output_type": "execute_result",
     "data": {
      "text/plain": "0.884"
     },
     "metadata": {},
     "execution_count": 37
    }
   ],
   "source": [
    "round(clf_GS.best_score_,3) # Или так"
   ]
  },
  {
   "source": [
    "## Задание 6.4.5"
   ],
   "cell_type": "markdown",
   "metadata": {}
  },
  {
   "source": [
    "Подбор параметров — незаменимый инструмент при настройке моделей. Однако, если данных очень много, а модель сложная, то иногда имеет смысл ограничить количество параметров, которые вы хотите перебрать. Если модель с одним набором параметров обучается 30 минут, а вы хотите перебрать 10 таких наборов, то стоит приготовиться к пятичасовому ожиданию. Также стоит учитывать, что размер некоторых параметров влияет на время, потраченное на обучение моделей. Например, менее глубокие деревья учатся быстрее, чем глубокие.\n",
    "\n",
    "При использовании GridSearchCV перебираются все возможные способы комбинации параметров. Сколько разных моделей (моделей градиентного бустинга с разными наборами параметров) обучилось в прошлом задании?"
   ],
   "cell_type": "markdown",
   "metadata": {}
  },
  {
   "cell_type": "code",
   "execution_count": 38,
   "metadata": {},
   "outputs": [
    {
     "output_type": "execute_result",
     "data": {
      "text/plain": "48"
     },
     "metadata": {},
     "execution_count": 38
    }
   ],
   "source": [
    "len(result_df)"
   ]
  },
  {
   "cell_type": "code",
   "execution_count": 39,
   "metadata": {},
   "outputs": [
    {
     "output_type": "execute_result",
     "data": {
      "text/plain": "(48,)"
     },
     "metadata": {},
     "execution_count": 39
    }
   ],
   "source": [
    "clf_GS.cv_results_['mean_test_score'].shape"
   ]
  },
  {
   "cell_type": "code",
   "execution_count": 40,
   "metadata": {},
   "outputs": [
    {
     "output_type": "execute_result",
     "data": {
      "text/plain": "48"
     },
     "metadata": {},
     "execution_count": 40
    }
   ],
   "source": [
    "def how_many_models(param_grid):\n",
    "    '''\n",
    "    Функция перебирает все параметры из сетки, которую мы задали\n",
    "    и считает количество различных наборов, с которыми будут посчитаны модели.\n",
    "    Во сути это просто перемножение количеств всех параметров\n",
    "    '''\n",
    "    result = 1\n",
    "    for key in param_grid.keys():\n",
    "        result*=len(param_grid[key])\n",
    "    return result\n",
    "how_many_models(param_grid)\n"
   ]
  },
  {
   "source": [
    "Овет на задание: 48"
   ],
   "cell_type": "markdown",
   "metadata": {}
  },
  {
   "source": [
    "## Задание 6.4.6"
   ],
   "cell_type": "markdown",
   "metadata": {}
  },
  {
   "source": [
    "Теперь воспользуемся GridSearchCV для подбора максимальной глубины (max_depth). В качестве estimator используйте градиентный бустинг с раннеее подобранными параметрами и random_state=42. Переберите все значения max_depth от 5 до 15 включительно. В ответ запишите значение параметра, при котором точность максимальна."
   ],
   "cell_type": "markdown",
   "metadata": {}
  },
  {
   "cell_type": "code",
   "execution_count": 41,
   "metadata": {},
   "outputs": [],
   "source": [
    "clf = GradientBoostingClassifier(\n",
    "    random_state=42,\n",
    "    learning_rate=0.01,\n",
    "    n_estimators=1250,\n",
    "    #max_depth=3,\n",
    "    #min_samples_split=2,\n",
    "    #min_samples_leaf=1,\n",
    "    #subsample=1,\n",
    "    #max_features=None\n",
    "    )"
   ]
  },
  {
   "cell_type": "code",
   "execution_count": 42,
   "metadata": {},
   "outputs": [],
   "source": [
    "param_grid = {'max_depth':[x for x in range(5,16)]}"
   ]
  },
  {
   "cell_type": "code",
   "execution_count": 43,
   "metadata": {},
   "outputs": [
    {
     "output_type": "execute_result",
     "data": {
      "text/plain": "{'max_depth': [5, 6, 7, 8, 9, 10, 11, 12, 13, 14, 15]}"
     },
     "metadata": {},
     "execution_count": 43
    }
   ],
   "source": [
    "param_grid"
   ]
  },
  {
   "cell_type": "code",
   "execution_count": 44,
   "metadata": {},
   "outputs": [
    {
     "output_type": "execute_result",
     "data": {
      "text/plain": "GridSearchCV(cv=5,\n             estimator=GradientBoostingClassifier(learning_rate=0.01,\n                                                  n_estimators=1250,\n                                                  random_state=42),\n             n_jobs=-1,\n             param_grid={'max_depth': [5, 6, 7, 8, 9, 10, 11, 12, 13, 14, 15]},\n             scoring='accuracy')"
     },
     "metadata": {},
     "execution_count": 44
    }
   ],
   "source": [
    "clf_GS = GridSearchCV(\n",
    "    estimator = clf,\n",
    "    param_grid = param_grid,\n",
    "    scoring = 'accuracy',\n",
    "    n_jobs=-1,\n",
    "    cv=5)\n",
    "clf_GS.fit(X_train, y_train)"
   ]
  },
  {
   "cell_type": "code",
   "execution_count": 45,
   "metadata": {
    "tags": []
   },
   "outputs": [
    {
     "output_type": "stream",
     "name": "stdout",
     "text": "Ответ к заданию: 5\n"
    }
   ],
   "source": [
    "clf_GS.best_params_\n",
    "print('Ответ к заданию:', clf_GS.best_params_['max_depth'])"
   ]
  },
  {
   "source": [
    "## Задание 6.4.7"
   ],
   "cell_type": "markdown",
   "metadata": {}
  },
  {
   "cell_type": "code",
   "execution_count": 46,
   "metadata": {},
   "outputs": [],
   "source": [
    "from sklearn.tree import DecisionTreeClassifier"
   ]
  },
  {
   "source": [
    "Может показаться, что, научившись запускать готовые фукнции из библиотек и настривать параметры, мы абсолютно готовы к работе. Однако на поле боя нас могут подстерегать еще опасности — legacy code, то есть код, написанный кем-то до вас. Может быть, его можно было бы и улучшить, но на нём уже столько всего надстроено, что переписывать всё практически невозможно.\n",
    "\n",
    "А ещё часто будет возникать необходимость просто понять код коллеги или сделать code review (грубо говоря, это анализ кода на предмет ошибок и расхождения в стиле). Во всех этих ситуациях необходим навык быcтрого чтения кода.\n",
    "\n",
    "Поэтому в качестве примера в этом задании мы предлагаем изучить код для реализации AdaBoost с нуля. Вам необходимо запустить эту функцию, но с дописанными строчками **(вычисление ошибки и веса алгоритма) на всех признаках **, получившихся после всех преобразований в предыдущем датасете (до разделения выборки на обучающую и тестовую). Параметр learning_rate возьмите равным 0.001, М = 10. В ответ запишите точность, округленную до трёх знаков после точки-разделителя."
   ],
   "cell_type": "markdown",
   "metadata": {}
  },
  {
   "cell_type": "code",
   "execution_count": 47,
   "metadata": {},
   "outputs": [],
   "source": [
    "# Соглано заданию нужно добавить:\n",
    "#  - вычисление ошибки \n",
    "#  - вычисление веса алгоритма\n",
    "#  на всех признаках в следующий код:\n",
    "\n",
    "def AdaBoost_scratch(X,y, M=10, learning_rate = 1):\n",
    "    # инициалиазция служебных переменных\n",
    "    N = len(y)\n",
    "    estimator_list, y_predict_list, estimator_error_list, estimator_weight_list, sample_weight_list = [],[],[],[],[]\n",
    "\n",
    "    # инициализация весов\n",
    "    sample_weight = np.ones(N) / N\n",
    "    sample_weight_list.append(sample_weight.copy())\n",
    "\n",
    "    # цикл по длине М\n",
    "    for m in range(M):   \n",
    "\n",
    "        # обучим базовую модель и получим предсказание\n",
    "        estimator = DecisionTreeClassifier(max_depth = 1, max_leaf_nodes=2)\n",
    "        estimator.fit(X, y, sample_weight=sample_weight)\n",
    "        y_predict = estimator.predict(X)\n",
    "\n",
    "        # Маска для ошибок классификации\n",
    "        incorrect = (y_predict != y)\n",
    "\n",
    "        # Оцениваем ошибку\n",
    "        estimator_error = (sample_weight[incorrect].sum()) / (sample_weight.sum()) \n",
    "        \n",
    "        # Вычисляем вес нового алгоритма\n",
    "        estimator_weight =  learning_rate*np.log((1-estimator_error)/estimator_error)\n",
    "\n",
    "        # Получаем новые веса объектов\n",
    "        sample_weight *= np.exp(estimator_weight * incorrect * ((sample_weight > 0) | (estimator_weight < 0)))\n",
    "\n",
    "        # Сохраяем результаты данной итерации\n",
    "        estimator_list.append(estimator)\n",
    "        y_predict_list.append(y_predict.copy())\n",
    "        estimator_error_list.append(estimator_error.copy())\n",
    "        estimator_weight_list.append(estimator_weight.copy())\n",
    "        sample_weight_list.append(sample_weight.copy())\n",
    "        \n",
    "\n",
    "\n",
    "    # Для удобства переведем в numpy.array   \n",
    "    estimator_list = np.asarray(estimator_list)\n",
    "    y_predict_list = np.asarray(y_predict_list)\n",
    "    estimator_error_list = np.asarray(estimator_error_list)\n",
    "    estimator_weight_list = np.asarray(estimator_weight_list)\n",
    "    sample_weight_list = np.asarray(sample_weight_list)\n",
    "\n",
    "    # Получим предсказания\n",
    "    preds = (np.array([np.sign((y_predict_list[:,point] * estimator_weight_list).sum()) for point in range(N)]))\n",
    "    print('Accuracy = ', (preds == y).sum() / N) \n",
    "    \n",
    "    return estimator_list, estimator_weight_list, sample_weight_list"
   ]
  },
  {
   "cell_type": "code",
   "execution_count": 48,
   "metadata": {
    "tags": []
   },
   "outputs": [
    {
     "output_type": "stream",
     "name": "stdout",
     "text": "Accuracy = 0.8228645946533363\n"
    }
   ],
   "source": [
    "\n",
    "estimator_list, estimator_weight_list, sample_weight_list  = AdaBoost_scratch(X, y, M=10, learning_rate=0.001)"
   ]
  },
  {
   "source": [
    "# 6.5. Стекинг"
   ],
   "cell_type": "markdown",
   "metadata": {}
  },
  {
   "source": [
    "https://dyakonov.org/2017/03/10/cтекинг-stacking-и-блендинг-blending/"
   ],
   "cell_type": "markdown",
   "metadata": {}
  },
  {
   "source": [
    "# 6.6. Стекинг. Практика"
   ],
   "cell_type": "markdown",
   "metadata": {}
  },
  {
   "cell_type": "code",
   "execution_count": 49,
   "metadata": {},
   "outputs": [],
   "source": [
    "# Dataset\n",
    "from sklearn.datasets import load_digits\n",
    "# EDA\n",
    "import pandas as pd\n",
    "import numpy as np\n",
    "from sklearn.preprocessing import StandardScaler\n",
    "# Split\n",
    "from sklearn.model_selection import train_test_split, KFold, StratifiedKFold\n",
    "# Models\n",
    "from sklearn.linear_model import LogisticRegression, LinearRegression\n",
    "from sklearn.ensemble import (AdaBoostClassifier, GradientBoostingClassifier, RandomForestClassifier, ExtraTreesClassifier)\n",
    "from sklearn.tree import DecisionTreeClassifier\n",
    "from sklearn.neighbors import KNeighborsClassifier\n",
    "# Metrics\n",
    "from sklearn.metrics import f1_score\n",
    "from sklearn.metrics import accuracy_score\n",
    "# Other\n",
    "from sklearn.base import clone\n",
    "from scipy.stats.distributions import randint\n",
    "from tqdm import tqdm\n",
    "# Plot\n",
    "from matplotlib import pyplot as plt\n",
    "# Tunning\n",
    "from sklearn.model_selection import RandomizedSearchCV\n",
    "%matplotlib inline"
   ]
  },
  {
   "cell_type": "code",
   "execution_count": 50,
   "metadata": {},
   "outputs": [],
   "source": [
    "df = pd.read_csv('https://archive.ics.uci.edu/ml/machine-learning-databases/covtype/covtype.data.gz', sep=',', header=None)[:10000]\n",
    "\n",
    "features = list(range(0, 54))\n",
    "target = 54\n",
    "\n",
    "df = df[(df[target] == 1) | (df[target] == 2)]\n",
    "\n",
    "# Split - разделим наш датасет на обучающую и условно тестовую выборку\n",
    "cover_train, cover_test = train_test_split(df, test_size=0.5)\n",
    "\n",
    "cover_X_train, cover_y_train = cover_train[features], cover_train[target]\n",
    "cover_X_test, cover_y_test = cover_test[features], cover_test[target]\n",
    "\n",
    "# Выполним стандартизацию признаков\n",
    "scaler = StandardScaler()\n",
    "cover_X_train = scaler.fit_transform(cover_X_train)\n",
    "cover_X_test = scaler.transform(cover_X_test)"
   ]
  },
  {
   "source": [
    "## Все задания выполняются на основе датасета:"
   ],
   "cell_type": "markdown",
   "metadata": {}
  },
  {
   "cell_type": "code",
   "execution_count": 51,
   "metadata": {},
   "outputs": [],
   "source": [
    "dataset = load_digits()\n",
    "X, y = dataset['data'], dataset['target']\n",
    "\n",
    "X_train, X_test, y_train, y_test = train_test_split(X, y, random_state=42, test_size=0.2)"
   ]
  },
  {
   "source": [
    "## Задание 6.6.1\n",
    "В скринкасте мы разобрали схему генерации признаков в стекинге, когда для тестовой выборки алгоритм заново переобучался на всей тренировочной выборке. Реализуйте схему, когда вместо этого производится агрегация ответов всех обученных на фолдах классификаторов на тестовой выборке при помощи усреднения.\n",
    "\n",
    "Логика решения:\n",
    "1) Создадим X_meta_test, заполним его нулями (по аналогии с X_meta_train);\n",
    "2) Далее на каждом шаге, где мы обучаем folded_clf.fit (X_fold_train, y_fold_train) и его предсказания на X_fold_predict запихиваем в X_meta_train[predict_fold_index] добавим еще одну строку, где в X_meta_test будем добавлять предсказания вероятностей folded_clf на X_test. Их можно сразу складывать друг с другом или сохранить много массивов, тогда в конце их нужно будет все сложить, а потом делить на количество сплитов (количество массивов равно количеству сплитов в кросс - валидации);\n",
    "3) После цикла останется только усреднить все эти массивы, это и будет наш X_meta_test.\n",
    "\n",
    "### За основу нужно взять следующий код:"
   ],
   "cell_type": "markdown",
   "metadata": {}
  },
  {
   "cell_type": "code",
   "execution_count": 52,
   "metadata": {},
   "outputs": [],
   "source": [
    "def compute_meta_feature(clf, X_train, X_test, y_train, cv):\n",
    "    \"\"\"    Эта функция подсчитывает признаки для мета-классификатора.\n",
    "           Они являются вероятностями классов при решении задачи многоклассовой классификации.\n",
    "             :arg clf: классификатор    \n",
    "             :args X_train, y_train: обучающая выборка    \n",
    "             :arg X_test: признаки тестовой выборки    \n",
    "             :arg cv: класс, генерирующий фолды (KFold)    \n",
    "             :returns X_meta_train, X_meta_test: новые признаки для обучающей и тестовой выборок    \"\"\"\n",
    "    n_classes = len(np.unique(y_train))\n",
    "    X_meta_train = np.zeros((len(X_train), n_classes), dtype=np.float32)\n",
    "    for train_fold_index, predict_fold_index in cv.split(X_train):\n",
    "        X_fold_train, X_fold_predict = X_train[train_fold_index], X_train[predict_fold_index]\n",
    "        y_fold_train = y_train[train_fold_index]\n",
    "\n",
    "        folded_clf = clone(clf)\n",
    "        folded_clf.fit(X_fold_train, y_fold_train)\n",
    "\n",
    "        X_meta_train[predict_fold_index] = folded_clf.predict_proba(X_fold_predict)\n",
    "\n",
    "    meta_clf = clone(clf)\n",
    "    meta_clf.fit(X_train, y_train)\n",
    "\n",
    "    X_meta_test = meta_clf.predict_proba(X_test)\n",
    "\n",
    "    return X_meta_train, X_meta_test"
   ]
  },
  {
   "cell_type": "code",
   "execution_count": 53,
   "metadata": {},
   "outputs": [],
   "source": [
    "# Овет к заданию:\n",
    "def compute_meta_feature_mean(clf, X_train, X_test, y_train, cv):\n",
    "\n",
    "    n_classes = len(np.unique(y_train))\n",
    "    X_meta_train = np.zeros((len(X_train), n_classes), dtype=np.float32)\n",
    "    X_meta_test = np.zeros((len(X_test), n_classes), dtype=np.float32)\n",
    "    \n",
    "    for train_fold_index, predict_fold_index in cv.split(X_train):\n",
    "        X_fold_train, X_fold_predict = X_train[train_fold_index], X_train[predict_fold_index]\n",
    "        y_fold_train = y_train[train_fold_index]\n",
    "\n",
    "        folded_clf = clone(clf)\n",
    "        folded_clf.fit(X_fold_train, y_fold_train)\n",
    "\n",
    "        X_meta_train[predict_fold_index] = folded_clf.predict_proba(X_fold_predict)\n",
    "        X_meta_test+=folded_clf.predict_proba(X_test)\n",
    "    \n",
    "    X_meta_test = X_meta_test/cv.n_splits\n",
    "\n",
    "    return X_meta_train, X_meta_test"
   ]
  },
  {
   "source": [
    "## Для следующих заданий используйте этот код:"
   ],
   "cell_type": "markdown",
   "metadata": {}
  },
  {
   "cell_type": "code",
   "execution_count": 54,
   "metadata": {},
   "outputs": [],
   "source": [
    "def compute_meta_feature(clf, X_train, X_test, y_train, cv):\n",
    "    \n",
    "    n_classes = len(np.unique(y_train))\n",
    "    X_meta_train = np.zeros((len(y_train), n_classes), dtype=np.float32)\n",
    "\n",
    "    splits = cv.split(X_train)\n",
    "    for train_fold_index, predict_fold_index in splits:\n",
    "        X_fold_train, X_fold_predict = X_train[train_fold_index], X_train[predict_fold_index]\n",
    "        y_fold_train = y_train[train_fold_index]\n",
    "        \n",
    "        folded_clf = clone(clf)\n",
    "        folded_clf.fit(X_fold_train, y_fold_train)\n",
    "        \n",
    "        X_meta_train[predict_fold_index] = folded_clf.predict_proba(X_fold_predict)\n",
    "    \n",
    "    meta_clf = clone(clf)\n",
    "    meta_clf.fit(X_train, y_train)\n",
    "    \n",
    "    X_meta_test = meta_clf.predict_proba(X_test)\n",
    "    \n",
    "    return X_meta_train, X_meta_test"
   ]
  },
  {
   "cell_type": "code",
   "execution_count": 55,
   "metadata": {},
   "outputs": [],
   "source": [
    "def generate_meta_features(classifiers, X_train, X_test, y_train, cv):\n",
    "   \n",
    "    features = [\n",
    "        compute_meta_feature(clf, X_train, X_test, y_train, cv)\n",
    "        for clf in tqdm(classifiers)\n",
    "    ]\n",
    "    \n",
    "    stacked_features_train = np.hstack([\n",
    "        features_train for features_train, features_test in features\n",
    "    ])\n",
    "\n",
    "    stacked_features_test = np.hstack([\n",
    "        features_test for features_train, features_test in features\n",
    "    ])\n",
    "    \n",
    "    return stacked_features_train, stacked_features_test"
   ]
  },
  {
   "cell_type": "code",
   "execution_count": 56,
   "metadata": {},
   "outputs": [],
   "source": [
    "cv = KFold(n_splits=10, shuffle=True, random_state=42)\n",
    "\n",
    "def compute_metric(clf, X_train=X_train, y_train=y_train, X_test=X_test, y_test = y_test):\n",
    "    clf.fit(X_train, y_train)\n",
    "    y_test_pred = clf.predict(X_test)\n",
    "    return np.round(f1_score(y_test, y_test_pred, average='macro'), 6)"
   ]
  },
  {
   "source": [
    "### Подсказка\n",
    "- Во всех случаях, когда модель принимает random_state — обязательно указывайте его равным 42\n",
    "- На разных версиях sklearn ответы могут отличаться\n",
    "- В задании может понадобиться, а может не понадобиться нормализация и это нужно проверить во время решения задания."
   ],
   "cell_type": "markdown",
   "metadata": {}
  },
  {
   "source": [
    "## Задание 6.6.2\n",
    "Используйте функцию generate_meta_features для стекинга следующих алгоритмов:\n",
    "- логистическая регрессия с L1-регуляризацией, C=0.001, солвер — 'saga', схема работы мультиклассовой классификации — one-vs-rest, максимальное допустимое количество итераций — 2000\n",
    "- логистическая регрессия с L2-регуляризацией, C=0.001, солвер — 'saga', схема работы мультиклассовой классификации — multinomial, максимальное допустимое количество итераций — 2000\n",
    "- случайный лес из 300 деревьев\n",
    "- градиентный бустинг из 200 деревьев\n",
    "\n",
    "Как мета-алгоритм используйте логистическую регрессию без регуляризации со схемой работы мультиклассовой классификации — auto и солвером 'lbfgs'.\n",
    "Посчитайте качество при помощи передачи новых признаков в функцию compute_metric."
   ],
   "cell_type": "markdown",
   "metadata": {}
  },
  {
   "cell_type": "code",
   "execution_count": 59,
   "metadata": {
    "tags": []
   },
   "outputs": [
    {
     "output_type": "stream",
     "name": "stderr",
     "text": "\n  0%|          | 0/4 [00:00<?, ?it/s]\u001b[A\n 25%|██▌       | 1/4 [00:12<00:37, 12.37s/it]\u001b[A\n 50%|█████     | 2/4 [00:14<00:18,  9.39s/it]\u001b[A\n 75%|███████▌  | 3/4 [04:33<01:31, 91.01s/it]\n\n100%|██████████| 4/4 [02:40<00:00, 40.24s/it]\n"
    }
   ],
   "source": [
    "%%time\n",
    "lg_L1 = LogisticRegression(\n",
    "    random_state=42,\n",
    "    penalty = 'l1',\n",
    "    C = 0.001,\n",
    "    solver='saga',\n",
    "    multi_class='ovr',    \n",
    "    max_iter = 2000,\n",
    "    n_jobs = -1\n",
    ")\n",
    "lg_L2 = LogisticRegression(\n",
    "    random_state=42,\n",
    "    penalty = 'l2',\n",
    "    C = 0.001,\n",
    "    solver='saga',\n",
    "    multi_class='multinomial',    \n",
    "    max_iter = 2000,\n",
    "    n_jobs = -1\n",
    ") \n",
    "rf = RandomForestClassifier(\n",
    "    random_state=42,\n",
    "    n_estimators = 300,\n",
    "    n_jobs = -1\n",
    ")\n",
    "gb = GradientBoostingClassifier(\n",
    "    n_estimators=200\n",
    ")\n",
    "\n",
    "classifiers = [lg_L1, lg_L2, rf, gb]\n",
    "\n",
    "meta_clf = LogisticRegression(\n",
    "    random_state=42,\n",
    "    solver='lbfgs',\n",
    "    multi_class='auto',\n",
    "    penalty = 'none',\n",
    "    n_jobs = -1\n",
    ")\n",
    "\n",
    "X_train_meta, X_test_meta = generate_meta_features(classifiers, X_train, X_test, y_train, cv)"
   ]
  },
  {
   "cell_type": "code",
   "execution_count": 60,
   "metadata": {
    "tags": []
   },
   "outputs": [
    {
     "output_type": "stream",
     "name": "stdout",
     "text": "Wall time: 1.59 s\n"
    },
    {
     "output_type": "execute_result",
     "data": {
      "text/plain": "0.980854"
     },
     "metadata": {},
     "execution_count": 60
    }
   ],
   "source": [
    "%%time\n",
    "compute_metric(clf = meta_clf, X_train=X_train_meta, y_train=y_train, X_test=X_test_meta, y_test = y_test)"
   ]
  },
  {
   "source": [
    "## Задание 6.6.3\n",
    "Используйте функцию generate_meta_features для стекинга следующих алгоритмов:\n",
    "- случайный лес из 300 деревьев\n",
    "- случайный лес из 200 экстремальных деревьев\n",
    "\n",
    "Как мета-алгоритм используйте логистическую регрессию без регуляризации со схемой работы мультиклассовой классификации — auto и солвером 'lbfgs'.\n",
    "Посчитайте качество при помощи передачи новых признаков в функцию compute_metric."
   ],
   "cell_type": "markdown",
   "metadata": {}
  },
  {
   "cell_type": "code",
   "execution_count": 61,
   "metadata": {
    "tags": []
   },
   "outputs": [
    {
     "output_type": "stream",
     "name": "stderr",
     "text": "100%|██████████| 2/2 [00:12<00:00,  6.28s/it]Wall time: 12.6 s\n\n"
    }
   ],
   "source": [
    "%%time\n",
    "# Базовый алгоритм 1\n",
    "rf = RandomForestClassifier(\n",
    "    random_state=42,\n",
    "    n_estimators = 300,\n",
    "    n_jobs = -1\n",
    ")\n",
    "# Базовый алгоритм 2\n",
    "etc = ExtraTreesClassifier(\n",
    "    random_state=42,\n",
    "    n_estimators=200,\n",
    "    n_jobs = -1\n",
    ")\n",
    "\n",
    "classifiers = [rf, etc]\n",
    "# Метафункция\n",
    "meta_clf = LogisticRegression(\n",
    "    random_state=42,\n",
    "    solver='lbfgs',\n",
    "    multi_class='auto',\n",
    "    penalty = 'none',\n",
    "    n_jobs = -1\n",
    ")\n",
    "\n",
    "X_train_meta, X_test_meta = generate_meta_features(classifiers, X_train, X_test, y_train, cv)"
   ]
  },
  {
   "cell_type": "code",
   "execution_count": 62,
   "metadata": {},
   "outputs": [
    {
     "output_type": "execute_result",
     "data": {
      "text/plain": "0.982421"
     },
     "metadata": {},
     "execution_count": 62
    }
   ],
   "source": [
    "compute_metric(clf = meta_clf, X_train=X_train_meta, y_train=y_train, X_test=X_test_meta, y_test = y_test)"
   ]
  },
  {
   "source": [
    "## Задание 6.6.4\n",
    "Используйте функцию generate_meta_features для стекинга следующих алгоритмов:\n",
    "- метод ближайшего соседа (k-NN) со стандартными параметрами\n",
    "- случайный лес из 300 экстремальных деревьев\n",
    "\n",
    "Как мета-алгоритм используйте логистическую регрессию без регуляризации со схемой работы мультиклассовой классификации — auto и солвером 'lbfgs'.\n",
    "Посчитайте качество при помощи передачи новых признаков в функцию compute_metric."
   ],
   "cell_type": "markdown",
   "metadata": {}
  },
  {
   "cell_type": "code",
   "execution_count": 63,
   "metadata": {
    "tags": []
   },
   "outputs": [
    {
     "output_type": "stream",
     "name": "stderr",
     "text": "100%|██████████| 2/2 [00:07<00:00,  3.99s/it]\nWall time: 8.94 s\n"
    },
    {
     "output_type": "execute_result",
     "data": {
      "text/plain": "0.989904"
     },
     "metadata": {},
     "execution_count": 63
    }
   ],
   "source": [
    "%%time\n",
    "# Базовый алгоритм 1\n",
    "KN_clf = KNeighborsClassifier(n_jobs = -1)\n",
    "# Базовый алгоритм 2\n",
    "etc = ExtraTreesClassifier(\n",
    "    random_state=42,\n",
    "    n_estimators=300,\n",
    "    n_jobs = -1\n",
    ")\n",
    "\n",
    "classifiers = [KN_clf, etc]\n",
    "# Метафункция\n",
    "meta_clf = LogisticRegression(\n",
    "    random_state=42,\n",
    "    solver='lbfgs',\n",
    "    multi_class='auto',\n",
    "    penalty = 'none',\n",
    "    n_jobs = -1\n",
    ")\n",
    "\n",
    "X_train_meta, X_test_meta = generate_meta_features(classifiers, X_train, X_test, y_train, cv)\n",
    "\n",
    "compute_metric(clf = meta_clf, X_train=X_train_meta, y_train=y_train, X_test=X_test_meta, y_test = y_test)"
   ]
  },
  {
   "source": [
    "## Задание 6.6.5\n",
    "Используйте функцию generate_meta_features для стекинга следующих алгоритмов:\n",
    "- логистическая регрессия с L1-регуляризацией, C=0.001, солвер — 'saga', схема работы мультиклассовой классификации — one-vs-rest, максимальное допустимоей количество итераций — 2000\n",
    "- метод ближайшего соседа со стандартными параметрами\n",
    "- случайный лес из 300 экстремальных деревьев\n",
    "- AdaBoost со стандартными параметрами\n",
    "\n",
    "Как мета-алгоритм используйте логистическую регрессию без регуляризации со схемой работы мультиклассовой классификации — auto и солвером 'lbfgs'.\n",
    "Посчитайте качество при помощи передачи новых признаков в функцию compute_metric."
   ],
   "cell_type": "markdown",
   "metadata": {}
  },
  {
   "cell_type": "code",
   "execution_count": 64,
   "metadata": {
    "tags": []
   },
   "outputs": [
    {
     "output_type": "stream",
     "name": "stderr",
     "text": "100%|██████████| 4/4 [00:21<00:00,  5.48s/it]\nWall time: 23.1 s\n"
    },
    {
     "output_type": "execute_result",
     "data": {
      "text/plain": "0.987404"
     },
     "metadata": {},
     "execution_count": 64
    }
   ],
   "source": [
    "%%time\n",
    "# Базовый алгоритм 1\n",
    "lg_L1 = LogisticRegression(\n",
    "    random_state=42,\n",
    "    penalty = 'l1',\n",
    "    C = 0.001,\n",
    "    solver='saga',\n",
    "    multi_class='ovr',    \n",
    "    max_iter = 2000,\n",
    "    n_jobs = -1\n",
    ")\n",
    "# Базовый алгоритм 2    \n",
    "KN_clf = KNeighborsClassifier()\n",
    "# Базовый алгоритм 3\n",
    "etc = ExtraTreesClassifier(\n",
    "        random_state=42,\n",
    "        n_estimators=300,\n",
    "    n_jobs = -1\n",
    ")\n",
    "# Базовый алгоритм 4\n",
    "AB_clf = AdaBoostClassifier()\n",
    "\n",
    "# Набор базовых алгоритмов\n",
    "classifiers = [lg_L1, KN_clf, etc, AB_clf]\n",
    "# Метафункция\n",
    "meta_clf = LogisticRegression(\n",
    "    random_state=42,\n",
    "    solver='lbfgs',\n",
    "    multi_class='auto',\n",
    "    penalty = 'none',\n",
    "    n_jobs = -1\n",
    ")\n",
    "\n",
    "X_train_meta, X_test_meta = generate_meta_features(classifiers, X_train, X_test, y_train, cv)\n",
    "\n",
    "compute_metric(clf = meta_clf, X_train=X_train_meta, y_train=y_train, X_test=X_test_meta, y_test = y_test)"
   ]
  },
  {
   "source": [
    "## Задание 6.6.6\n",
    "Используйте функцию generate_meta_features для стекинга следующих алгоритмов:\n",
    "- случайный лес из 300 деревьев\n",
    "- случайный лес из 300 экстремальных деревьев\n",
    "\n",
    "Для генерации фолдов используйте класс StratifiedKFold, который позволяет делать так называемые стратифицированные разбиения (в каждом фолде будет одинаковое соотношение классов).\n",
    "\n",
    "Для корректной работы необходимо подправить код в функции compute_meta_feature. Как мета-алгоритм используйте логистическую регрессию без регуляризации со схемой работы мультиклассовой классификации — auto и солвером 'lbfgs'.\n",
    "Посчитайте качество при помощи передачи новых признаков в функцию compute_metric. Количество фолдов = 10"
   ],
   "cell_type": "markdown",
   "metadata": {}
  },
  {
   "cell_type": "code",
   "execution_count": 65,
   "metadata": {
    "tags": []
   },
   "outputs": [
    {
     "output_type": "stream",
     "name": "stderr",
     "text": "100%|██████████| 2/2 [00:17<00:00,  8.68s/it]Wall time: 17.5 s\n\n"
    },
    {
     "output_type": "execute_result",
     "data": {
      "text/plain": "0.975562"
     },
     "metadata": {},
     "execution_count": 65
    }
   ],
   "source": [
    "%%time\n",
    "# Базовый алгоритм 1\n",
    "rf = RandomForestClassifier(\n",
    "    random_state=42,\n",
    "    n_estimators = 300\n",
    ")\n",
    "# Базовый алгоритм 2\n",
    "etc = ExtraTreesClassifier(\n",
    "        random_state=42,\n",
    "        n_estimators=200\n",
    ")\n",
    "\n",
    "# Набор базовых алгоритмов\n",
    "classifiers = [rf, etc]\n",
    "\n",
    "# Метафункция\n",
    "meta_clf = LogisticRegression(\n",
    "    random_state=42,\n",
    "    solver='lbfgs',\n",
    "    multi_class='auto',\n",
    "    penalty = 'none',\n",
    "    n_jobs = -1\n",
    ")\n",
    "\n",
    "#cv = KFold(random_state=42, n_splits=10, shuffle=True)\n",
    "cv = StratifiedKFold(random_state=42, n_splits=10)\n",
    "\n",
    "def compute_meta_feature(clf, X_train, X_test, y_train, cv):\n",
    "    \n",
    "    n_classes = len(np.unique(y_train))\n",
    "    X_meta_train = np.zeros((len(y_train), n_classes), dtype=np.float32)\n",
    "\n",
    "    splits = cv.split(X_train, y_train) # все изменения свелись к добавлению аргумента: y_train\n",
    "    for train_fold_index, predict_fold_index in splits:\n",
    "        X_fold_train, X_fold_predict = X_train[train_fold_index], X_train[predict_fold_index]\n",
    "        y_fold_train = y_train[train_fold_index]\n",
    "        \n",
    "        folded_clf = clone(clf)\n",
    "        folded_clf.fit(X_fold_train, y_fold_train)\n",
    "        \n",
    "        X_meta_train[predict_fold_index] = folded_clf.predict_proba(X_fold_predict)\n",
    "    \n",
    "    meta_clf = clone(clf)\n",
    "    meta_clf.fit(X_train, y_train)\n",
    "    \n",
    "    X_meta_test = meta_clf.predict_proba(X_test)\n",
    "    \n",
    "    return X_meta_train, X_meta_test\n",
    "\n",
    "X_train_meta, X_test_meta = generate_meta_features(classifiers, X_train, X_test, y_train, cv)\n",
    "\n",
    "compute_metric(clf = meta_clf, X_train=X_train_meta, y_train=y_train, X_test=X_test_meta, y_test = y_test)"
   ]
  },
  {
   "source": [
    "## Задание 6.6.7\n",
    "В предыдущей задаче измените 10 фолдов на 20. Укажите полученное качество."
   ],
   "cell_type": "markdown",
   "metadata": {}
  },
  {
   "cell_type": "code",
   "execution_count": 66,
   "metadata": {
    "tags": []
   },
   "outputs": [
    {
     "output_type": "stream",
     "name": "stderr",
     "text": "100%|██████████| 2/2 [00:33<00:00, 16.94s/it]Wall time: 34 s\n\n"
    },
    {
     "output_type": "execute_result",
     "data": {
      "text/plain": "0.986861"
     },
     "metadata": {},
     "execution_count": 66
    }
   ],
   "source": [
    "%%time\n",
    "cv = StratifiedKFold(random_state=42, n_splits=20)\n",
    "\n",
    "X_train_meta, X_test_meta = generate_meta_features(classifiers, X_train, X_test, y_train, cv)\n",
    "\n",
    "compute_metric(clf = meta_clf, X_train=X_train_meta, y_train=y_train, X_test=X_test_meta, y_test = y_test)"
   ]
  },
  {
   "source": [
    "## Задание 6.6.8\n",
    "В предыдущей задаче укажите количество фолдов равным 5 и поменяйте мета-алгоритм на случайный лес со стандартными параметрами. Укажите полученное качество."
   ],
   "cell_type": "markdown",
   "metadata": {}
  },
  {
   "cell_type": "code",
   "execution_count": 67,
   "metadata": {
    "tags": []
   },
   "outputs": [
    {
     "output_type": "stream",
     "name": "stderr",
     "text": "100%|██████████| 2/2 [00:09<00:00,  4.55s/it]\nWall time: 9.38 s\n"
    },
    {
     "output_type": "execute_result",
     "data": {
      "text/plain": "0.981669"
     },
     "metadata": {},
     "execution_count": 67
    }
   ],
   "source": [
    "%%time\n",
    "# Метафункция\n",
    "meta_clf = RandomForestClassifier(\n",
    "    random_state=42\n",
    ")\n",
    "cv = StratifiedKFold(random_state=42, n_splits=5)\n",
    "\n",
    "X_train_meta, X_test_meta = generate_meta_features(classifiers, X_train, X_test, y_train, cv)\n",
    "\n",
    "compute_metric(clf = meta_clf, X_train=X_train_meta, y_train=y_train, X_test=X_test_meta, y_test = y_test)"
   ]
  },
  {
   "source": [
    "## Задание 6.6.9\n",
    "В предыдущей задаче поменяйте мета-алгоритм на метод ближайших соседей (k-NN) со стандартными параметрами. Укажите полученное качество."
   ],
   "cell_type": "markdown",
   "metadata": {}
  },
  {
   "cell_type": "code",
   "execution_count": 68,
   "metadata": {
    "tags": []
   },
   "outputs": [
    {
     "output_type": "stream",
     "name": "stderr",
     "text": "100%|██████████| 2/2 [00:09<00:00,  4.52s/it]Wall time: 9.06 s\n\n"
    },
    {
     "output_type": "execute_result",
     "data": {
      "text/plain": "0.981669"
     },
     "metadata": {},
     "execution_count": 68
    }
   ],
   "source": [
    "%%time\n",
    "# Метафункция\n",
    "meta_clf = KNeighborsClassifier()\n",
    "cv = StratifiedKFold(random_state=42, n_splits=5)\n",
    "\n",
    "X_train_meta, X_test_meta = generate_meta_features(classifiers, X_train, X_test, y_train, cv)\n",
    "\n",
    "compute_metric(clf = meta_clf, X_train=X_train_meta, y_train=y_train, X_test=X_test_meta, y_test = y_test)"
   ]
  },
  {
   "source": [
    "## Задание 6.6.10\n",
    "В предыдущей задаче поменяйте мета-алгоритм на градиентный бустинг со стандартными параметрами. Укажите полученное качество."
   ],
   "cell_type": "markdown",
   "metadata": {}
  },
  {
   "cell_type": "code",
   "execution_count": 69,
   "metadata": {
    "tags": []
   },
   "outputs": [
    {
     "output_type": "stream",
     "name": "stderr",
     "text": "100%|██████████| 2/2 [00:09<00:00,  4.53s/it]\nWall time: 13.5 s\n"
    },
    {
     "output_type": "execute_result",
     "data": {
      "text/plain": "0.984243"
     },
     "metadata": {},
     "execution_count": 69
    }
   ],
   "source": [
    "%%time\n",
    "# Метафункция\n",
    "meta_clf = GradientBoostingClassifier()\n",
    "\n",
    "X_train_meta, X_test_meta = generate_meta_features(classifiers, X_train, X_test, y_train, cv)\n",
    "\n",
    "compute_metric(clf = meta_clf, X_train=X_train_meta, y_train=y_train, X_test=X_test_meta, y_test = y_test)"
   ]
  },
  {
   "source": [
    "## Задание 6.6.11\n",
    "Используйте функцию generate_meta_features для стекинга следующих алгоритмов:\n",
    "- случайный лес из 300 деревьев, критерий Джини, максимальная глубина — 24\n",
    "- случайный лес из 300 экстремальных деревьев\n",
    "\n",
    "**Для генерации фолдов используйте класс StratifiedKFold**, который позволяет делать так называемые стратифицированные разбиения (в каждом фолде будет одинаковое соотношение классов).\n",
    "\n",
    "Для генерации фолдов используйте класс StratifiedKFold и поправленный Вами ранее код в функции **compute_meta_feature**.\n",
    "\n",
    "Выполните разбиение на 3 фолда.\n",
    "Как мета-алгортм используйте случайный лес из 100 экстремальных деревьев. Посчитайте качество при помощи передачи новых признаков в функцию **compute_metric**."
   ],
   "cell_type": "markdown",
   "metadata": {}
  },
  {
   "cell_type": "code",
   "execution_count": 70,
   "metadata": {
    "tags": []
   },
   "outputs": [
    {
     "output_type": "stream",
     "name": "stderr",
     "text": "100%|██████████| 2/2 [00:05<00:00,  2.87s/it]\nWall time: 5.92 s\n"
    },
    {
     "output_type": "execute_result",
     "data": {
      "text/plain": "0.985118"
     },
     "metadata": {},
     "execution_count": 70
    }
   ],
   "source": [
    "%%time\n",
    "# Базовый алгоритм 1\n",
    "rf = RandomForestClassifier(\n",
    "    random_state=42,\n",
    "    n_estimators = 300\n",
    ")\n",
    "# Базовый алгоритм 2\n",
    "etc = ExtraTreesClassifier(\n",
    "        random_state=42,\n",
    "        n_estimators=200\n",
    ")\n",
    "\n",
    "# Набор базовых алгоритмов\n",
    "classifiers = [rf, etc]\n",
    "\n",
    "# Метафункция\n",
    "meta_clf = ExtraTreesClassifier(\n",
    "        random_state=42,\n",
    "        n_estimators=100\n",
    ")\n",
    "cv = StratifiedKFold(random_state=42, n_splits=3)\n",
    "X_train_meta, X_test_meta = generate_meta_features(classifiers, X_train, X_test, y_train, cv)\n",
    "\n",
    "compute_metric(clf = meta_clf, X_train=X_train_meta, y_train=y_train, X_test=X_test_meta, y_test = y_test)"
   ]
  },
  {
   "source": [
    "## Задание 6.6.12\n",
    "Обучите на тренировочной выборке следующие алгоритмы:\n",
    "- случайный лес из 300 деревьев, критерий Джини, максимальная глубина — 24\n",
    "- случайный лес из 300 экстремальных деревьев\n",
    "- логистическую регрессию со стандартными параметрами\n",
    "\n",
    "Усредните их ответы на тестовой выборке и посчитайте качество аналогично функции compute_metric (F1-score с макро-усреднением, округленный до 6 знака)."
   ],
   "cell_type": "markdown",
   "metadata": {}
  },
  {
   "cell_type": "code",
   "execution_count": 71,
   "metadata": {
    "tags": []
   },
   "outputs": [
    {
     "output_type": "stream",
     "name": "stdout",
     "text": "Wall time: 2.1 s\n"
    },
    {
     "output_type": "execute_result",
     "data": {
      "text/plain": "0.960096"
     },
     "metadata": {},
     "execution_count": 71
    }
   ],
   "source": [
    "%%time\n",
    "# Базовый алгоритм 1\n",
    "rf = RandomForestClassifier(\n",
    "    random_state=42,\n",
    "    n_estimators = 300,\n",
    "    criterion = 'gini',\n",
    "    max_depth = 24\n",
    ")\n",
    "rf.fit(X_train,y_train)\n",
    "y_pred = rf.predict(X_test)\n",
    "# Базовый алгоритм 2\n",
    "etc = ExtraTreesClassifier(\n",
    "        random_state=42,\n",
    "        n_estimators=300\n",
    ")\n",
    "etc.fit(X_train,y_train)\n",
    "y_pred += etc.predict(X_test)\n",
    "# Базовый алгоритм 3\n",
    "lg = LogisticRegression(\n",
    "    random_state=42\n",
    ")\n",
    "lg.fit(X_train,y_train)\n",
    "y_pred += lg.predict(X_test)\n",
    "y_pred = y_pred/3\n",
    "y_pred = np.round(y_pred)\n",
    "np.round(f1_score(y_test, y_pred, average='macro'), 6)"
   ]
  },
  {
   "source": [
    "Ответ 0.960096 по сути верный, но платформой не принимается. \n",
    "\n",
    "Вариант для платформы ниже (ответ 0.965569). Вместо округления (round), нужно выполнить интование (int)"
   ],
   "cell_type": "markdown",
   "metadata": {}
  },
  {
   "cell_type": "code",
   "execution_count": 73,
   "metadata": {
    "tags": []
   },
   "outputs": [
    {
     "output_type": "stream",
     "name": "stdout",
     "text": "Wall time: 2.1 s\n"
    },
    {
     "output_type": "execute_result",
     "data": {
      "text/plain": "0.965569"
     },
     "metadata": {},
     "execution_count": 73
    }
   ],
   "source": [
    "%%time\n",
    "# Базовый алгоритм 1\n",
    "rf = RandomForestClassifier(\n",
    "    random_state=42,\n",
    "    n_estimators = 300,\n",
    "    criterion = 'gini',\n",
    "    max_depth = 24\n",
    ")\n",
    "rf.fit(X_train,y_train)\n",
    "y_pred = rf.predict(X_test)\n",
    "# Базовый алгоритм 2\n",
    "etc = ExtraTreesClassifier(\n",
    "        random_state=42,\n",
    "        n_estimators=300\n",
    ")\n",
    "etc.fit(X_train,y_train)\n",
    "y_pred += etc.predict(X_test)\n",
    "# Базовый алгоритм 3\n",
    "lg = LogisticRegression(\n",
    "    random_state=42\n",
    ")\n",
    "lg.fit(X_train,y_train)\n",
    "y_pred += lg.predict(X_test)\n",
    "y_pred = y_pred/3\n",
    "y_pred = y_pred.astype(int)\n",
    "np.round(f1_score(y_test, y_pred, average='macro'), 6)"
   ]
  },
  {
   "source": [
    "# 6.7. Готовимся к собеседованию"
   ],
   "cell_type": "markdown",
   "metadata": {}
  },
  {
   "source": [
    "## Задание 6.7.1\n",
    "В наборе данных 24 признака. Вы строите две модели: бэггинг над решающими деревьями и RandomForest. Пусть количество признаков, использующееся на одном разбиении для бэггинга над решающими деревьями равно А, для случайного леса — В.\n",
    "\n",
    "Какое из следующих утверждений верно? Ответ: А больше или равно В"
   ],
   "cell_type": "markdown",
   "metadata": {}
  },
  {
   "source": [
    "## Задание 6.7.2\n",
    "При решении задачи регрессии случайные леса имеют больший разброс (variance) в предсказаниях по сравнению с бустингом над решающими деревьями (при условии, что обе модели оптимизированы, то есть параметры к ним подобраны).\n",
    "\n",
    "Верно ли это утверждение? Ответ: Невозможно сказать, так как ответ зависит от данных верно"
   ],
   "cell_type": "markdown",
   "metadata": {}
  },
  {
   "source": [
    "## Задание 6.7.3\n",
    "В реальной жизни часто приходится работать с большими наборами данных. Для этого важно знать, какие модели могут обучаться быстрее благодаря возможности распараллелить вычисления (например, в предыдущих уроках вы уже выставляли параметр n_jonbs=-1 для этих целей).\n",
    "\n",
    "В каких из моделей, перечисленных ниже, можно сделать вычисления (полностью или частично) параллельными? Ответ: Random Forest, XGBOOST (Extreme Gradient Boosting)"
   ],
   "cell_type": "markdown",
   "metadata": {}
  },
  {
   "source": [
    "## Задание 6.7.4\n",
    "На собеседовании могут попадаться и весьма хитрые вопросы. Может показаться, что вопрос ниже нацелен на «зубрёжку» документации. Однако с помощью подобных вопросов интервьюер проверяет ваши знания о том, что происходит внутри используемых вами алгоритмов.\n",
    "\n",
    "При ответе на вопрос попробуйте вспомнить, как работают данные методы и нужен ли им этот параметр.\n",
    "\n",
    "Задание для себя: попробуйте без подсказок перечислить, какие гиперпараметры вы бы настраивали для этих моделей. Обычно не требуется знание всех параметров наизусть, но самые основные (которые мы настраивали в этом и предыдущем модулях) помнить нужно.\n",
    "\n",
    "Какие из приведенных ниже алгоритмов не используют темп обучения (learning rate) в качестве гиперпараметра? Ответ: ExtraTrees, RandomForest"
   ],
   "cell_type": "markdown",
   "metadata": {}
  },
  {
   "source": [
    "## Задание 6.7.5\n",
    "Попробуйте вспомнить ансамблевые алгоритмы, которые вы изучили в этом и предыдущем модулях. Выберите их из списка ниже: Ответ: RandomForest, GradientBoosting, AdaBoost "
   ],
   "cell_type": "markdown",
   "metadata": {}
  },
  {
   "source": [
    "## Задание 6.7.6\n",
    "Выберите основные преимущества стекинга. Ответ: Более устойчивая к выбросам модель, Более точное предсказание"
   ],
   "cell_type": "markdown",
   "metadata": {}
  },
  {
   "source": [
    "## Мои итоги и выводы:\n",
    "1. Потрачено времени на изучение - 15 ч\n",
    "2. Модуль следует повторить в течение месяца (сейчас в голове кашица)"
   ],
   "cell_type": "markdown",
   "metadata": {}
  },
  {
   "cell_type": "code",
   "execution_count": 74,
   "metadata": {},
   "outputs": [],
   "source": [
    "## UPD 24/09/2020"
   ]
  }
 ]
}